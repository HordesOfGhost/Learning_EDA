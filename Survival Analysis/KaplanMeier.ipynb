{
 "cells": [
  {
   "cell_type": "code",
   "execution_count": 4,
   "metadata": {},
   "outputs": [],
   "source": [
    "from lifelines import KaplanMeierFitter"
   ]
  },
  {
   "cell_type": "code",
   "execution_count": 8,
   "metadata": {},
   "outputs": [
    {
     "data": {
      "text/plain": [
       "<AxesSubplot:xlabel='timeline'>"
      ]
     },
     "execution_count": 8,
     "metadata": {},
     "output_type": "execute_result"
    },
    {
     "data": {
      "image/png": "[encoded data removed]",
      "text/plain": [
       "<Figure size 432x288 with 1 Axes>"
      ]
     },
     "metadata": {
      "needs_background": "light"
     },
     "output_type": "display_data"
    }
   ],
   "source": [
    "## Example Data\n",
    "durations = [5,6,2,2.5,4,4]\n",
    "event_observed = [1,0,1,1,1,1]\n",
    "\n",
    "## Create a kmf object\n",
    "kmf = KaplanMeierFitter()\n",
    "\n",
    "## Fit the data into the model\n",
    "kmf.fit(durations,event_observed,label = 'Kaplan Meier Estimate')\n",
    "\n",
    "## Create an estimate\n",
    "kmf.plot(ci_show=False) \n",
    "## ci_show is meant for Confidence Interval, since our data set is too tiny, thus i am not showing it.\n"
   ]
  },
  {
   "cell_type": "code",
   "execution_count": 9,
   "metadata": {},
   "outputs": [],
   "source": [
    "# kmf1 = KaplanMeierFitter() ## instantiate the class to create an object\n",
    "\n",
    "# ## Two Cohorts are compared.\n",
    "# ## 1. Streaming TV Not Subscribed by Users.\n",
    "# ## 2. Straming TV subscribed by the Users.\n",
    "\n",
    "# groups = df[\"StreamingTV\"]\n",
    "# i1 = (groups == \"No\")  ## group i1, having the pandas series for the 1st cohort\n",
    "# i2 = (groups == \"Yes\") ## group i2, having the pandas series for the 2nd cohort\n",
    "\n",
    "# ## fit the model for 1st cohort\n",
    "# kmf1.fit(T[i1],E[i1],label = \"Not Subscribed StreamingTV\")\n",
    "# a1 = kmf1.plot()\n",
    "\n",
    "# ## fit the model for 2nd cohort\n",
    "# kmf1.fit(T[i2],E[i2],label = \"Subscribed StreamingTV\")\n",
    "# kmf1.plot(ax=a1)"
   ]
  },
  {
   "cell_type": "code",
   "execution_count": null,
   "metadata": {},
   "outputs": [],
   "source": []
  }
 ],
 "metadata": {
  "kernelspec": {
   "display_name": "base",
   "language": "python",
   "name": "python3"
  },
  "language_info": {
   "codemirror_mode": {
    "name": "ipython",
    "version": 3
   },
   "file_extension": ".py",
   "mimetype": "text/x-python",
   "name": "python",
   "nbconvert_exporter": "python",
   "pygments_lexer": "ipython3",
   "version": "3.9.12"
  },
  "orig_nbformat": 4
 },
 "nbformat": 4,
 "nbformat_minor": 2
}
