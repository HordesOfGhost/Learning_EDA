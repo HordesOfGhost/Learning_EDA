{
 "cells": [
  {
   "cell_type": "code",
   "execution_count": 1,
   "metadata": {},
   "outputs": [],
   "source": [
    "import pandas as pd\n",
    "import matplotlib.pyplot as plt\n",
    "import seaborn as sns\n",
    "import numpy as np\n",
    "\n",
    "import warnings\n",
    "warnings.filterwarnings('ignore')"
   ]
  },
  {
   "cell_type": "code",
   "execution_count": 2,
   "metadata": {},
   "outputs": [],
   "source": [
    "df = pd.read_csv('car.csv')\n",
    "df_clean = df.copy()"
   ]
  },
  {
   "cell_type": "code",
   "execution_count": 3,
   "metadata": {},
   "outputs": [
    {
     "data": {
      "text/html": [
       "<div>\n",
       "<style scoped>\n",
       "    .dataframe tbody tr th:only-of-type {\n",
       "        vertical-align: middle;\n",
       "    }\n",
       "\n",
       "    .dataframe tbody tr th {\n",
       "        vertical-align: top;\n",
       "    }\n",
       "\n",
       "    .dataframe thead th {\n",
       "        text-align: right;\n",
       "    }\n",
       "</style>\n",
       "<table border=\"1\" class=\"dataframe\">\n",
       "  <thead>\n",
       "    <tr style=\"text-align: right;\">\n",
       "      <th></th>\n",
       "      <th>Name</th>\n",
       "      <th>Price</th>\n",
       "      <th>Used For</th>\n",
       "      <th>Transmisson</th>\n",
       "      <th>Colour</th>\n",
       "      <th>Make Year</th>\n",
       "      <th>Mileage</th>\n",
       "      <th>Engine (CC)</th>\n",
       "      <th>Fuel</th>\n",
       "      <th>Kilometer Run</th>\n",
       "      <th>Waranty</th>\n",
       "      <th>Types</th>\n",
       "    </tr>\n",
       "  </thead>\n",
       "  <tbody>\n",
       "    <tr>\n",
       "      <th>0</th>\n",
       "      <td>Hyundai | i20 Active S | TDi | 2015 | Hatchbac...</td>\n",
       "      <td>रू. 24,75,000रू. 25,00,000</td>\n",
       "      <td>Private Use</td>\n",
       "      <td>Manual2WD</td>\n",
       "      <td>Brown</td>\n",
       "      <td>2015</td>\n",
       "      <td>14</td>\n",
       "      <td>1400</td>\n",
       "      <td>Petrol</td>\n",
       "      <td>42000</td>\n",
       "      <td>NaN</td>\n",
       "      <td>NaN</td>\n",
       "    </tr>\n",
       "    <tr>\n",
       "      <th>1</th>\n",
       "      <td>Excellent car on sale (Hyundai)</td>\n",
       "      <td>रू. 7,50,000</td>\n",
       "      <td>NaN</td>\n",
       "      <td>Auto2WD</td>\n",
       "      <td>Light blue</td>\n",
       "      <td>2005</td>\n",
       "      <td>11</td>\n",
       "      <td>1399</td>\n",
       "      <td>Petrol</td>\n",
       "      <td>87412</td>\n",
       "      <td>NaN</td>\n",
       "      <td>NaN</td>\n",
       "    </tr>\n",
       "    <tr>\n",
       "      <th>2</th>\n",
       "      <td>TATA 407 Container (Tata)</td>\n",
       "      <td>रू. 7,00,000</td>\n",
       "      <td>NaN</td>\n",
       "      <td>Manual - 2WD</td>\n",
       "      <td>White</td>\n",
       "      <td>2013</td>\n",
       "      <td>NaN</td>\n",
       "      <td>2956</td>\n",
       "      <td>Diesel</td>\n",
       "      <td>60000</td>\n",
       "      <td>NaN</td>\n",
       "      <td>NaN</td>\n",
       "    </tr>\n",
       "    <tr>\n",
       "      <th>3</th>\n",
       "      <td>4x4 swaraj Mazda (Mahindra)</td>\n",
       "      <td>रू. 6,00,000</td>\n",
       "      <td>NaN</td>\n",
       "      <td>Manual - 4WD</td>\n",
       "      <td>NaN</td>\n",
       "      <td>2017</td>\n",
       "      <td>NaN</td>\n",
       "      <td>NaN</td>\n",
       "      <td>Diesel</td>\n",
       "      <td>NaN</td>\n",
       "      <td>NaN</td>\n",
       "      <td>NaN</td>\n",
       "    </tr>\n",
       "    <tr>\n",
       "      <th>4</th>\n",
       "      <td>i20 Active good for used few time (Hyundai)</td>\n",
       "      <td>रू. 375</td>\n",
       "      <td>NaN</td>\n",
       "      <td>Auto - 2WD</td>\n",
       "      <td>white</td>\n",
       "      <td>2019</td>\n",
       "      <td>17</td>\n",
       "      <td>1200</td>\n",
       "      <td>Petrol</td>\n",
       "      <td>2400</td>\n",
       "      <td>NaN</td>\n",
       "      <td>NaN</td>\n",
       "    </tr>\n",
       "  </tbody>\n",
       "</table>\n",
       "</div>"
      ],
      "text/plain": [
       "                                                Name  \\\n",
       "0  Hyundai | i20 Active S | TDi | 2015 | Hatchbac...   \n",
       "1                    Excellent car on sale (Hyundai)   \n",
       "2                          TATA 407 Container (Tata)   \n",
       "3                        4x4 swaraj Mazda (Mahindra)   \n",
       "4        i20 Active good for used few time (Hyundai)   \n",
       "\n",
       "                        Price     Used For   Transmisson      Colour  \\\n",
       "0  रू. 24,75,000रू. 25,00,000  Private Use     Manual2WD       Brown   \n",
       "1                रू. 7,50,000          NaN       Auto2WD  Light blue   \n",
       "2                रू. 7,00,000          NaN  Manual - 2WD       White   \n",
       "3                रू. 6,00,000          NaN  Manual - 4WD         NaN   \n",
       "4                     रू. 375          NaN    Auto - 2WD       white   \n",
       "\n",
       "  Make Year Mileage Engine (CC)    Fuel Kilometer Run Waranty  Types  \n",
       "0      2015      14        1400  Petrol         42000     NaN    NaN  \n",
       "1      2005      11        1399  Petrol         87412     NaN    NaN  \n",
       "2      2013     NaN        2956  Diesel         60000     NaN    NaN  \n",
       "3      2017     NaN         NaN  Diesel           NaN     NaN    NaN  \n",
       "4      2019      17        1200  Petrol          2400     NaN    NaN  "
      ]
     },
     "execution_count": 3,
     "metadata": {},
     "output_type": "execute_result"
    }
   ],
   "source": [
    "df_clean.head()"
   ]
  },
  {
   "cell_type": "code",
   "execution_count": 4,
   "metadata": {},
   "outputs": [
    {
     "data": {
      "text/plain": [
       "Index(['Name', 'Price', 'Used For', 'Transmisson', 'Colour', 'Make Year',\n",
       "       'Mileage', 'Engine (CC)', 'Fuel', 'Kilometer Run', 'Waranty', 'Types'],\n",
       "      dtype='object')"
      ]
     },
     "execution_count": 4,
     "metadata": {},
     "output_type": "execute_result"
    }
   ],
   "source": [
    "df_clean.columns"
   ]
  },
  {
   "cell_type": "code",
   "execution_count": 5,
   "metadata": {},
   "outputs": [
    {
     "name": "stdout",
     "output_type": "stream",
     "text": [
      "848\n"
     ]
    }
   ],
   "source": [
    "print(len(df))"
   ]
  },
  {
   "cell_type": "markdown",
   "metadata": {},
   "source": [
    "### Describe Data"
   ]
  },
  {
   "cell_type": "markdown",
   "metadata": {},
   "source": [
    "### Brand Name Drop"
   ]
  },
  {
   "cell_type": "code",
   "execution_count": 6,
   "metadata": {},
   "outputs": [],
   "source": [
    "df_clean['Brand Name'] = 0\n",
    "for i in range(len(df)):\n",
    "    try:\n",
    "        index = len(df_clean['Name'][i].split('('))\n",
    "        df_clean['Brand Name'][i] = (df_clean['Name'][i].split('(')[index-1]).replace(')','')\n",
    "    except:\n",
    "        df_clean['Brand Name'][i] = None\n",
    "        "
   ]
  },
  {
   "cell_type": "code",
   "execution_count": 7,
   "metadata": {},
   "outputs": [
    {
     "data": {
      "text/html": [
       "<div>\n",
       "<style scoped>\n",
       "    .dataframe tbody tr th:only-of-type {\n",
       "        vertical-align: middle;\n",
       "    }\n",
       "\n",
       "    .dataframe tbody tr th {\n",
       "        vertical-align: top;\n",
       "    }\n",
       "\n",
       "    .dataframe thead th {\n",
       "        text-align: right;\n",
       "    }\n",
       "</style>\n",
       "<table border=\"1\" class=\"dataframe\">\n",
       "  <thead>\n",
       "    <tr style=\"text-align: right;\">\n",
       "      <th></th>\n",
       "      <th>Name</th>\n",
       "      <th>Price</th>\n",
       "      <th>Used For</th>\n",
       "      <th>Transmisson</th>\n",
       "      <th>Colour</th>\n",
       "      <th>Make Year</th>\n",
       "      <th>Mileage</th>\n",
       "      <th>Engine (CC)</th>\n",
       "      <th>Fuel</th>\n",
       "      <th>Kilometer Run</th>\n",
       "      <th>Waranty</th>\n",
       "      <th>Types</th>\n",
       "      <th>Brand Name</th>\n",
       "    </tr>\n",
       "  </thead>\n",
       "  <tbody>\n",
       "    <tr>\n",
       "      <th>0</th>\n",
       "      <td>Hyundai | i20 Active S | TDi | 2015 | Hatchbac...</td>\n",
       "      <td>रू. 24,75,000रू. 25,00,000</td>\n",
       "      <td>Private Use</td>\n",
       "      <td>Manual2WD</td>\n",
       "      <td>Brown</td>\n",
       "      <td>2015</td>\n",
       "      <td>14</td>\n",
       "      <td>1400</td>\n",
       "      <td>Petrol</td>\n",
       "      <td>42000</td>\n",
       "      <td>NaN</td>\n",
       "      <td>NaN</td>\n",
       "      <td>Hyundai</td>\n",
       "    </tr>\n",
       "    <tr>\n",
       "      <th>1</th>\n",
       "      <td>Excellent car on sale (Hyundai)</td>\n",
       "      <td>रू. 7,50,000</td>\n",
       "      <td>NaN</td>\n",
       "      <td>Auto2WD</td>\n",
       "      <td>Light blue</td>\n",
       "      <td>2005</td>\n",
       "      <td>11</td>\n",
       "      <td>1399</td>\n",
       "      <td>Petrol</td>\n",
       "      <td>87412</td>\n",
       "      <td>NaN</td>\n",
       "      <td>NaN</td>\n",
       "      <td>Hyundai</td>\n",
       "    </tr>\n",
       "    <tr>\n",
       "      <th>2</th>\n",
       "      <td>TATA 407 Container (Tata)</td>\n",
       "      <td>रू. 7,00,000</td>\n",
       "      <td>NaN</td>\n",
       "      <td>Manual - 2WD</td>\n",
       "      <td>White</td>\n",
       "      <td>2013</td>\n",
       "      <td>NaN</td>\n",
       "      <td>2956</td>\n",
       "      <td>Diesel</td>\n",
       "      <td>60000</td>\n",
       "      <td>NaN</td>\n",
       "      <td>NaN</td>\n",
       "      <td>Tata</td>\n",
       "    </tr>\n",
       "    <tr>\n",
       "      <th>3</th>\n",
       "      <td>4x4 swaraj Mazda (Mahindra)</td>\n",
       "      <td>रू. 6,00,000</td>\n",
       "      <td>NaN</td>\n",
       "      <td>Manual - 4WD</td>\n",
       "      <td>NaN</td>\n",
       "      <td>2017</td>\n",
       "      <td>NaN</td>\n",
       "      <td>NaN</td>\n",
       "      <td>Diesel</td>\n",
       "      <td>NaN</td>\n",
       "      <td>NaN</td>\n",
       "      <td>NaN</td>\n",
       "      <td>Mahindra</td>\n",
       "    </tr>\n",
       "    <tr>\n",
       "      <th>4</th>\n",
       "      <td>i20 Active good for used few time (Hyundai)</td>\n",
       "      <td>रू. 375</td>\n",
       "      <td>NaN</td>\n",
       "      <td>Auto - 2WD</td>\n",
       "      <td>white</td>\n",
       "      <td>2019</td>\n",
       "      <td>17</td>\n",
       "      <td>1200</td>\n",
       "      <td>Petrol</td>\n",
       "      <td>2400</td>\n",
       "      <td>NaN</td>\n",
       "      <td>NaN</td>\n",
       "      <td>Hyundai</td>\n",
       "    </tr>\n",
       "    <tr>\n",
       "      <th>...</th>\n",
       "      <td>...</td>\n",
       "      <td>...</td>\n",
       "      <td>...</td>\n",
       "      <td>...</td>\n",
       "      <td>...</td>\n",
       "      <td>...</td>\n",
       "      <td>...</td>\n",
       "      <td>...</td>\n",
       "      <td>...</td>\n",
       "      <td>...</td>\n",
       "      <td>...</td>\n",
       "      <td>...</td>\n",
       "      <td>...</td>\n",
       "    </tr>\n",
       "    <tr>\n",
       "      <th>843</th>\n",
       "      <td>Hyundai grand i10 (Hyundai)</td>\n",
       "      <td>रू. 24,50,000</td>\n",
       "      <td>2 years</td>\n",
       "      <td>Manual - 2WD</td>\n",
       "      <td>silver</td>\n",
       "      <td>2020</td>\n",
       "      <td>2025</td>\n",
       "      <td>1200</td>\n",
       "      <td>Petrol</td>\n",
       "      <td>26500</td>\n",
       "      <td>NaN</td>\n",
       "      <td>NaN</td>\n",
       "      <td>Hyundai</td>\n",
       "    </tr>\n",
       "    <tr>\n",
       "      <th>844</th>\n",
       "      <td>Well maintained car. Everything is fine. Singl...</td>\n",
       "      <td>रू. 19,25,000</td>\n",
       "      <td>6 years</td>\n",
       "      <td>Manual2WD</td>\n",
       "      <td>Navy blue</td>\n",
       "      <td>2015</td>\n",
       "      <td>15</td>\n",
       "      <td>1200</td>\n",
       "      <td>Petrol</td>\n",
       "      <td>60000</td>\n",
       "      <td>No</td>\n",
       "      <td>NaN</td>\n",
       "      <td>Hyundai</td>\n",
       "    </tr>\n",
       "    <tr>\n",
       "      <th>845</th>\n",
       "      <td>VW Polo 2014 Highline 1200 (Renault)</td>\n",
       "      <td>रू. 19,50,000</td>\n",
       "      <td>7</td>\n",
       "      <td>Manual2WD</td>\n",
       "      <td>Carbon Steel ( Dark Grey)</td>\n",
       "      <td>2014</td>\n",
       "      <td>12 to 14</td>\n",
       "      <td>1200</td>\n",
       "      <td>Petrol</td>\n",
       "      <td>60000</td>\n",
       "      <td>NaN</td>\n",
       "      <td>NaN</td>\n",
       "      <td>Renault</td>\n",
       "    </tr>\n",
       "    <tr>\n",
       "      <th>846</th>\n",
       "      <td>Hyundai i10 magna 2014 (Hyundai)</td>\n",
       "      <td>रू. 17,50,000</td>\n",
       "      <td>NaN</td>\n",
       "      <td>Manual - 2WD</td>\n",
       "      <td>silver</td>\n",
       "      <td>2014</td>\n",
       "      <td>NaN</td>\n",
       "      <td>1200</td>\n",
       "      <td>Petrol</td>\n",
       "      <td>93000</td>\n",
       "      <td>NaN</td>\n",
       "      <td>NaN</td>\n",
       "      <td>Hyundai</td>\n",
       "    </tr>\n",
       "    <tr>\n",
       "      <th>847</th>\n",
       "      <td>nissan xtrail 2007 model for sale or exchange ...</td>\n",
       "      <td>रू. 24,50,000</td>\n",
       "      <td>private use</td>\n",
       "      <td>Auto - 4WD</td>\n",
       "      <td>cream</td>\n",
       "      <td>2007</td>\n",
       "      <td>13</td>\n",
       "      <td>2200</td>\n",
       "      <td>Diesel</td>\n",
       "      <td>60000</td>\n",
       "      <td>no warenty</td>\n",
       "      <td>NaN</td>\n",
       "      <td>Nissan</td>\n",
       "    </tr>\n",
       "  </tbody>\n",
       "</table>\n",
       "<p>848 rows × 13 columns</p>\n",
       "</div>"
      ],
      "text/plain": [
       "                                                  Name  \\\n",
       "0    Hyundai | i20 Active S | TDi | 2015 | Hatchbac...   \n",
       "1                      Excellent car on sale (Hyundai)   \n",
       "2                            TATA 407 Container (Tata)   \n",
       "3                          4x4 swaraj Mazda (Mahindra)   \n",
       "4          i20 Active good for used few time (Hyundai)   \n",
       "..                                                 ...   \n",
       "843                        Hyundai grand i10 (Hyundai)   \n",
       "844  Well maintained car. Everything is fine. Singl...   \n",
       "845               VW Polo 2014 Highline 1200 (Renault)   \n",
       "846                   Hyundai i10 magna 2014 (Hyundai)   \n",
       "847  nissan xtrail 2007 model for sale or exchange ...   \n",
       "\n",
       "                          Price     Used For   Transmisson  \\\n",
       "0    रू. 24,75,000रू. 25,00,000  Private Use     Manual2WD   \n",
       "1                  रू. 7,50,000          NaN       Auto2WD   \n",
       "2                  रू. 7,00,000          NaN  Manual - 2WD   \n",
       "3                  रू. 6,00,000          NaN  Manual - 4WD   \n",
       "4                       रू. 375          NaN    Auto - 2WD   \n",
       "..                          ...          ...           ...   \n",
       "843               रू. 24,50,000      2 years  Manual - 2WD   \n",
       "844               रू. 19,25,000      6 years     Manual2WD   \n",
       "845               रू. 19,50,000            7     Manual2WD   \n",
       "846               रू. 17,50,000          NaN  Manual - 2WD   \n",
       "847               रू. 24,50,000  private use    Auto - 4WD   \n",
       "\n",
       "                        Colour Make Year   Mileage Engine (CC)    Fuel  \\\n",
       "0                        Brown      2015        14        1400  Petrol   \n",
       "1                   Light blue      2005        11        1399  Petrol   \n",
       "2                        White      2013       NaN        2956  Diesel   \n",
       "3                          NaN      2017       NaN         NaN  Diesel   \n",
       "4                        white      2019        17        1200  Petrol   \n",
       "..                         ...       ...       ...         ...     ...   \n",
       "843                     silver      2020      2025        1200  Petrol   \n",
       "844                  Navy blue      2015        15        1200  Petrol   \n",
       "845  Carbon Steel ( Dark Grey)      2014  12 to 14        1200  Petrol   \n",
       "846                     silver      2014       NaN        1200  Petrol   \n",
       "847                      cream      2007        13        2200  Diesel   \n",
       "\n",
       "    Kilometer Run     Waranty  Types Brand Name  \n",
       "0           42000         NaN    NaN    Hyundai  \n",
       "1           87412         NaN    NaN    Hyundai  \n",
       "2           60000         NaN    NaN       Tata  \n",
       "3             NaN         NaN    NaN   Mahindra  \n",
       "4            2400         NaN    NaN    Hyundai  \n",
       "..            ...         ...    ...        ...  \n",
       "843         26500         NaN    NaN    Hyundai  \n",
       "844         60000          No    NaN    Hyundai  \n",
       "845         60000         NaN    NaN    Renault  \n",
       "846         93000         NaN    NaN    Hyundai  \n",
       "847         60000  no warenty    NaN     Nissan  \n",
       "\n",
       "[848 rows x 13 columns]"
      ]
     },
     "execution_count": 7,
     "metadata": {},
     "output_type": "execute_result"
    }
   ],
   "source": [
    "df_clean"
   ]
  },
  {
   "cell_type": "code",
   "execution_count": 8,
   "metadata": {},
   "outputs": [],
   "source": [
    "value_count = {}\n",
    "brand_names = sorted(df_clean['Brand Name'].unique())\n",
    "\n",
    "for i in range(len(brand_names)):\n",
    "    length = df_clean.groupby('Brand Name').size()[i]\n",
    "    if length < 10:\n",
    "        value_count[brand_names[i]] = length"
   ]
  },
  {
   "cell_type": "code",
   "execution_count": 9,
   "metadata": {},
   "outputs": [],
   "source": [
    "rows_to_drop = list(value_count)\n"
   ]
  },
  {
   "cell_type": "code",
   "execution_count": 10,
   "metadata": {},
   "outputs": [],
   "source": [
    "df_drop_brand_names = df_clean.copy()"
   ]
  },
  {
   "cell_type": "code",
   "execution_count": 11,
   "metadata": {},
   "outputs": [],
   "source": [
    "for row in rows_to_drop:\n",
    "    df_drop_brand_names.drop(df_drop_brand_names.index[df_drop_brand_names['Brand Name'] == row],axis=0,inplace = True)"
   ]
  },
  {
   "cell_type": "code",
   "execution_count": 12,
   "metadata": {},
   "outputs": [
    {
     "data": {
      "text/plain": [
       "Brand Name\n",
       "Chevrolet         11\n",
       "Ford              43\n",
       "Honda             16\n",
       "Hyundai          208\n",
       "Kia               44\n",
       "Mahindra          66\n",
       "Maruti Suzuki    186\n",
       "Nissan            24\n",
       "Other Brands      30\n",
       "Renault           10\n",
       "Tata              80\n",
       "Toyota            50\n",
       "Volkswagen        24\n",
       "dtype: int64"
      ]
     },
     "execution_count": 12,
     "metadata": {},
     "output_type": "execute_result"
    }
   ],
   "source": [
    "df_drop_brand_names.groupby('Brand Name').size()"
   ]
  },
  {
   "cell_type": "code",
   "execution_count": 13,
   "metadata": {},
   "outputs": [
    {
     "data": {
      "text/plain": [
       "792"
      ]
     },
     "execution_count": 13,
     "metadata": {},
     "output_type": "execute_result"
    }
   ],
   "source": [
    "len(df_drop_brand_names)"
   ]
  },
  {
   "cell_type": "code",
   "execution_count": 14,
   "metadata": {},
   "outputs": [],
   "source": [
    "map_brand_name_list = sorted(df_drop_brand_names[\"Brand Name\"].unique())"
   ]
  },
  {
   "cell_type": "code",
   "execution_count": 15,
   "metadata": {},
   "outputs": [],
   "source": [
    "map_brand_name = {}\n",
    "map_index = 0\n",
    "for brand_name in map_brand_name_list:\n",
    "    map_brand_name[brand_name] = map_index\n",
    "    map_index += 1"
   ]
  },
  {
   "cell_type": "code",
   "execution_count": 16,
   "metadata": {},
   "outputs": [
    {
     "data": {
      "text/plain": [
       "{'Chevrolet': 0,\n",
       " 'Ford': 1,\n",
       " 'Honda': 2,\n",
       " 'Hyundai': 3,\n",
       " 'Kia': 4,\n",
       " 'Mahindra': 5,\n",
       " 'Maruti Suzuki': 6,\n",
       " 'Nissan': 7,\n",
       " 'Other Brands': 8,\n",
       " 'Renault': 9,\n",
       " 'Tata': 10,\n",
       " 'Toyota': 11,\n",
       " 'Volkswagen': 12}"
      ]
     },
     "execution_count": 16,
     "metadata": {},
     "output_type": "execute_result"
    }
   ],
   "source": [
    "map_brand_name"
   ]
  },
  {
   "cell_type": "code",
   "execution_count": 17,
   "metadata": {},
   "outputs": [],
   "source": [
    "df_drop_brand_names[\"Brand Name\"] = df_drop_brand_names[\"Brand Name\"].map(map_brand_name)"
   ]
  },
  {
   "cell_type": "code",
   "execution_count": 18,
   "metadata": {},
   "outputs": [
    {
     "data": {
      "text/html": [
       "<div>\n",
       "<style scoped>\n",
       "    .dataframe tbody tr th:only-of-type {\n",
       "        vertical-align: middle;\n",
       "    }\n",
       "\n",
       "    .dataframe tbody tr th {\n",
       "        vertical-align: top;\n",
       "    }\n",
       "\n",
       "    .dataframe thead th {\n",
       "        text-align: right;\n",
       "    }\n",
       "</style>\n",
       "<table border=\"1\" class=\"dataframe\">\n",
       "  <thead>\n",
       "    <tr style=\"text-align: right;\">\n",
       "      <th></th>\n",
       "      <th>Name</th>\n",
       "      <th>Price</th>\n",
       "      <th>Used For</th>\n",
       "      <th>Transmisson</th>\n",
       "      <th>Colour</th>\n",
       "      <th>Make Year</th>\n",
       "      <th>Mileage</th>\n",
       "      <th>Engine (CC)</th>\n",
       "      <th>Fuel</th>\n",
       "      <th>Kilometer Run</th>\n",
       "      <th>Waranty</th>\n",
       "      <th>Types</th>\n",
       "      <th>Brand Name</th>\n",
       "    </tr>\n",
       "  </thead>\n",
       "  <tbody>\n",
       "    <tr>\n",
       "      <th>0</th>\n",
       "      <td>Hyundai | i20 Active S | TDi | 2015 | Hatchbac...</td>\n",
       "      <td>रू. 24,75,000रू. 25,00,000</td>\n",
       "      <td>Private Use</td>\n",
       "      <td>Manual2WD</td>\n",
       "      <td>Brown</td>\n",
       "      <td>2015</td>\n",
       "      <td>14</td>\n",
       "      <td>1400</td>\n",
       "      <td>Petrol</td>\n",
       "      <td>42000</td>\n",
       "      <td>NaN</td>\n",
       "      <td>NaN</td>\n",
       "      <td>3</td>\n",
       "    </tr>\n",
       "    <tr>\n",
       "      <th>1</th>\n",
       "      <td>Excellent car on sale (Hyundai)</td>\n",
       "      <td>रू. 7,50,000</td>\n",
       "      <td>NaN</td>\n",
       "      <td>Auto2WD</td>\n",
       "      <td>Light blue</td>\n",
       "      <td>2005</td>\n",
       "      <td>11</td>\n",
       "      <td>1399</td>\n",
       "      <td>Petrol</td>\n",
       "      <td>87412</td>\n",
       "      <td>NaN</td>\n",
       "      <td>NaN</td>\n",
       "      <td>3</td>\n",
       "    </tr>\n",
       "    <tr>\n",
       "      <th>2</th>\n",
       "      <td>TATA 407 Container (Tata)</td>\n",
       "      <td>रू. 7,00,000</td>\n",
       "      <td>NaN</td>\n",
       "      <td>Manual - 2WD</td>\n",
       "      <td>White</td>\n",
       "      <td>2013</td>\n",
       "      <td>NaN</td>\n",
       "      <td>2956</td>\n",
       "      <td>Diesel</td>\n",
       "      <td>60000</td>\n",
       "      <td>NaN</td>\n",
       "      <td>NaN</td>\n",
       "      <td>10</td>\n",
       "    </tr>\n",
       "    <tr>\n",
       "      <th>3</th>\n",
       "      <td>4x4 swaraj Mazda (Mahindra)</td>\n",
       "      <td>रू. 6,00,000</td>\n",
       "      <td>NaN</td>\n",
       "      <td>Manual - 4WD</td>\n",
       "      <td>NaN</td>\n",
       "      <td>2017</td>\n",
       "      <td>NaN</td>\n",
       "      <td>NaN</td>\n",
       "      <td>Diesel</td>\n",
       "      <td>NaN</td>\n",
       "      <td>NaN</td>\n",
       "      <td>NaN</td>\n",
       "      <td>5</td>\n",
       "    </tr>\n",
       "    <tr>\n",
       "      <th>4</th>\n",
       "      <td>i20 Active good for used few time (Hyundai)</td>\n",
       "      <td>रू. 375</td>\n",
       "      <td>NaN</td>\n",
       "      <td>Auto - 2WD</td>\n",
       "      <td>white</td>\n",
       "      <td>2019</td>\n",
       "      <td>17</td>\n",
       "      <td>1200</td>\n",
       "      <td>Petrol</td>\n",
       "      <td>2400</td>\n",
       "      <td>NaN</td>\n",
       "      <td>NaN</td>\n",
       "      <td>3</td>\n",
       "    </tr>\n",
       "  </tbody>\n",
       "</table>\n",
       "</div>"
      ],
      "text/plain": [
       "                                                Name  \\\n",
       "0  Hyundai | i20 Active S | TDi | 2015 | Hatchbac...   \n",
       "1                    Excellent car on sale (Hyundai)   \n",
       "2                          TATA 407 Container (Tata)   \n",
       "3                        4x4 swaraj Mazda (Mahindra)   \n",
       "4        i20 Active good for used few time (Hyundai)   \n",
       "\n",
       "                        Price     Used For   Transmisson      Colour  \\\n",
       "0  रू. 24,75,000रू. 25,00,000  Private Use     Manual2WD       Brown   \n",
       "1                रू. 7,50,000          NaN       Auto2WD  Light blue   \n",
       "2                रू. 7,00,000          NaN  Manual - 2WD       White   \n",
       "3                रू. 6,00,000          NaN  Manual - 4WD         NaN   \n",
       "4                     रू. 375          NaN    Auto - 2WD       white   \n",
       "\n",
       "  Make Year Mileage Engine (CC)    Fuel Kilometer Run Waranty  Types  \\\n",
       "0      2015      14        1400  Petrol         42000     NaN    NaN   \n",
       "1      2005      11        1399  Petrol         87412     NaN    NaN   \n",
       "2      2013     NaN        2956  Diesel         60000     NaN    NaN   \n",
       "3      2017     NaN         NaN  Diesel           NaN     NaN    NaN   \n",
       "4      2019      17        1200  Petrol          2400     NaN    NaN   \n",
       "\n",
       "   Brand Name  \n",
       "0           3  \n",
       "1           3  \n",
       "2          10  \n",
       "3           5  \n",
       "4           3  "
      ]
     },
     "execution_count": 18,
     "metadata": {},
     "output_type": "execute_result"
    }
   ],
   "source": [
    "df_drop_brand_names.head()"
   ]
  },
  {
   "cell_type": "code",
   "execution_count": 19,
   "metadata": {},
   "outputs": [],
   "source": [
    "df_drop_brand_names = df_drop_brand_names.reset_index(drop = True)"
   ]
  },
  {
   "cell_type": "code",
   "execution_count": 20,
   "metadata": {},
   "outputs": [],
   "source": [
    "df_drop_used_for = df_drop_brand_names.copy()"
   ]
  },
  {
   "cell_type": "markdown",
   "metadata": {},
   "source": [
    "### Dropping Used for column"
   ]
  },
  {
   "cell_type": "code",
   "execution_count": 21,
   "metadata": {},
   "outputs": [],
   "source": [
    "df_drop_used_for.drop('Used For',axis = 1,inplace = True)"
   ]
  },
  {
   "cell_type": "code",
   "execution_count": 22,
   "metadata": {},
   "outputs": [],
   "source": [
    "df_drop_used_for.drop('Name',axis = 1, inplace = True)"
   ]
  },
  {
   "cell_type": "markdown",
   "metadata": {},
   "source": [
    "### Checking for Types and Warranty"
   ]
  },
  {
   "cell_type": "code",
   "execution_count": 23,
   "metadata": {},
   "outputs": [],
   "source": [
    "df_types_and_warranty = df_drop_used_for.copy()"
   ]
  },
  {
   "cell_type": "code",
   "execution_count": 24,
   "metadata": {},
   "outputs": [
    {
     "data": {
      "text/plain": [
       "count    0.0\n",
       "mean     NaN\n",
       "std      NaN\n",
       "min      NaN\n",
       "25%      NaN\n",
       "50%      NaN\n",
       "75%      NaN\n",
       "max      NaN\n",
       "Name: Types, dtype: float64"
      ]
     },
     "execution_count": 24,
     "metadata": {},
     "output_type": "execute_result"
    }
   ],
   "source": [
    "df_types_and_warranty['Types'].describe()"
   ]
  },
  {
   "cell_type": "code",
   "execution_count": 25,
   "metadata": {},
   "outputs": [],
   "source": [
    "df_types_and_warranty.drop('Types',axis = 1, inplace = True)"
   ]
  },
  {
   "cell_type": "code",
   "execution_count": 26,
   "metadata": {},
   "outputs": [
    {
     "data": {
      "text/plain": [
       "count     196\n",
       "unique     64\n",
       "top        No\n",
       "freq       56\n",
       "Name: Waranty, dtype: object"
      ]
     },
     "execution_count": 26,
     "metadata": {},
     "output_type": "execute_result"
    }
   ],
   "source": [
    "df_types_and_warranty['Waranty'].describe()"
   ]
  },
  {
   "cell_type": "code",
   "execution_count": 27,
   "metadata": {},
   "outputs": [],
   "source": [
    "df_types_and_warranty.drop('Waranty',axis = 1, inplace = True)"
   ]
  },
  {
   "cell_type": "code",
   "execution_count": 28,
   "metadata": {},
   "outputs": [
    {
     "data": {
      "text/html": [
       "<div>\n",
       "<style scoped>\n",
       "    .dataframe tbody tr th:only-of-type {\n",
       "        vertical-align: middle;\n",
       "    }\n",
       "\n",
       "    .dataframe tbody tr th {\n",
       "        vertical-align: top;\n",
       "    }\n",
       "\n",
       "    .dataframe thead th {\n",
       "        text-align: right;\n",
       "    }\n",
       "</style>\n",
       "<table border=\"1\" class=\"dataframe\">\n",
       "  <thead>\n",
       "    <tr style=\"text-align: right;\">\n",
       "      <th></th>\n",
       "      <th>Price</th>\n",
       "      <th>Transmisson</th>\n",
       "      <th>Colour</th>\n",
       "      <th>Make Year</th>\n",
       "      <th>Mileage</th>\n",
       "      <th>Engine (CC)</th>\n",
       "      <th>Fuel</th>\n",
       "      <th>Kilometer Run</th>\n",
       "      <th>Brand Name</th>\n",
       "    </tr>\n",
       "  </thead>\n",
       "  <tbody>\n",
       "    <tr>\n",
       "      <th>0</th>\n",
       "      <td>रू. 24,75,000रू. 25,00,000</td>\n",
       "      <td>Manual2WD</td>\n",
       "      <td>Brown</td>\n",
       "      <td>2015</td>\n",
       "      <td>14</td>\n",
       "      <td>1400</td>\n",
       "      <td>Petrol</td>\n",
       "      <td>42000</td>\n",
       "      <td>3</td>\n",
       "    </tr>\n",
       "    <tr>\n",
       "      <th>1</th>\n",
       "      <td>रू. 7,50,000</td>\n",
       "      <td>Auto2WD</td>\n",
       "      <td>Light blue</td>\n",
       "      <td>2005</td>\n",
       "      <td>11</td>\n",
       "      <td>1399</td>\n",
       "      <td>Petrol</td>\n",
       "      <td>87412</td>\n",
       "      <td>3</td>\n",
       "    </tr>\n",
       "    <tr>\n",
       "      <th>2</th>\n",
       "      <td>रू. 7,00,000</td>\n",
       "      <td>Manual - 2WD</td>\n",
       "      <td>White</td>\n",
       "      <td>2013</td>\n",
       "      <td>NaN</td>\n",
       "      <td>2956</td>\n",
       "      <td>Diesel</td>\n",
       "      <td>60000</td>\n",
       "      <td>10</td>\n",
       "    </tr>\n",
       "    <tr>\n",
       "      <th>3</th>\n",
       "      <td>रू. 6,00,000</td>\n",
       "      <td>Manual - 4WD</td>\n",
       "      <td>NaN</td>\n",
       "      <td>2017</td>\n",
       "      <td>NaN</td>\n",
       "      <td>NaN</td>\n",
       "      <td>Diesel</td>\n",
       "      <td>NaN</td>\n",
       "      <td>5</td>\n",
       "    </tr>\n",
       "    <tr>\n",
       "      <th>4</th>\n",
       "      <td>रू. 375</td>\n",
       "      <td>Auto - 2WD</td>\n",
       "      <td>white</td>\n",
       "      <td>2019</td>\n",
       "      <td>17</td>\n",
       "      <td>1200</td>\n",
       "      <td>Petrol</td>\n",
       "      <td>2400</td>\n",
       "      <td>3</td>\n",
       "    </tr>\n",
       "    <tr>\n",
       "      <th>...</th>\n",
       "      <td>...</td>\n",
       "      <td>...</td>\n",
       "      <td>...</td>\n",
       "      <td>...</td>\n",
       "      <td>...</td>\n",
       "      <td>...</td>\n",
       "      <td>...</td>\n",
       "      <td>...</td>\n",
       "      <td>...</td>\n",
       "    </tr>\n",
       "    <tr>\n",
       "      <th>787</th>\n",
       "      <td>रू. 24,50,000</td>\n",
       "      <td>Manual - 2WD</td>\n",
       "      <td>silver</td>\n",
       "      <td>2020</td>\n",
       "      <td>2025</td>\n",
       "      <td>1200</td>\n",
       "      <td>Petrol</td>\n",
       "      <td>26500</td>\n",
       "      <td>3</td>\n",
       "    </tr>\n",
       "    <tr>\n",
       "      <th>788</th>\n",
       "      <td>रू. 19,25,000</td>\n",
       "      <td>Manual2WD</td>\n",
       "      <td>Navy blue</td>\n",
       "      <td>2015</td>\n",
       "      <td>15</td>\n",
       "      <td>1200</td>\n",
       "      <td>Petrol</td>\n",
       "      <td>60000</td>\n",
       "      <td>3</td>\n",
       "    </tr>\n",
       "    <tr>\n",
       "      <th>789</th>\n",
       "      <td>रू. 19,50,000</td>\n",
       "      <td>Manual2WD</td>\n",
       "      <td>Carbon Steel ( Dark Grey)</td>\n",
       "      <td>2014</td>\n",
       "      <td>12 to 14</td>\n",
       "      <td>1200</td>\n",
       "      <td>Petrol</td>\n",
       "      <td>60000</td>\n",
       "      <td>9</td>\n",
       "    </tr>\n",
       "    <tr>\n",
       "      <th>790</th>\n",
       "      <td>रू. 17,50,000</td>\n",
       "      <td>Manual - 2WD</td>\n",
       "      <td>silver</td>\n",
       "      <td>2014</td>\n",
       "      <td>NaN</td>\n",
       "      <td>1200</td>\n",
       "      <td>Petrol</td>\n",
       "      <td>93000</td>\n",
       "      <td>3</td>\n",
       "    </tr>\n",
       "    <tr>\n",
       "      <th>791</th>\n",
       "      <td>रू. 24,50,000</td>\n",
       "      <td>Auto - 4WD</td>\n",
       "      <td>cream</td>\n",
       "      <td>2007</td>\n",
       "      <td>13</td>\n",
       "      <td>2200</td>\n",
       "      <td>Diesel</td>\n",
       "      <td>60000</td>\n",
       "      <td>7</td>\n",
       "    </tr>\n",
       "  </tbody>\n",
       "</table>\n",
       "<p>792 rows × 9 columns</p>\n",
       "</div>"
      ],
      "text/plain": [
       "                          Price   Transmisson                     Colour  \\\n",
       "0    रू. 24,75,000रू. 25,00,000     Manual2WD                      Brown   \n",
       "1                  रू. 7,50,000       Auto2WD                 Light blue   \n",
       "2                  रू. 7,00,000  Manual - 2WD                      White   \n",
       "3                  रू. 6,00,000  Manual - 4WD                        NaN   \n",
       "4                       रू. 375    Auto - 2WD                      white   \n",
       "..                          ...           ...                        ...   \n",
       "787               रू. 24,50,000  Manual - 2WD                     silver   \n",
       "788               रू. 19,25,000     Manual2WD                  Navy blue   \n",
       "789               रू. 19,50,000     Manual2WD  Carbon Steel ( Dark Grey)   \n",
       "790               रू. 17,50,000  Manual - 2WD                     silver   \n",
       "791               रू. 24,50,000    Auto - 4WD                      cream   \n",
       "\n",
       "    Make Year   Mileage Engine (CC)    Fuel Kilometer Run  Brand Name  \n",
       "0        2015        14        1400  Petrol         42000           3  \n",
       "1        2005        11        1399  Petrol         87412           3  \n",
       "2        2013       NaN        2956  Diesel         60000          10  \n",
       "3        2017       NaN         NaN  Diesel           NaN           5  \n",
       "4        2019        17        1200  Petrol          2400           3  \n",
       "..        ...       ...         ...     ...           ...         ...  \n",
       "787      2020      2025        1200  Petrol         26500           3  \n",
       "788      2015        15        1200  Petrol         60000           3  \n",
       "789      2014  12 to 14        1200  Petrol         60000           9  \n",
       "790      2014       NaN        1200  Petrol         93000           3  \n",
       "791      2007        13        2200  Diesel         60000           7  \n",
       "\n",
       "[792 rows x 9 columns]"
      ]
     },
     "execution_count": 28,
     "metadata": {},
     "output_type": "execute_result"
    }
   ],
   "source": [
    "df_types_and_warranty"
   ]
  },
  {
   "cell_type": "markdown",
   "metadata": {},
   "source": [
    "### Kilometer Run"
   ]
  },
  {
   "cell_type": "code",
   "execution_count": 29,
   "metadata": {},
   "outputs": [],
   "source": [
    "df_kilometer_run = df_types_and_warranty.copy()"
   ]
  },
  {
   "cell_type": "code",
   "execution_count": 30,
   "metadata": {},
   "outputs": [
    {
     "data": {
      "text/plain": [
       "count       656\n",
       "unique      237\n",
       "top       50000\n",
       "freq         20\n",
       "Name: Kilometer Run, dtype: object"
      ]
     },
     "execution_count": 30,
     "metadata": {},
     "output_type": "execute_result"
    }
   ],
   "source": [
    "df_kilometer_run['Kilometer Run'].describe()"
   ]
  },
  {
   "cell_type": "code",
   "execution_count": 31,
   "metadata": {},
   "outputs": [
    {
     "data": {
      "text/plain": [
       "0      42000\n",
       "1      87412\n",
       "2      60000\n",
       "3        NaN\n",
       "4       2400\n",
       "       ...  \n",
       "787    26500\n",
       "788    60000\n",
       "789    60000\n",
       "790    93000\n",
       "791    60000\n",
       "Name: Kilometer Run, Length: 792, dtype: object"
      ]
     },
     "execution_count": 31,
     "metadata": {},
     "output_type": "execute_result"
    }
   ],
   "source": [
    "df_kilometer_run['Kilometer Run'].apply(lambda x: x.replace('km','') if type(x)== str else x)\n",
    "df_kilometer_run['Kilometer Run'].apply(lambda x: x.replace('kms','') if type(x)== str else x)\n",
    "df_kilometer_run['Kilometer Run'].apply(lambda x: x.replace('k',',000') if type(x)== str else x)"
   ]
  },
  {
   "cell_type": "code",
   "execution_count": 32,
   "metadata": {},
   "outputs": [],
   "source": [
    "list_index = list(df_kilometer_run['Kilometer Run'])"
   ]
  },
  {
   "cell_type": "code",
   "execution_count": 33,
   "metadata": {},
   "outputs": [
    {
     "data": {
      "text/plain": [
       "553"
      ]
     },
     "execution_count": 33,
     "metadata": {},
     "output_type": "execute_result"
    }
   ],
   "source": [
    "list_index.index('-')"
   ]
  },
  {
   "cell_type": "code",
   "execution_count": 34,
   "metadata": {},
   "outputs": [],
   "source": [
    "df_kilometer_run.drop(df_kilometer_run[(df_kilometer_run['Kilometer Run'] == '-')].index,inplace=True)"
   ]
  },
  {
   "cell_type": "code",
   "execution_count": 35,
   "metadata": {},
   "outputs": [],
   "source": [
    "df_kilometer_run = df_kilometer_run.reset_index(drop = True)"
   ]
  },
  {
   "cell_type": "code",
   "execution_count": 36,
   "metadata": {},
   "outputs": [],
   "source": [
    "df_kilometer_run_temp = df_kilometer_run.copy()"
   ]
  },
  {
   "cell_type": "code",
   "execution_count": 37,
   "metadata": {},
   "outputs": [
    {
     "data": {
      "text/plain": [
       "dtype('O')"
      ]
     },
     "execution_count": 37,
     "metadata": {},
     "output_type": "execute_result"
    }
   ],
   "source": [
    "df_kilometer_run_temp['Kilometer Run'].dtypes"
   ]
  },
  {
   "cell_type": "code",
   "execution_count": 38,
   "metadata": {},
   "outputs": [],
   "source": [
    "for i in range(len(df_kilometer_run_temp)):\n",
    "     try:\n",
    "          df_kilometer_run_temp['Kilometer Run'][i] = int(df_kilometer_run_temp['Kilometer Run'][i])\n",
    "     except:\n",
    "          df_kilometer_run_temp['Kilometer Run'][i] = df_kilometer_run_temp['Kilometer Run'][i]"
   ]
  },
  {
   "cell_type": "code",
   "execution_count": 39,
   "metadata": {},
   "outputs": [],
   "source": [
    "df_kilometer_run_temp['Kilometer Run'].fillna(int(df_kilometer_run_temp['Kilometer Run'].median()),inplace = True )"
   ]
  },
  {
   "cell_type": "code",
   "execution_count": 40,
   "metadata": {},
   "outputs": [],
   "source": [
    "from Details import detailed_details"
   ]
  },
  {
   "cell_type": "code",
   "execution_count": 41,
   "metadata": {},
   "outputs": [],
   "source": [
    "for i in range(len(df_kilometer_run_temp)):\n",
    "     df_kilometer_run_temp['Kilometer Run'][i] = int(df_kilometer_run_temp['Kilometer Run'][i])"
   ]
  },
  {
   "cell_type": "code",
   "execution_count": 42,
   "metadata": {},
   "outputs": [],
   "source": [
    "# import re\n",
    "# def used_clean(a):\n",
    "#     a = str(a)\n",
    "#     pattern = r'^[0-9]*\\.?[0-9]'\n",
    "#     temp = re.findall(pattern,str(a))\n",
    "#     temp = int(temp[0])\n",
    "#     return (temp)\n",
    "# df['Kilometer Run'].dtype"
   ]
  },
  {
   "attachments": {},
   "cell_type": "markdown",
   "metadata": {},
   "source": [
    "### For Make Year\n",
    "    \n"
   ]
  },
  {
   "cell_type": "code",
   "execution_count": 43,
   "metadata": {},
   "outputs": [],
   "source": [
    "df_make_year = df_kilometer_run_temp.copy()"
   ]
  },
  {
   "cell_type": "code",
   "execution_count": 44,
   "metadata": {},
   "outputs": [
    {
     "name": "stdout",
     "output_type": "stream",
     "text": [
      "object\n"
     ]
    }
   ],
   "source": [
    "print(df_make_year['Make Year'].dtype)"
   ]
  },
  {
   "cell_type": "code",
   "execution_count": 45,
   "metadata": {},
   "outputs": [
    {
     "data": {
      "text/plain": [
       "Make Year\n",
       "0                           2\n",
       "1975                        2\n",
       "1992                        1\n",
       "1993                        1\n",
       "1997                        2\n",
       "1998                        4\n",
       "1999                        2\n",
       "2000                        5\n",
       "2001                        7\n",
       "2002                        7\n",
       "2003                       11\n",
       "2004                       10\n",
       "2005                       12\n",
       "2006                       16\n",
       "2006 november               1\n",
       "2007                       32\n",
       "2008                       27\n",
       "2009                       45\n",
       "2010                       61\n",
       "2011                       28\n",
       "2012                       28\n",
       "2013                       38\n",
       "2014                       56\n",
       "2015                       53\n",
       "2015`                       1\n",
       "2016                       72\n",
       "2017                       72\n",
       "2018                       58\n",
       "2019                       34\n",
       "202                         1\n",
       "2020                       22\n",
       "2021                       57\n",
       "2021 last mdel              1\n",
       "2022                        8\n",
       "2023                        9\n",
       "2060                        1\n",
       "2069                        1\n",
       "207                         2\n",
       "Tata zest XT 2015 model     1\n",
       "dtype: int64"
      ]
     },
     "execution_count": 45,
     "metadata": {},
     "output_type": "execute_result"
    }
   ],
   "source": [
    "df_make_year.groupby('Make Year').size()"
   ]
  },
  {
   "cell_type": "code",
   "execution_count": 46,
   "metadata": {},
   "outputs": [
    {
     "data": {
      "text/plain": [
       "0"
      ]
     },
     "execution_count": 46,
     "metadata": {},
     "output_type": "execute_result"
    }
   ],
   "source": [
    "df_make_year[\"Make Year\"].isna().sum()"
   ]
  },
  {
   "cell_type": "code",
   "execution_count": 47,
   "metadata": {},
   "outputs": [
    {
     "name": "stdout",
     "output_type": "stream",
     "text": [
      "2 0 1 6   G G G\n",
      "<class 'str'>\n",
      "2 0 1 6   G G G\n",
      "2016\n"
     ]
    }
   ],
   "source": [
    "import re\n",
    "test = \" \".join(\"2016 GGG\")\n",
    "print(test)\n",
    "df_make_year[\"Make Year\"][100]\n",
    "test = re.sub(r'[^\\w\\s]','', str(test))\n",
    "print(type(test))\n",
    "print(test)\n",
    "test = int(\"\".join([str(i) for i in str.split(test) if i.isdigit()]))\n",
    "\n",
    "print(test)\n"
   ]
  },
  {
   "cell_type": "code",
   "execution_count": 48,
   "metadata": {},
   "outputs": [],
   "source": [
    "# res = [int(i) for i in test_string.split() if i.isdigit()]\n",
    "import re\n",
    "for j in range(len(df_make_year)):\n",
    "    #separate each character by space\n",
    "    df_make_year['Make Year'][j] = \" \".join(df_make_year['Make Year'][j])\n",
    "    #remove special characters\n",
    "    df_make_year['Make Year'][j] = re.sub(r'[^\\w\\s]','', str(df_make_year['Make Year'][j]))\n",
    "    try:\n",
    "        df_make_year['Make Year'][j] = int(\"\".join([str(i) for i in str.split(df_make_year['Make Year'][j]) if i.isdigit()]))\n",
    "    except:\n",
    "        df_make_year['Make Year'][j] = int(df_make_year['Make Year'][j])\n",
    "        pass"
   ]
  },
  {
   "cell_type": "code",
   "execution_count": 49,
   "metadata": {},
   "outputs": [],
   "source": [
    "for i in range(len(df_make_year)):\n",
    "     try:\n",
    "          df_make_year['Make Year'][i] = int(df_make_year['Make Year'][i])\n",
    "     except:\n",
    "          df_make_year['Make Year'][i] = df_make_year['Make Year'][i]"
   ]
  },
  {
   "cell_type": "code",
   "execution_count": 50,
   "metadata": {},
   "outputs": [],
   "source": [
    "# print(df_make_year['Make Year'].dtype)\n",
    "# Converting to Nepali Date\n",
    "for i in range(len(df_make_year)):\n",
    "    if df_make_year['Make Year'][i] <= 2023:\n",
    "        df_make_year['Make Year'][i] = df_make_year['Make Year'][i] + 56 \n",
    "# print(df_make_year.groupby('Make Year').size())\n"
   ]
  },
  {
   "cell_type": "code",
   "execution_count": 51,
   "metadata": {},
   "outputs": [
    {
     "data": {
      "text/html": [
       "<div>\n",
       "<style scoped>\n",
       "    .dataframe tbody tr th:only-of-type {\n",
       "        vertical-align: middle;\n",
       "    }\n",
       "\n",
       "    .dataframe tbody tr th {\n",
       "        vertical-align: top;\n",
       "    }\n",
       "\n",
       "    .dataframe thead th {\n",
       "        text-align: right;\n",
       "    }\n",
       "</style>\n",
       "<table border=\"1\" class=\"dataframe\">\n",
       "  <thead>\n",
       "    <tr style=\"text-align: right;\">\n",
       "      <th></th>\n",
       "      <th>Price</th>\n",
       "      <th>Transmisson</th>\n",
       "      <th>Colour</th>\n",
       "      <th>Make Year</th>\n",
       "      <th>Mileage</th>\n",
       "      <th>Engine (CC)</th>\n",
       "      <th>Fuel</th>\n",
       "      <th>Kilometer Run</th>\n",
       "      <th>Brand Name</th>\n",
       "    </tr>\n",
       "  </thead>\n",
       "  <tbody>\n",
       "    <tr>\n",
       "      <th>0</th>\n",
       "      <td>रू. 24,75,000रू. 25,00,000</td>\n",
       "      <td>Manual2WD</td>\n",
       "      <td>Brown</td>\n",
       "      <td>2071</td>\n",
       "      <td>14</td>\n",
       "      <td>1400</td>\n",
       "      <td>Petrol</td>\n",
       "      <td>42000</td>\n",
       "      <td>3</td>\n",
       "    </tr>\n",
       "    <tr>\n",
       "      <th>1</th>\n",
       "      <td>रू. 7,50,000</td>\n",
       "      <td>Auto2WD</td>\n",
       "      <td>Light blue</td>\n",
       "      <td>2061</td>\n",
       "      <td>11</td>\n",
       "      <td>1399</td>\n",
       "      <td>Petrol</td>\n",
       "      <td>87412</td>\n",
       "      <td>3</td>\n",
       "    </tr>\n",
       "    <tr>\n",
       "      <th>2</th>\n",
       "      <td>रू. 7,00,000</td>\n",
       "      <td>Manual - 2WD</td>\n",
       "      <td>White</td>\n",
       "      <td>2069</td>\n",
       "      <td>NaN</td>\n",
       "      <td>2956</td>\n",
       "      <td>Diesel</td>\n",
       "      <td>60000</td>\n",
       "      <td>10</td>\n",
       "    </tr>\n",
       "    <tr>\n",
       "      <th>3</th>\n",
       "      <td>रू. 6,00,000</td>\n",
       "      <td>Manual - 4WD</td>\n",
       "      <td>NaN</td>\n",
       "      <td>2073</td>\n",
       "      <td>NaN</td>\n",
       "      <td>NaN</td>\n",
       "      <td>Diesel</td>\n",
       "      <td>49000</td>\n",
       "      <td>5</td>\n",
       "    </tr>\n",
       "    <tr>\n",
       "      <th>4</th>\n",
       "      <td>रू. 375</td>\n",
       "      <td>Auto - 2WD</td>\n",
       "      <td>white</td>\n",
       "      <td>2075</td>\n",
       "      <td>17</td>\n",
       "      <td>1200</td>\n",
       "      <td>Petrol</td>\n",
       "      <td>2400</td>\n",
       "      <td>3</td>\n",
       "    </tr>\n",
       "    <tr>\n",
       "      <th>...</th>\n",
       "      <td>...</td>\n",
       "      <td>...</td>\n",
       "      <td>...</td>\n",
       "      <td>...</td>\n",
       "      <td>...</td>\n",
       "      <td>...</td>\n",
       "      <td>...</td>\n",
       "      <td>...</td>\n",
       "      <td>...</td>\n",
       "    </tr>\n",
       "    <tr>\n",
       "      <th>786</th>\n",
       "      <td>रू. 24,50,000</td>\n",
       "      <td>Manual - 2WD</td>\n",
       "      <td>silver</td>\n",
       "      <td>2076</td>\n",
       "      <td>2025</td>\n",
       "      <td>1200</td>\n",
       "      <td>Petrol</td>\n",
       "      <td>26500</td>\n",
       "      <td>3</td>\n",
       "    </tr>\n",
       "    <tr>\n",
       "      <th>787</th>\n",
       "      <td>रू. 19,25,000</td>\n",
       "      <td>Manual2WD</td>\n",
       "      <td>Navy blue</td>\n",
       "      <td>2071</td>\n",
       "      <td>15</td>\n",
       "      <td>1200</td>\n",
       "      <td>Petrol</td>\n",
       "      <td>60000</td>\n",
       "      <td>3</td>\n",
       "    </tr>\n",
       "    <tr>\n",
       "      <th>788</th>\n",
       "      <td>रू. 19,50,000</td>\n",
       "      <td>Manual2WD</td>\n",
       "      <td>Carbon Steel ( Dark Grey)</td>\n",
       "      <td>2070</td>\n",
       "      <td>12 to 14</td>\n",
       "      <td>1200</td>\n",
       "      <td>Petrol</td>\n",
       "      <td>60000</td>\n",
       "      <td>9</td>\n",
       "    </tr>\n",
       "    <tr>\n",
       "      <th>789</th>\n",
       "      <td>रू. 17,50,000</td>\n",
       "      <td>Manual - 2WD</td>\n",
       "      <td>silver</td>\n",
       "      <td>2070</td>\n",
       "      <td>NaN</td>\n",
       "      <td>1200</td>\n",
       "      <td>Petrol</td>\n",
       "      <td>93000</td>\n",
       "      <td>3</td>\n",
       "    </tr>\n",
       "    <tr>\n",
       "      <th>790</th>\n",
       "      <td>रू. 24,50,000</td>\n",
       "      <td>Auto - 4WD</td>\n",
       "      <td>cream</td>\n",
       "      <td>2063</td>\n",
       "      <td>13</td>\n",
       "      <td>2200</td>\n",
       "      <td>Diesel</td>\n",
       "      <td>60000</td>\n",
       "      <td>7</td>\n",
       "    </tr>\n",
       "  </tbody>\n",
       "</table>\n",
       "<p>786 rows × 9 columns</p>\n",
       "</div>"
      ],
      "text/plain": [
       "                          Price   Transmisson                     Colour  \\\n",
       "0    रू. 24,75,000रू. 25,00,000     Manual2WD                      Brown   \n",
       "1                  रू. 7,50,000       Auto2WD                 Light blue   \n",
       "2                  रू. 7,00,000  Manual - 2WD                      White   \n",
       "3                  रू. 6,00,000  Manual - 4WD                        NaN   \n",
       "4                       रू. 375    Auto - 2WD                      white   \n",
       "..                          ...           ...                        ...   \n",
       "786               रू. 24,50,000  Manual - 2WD                     silver   \n",
       "787               रू. 19,25,000     Manual2WD                  Navy blue   \n",
       "788               रू. 19,50,000     Manual2WD  Carbon Steel ( Dark Grey)   \n",
       "789               रू. 17,50,000  Manual - 2WD                     silver   \n",
       "790               रू. 24,50,000    Auto - 4WD                      cream   \n",
       "\n",
       "    Make Year   Mileage Engine (CC)    Fuel  Kilometer Run  Brand Name  \n",
       "0        2071        14        1400  Petrol          42000           3  \n",
       "1        2061        11        1399  Petrol          87412           3  \n",
       "2        2069       NaN        2956  Diesel          60000          10  \n",
       "3        2073       NaN         NaN  Diesel          49000           5  \n",
       "4        2075        17        1200  Petrol           2400           3  \n",
       "..        ...       ...         ...     ...            ...         ...  \n",
       "786      2076      2025        1200  Petrol          26500           3  \n",
       "787      2071        15        1200  Petrol          60000           3  \n",
       "788      2070  12 to 14        1200  Petrol          60000           9  \n",
       "789      2070       NaN        1200  Petrol          93000           3  \n",
       "790      2063        13        2200  Diesel          60000           7  \n",
       "\n",
       "[786 rows x 9 columns]"
      ]
     },
     "execution_count": 51,
     "metadata": {},
     "output_type": "execute_result"
    }
   ],
   "source": [
    "index_to_drop = df_make_year[df_make_year['Make Year'] < 2000].index\n",
    "df_make_year.drop(index_to_drop)"
   ]
  },
  {
   "cell_type": "code",
   "execution_count": 52,
   "metadata": {},
   "outputs": [],
   "source": [
    "df_make_year = df_make_year.reset_index(drop = True)"
   ]
  },
  {
   "cell_type": "markdown",
   "metadata": {},
   "source": [
    "### Engine"
   ]
  },
  {
   "cell_type": "code",
   "execution_count": 53,
   "metadata": {},
   "outputs": [],
   "source": [
    "df_engine = df_make_year.copy()"
   ]
  },
  {
   "cell_type": "code",
   "execution_count": 54,
   "metadata": {},
   "outputs": [
    {
     "data": {
      "text/plain": [
       "791"
      ]
     },
     "execution_count": 54,
     "metadata": {},
     "output_type": "execute_result"
    }
   ],
   "source": [
    "len(df_engine)"
   ]
  },
  {
   "cell_type": "code",
   "execution_count": 55,
   "metadata": {},
   "outputs": [
    {
     "data": {
      "text/plain": [
       "Engine (CC)\n",
       "0              1\n",
       "1..2           1\n",
       "1.6 petrol     1\n",
       "1000          30\n",
       "10000          1\n",
       "              ..\n",
       "993            1\n",
       "995            2\n",
       "996            2\n",
       "998            6\n",
       "999            7\n",
       "Length: 129, dtype: int64"
      ]
     },
     "execution_count": 55,
     "metadata": {},
     "output_type": "execute_result"
    }
   ],
   "source": [
    "df_engine.groupby('Engine (CC)').size()"
   ]
  },
  {
   "cell_type": "code",
   "execution_count": 56,
   "metadata": {},
   "outputs": [
    {
     "name": "stdout",
     "output_type": "stream",
     "text": [
      "g g 2 0 1 6   G G G\n",
      "<class 'str'>\n",
      "g g 2 0 1 6   G G G\n",
      "2016\n"
     ]
    }
   ],
   "source": [
    "import re\n",
    "test = \" \".join(\"gg2016 GGG\")\n",
    "print(test)\n",
    "df_make_year[\"Make Year\"][100]\n",
    "test = re.sub(r'[^\\w\\s]','', str(test))\n",
    "print(type(test))\n",
    "print(test)\n",
    "test = int(\"\".join([str(i) for i in str.split(test) if i.isdigit()]))\n",
    "\n",
    "print(test)"
   ]
  },
  {
   "cell_type": "code",
   "execution_count": 57,
   "metadata": {},
   "outputs": [],
   "source": [
    "df_engine[\"Engine (CC)\"].isna().sum() #100 datas\n",
    "df_engine.dropna(subset = [\"Engine (CC)\"],inplace = True)\n",
    "df_engine = df_engine.reset_index(drop =True)\n"
   ]
  },
  {
   "cell_type": "code",
   "execution_count": 58,
   "metadata": {},
   "outputs": [],
   "source": [
    "# res = [int(i) for i in test_string.split() if i.isdigit()]\n",
    "import re\n",
    "for j in range(len(df_engine)):\n",
    "    #separate each character by space\n",
    "    df_engine['Engine (CC)'][j] = \" \".join(df_engine['Engine (CC)'][j])\n",
    "    #remove special characters\n",
    "    df_engine['Engine (CC)'][j] = re.sub(r'[^\\w\\s]','', str(df_engine['Engine (CC)'][j]))\n",
    "    try:\n",
    "        df_engine['Engine (CC)'][j] = int(\"\".join([str(i) for i in str.split(df_engine['Engine (CC)'][j]) if i.isdigit()]))\n",
    "    except:\n",
    "        df_engine['Engine (CC)'][j] = int(df_engine['Engine (CC)'][j])\n",
    "        pass"
   ]
  },
  {
   "cell_type": "code",
   "execution_count": 59,
   "metadata": {},
   "outputs": [
    {
     "data": {
      "text/plain": [
       "1200.0"
      ]
     },
     "execution_count": 59,
     "metadata": {},
     "output_type": "execute_result"
    }
   ],
   "source": [
    "df_engine['Engine (CC)'].median()"
   ]
  },
  {
   "cell_type": "code",
   "execution_count": 60,
   "metadata": {},
   "outputs": [
    {
     "data": {
      "text/plain": [
       "0      1400\n",
       "1      1399\n",
       "2      2956\n",
       "3      1200\n",
       "4      2956\n",
       "       ... \n",
       "686    1200\n",
       "687    1200\n",
       "688    1200\n",
       "689    1200\n",
       "690    2200\n",
       "Name: Engine (CC), Length: 691, dtype: object"
      ]
     },
     "execution_count": 60,
     "metadata": {},
     "output_type": "execute_result"
    }
   ],
   "source": [
    "df_engine['Engine (CC)']"
   ]
  },
  {
   "cell_type": "code",
   "execution_count": 61,
   "metadata": {},
   "outputs": [
    {
     "data": {
      "text/html": [
       "<div>\n",
       "<style scoped>\n",
       "    .dataframe tbody tr th:only-of-type {\n",
       "        vertical-align: middle;\n",
       "    }\n",
       "\n",
       "    .dataframe tbody tr th {\n",
       "        vertical-align: top;\n",
       "    }\n",
       "\n",
       "    .dataframe thead th {\n",
       "        text-align: right;\n",
       "    }\n",
       "</style>\n",
       "<table border=\"1\" class=\"dataframe\">\n",
       "  <thead>\n",
       "    <tr style=\"text-align: right;\">\n",
       "      <th></th>\n",
       "      <th>Price</th>\n",
       "      <th>Transmisson</th>\n",
       "      <th>Colour</th>\n",
       "      <th>Make Year</th>\n",
       "      <th>Mileage</th>\n",
       "      <th>Engine (CC)</th>\n",
       "      <th>Fuel</th>\n",
       "      <th>Kilometer Run</th>\n",
       "      <th>Brand Name</th>\n",
       "    </tr>\n",
       "  </thead>\n",
       "  <tbody>\n",
       "    <tr>\n",
       "      <th>0</th>\n",
       "      <td>रू. 24,75,000रू. 25,00,000</td>\n",
       "      <td>Manual2WD</td>\n",
       "      <td>Brown</td>\n",
       "      <td>2071</td>\n",
       "      <td>14</td>\n",
       "      <td>1400</td>\n",
       "      <td>Petrol</td>\n",
       "      <td>42000</td>\n",
       "      <td>3</td>\n",
       "    </tr>\n",
       "    <tr>\n",
       "      <th>1</th>\n",
       "      <td>रू. 7,50,000</td>\n",
       "      <td>Auto2WD</td>\n",
       "      <td>Light blue</td>\n",
       "      <td>2061</td>\n",
       "      <td>11</td>\n",
       "      <td>1399</td>\n",
       "      <td>Petrol</td>\n",
       "      <td>87412</td>\n",
       "      <td>3</td>\n",
       "    </tr>\n",
       "    <tr>\n",
       "      <th>2</th>\n",
       "      <td>रू. 7,00,000</td>\n",
       "      <td>Manual - 2WD</td>\n",
       "      <td>White</td>\n",
       "      <td>2069</td>\n",
       "      <td>NaN</td>\n",
       "      <td>2956</td>\n",
       "      <td>Diesel</td>\n",
       "      <td>60000</td>\n",
       "      <td>10</td>\n",
       "    </tr>\n",
       "    <tr>\n",
       "      <th>3</th>\n",
       "      <td>रू. 375</td>\n",
       "      <td>Auto - 2WD</td>\n",
       "      <td>white</td>\n",
       "      <td>2075</td>\n",
       "      <td>17</td>\n",
       "      <td>1200</td>\n",
       "      <td>Petrol</td>\n",
       "      <td>2400</td>\n",
       "      <td>3</td>\n",
       "    </tr>\n",
       "    <tr>\n",
       "      <th>4</th>\n",
       "      <td>रू. 14,00,000</td>\n",
       "      <td>Manual2WD</td>\n",
       "      <td>Artic Silver</td>\n",
       "      <td>2070</td>\n",
       "      <td>12</td>\n",
       "      <td>2956</td>\n",
       "      <td>Diesel</td>\n",
       "      <td>49000</td>\n",
       "      <td>10</td>\n",
       "    </tr>\n",
       "  </tbody>\n",
       "</table>\n",
       "</div>"
      ],
      "text/plain": [
       "                        Price   Transmisson        Colour Make Year Mileage  \\\n",
       "0  रू. 24,75,000रू. 25,00,000     Manual2WD         Brown      2071      14   \n",
       "1                रू. 7,50,000       Auto2WD    Light blue      2061      11   \n",
       "2                रू. 7,00,000  Manual - 2WD         White      2069     NaN   \n",
       "3                     रू. 375    Auto - 2WD         white      2075      17   \n",
       "4               रू. 14,00,000     Manual2WD  Artic Silver      2070      12   \n",
       "\n",
       "  Engine (CC)    Fuel  Kilometer Run  Brand Name  \n",
       "0        1400  Petrol          42000           3  \n",
       "1        1399  Petrol          87412           3  \n",
       "2        2956  Diesel          60000          10  \n",
       "3        1200  Petrol           2400           3  \n",
       "4        2956  Diesel          49000          10  "
      ]
     },
     "execution_count": 61,
     "metadata": {},
     "output_type": "execute_result"
    }
   ],
   "source": [
    "df_engine.head()"
   ]
  },
  {
   "cell_type": "code",
   "execution_count": 62,
   "metadata": {},
   "outputs": [
    {
     "data": {
      "text/plain": [
       "array([1400, 1399, 2956, 1200, 889, 800, 1100, 2500, 2100, 2499, 1197,\n",
       "       1582, 1193, 28, 1086, 1500, 1299, 2000, 999, 1000, 1600, 3783, 250,\n",
       "       30, 1084, 1300, 1248, 1948, 2882, 1599, 2900, 2800, 2523, 2179,\n",
       "       3500, 2200, 995, 2400, 1198, 996, 1405, 1196, 15000, 3000, 2169,\n",
       "       1499, 2967, 1591, 1596, 702, 1298, 2700, 1096, 796, 700, 1186, 814,\n",
       "       5223, 100, 1991, 1497, 1656, 998, 1998, 2950, 2999, 3200, 2600,\n",
       "       1075, 1047, 110, 1997, 1462, 1699, 1061, 1496, 1199, 3700, 1350,\n",
       "       1498, 600, 1598, 5883, 993, 624, 1191, 1995, 4461, 1984, 2494,\n",
       "       2755, 15, 10000, 2199, 1992, 2362, 1490, 1900, 1396, 1087, 1049,\n",
       "       1250, 2609, 0, 901, 909, 4000, 1387, 1068, 1586, 1990, 16, 87, 12,\n",
       "       1098, 900, 1468, 4], dtype=object)"
      ]
     },
     "execution_count": 62,
     "metadata": {},
     "output_type": "execute_result"
    }
   ],
   "source": [
    "(df_engine[\"Engine (CC)\"].unique())"
   ]
  },
  {
   "cell_type": "code",
   "execution_count": 63,
   "metadata": {},
   "outputs": [],
   "source": [
    "df_engine.drop(df_engine.loc[df_engine['Engine (CC)'] < 500].index, inplace=True)\n",
    "df_engine.reset_index(drop = True,inplace = True)"
   ]
  },
  {
   "cell_type": "code",
   "execution_count": 64,
   "metadata": {},
   "outputs": [
    {
     "data": {
      "text/plain": [
       "array([1400, 1399, 2956, 1200, 889, 800, 1100, 2500, 2100, 2499, 1197,\n",
       "       1582, 1193, 1086, 1500, 1299, 2000, 999, 1000, 1600, 3783, 1084,\n",
       "       1300, 1248, 1948, 2882, 1599, 2900, 2800, 2523, 2179, 3500, 2200,\n",
       "       995, 2400, 1198, 996, 1405, 1196, 15000, 3000, 2169, 1499, 2967,\n",
       "       1591, 1596, 702, 1298, 2700, 1096, 796, 700, 1186, 814, 5223, 1991,\n",
       "       1497, 1656, 998, 1998, 2950, 2999, 3200, 2600, 1075, 1047, 1997,\n",
       "       1462, 1699, 1061, 1496, 1199, 3700, 1350, 1498, 600, 1598, 5883,\n",
       "       993, 624, 1191, 1995, 4461, 1984, 2494, 2755, 10000, 2199, 1992,\n",
       "       2362, 1490, 1900, 1396, 1087, 1049, 1250, 2609, 901, 909, 4000,\n",
       "       1387, 1068, 1586, 1990, 1098, 900, 1468], dtype=object)"
      ]
     },
     "execution_count": 64,
     "metadata": {},
     "output_type": "execute_result"
    }
   ],
   "source": [
    "(df_engine[\"Engine (CC)\"].unique())\n"
   ]
  },
  {
   "cell_type": "markdown",
   "metadata": {},
   "source": [
    "### Mileage"
   ]
  },
  {
   "cell_type": "code",
   "execution_count": 65,
   "metadata": {},
   "outputs": [],
   "source": [
    "df_mileage = df_engine.copy()"
   ]
  },
  {
   "cell_type": "code",
   "execution_count": 66,
   "metadata": {},
   "outputs": [
    {
     "data": {
      "text/plain": [
       "276"
      ]
     },
     "execution_count": 66,
     "metadata": {},
     "output_type": "execute_result"
    }
   ],
   "source": [
    "df_mileage['Mileage'].isna().sum()"
   ]
  },
  {
   "cell_type": "code",
   "execution_count": 67,
   "metadata": {},
   "outputs": [
    {
     "data": {
      "text/plain": [
       "array(['14', '11', nan, '17', '12', '15', '17/18 km', '14+', '18', '13',\n",
       "       '21.4', '10', '18/20', '16', '5', '15 km/l', '13-15', '10 to 15',\n",
       "       '7', '18 kmpl', '20-21', '20', '13-Dec', '19', '22', '16-17',\n",
       "       '12 to 14', '69000', '50', 'Good', '16-18', '6, 7', '14/15',\n",
       "       '50000', '15-Dec', '13-18', '12-Oct', '17.5', '14-Dec', '15 KMPL',\n",
       "       'N/a', '10 to 12', '13 plus', '14-15', '40', '17/18',\n",
       "       '15.3 (As shown on the average counter display)', '12Km/Pl',\n",
       "       '19-20', '12-Aug', '29.87', '8', '16.5', '14 km', '13-Oct', '2025',\n",
       "       '10-Aug', '21', '17-19km/l', '15km/ltr', '10-Sep',\n",
       "       '18 Km per liter', '23', '15 above', '27km/ltr', '27.97',\n",
       "       '16 in city', '20kmpl', '15000', '+12km', '12 km/he'], dtype=object)"
      ]
     },
     "execution_count": 67,
     "metadata": {},
     "output_type": "execute_result"
    }
   ],
   "source": [
    "df_mileage['Mileage'].unique()"
   ]
  },
  {
   "cell_type": "code",
   "execution_count": 68,
   "metadata": {},
   "outputs": [],
   "source": [
    "df_mileage.drop(df_mileage.loc[df_mileage['Mileage']=='Good'].index, inplace=True)\n",
    "df_mileage.drop(df_mileage.loc[df_mileage['Mileage']=='N/a'].index, inplace=True)\n",
    "df_mileage.reset_index(drop = True,inplace = True)"
   ]
  },
  {
   "cell_type": "code",
   "execution_count": 69,
   "metadata": {},
   "outputs": [
    {
     "data": {
      "text/plain": [
       "array(['14', '11', nan, '17', '12', '15', '17/18 km', '14+', '18', '13',\n",
       "       '21.4', '10', '18/20', '16', '5', '15 km/l', '13-15', '10 to 15',\n",
       "       '7', '18 kmpl', '20-21', '20', '13-Dec', '19', '22', '16-17',\n",
       "       '12 to 14', '69000', '50', '16-18', '6, 7', '14/15', '50000',\n",
       "       '15-Dec', '13-18', '12-Oct', '17.5', '14-Dec', '15 KMPL',\n",
       "       '10 to 12', '13 plus', '14-15', '40', '17/18',\n",
       "       '15.3 (As shown on the average counter display)', '12Km/Pl',\n",
       "       '19-20', '12-Aug', '29.87', '8', '16.5', '14 km', '13-Oct', '2025',\n",
       "       '10-Aug', '21', '17-19km/l', '15km/ltr', '10-Sep',\n",
       "       '18 Km per liter', '23', '15 above', '27km/ltr', '27.97',\n",
       "       '16 in city', '20kmpl', '15000', '+12km', '12 km/he'], dtype=object)"
      ]
     },
     "execution_count": 69,
     "metadata": {},
     "output_type": "execute_result"
    }
   ],
   "source": [
    "df_mileage['Mileage'].unique()"
   ]
  },
  {
   "cell_type": "code",
   "execution_count": 70,
   "metadata": {},
   "outputs": [],
   "source": [
    "import re\n",
    "import math\n",
    "for j in range(len(df_mileage)):\n",
    "    try:\n",
    "        if math.isnan(df_mileage['Mileage'][j]):\n",
    "            continue\n",
    "    except:\n",
    "        pass\n",
    "    #separate each character by space\n",
    "    df_mileage['Mileage'][j] = \" \".join(str(df_mileage['Mileage'][j]))\n",
    "    #remove special characters\n",
    "    df_mileage['Mileage'][j] = re.sub(r'[^\\w\\s]','', str(df_mileage['Mileage'][j]))\n",
    "    try:\n",
    "        df_mileage['Mileage'][j] = int(\"\".join([str(i) for i in str.split(df_mileage['Mileage'][j]) if i.isdigit()])[0:2])\n",
    "    except:\n",
    "        # df_mileage['Mileage'][j] = int(df_mileage['Mileage'][j])\n",
    "        pass\n",
    "    \n",
    "    try:\n",
    "        df_mileage['Mileage'][j] = int(df_mileage['Mileage'][j])\n",
    "    except:\n",
    "        df_mileage['Mileage'][j] = df_mileage['Mileage'][j]"
   ]
  },
  {
   "cell_type": "code",
   "execution_count": 71,
   "metadata": {},
   "outputs": [
    {
     "data": {
      "text/plain": [
       "14    65\n",
       "15    65\n",
       "12    60\n",
       "16    37\n",
       "13    36\n",
       "18    35\n",
       "10    27\n",
       "17    23\n",
       "20    15\n",
       "11     9\n",
       "19     6\n",
       "8      4\n",
       "23     3\n",
       "50     2\n",
       "27     2\n",
       "5      2\n",
       "21     2\n",
       "69     1\n",
       "22     1\n",
       "67     1\n",
       "40     1\n",
       "29     1\n",
       "7      1\n",
       "Name: Mileage, dtype: int64"
      ]
     },
     "execution_count": 71,
     "metadata": {},
     "output_type": "execute_result"
    }
   ],
   "source": [
    "df_mileage[\"Mileage\"].value_counts()"
   ]
  },
  {
   "cell_type": "code",
   "execution_count": 72,
   "metadata": {},
   "outputs": [],
   "source": [
    "df_mileage.drop(df_mileage.loc[df_mileage['Mileage'] > 30].index, inplace=True)\n",
    "df_mileage.reset_index(drop = True,inplace = True)"
   ]
  },
  {
   "cell_type": "code",
   "execution_count": 73,
   "metadata": {},
   "outputs": [
    {
     "data": {
      "text/plain": [
       "14    65\n",
       "15    65\n",
       "12    60\n",
       "16    37\n",
       "13    36\n",
       "18    35\n",
       "10    27\n",
       "17    23\n",
       "20    15\n",
       "11     9\n",
       "19     6\n",
       "8      4\n",
       "23     3\n",
       "21     2\n",
       "5      2\n",
       "27     2\n",
       "7      1\n",
       "22     1\n",
       "29     1\n",
       "Name: Mileage, dtype: int64"
      ]
     },
     "execution_count": 73,
     "metadata": {},
     "output_type": "execute_result"
    }
   ],
   "source": [
    "df_mileage[\"Mileage\"].value_counts()"
   ]
  },
  {
   "cell_type": "code",
   "execution_count": 74,
   "metadata": {},
   "outputs": [
    {
     "data": {
      "text/plain": [
       "12.0"
      ]
     },
     "execution_count": 74,
     "metadata": {},
     "output_type": "execute_result"
    }
   ],
   "source": [
    "df_mileage[df_mileage['Engine (CC)']==1191]['Mileage'].median()"
   ]
  },
  {
   "cell_type": "code",
   "execution_count": 75,
   "metadata": {},
   "outputs": [],
   "source": [
    "for i in range(len(df_mileage)):\n",
    "    df_mileage['Mileage'].fillna(df_mileage[df_mileage['Engine (CC)']==df_mileage[\"Engine (CC)\"][i]]['Mileage'].median(),inplace = True)"
   ]
  },
  {
   "cell_type": "code",
   "execution_count": 76,
   "metadata": {},
   "outputs": [
    {
     "data": {
      "text/plain": [
       "14.0    341\n",
       "15.0     65\n",
       "12.0     60\n",
       "16.0     37\n",
       "13.0     36\n",
       "18.0     35\n",
       "10.0     27\n",
       "17.0     23\n",
       "20.0     15\n",
       "11.0      9\n",
       "19.0      6\n",
       "8.0       4\n",
       "23.0      3\n",
       "21.0      2\n",
       "5.0       2\n",
       "27.0      2\n",
       "7.0       1\n",
       "22.0      1\n",
       "29.0      1\n",
       "Name: Mileage, dtype: int64"
      ]
     },
     "execution_count": 76,
     "metadata": {},
     "output_type": "execute_result"
    }
   ],
   "source": [
    "df_mileage[\"Mileage\"].isna().sum()\n",
    "df_mileage[\"Mileage\"].value_counts()"
   ]
  },
  {
   "cell_type": "code",
   "execution_count": 77,
   "metadata": {},
   "outputs": [
    {
     "data": {
      "text/plain": [
       "0    14.0\n",
       "Name: Mileage, dtype: float64"
      ]
     },
     "execution_count": 77,
     "metadata": {},
     "output_type": "execute_result"
    }
   ],
   "source": [
    "df_mileage[\"Mileage\"].mode()"
   ]
  },
  {
   "cell_type": "code",
   "execution_count": 78,
   "metadata": {},
   "outputs": [
    {
     "data": {
      "text/html": [
       "<div>\n",
       "<style scoped>\n",
       "    .dataframe tbody tr th:only-of-type {\n",
       "        vertical-align: middle;\n",
       "    }\n",
       "\n",
       "    .dataframe tbody tr th {\n",
       "        vertical-align: top;\n",
       "    }\n",
       "\n",
       "    .dataframe thead th {\n",
       "        text-align: right;\n",
       "    }\n",
       "</style>\n",
       "<table border=\"1\" class=\"dataframe\">\n",
       "  <thead>\n",
       "    <tr style=\"text-align: right;\">\n",
       "      <th></th>\n",
       "      <th>Price</th>\n",
       "      <th>Transmisson</th>\n",
       "      <th>Colour</th>\n",
       "      <th>Make Year</th>\n",
       "      <th>Mileage</th>\n",
       "      <th>Engine (CC)</th>\n",
       "      <th>Fuel</th>\n",
       "      <th>Kilometer Run</th>\n",
       "      <th>Brand Name</th>\n",
       "    </tr>\n",
       "  </thead>\n",
       "  <tbody>\n",
       "    <tr>\n",
       "      <th>0</th>\n",
       "      <td>रू. 24,75,000रू. 25,00,000</td>\n",
       "      <td>Manual2WD</td>\n",
       "      <td>Brown</td>\n",
       "      <td>2071</td>\n",
       "      <td>14.0</td>\n",
       "      <td>1400</td>\n",
       "      <td>Petrol</td>\n",
       "      <td>42000</td>\n",
       "      <td>3</td>\n",
       "    </tr>\n",
       "    <tr>\n",
       "      <th>1</th>\n",
       "      <td>रू. 7,50,000</td>\n",
       "      <td>Auto2WD</td>\n",
       "      <td>Light blue</td>\n",
       "      <td>2061</td>\n",
       "      <td>11.0</td>\n",
       "      <td>1399</td>\n",
       "      <td>Petrol</td>\n",
       "      <td>87412</td>\n",
       "      <td>3</td>\n",
       "    </tr>\n",
       "    <tr>\n",
       "      <th>2</th>\n",
       "      <td>रू. 7,00,000</td>\n",
       "      <td>Manual - 2WD</td>\n",
       "      <td>White</td>\n",
       "      <td>2069</td>\n",
       "      <td>14.0</td>\n",
       "      <td>2956</td>\n",
       "      <td>Diesel</td>\n",
       "      <td>60000</td>\n",
       "      <td>10</td>\n",
       "    </tr>\n",
       "    <tr>\n",
       "      <th>3</th>\n",
       "      <td>रू. 375</td>\n",
       "      <td>Auto - 2WD</td>\n",
       "      <td>white</td>\n",
       "      <td>2075</td>\n",
       "      <td>17.0</td>\n",
       "      <td>1200</td>\n",
       "      <td>Petrol</td>\n",
       "      <td>2400</td>\n",
       "      <td>3</td>\n",
       "    </tr>\n",
       "    <tr>\n",
       "      <th>4</th>\n",
       "      <td>रू. 14,00,000</td>\n",
       "      <td>Manual2WD</td>\n",
       "      <td>Artic Silver</td>\n",
       "      <td>2070</td>\n",
       "      <td>12.0</td>\n",
       "      <td>2956</td>\n",
       "      <td>Diesel</td>\n",
       "      <td>49000</td>\n",
       "      <td>10</td>\n",
       "    </tr>\n",
       "  </tbody>\n",
       "</table>\n",
       "</div>"
      ],
      "text/plain": [
       "                        Price   Transmisson        Colour Make Year  Mileage  \\\n",
       "0  रू. 24,75,000रू. 25,00,000     Manual2WD         Brown      2071     14.0   \n",
       "1                रू. 7,50,000       Auto2WD    Light blue      2061     11.0   \n",
       "2                रू. 7,00,000  Manual - 2WD         White      2069     14.0   \n",
       "3                     रू. 375    Auto - 2WD         white      2075     17.0   \n",
       "4               रू. 14,00,000     Manual2WD  Artic Silver      2070     12.0   \n",
       "\n",
       "  Engine (CC)    Fuel  Kilometer Run  Brand Name  \n",
       "0        1400  Petrol          42000           3  \n",
       "1        1399  Petrol          87412           3  \n",
       "2        2956  Diesel          60000          10  \n",
       "3        1200  Petrol           2400           3  \n",
       "4        2956  Diesel          49000          10  "
      ]
     },
     "execution_count": 78,
     "metadata": {},
     "output_type": "execute_result"
    }
   ],
   "source": [
    "df_mileage.head()"
   ]
  },
  {
   "cell_type": "markdown",
   "metadata": {},
   "source": [
    "### Fuel"
   ]
  },
  {
   "cell_type": "code",
   "execution_count": 79,
   "metadata": {},
   "outputs": [],
   "source": [
    "df_fuel = df_mileage.copy()"
   ]
  },
  {
   "cell_type": "code",
   "execution_count": 80,
   "metadata": {},
   "outputs": [
    {
     "data": {
      "text/plain": [
       "Petrol      499\n",
       "Diesel      166\n",
       "Hybrid        4\n",
       "Electric      1\n",
       "Name: Fuel, dtype: int64"
      ]
     },
     "execution_count": 80,
     "metadata": {},
     "output_type": "execute_result"
    }
   ],
   "source": [
    "df_fuel[\"Fuel\"].value_counts()"
   ]
  },
  {
   "cell_type": "code",
   "execution_count": 81,
   "metadata": {},
   "outputs": [],
   "source": [
    "map_fuel = { \"Diesel\" : 0 , \"Electric\" : 1 , \"Hybrid\" : 2 , \"Petrol\" : 3}\n",
    "df_fuel[\"Fuel\"]=df_fuel[\"Fuel\"].map(map_fuel)"
   ]
  },
  {
   "cell_type": "code",
   "execution_count": 82,
   "metadata": {},
   "outputs": [
    {
     "data": {
      "text/html": [
       "<div>\n",
       "<style scoped>\n",
       "    .dataframe tbody tr th:only-of-type {\n",
       "        vertical-align: middle;\n",
       "    }\n",
       "\n",
       "    .dataframe tbody tr th {\n",
       "        vertical-align: top;\n",
       "    }\n",
       "\n",
       "    .dataframe thead th {\n",
       "        text-align: right;\n",
       "    }\n",
       "</style>\n",
       "<table border=\"1\" class=\"dataframe\">\n",
       "  <thead>\n",
       "    <tr style=\"text-align: right;\">\n",
       "      <th></th>\n",
       "      <th>Price</th>\n",
       "      <th>Transmisson</th>\n",
       "      <th>Colour</th>\n",
       "      <th>Make Year</th>\n",
       "      <th>Mileage</th>\n",
       "      <th>Engine (CC)</th>\n",
       "      <th>Fuel</th>\n",
       "      <th>Kilometer Run</th>\n",
       "      <th>Brand Name</th>\n",
       "    </tr>\n",
       "  </thead>\n",
       "  <tbody>\n",
       "    <tr>\n",
       "      <th>0</th>\n",
       "      <td>रू. 24,75,000रू. 25,00,000</td>\n",
       "      <td>Manual2WD</td>\n",
       "      <td>Brown</td>\n",
       "      <td>2071</td>\n",
       "      <td>14.0</td>\n",
       "      <td>1400</td>\n",
       "      <td>3</td>\n",
       "      <td>42000</td>\n",
       "      <td>3</td>\n",
       "    </tr>\n",
       "    <tr>\n",
       "      <th>1</th>\n",
       "      <td>रू. 7,50,000</td>\n",
       "      <td>Auto2WD</td>\n",
       "      <td>Light blue</td>\n",
       "      <td>2061</td>\n",
       "      <td>11.0</td>\n",
       "      <td>1399</td>\n",
       "      <td>3</td>\n",
       "      <td>87412</td>\n",
       "      <td>3</td>\n",
       "    </tr>\n",
       "    <tr>\n",
       "      <th>2</th>\n",
       "      <td>रू. 7,00,000</td>\n",
       "      <td>Manual - 2WD</td>\n",
       "      <td>White</td>\n",
       "      <td>2069</td>\n",
       "      <td>14.0</td>\n",
       "      <td>2956</td>\n",
       "      <td>0</td>\n",
       "      <td>60000</td>\n",
       "      <td>10</td>\n",
       "    </tr>\n",
       "    <tr>\n",
       "      <th>3</th>\n",
       "      <td>रू. 375</td>\n",
       "      <td>Auto - 2WD</td>\n",
       "      <td>white</td>\n",
       "      <td>2075</td>\n",
       "      <td>17.0</td>\n",
       "      <td>1200</td>\n",
       "      <td>3</td>\n",
       "      <td>2400</td>\n",
       "      <td>3</td>\n",
       "    </tr>\n",
       "    <tr>\n",
       "      <th>4</th>\n",
       "      <td>रू. 14,00,000</td>\n",
       "      <td>Manual2WD</td>\n",
       "      <td>Artic Silver</td>\n",
       "      <td>2070</td>\n",
       "      <td>12.0</td>\n",
       "      <td>2956</td>\n",
       "      <td>0</td>\n",
       "      <td>49000</td>\n",
       "      <td>10</td>\n",
       "    </tr>\n",
       "  </tbody>\n",
       "</table>\n",
       "</div>"
      ],
      "text/plain": [
       "                        Price   Transmisson        Colour Make Year  Mileage  \\\n",
       "0  रू. 24,75,000रू. 25,00,000     Manual2WD         Brown      2071     14.0   \n",
       "1                रू. 7,50,000       Auto2WD    Light blue      2061     11.0   \n",
       "2                रू. 7,00,000  Manual - 2WD         White      2069     14.0   \n",
       "3                     रू. 375    Auto - 2WD         white      2075     17.0   \n",
       "4               रू. 14,00,000     Manual2WD  Artic Silver      2070     12.0   \n",
       "\n",
       "  Engine (CC)  Fuel  Kilometer Run  Brand Name  \n",
       "0        1400     3          42000           3  \n",
       "1        1399     3          87412           3  \n",
       "2        2956     0          60000          10  \n",
       "3        1200     3           2400           3  \n",
       "4        2956     0          49000          10  "
      ]
     },
     "execution_count": 82,
     "metadata": {},
     "output_type": "execute_result"
    }
   ],
   "source": [
    "df_fuel.head()"
   ]
  },
  {
   "cell_type": "markdown",
   "metadata": {},
   "source": [
    "### Transmisson"
   ]
  },
  {
   "cell_type": "code",
   "execution_count": 83,
   "metadata": {},
   "outputs": [],
   "source": [
    "df_transmission = df_fuel.copy()"
   ]
  },
  {
   "cell_type": "code",
   "execution_count": 84,
   "metadata": {},
   "outputs": [
    {
     "data": {
      "text/plain": [
       "Manual - 2WD      242\n",
       "Manual2WD         185\n",
       "Auto2WD            53\n",
       "Manual - 4WD       49\n",
       "Auto - 2WD         45\n",
       "Manual4WD          33\n",
       "Power Steering     21\n",
       "Auto4WD            17\n",
       "Auto - 4WD         16\n",
       "PowerSteering       9\n",
       "Name: Transmisson, dtype: int64"
      ]
     },
     "execution_count": 84,
     "metadata": {},
     "output_type": "execute_result"
    }
   ],
   "source": [
    "df_transmission[\"Transmisson\"].value_counts()"
   ]
  },
  {
   "cell_type": "code",
   "execution_count": 85,
   "metadata": {},
   "outputs": [],
   "source": [
    "import re\n",
    "def cleantext(text):\n",
    "    cleanString = re.sub('\\W+','', text )\n",
    "    return cleanString"
   ]
  },
  {
   "cell_type": "code",
   "execution_count": 86,
   "metadata": {},
   "outputs": [],
   "source": [
    "df_transmission[\"Transmisson\"] = df_transmission[\"Transmisson\"].apply(str.lower)\n",
    "df_transmission[\"Transmisson\"] = df_transmission[\"Transmisson\"].apply(cleantext)"
   ]
  },
  {
   "cell_type": "code",
   "execution_count": 87,
   "metadata": {},
   "outputs": [
    {
     "data": {
      "text/plain": [
       "manual2wd        427\n",
       "auto2wd           98\n",
       "manual4wd         82\n",
       "auto4wd           33\n",
       "powersteering     30\n",
       "Name: Transmisson, dtype: int64"
      ]
     },
     "execution_count": 87,
     "metadata": {},
     "output_type": "execute_result"
    }
   ],
   "source": [
    "df_transmission[\"Transmisson\"].value_counts()"
   ]
  },
  {
   "cell_type": "code",
   "execution_count": 88,
   "metadata": {},
   "outputs": [],
   "source": [
    "map_transmission = {\"auto2wd\" : 0 , \"auto4wd\" : 1 , \"manual2wd\" : 2 , \"manual4wd\" : 3 , \"powersteering\" : 4}\n",
    "df_transmission[\"Transmisson\"] = df_transmission[\"Transmisson\"].map(map_transmission)"
   ]
  },
  {
   "cell_type": "code",
   "execution_count": 89,
   "metadata": {},
   "outputs": [
    {
     "data": {
      "text/html": [
       "<div>\n",
       "<style scoped>\n",
       "    .dataframe tbody tr th:only-of-type {\n",
       "        vertical-align: middle;\n",
       "    }\n",
       "\n",
       "    .dataframe tbody tr th {\n",
       "        vertical-align: top;\n",
       "    }\n",
       "\n",
       "    .dataframe thead th {\n",
       "        text-align: right;\n",
       "    }\n",
       "</style>\n",
       "<table border=\"1\" class=\"dataframe\">\n",
       "  <thead>\n",
       "    <tr style=\"text-align: right;\">\n",
       "      <th></th>\n",
       "      <th>Price</th>\n",
       "      <th>Transmisson</th>\n",
       "      <th>Colour</th>\n",
       "      <th>Make Year</th>\n",
       "      <th>Mileage</th>\n",
       "      <th>Engine (CC)</th>\n",
       "      <th>Fuel</th>\n",
       "      <th>Kilometer Run</th>\n",
       "      <th>Brand Name</th>\n",
       "    </tr>\n",
       "  </thead>\n",
       "  <tbody>\n",
       "    <tr>\n",
       "      <th>0</th>\n",
       "      <td>रू. 24,75,000रू. 25,00,000</td>\n",
       "      <td>2</td>\n",
       "      <td>Brown</td>\n",
       "      <td>2071</td>\n",
       "      <td>14.0</td>\n",
       "      <td>1400</td>\n",
       "      <td>3</td>\n",
       "      <td>42000</td>\n",
       "      <td>3</td>\n",
       "    </tr>\n",
       "    <tr>\n",
       "      <th>1</th>\n",
       "      <td>रू. 7,50,000</td>\n",
       "      <td>0</td>\n",
       "      <td>Light blue</td>\n",
       "      <td>2061</td>\n",
       "      <td>11.0</td>\n",
       "      <td>1399</td>\n",
       "      <td>3</td>\n",
       "      <td>87412</td>\n",
       "      <td>3</td>\n",
       "    </tr>\n",
       "    <tr>\n",
       "      <th>2</th>\n",
       "      <td>रू. 7,00,000</td>\n",
       "      <td>2</td>\n",
       "      <td>White</td>\n",
       "      <td>2069</td>\n",
       "      <td>14.0</td>\n",
       "      <td>2956</td>\n",
       "      <td>0</td>\n",
       "      <td>60000</td>\n",
       "      <td>10</td>\n",
       "    </tr>\n",
       "    <tr>\n",
       "      <th>3</th>\n",
       "      <td>रू. 375</td>\n",
       "      <td>0</td>\n",
       "      <td>white</td>\n",
       "      <td>2075</td>\n",
       "      <td>17.0</td>\n",
       "      <td>1200</td>\n",
       "      <td>3</td>\n",
       "      <td>2400</td>\n",
       "      <td>3</td>\n",
       "    </tr>\n",
       "    <tr>\n",
       "      <th>4</th>\n",
       "      <td>रू. 14,00,000</td>\n",
       "      <td>2</td>\n",
       "      <td>Artic Silver</td>\n",
       "      <td>2070</td>\n",
       "      <td>12.0</td>\n",
       "      <td>2956</td>\n",
       "      <td>0</td>\n",
       "      <td>49000</td>\n",
       "      <td>10</td>\n",
       "    </tr>\n",
       "  </tbody>\n",
       "</table>\n",
       "</div>"
      ],
      "text/plain": [
       "                        Price  Transmisson        Colour Make Year  Mileage  \\\n",
       "0  रू. 24,75,000रू. 25,00,000            2         Brown      2071     14.0   \n",
       "1                रू. 7,50,000            0    Light blue      2061     11.0   \n",
       "2                रू. 7,00,000            2         White      2069     14.0   \n",
       "3                     रू. 375            0         white      2075     17.0   \n",
       "4               रू. 14,00,000            2  Artic Silver      2070     12.0   \n",
       "\n",
       "  Engine (CC)  Fuel  Kilometer Run  Brand Name  \n",
       "0        1400     3          42000           3  \n",
       "1        1399     3          87412           3  \n",
       "2        2956     0          60000          10  \n",
       "3        1200     3           2400           3  \n",
       "4        2956     0          49000          10  "
      ]
     },
     "execution_count": 89,
     "metadata": {},
     "output_type": "execute_result"
    }
   ],
   "source": [
    "df_transmission.head()"
   ]
  },
  {
   "cell_type": "markdown",
   "metadata": {},
   "source": [
    "### Color"
   ]
  },
  {
   "cell_type": "code",
   "execution_count": 90,
   "metadata": {},
   "outputs": [],
   "source": [
    "df_color = df_transmission.copy()"
   ]
  },
  {
   "cell_type": "code",
   "execution_count": 91,
   "metadata": {},
   "outputs": [
    {
     "data": {
      "text/plain": [
       "162"
      ]
     },
     "execution_count": 91,
     "metadata": {},
     "output_type": "execute_result"
    }
   ],
   "source": [
    "df_color[\"Colour\"].nunique()"
   ]
  },
  {
   "cell_type": "code",
   "execution_count": 92,
   "metadata": {},
   "outputs": [],
   "source": [
    "df_color.drop(columns = \"Colour\",inplace = True)"
   ]
  },
  {
   "cell_type": "code",
   "execution_count": 93,
   "metadata": {},
   "outputs": [
    {
     "data": {
      "text/html": [
       "<div>\n",
       "<style scoped>\n",
       "    .dataframe tbody tr th:only-of-type {\n",
       "        vertical-align: middle;\n",
       "    }\n",
       "\n",
       "    .dataframe tbody tr th {\n",
       "        vertical-align: top;\n",
       "    }\n",
       "\n",
       "    .dataframe thead th {\n",
       "        text-align: right;\n",
       "    }\n",
       "</style>\n",
       "<table border=\"1\" class=\"dataframe\">\n",
       "  <thead>\n",
       "    <tr style=\"text-align: right;\">\n",
       "      <th></th>\n",
       "      <th>Price</th>\n",
       "      <th>Transmisson</th>\n",
       "      <th>Make Year</th>\n",
       "      <th>Mileage</th>\n",
       "      <th>Engine (CC)</th>\n",
       "      <th>Fuel</th>\n",
       "      <th>Kilometer Run</th>\n",
       "      <th>Brand Name</th>\n",
       "    </tr>\n",
       "  </thead>\n",
       "  <tbody>\n",
       "    <tr>\n",
       "      <th>0</th>\n",
       "      <td>रू. 24,75,000रू. 25,00,000</td>\n",
       "      <td>2</td>\n",
       "      <td>2071</td>\n",
       "      <td>14.0</td>\n",
       "      <td>1400</td>\n",
       "      <td>3</td>\n",
       "      <td>42000</td>\n",
       "      <td>3</td>\n",
       "    </tr>\n",
       "    <tr>\n",
       "      <th>1</th>\n",
       "      <td>रू. 7,50,000</td>\n",
       "      <td>0</td>\n",
       "      <td>2061</td>\n",
       "      <td>11.0</td>\n",
       "      <td>1399</td>\n",
       "      <td>3</td>\n",
       "      <td>87412</td>\n",
       "      <td>3</td>\n",
       "    </tr>\n",
       "    <tr>\n",
       "      <th>2</th>\n",
       "      <td>रू. 7,00,000</td>\n",
       "      <td>2</td>\n",
       "      <td>2069</td>\n",
       "      <td>14.0</td>\n",
       "      <td>2956</td>\n",
       "      <td>0</td>\n",
       "      <td>60000</td>\n",
       "      <td>10</td>\n",
       "    </tr>\n",
       "    <tr>\n",
       "      <th>3</th>\n",
       "      <td>रू. 375</td>\n",
       "      <td>0</td>\n",
       "      <td>2075</td>\n",
       "      <td>17.0</td>\n",
       "      <td>1200</td>\n",
       "      <td>3</td>\n",
       "      <td>2400</td>\n",
       "      <td>3</td>\n",
       "    </tr>\n",
       "    <tr>\n",
       "      <th>4</th>\n",
       "      <td>रू. 14,00,000</td>\n",
       "      <td>2</td>\n",
       "      <td>2070</td>\n",
       "      <td>12.0</td>\n",
       "      <td>2956</td>\n",
       "      <td>0</td>\n",
       "      <td>49000</td>\n",
       "      <td>10</td>\n",
       "    </tr>\n",
       "  </tbody>\n",
       "</table>\n",
       "</div>"
      ],
      "text/plain": [
       "                        Price  Transmisson Make Year  Mileage Engine (CC)  \\\n",
       "0  रू. 24,75,000रू. 25,00,000            2      2071     14.0        1400   \n",
       "1                रू. 7,50,000            0      2061     11.0        1399   \n",
       "2                रू. 7,00,000            2      2069     14.0        2956   \n",
       "3                     रू. 375            0      2075     17.0        1200   \n",
       "4               रू. 14,00,000            2      2070     12.0        2956   \n",
       "\n",
       "   Fuel  Kilometer Run  Brand Name  \n",
       "0     3          42000           3  \n",
       "1     3          87412           3  \n",
       "2     0          60000          10  \n",
       "3     3           2400           3  \n",
       "4     0          49000          10  "
      ]
     },
     "execution_count": 93,
     "metadata": {},
     "output_type": "execute_result"
    }
   ],
   "source": [
    "df_color.head()"
   ]
  },
  {
   "cell_type": "markdown",
   "metadata": {},
   "source": [
    "### Price"
   ]
  },
  {
   "cell_type": "code",
   "execution_count": 127,
   "metadata": {},
   "outputs": [],
   "source": [
    "\n",
    "df_price = df_color.copy()"
   ]
  },
  {
   "cell_type": "code",
   "execution_count": 128,
   "metadata": {},
   "outputs": [
    {
     "data": {
      "text/plain": [
       "286"
      ]
     },
     "execution_count": 128,
     "metadata": {},
     "output_type": "execute_result"
    }
   ],
   "source": [
    "df_price[\"Price\"].nunique()"
   ]
  },
  {
   "cell_type": "code",
   "execution_count": 129,
   "metadata": {},
   "outputs": [
    {
     "data": {
      "text/plain": [
       "'24,75,000'"
      ]
     },
     "execution_count": 129,
     "metadata": {},
     "output_type": "execute_result"
    }
   ],
   "source": [
    "test = \"रू. 24,75,000रू. 25,00,000\".split(\"रू. \")[1]\n",
    "test"
   ]
  },
  {
   "cell_type": "code",
   "execution_count": 130,
   "metadata": {},
   "outputs": [],
   "source": [
    "\n",
    "import re\n",
    "import math\n",
    "for j in range(len(df_price)):\n",
    "    try:\n",
    "        if math.isnan(df_price['Price'][j]):\n",
    "            continue\n",
    "    except:\n",
    "        pass\n",
    "    #separate each character by space\n",
    "    df_price[\"Price\"][j] = df_price[\"Price\"][j].split(\"रू.\")[1]\n",
    "    df_price['Price'][j] = \" \".join(str(df_price['Price'][j]))\n",
    "    #remove special characters\n",
    "    df_price['Price'][j] = re.sub(r'[^\\w\\s]','', str(df_price['Price'][j]))\n",
    "    try:\n",
    "        df_price['Price'][j] = int(\"\".join([str(i) for i in str.split(df_price['Price'][j]) if i.isdigit()]))\n",
    "    except:\n",
    "        # df_price['Price'][j] = int(df_price['Price'][j])\n",
    "        pass\n",
    "    \n",
    "    try:\n",
    "        df_price['Price'][j] = int(df_price['Price'][j])\n",
    "    except:\n",
    "        df_price['Price'][j] = df_price['Price'][j]\n",
    "    if df_price['Price'][j] < 1000:\n",
    "        df_price = df_price.drop(df_price.index[j])"
   ]
  },
  {
   "cell_type": "code",
   "execution_count": 131,
   "metadata": {},
   "outputs": [
    {
     "data": {
      "text/html": [
       "<div>\n",
       "<style scoped>\n",
       "    .dataframe tbody tr th:only-of-type {\n",
       "        vertical-align: middle;\n",
       "    }\n",
       "\n",
       "    .dataframe tbody tr th {\n",
       "        vertical-align: top;\n",
       "    }\n",
       "\n",
       "    .dataframe thead th {\n",
       "        text-align: right;\n",
       "    }\n",
       "</style>\n",
       "<table border=\"1\" class=\"dataframe\">\n",
       "  <thead>\n",
       "    <tr style=\"text-align: right;\">\n",
       "      <th></th>\n",
       "      <th>Price</th>\n",
       "      <th>Transmisson</th>\n",
       "      <th>Make Year</th>\n",
       "      <th>Mileage</th>\n",
       "      <th>Engine (CC)</th>\n",
       "      <th>Fuel</th>\n",
       "      <th>Kilometer Run</th>\n",
       "      <th>Brand Name</th>\n",
       "    </tr>\n",
       "  </thead>\n",
       "  <tbody>\n",
       "    <tr>\n",
       "      <th>0</th>\n",
       "      <td>2475000</td>\n",
       "      <td>2</td>\n",
       "      <td>2071</td>\n",
       "      <td>14.0</td>\n",
       "      <td>1400</td>\n",
       "      <td>3</td>\n",
       "      <td>42000</td>\n",
       "      <td>3</td>\n",
       "    </tr>\n",
       "    <tr>\n",
       "      <th>1</th>\n",
       "      <td>750000</td>\n",
       "      <td>0</td>\n",
       "      <td>2061</td>\n",
       "      <td>11.0</td>\n",
       "      <td>1399</td>\n",
       "      <td>3</td>\n",
       "      <td>87412</td>\n",
       "      <td>3</td>\n",
       "    </tr>\n",
       "    <tr>\n",
       "      <th>2</th>\n",
       "      <td>700000</td>\n",
       "      <td>2</td>\n",
       "      <td>2069</td>\n",
       "      <td>14.0</td>\n",
       "      <td>2956</td>\n",
       "      <td>0</td>\n",
       "      <td>60000</td>\n",
       "      <td>10</td>\n",
       "    </tr>\n",
       "    <tr>\n",
       "      <th>4</th>\n",
       "      <td>1400000</td>\n",
       "      <td>2</td>\n",
       "      <td>2070</td>\n",
       "      <td>12.0</td>\n",
       "      <td>2956</td>\n",
       "      <td>0</td>\n",
       "      <td>49000</td>\n",
       "      <td>10</td>\n",
       "    </tr>\n",
       "    <tr>\n",
       "      <th>5</th>\n",
       "      <td>700000</td>\n",
       "      <td>0</td>\n",
       "      <td>2075</td>\n",
       "      <td>15.0</td>\n",
       "      <td>889</td>\n",
       "      <td>3</td>\n",
       "      <td>80000</td>\n",
       "      <td>10</td>\n",
       "    </tr>\n",
       "    <tr>\n",
       "      <th>...</th>\n",
       "      <td>...</td>\n",
       "      <td>...</td>\n",
       "      <td>...</td>\n",
       "      <td>...</td>\n",
       "      <td>...</td>\n",
       "      <td>...</td>\n",
       "      <td>...</td>\n",
       "      <td>...</td>\n",
       "    </tr>\n",
       "    <tr>\n",
       "      <th>665</th>\n",
       "      <td>2450000</td>\n",
       "      <td>2</td>\n",
       "      <td>2076</td>\n",
       "      <td>20.0</td>\n",
       "      <td>1200</td>\n",
       "      <td>3</td>\n",
       "      <td>26500</td>\n",
       "      <td>3</td>\n",
       "    </tr>\n",
       "    <tr>\n",
       "      <th>666</th>\n",
       "      <td>1925000</td>\n",
       "      <td>2</td>\n",
       "      <td>2071</td>\n",
       "      <td>15.0</td>\n",
       "      <td>1200</td>\n",
       "      <td>3</td>\n",
       "      <td>60000</td>\n",
       "      <td>3</td>\n",
       "    </tr>\n",
       "    <tr>\n",
       "      <th>667</th>\n",
       "      <td>1950000</td>\n",
       "      <td>2</td>\n",
       "      <td>2070</td>\n",
       "      <td>12.0</td>\n",
       "      <td>1200</td>\n",
       "      <td>3</td>\n",
       "      <td>60000</td>\n",
       "      <td>9</td>\n",
       "    </tr>\n",
       "    <tr>\n",
       "      <th>668</th>\n",
       "      <td>1750000</td>\n",
       "      <td>2</td>\n",
       "      <td>2070</td>\n",
       "      <td>14.0</td>\n",
       "      <td>1200</td>\n",
       "      <td>3</td>\n",
       "      <td>93000</td>\n",
       "      <td>3</td>\n",
       "    </tr>\n",
       "    <tr>\n",
       "      <th>669</th>\n",
       "      <td>2450000</td>\n",
       "      <td>1</td>\n",
       "      <td>2063</td>\n",
       "      <td>13.0</td>\n",
       "      <td>2200</td>\n",
       "      <td>0</td>\n",
       "      <td>60000</td>\n",
       "      <td>7</td>\n",
       "    </tr>\n",
       "  </tbody>\n",
       "</table>\n",
       "<p>669 rows × 8 columns</p>\n",
       "</div>"
      ],
      "text/plain": [
       "       Price  Transmisson Make Year  Mileage Engine (CC)  Fuel  Kilometer Run  \\\n",
       "0    2475000            2      2071     14.0        1400     3          42000   \n",
       "1     750000            0      2061     11.0        1399     3          87412   \n",
       "2     700000            2      2069     14.0        2956     0          60000   \n",
       "4    1400000            2      2070     12.0        2956     0          49000   \n",
       "5     700000            0      2075     15.0         889     3          80000   \n",
       "..       ...          ...       ...      ...         ...   ...            ...   \n",
       "665  2450000            2      2076     20.0        1200     3          26500   \n",
       "666  1925000            2      2071     15.0        1200     3          60000   \n",
       "667  1950000            2      2070     12.0        1200     3          60000   \n",
       "668  1750000            2      2070     14.0        1200     3          93000   \n",
       "669  2450000            1      2063     13.0        2200     0          60000   \n",
       "\n",
       "     Brand Name  \n",
       "0             3  \n",
       "1             3  \n",
       "2            10  \n",
       "4            10  \n",
       "5            10  \n",
       "..          ...  \n",
       "665           3  \n",
       "666           3  \n",
       "667           9  \n",
       "668           3  \n",
       "669           7  \n",
       "\n",
       "[669 rows x 8 columns]"
      ]
     },
     "execution_count": 131,
     "metadata": {},
     "output_type": "execute_result"
    }
   ],
   "source": [
    "df_price"
   ]
  },
  {
   "cell_type": "code",
   "execution_count": 132,
   "metadata": {},
   "outputs": [
    {
     "data": {
      "text/plain": [
       "278"
      ]
     },
     "execution_count": 132,
     "metadata": {},
     "output_type": "execute_result"
    }
   ],
   "source": [
    "df_price[\"Price\"].nunique()"
   ]
  },
  {
   "cell_type": "code",
   "execution_count": 133,
   "metadata": {},
   "outputs": [
    {
     "data": {
      "text/plain": [
       "<AxesSubplot:>"
      ]
     },
     "execution_count": 133,
     "metadata": {},
     "output_type": "execute_result"
    },
    {
     "data": {
      "image/png": "[encoded data removed]",
      "text/plain": [
       "<Figure size 432x288 with 1 Axes>"
      ]
     },
     "metadata": {
      "needs_background": "light"
     },
     "output_type": "display_data"
    }
   ],
   "source": [
    "df_price[\"Price\"].value_counts().sort_index(ascending=True).plot(kind=\"bar\")"
   ]
  },
  {
   "cell_type": "code",
   "execution_count": 134,
   "metadata": {},
   "outputs": [],
   "source": [
    "df_final = df_price.copy()"
   ]
  },
  {
   "cell_type": "code",
   "execution_count": 135,
   "metadata": {},
   "outputs": [],
   "source": [
    "df_final[\"Price\"] = df_final[\"Price\"].astype(int)\n",
    "df_final[\"Make Year\"] = df_final[\"Make Year\"].astype(int)\n",
    "df_final[\"Engine (CC)\"] = df_final[\"Engine (CC)\"].astype(int)"
   ]
  },
  {
   "attachments": {},
   "cell_type": "markdown",
   "metadata": {},
   "source": [
    "### Data Visualization"
   ]
  },
  {
   "cell_type": "code",
   "execution_count": 159,
   "metadata": {},
   "outputs": [
    {
     "data": {
      "text/plain": [
       "<seaborn.axisgrid.PairGrid at 0x7f80cf489190>"
      ]
     },
     "execution_count": 159,
     "metadata": {},
     "output_type": "execute_result"
    },
    {
     "data": {
      "image/png": "[encoded data removed]",
      "text/plain": [
       "<Figure size 1440x1440 with 72 Axes>"
      ]
     },
     "metadata": {
      "needs_background": "light"
     },
     "output_type": "display_data"
    }
   ],
   "source": [
    "sns.pairplot(data = df_final, diag_kind='kde')\n"
   ]
  },
  {
   "cell_type": "code",
   "execution_count": 163,
   "metadata": {},
   "outputs": [
    {
     "data": {
      "image/png": "[encoded data removed]",
      "text/plain": [
       "<Figure size 1296x576 with 2 Axes>"
      ]
     },
     "metadata": {
      "needs_background": "light"
     },
     "output_type": "display_data"
    },
    {
     "data": {
      "text/plain": [
       "<Figure size 720x360 with 0 Axes>"
      ]
     },
     "metadata": {},
     "output_type": "display_data"
    },
    {
     "data": {
      "image/png": "[encoded data removed]",
      "text/plain": [
       "<Figure size 1296x576 with 2 Axes>"
      ]
     },
     "metadata": {
      "needs_background": "light"
     },
     "output_type": "display_data"
    },
    {
     "data": {
      "text/plain": [
       "<Figure size 720x360 with 0 Axes>"
      ]
     },
     "metadata": {},
     "output_type": "display_data"
    },
    {
     "data": {
      "image/png": "[encoded data removed]",
      "text/plain": [
       "<Figure size 1296x576 with 2 Axes>"
      ]
     },
     "metadata": {
      "needs_background": "light"
     },
     "output_type": "display_data"
    },
    {
     "data": {
      "text/plain": [
       "<Figure size 720x360 with 0 Axes>"
      ]
     },
     "metadata": {},
     "output_type": "display_data"
    },
    {
     "data": {
      "image/png": "[encoded data removed]",
      "text/plain": [
       "<Figure size 1296x576 with 2 Axes>"
      ]
     },
     "metadata": {
      "needs_background": "light"
     },
     "output_type": "display_data"
    },
    {
     "data": {
      "text/plain": [
       "<Figure size 720x360 with 0 Axes>"
      ]
     },
     "metadata": {},
     "output_type": "display_data"
    },
    {
     "data": {
      "image/png": "[encoded data removed]",
      "text/plain": [
       "<Figure size 1296x576 with 2 Axes>"
      ]
     },
     "metadata": {
      "needs_background": "light"
     },
     "output_type": "display_data"
    },
    {
     "data": {
      "text/plain": [
       "<Figure size 720x360 with 0 Axes>"
      ]
     },
     "metadata": {},
     "output_type": "display_data"
    },
    {
     "data": {
      "image/png": "[encoded data removed]",
      "text/plain": [
       "<Figure size 1296x576 with 2 Axes>"
      ]
     },
     "metadata": {
      "needs_background": "light"
     },
     "output_type": "display_data"
    },
    {
     "data": {
      "text/plain": [
       "<Figure size 720x360 with 0 Axes>"
      ]
     },
     "metadata": {},
     "output_type": "display_data"
    },
    {
     "data": {
      "image/png": "[encoded data removed]",
      "text/plain": [
       "<Figure size 1296x576 with 2 Axes>"
      ]
     },
     "metadata": {
      "needs_background": "light"
     },
     "output_type": "display_data"
    },
    {
     "data": {
      "text/plain": [
       "<Figure size 720x360 with 0 Axes>"
      ]
     },
     "metadata": {},
     "output_type": "display_data"
    },
    {
     "data": {
      "image/png": "[encoded data removed]",
      "text/plain": [
       "<Figure size 1296x576 with 2 Axes>"
      ]
     },
     "metadata": {
      "needs_background": "light"
     },
     "output_type": "display_data"
    },
    {
     "data": {
      "text/plain": [
       "<Figure size 720x360 with 0 Axes>"
      ]
     },
     "metadata": {},
     "output_type": "display_data"
    }
   ],
   "source": [
    "for i in df_final.columns:\n",
    "   f, ax = plt.subplots(1, 2, figsize=(18, 8))\n",
    "   df_final[i].value_counts().plot.bar(\n",
    "    color=['#CD7F32', '#FFDF00'], ax=ax[0])\n",
    "   ax[0].set_title(str(i))\n",
    "   plt.figure(figsize=(10,5))\n",
    "   sns.distplot(df_final[i],bins=100,kde=False,ax=ax[1])\n",
    "   # sns.countplot(i, hue=i, data=df_final,ax=ax[2])\n",
    "   # ax[2].set_title(str(i))\n",
    "   plt.show()"
   ]
  },
  {
   "attachments": {},
   "cell_type": "markdown",
   "metadata": {},
   "source": [
    "### Linear Regression"
   ]
  },
  {
   "cell_type": "code",
   "execution_count": 137,
   "metadata": {},
   "outputs": [],
   "source": [
    "from sklearn.linear_model import LinearRegression\n",
    "from sklearn.model_selection import train_test_split"
   ]
  },
  {
   "cell_type": "code",
   "execution_count": 138,
   "metadata": {},
   "outputs": [
    {
     "data": {
      "text/html": [
       "<div>\n",
       "<style scoped>\n",
       "    .dataframe tbody tr th:only-of-type {\n",
       "        vertical-align: middle;\n",
       "    }\n",
       "\n",
       "    .dataframe tbody tr th {\n",
       "        vertical-align: top;\n",
       "    }\n",
       "\n",
       "    .dataframe thead th {\n",
       "        text-align: right;\n",
       "    }\n",
       "</style>\n",
       "<table border=\"1\" class=\"dataframe\">\n",
       "  <thead>\n",
       "    <tr style=\"text-align: right;\">\n",
       "      <th></th>\n",
       "      <th>Price</th>\n",
       "      <th>Transmisson</th>\n",
       "      <th>Make Year</th>\n",
       "      <th>Mileage</th>\n",
       "      <th>Engine (CC)</th>\n",
       "      <th>Fuel</th>\n",
       "      <th>Kilometer Run</th>\n",
       "      <th>Brand Name</th>\n",
       "    </tr>\n",
       "  </thead>\n",
       "  <tbody>\n",
       "    <tr>\n",
       "      <th>Price</th>\n",
       "      <td>1.000000</td>\n",
       "      <td>-0.005629</td>\n",
       "      <td>0.044427</td>\n",
       "      <td>0.009300</td>\n",
       "      <td>0.255313</td>\n",
       "      <td>-0.159607</td>\n",
       "      <td>-0.079356</td>\n",
       "      <td>0.073069</td>\n",
       "    </tr>\n",
       "    <tr>\n",
       "      <th>Transmisson</th>\n",
       "      <td>-0.005629</td>\n",
       "      <td>1.000000</td>\n",
       "      <td>0.037456</td>\n",
       "      <td>-0.040299</td>\n",
       "      <td>0.100591</td>\n",
       "      <td>-0.124304</td>\n",
       "      <td>0.028287</td>\n",
       "      <td>-0.035365</td>\n",
       "    </tr>\n",
       "    <tr>\n",
       "      <th>Make Year</th>\n",
       "      <td>0.044427</td>\n",
       "      <td>0.037456</td>\n",
       "      <td>1.000000</td>\n",
       "      <td>0.017283</td>\n",
       "      <td>0.036906</td>\n",
       "      <td>0.012100</td>\n",
       "      <td>-0.000471</td>\n",
       "      <td>-0.019381</td>\n",
       "    </tr>\n",
       "    <tr>\n",
       "      <th>Mileage</th>\n",
       "      <td>0.009300</td>\n",
       "      <td>-0.040299</td>\n",
       "      <td>0.017283</td>\n",
       "      <td>1.000000</td>\n",
       "      <td>-0.293320</td>\n",
       "      <td>0.145167</td>\n",
       "      <td>-0.163706</td>\n",
       "      <td>-0.007403</td>\n",
       "    </tr>\n",
       "    <tr>\n",
       "      <th>Engine (CC)</th>\n",
       "      <td>0.255313</td>\n",
       "      <td>0.100591</td>\n",
       "      <td>0.036906</td>\n",
       "      <td>-0.293320</td>\n",
       "      <td>1.000000</td>\n",
       "      <td>-0.484542</td>\n",
       "      <td>0.089260</td>\n",
       "      <td>0.188084</td>\n",
       "    </tr>\n",
       "    <tr>\n",
       "      <th>Fuel</th>\n",
       "      <td>-0.159607</td>\n",
       "      <td>-0.124304</td>\n",
       "      <td>0.012100</td>\n",
       "      <td>0.145167</td>\n",
       "      <td>-0.484542</td>\n",
       "      <td>1.000000</td>\n",
       "      <td>-0.104512</td>\n",
       "      <td>-0.246045</td>\n",
       "    </tr>\n",
       "    <tr>\n",
       "      <th>Kilometer Run</th>\n",
       "      <td>-0.079356</td>\n",
       "      <td>0.028287</td>\n",
       "      <td>-0.000471</td>\n",
       "      <td>-0.163706</td>\n",
       "      <td>0.089260</td>\n",
       "      <td>-0.104512</td>\n",
       "      <td>1.000000</td>\n",
       "      <td>0.017579</td>\n",
       "    </tr>\n",
       "    <tr>\n",
       "      <th>Brand Name</th>\n",
       "      <td>0.073069</td>\n",
       "      <td>-0.035365</td>\n",
       "      <td>-0.019381</td>\n",
       "      <td>-0.007403</td>\n",
       "      <td>0.188084</td>\n",
       "      <td>-0.246045</td>\n",
       "      <td>0.017579</td>\n",
       "      <td>1.000000</td>\n",
       "    </tr>\n",
       "  </tbody>\n",
       "</table>\n",
       "</div>"
      ],
      "text/plain": [
       "                  Price  Transmisson  Make Year   Mileage  Engine (CC)  \\\n",
       "Price          1.000000    -0.005629   0.044427  0.009300     0.255313   \n",
       "Transmisson   -0.005629     1.000000   0.037456 -0.040299     0.100591   \n",
       "Make Year      0.044427     0.037456   1.000000  0.017283     0.036906   \n",
       "Mileage        0.009300    -0.040299   0.017283  1.000000    -0.293320   \n",
       "Engine (CC)    0.255313     0.100591   0.036906 -0.293320     1.000000   \n",
       "Fuel          -0.159607    -0.124304   0.012100  0.145167    -0.484542   \n",
       "Kilometer Run -0.079356     0.028287  -0.000471 -0.163706     0.089260   \n",
       "Brand Name     0.073069    -0.035365  -0.019381 -0.007403     0.188084   \n",
       "\n",
       "                   Fuel  Kilometer Run  Brand Name  \n",
       "Price         -0.159607      -0.079356    0.073069  \n",
       "Transmisson   -0.124304       0.028287   -0.035365  \n",
       "Make Year      0.012100      -0.000471   -0.019381  \n",
       "Mileage        0.145167      -0.163706   -0.007403  \n",
       "Engine (CC)   -0.484542       0.089260    0.188084  \n",
       "Fuel           1.000000      -0.104512   -0.246045  \n",
       "Kilometer Run -0.104512       1.000000    0.017579  \n",
       "Brand Name    -0.246045       0.017579    1.000000  "
      ]
     },
     "execution_count": 138,
     "metadata": {},
     "output_type": "execute_result"
    }
   ],
   "source": [
    "df_final.corr()"
   ]
  },
  {
   "cell_type": "code",
   "execution_count": 139,
   "metadata": {},
   "outputs": [],
   "source": [
    "# X = df_final.loc[:,\"\"].values\n",
    "# y = df_final.loc[:,\"Price\"].values\n",
    "\n",
    "X = df_final.drop(['Price'],axis = 1)\n",
    "y = df_final[\"Price\"]"
   ]
  },
  {
   "cell_type": "code",
   "execution_count": 140,
   "metadata": {},
   "outputs": [
    {
     "name": "stdout",
     "output_type": "stream",
     "text": [
      "***** Independent Value Shape *****\n",
      "(669, 7)\n",
      "***** Dependent Value Shape *****\n",
      "(669,)\n"
     ]
    }
   ],
   "source": [
    "# print(\"***** Independent Values(x) *****\")\n",
    "# print(X)\n",
    "print(\"***** Independent Value Shape *****\")\n",
    "print(X.shape)\n",
    "# print(\"***** Dependent Values(y) *****\")\n",
    "# print(y)\n",
    "print(\"***** Dependent Value Shape *****\")\n",
    "print(y.shape)"
   ]
  },
  {
   "cell_type": "code",
   "execution_count": 141,
   "metadata": {},
   "outputs": [],
   "source": [
    "X_train,X_test,y_train,y_test = train_test_split(X,y,test_size = 0.2,random_state = 0)"
   ]
  },
  {
   "cell_type": "code",
   "execution_count": 142,
   "metadata": {},
   "outputs": [],
   "source": [
    "corr = X_train.corrwith(y_train)\n",
    "top_four = np.abs(corr).sort_values(ascending=False).iloc[0:4].index"
   ]
  },
  {
   "cell_type": "code",
   "execution_count": 143,
   "metadata": {},
   "outputs": [
    {
     "data": {
      "text/plain": [
       "Index(['Engine (CC)', 'Fuel', 'Brand Name', 'Kilometer Run'], dtype='object')"
      ]
     },
     "execution_count": 143,
     "metadata": {},
     "output_type": "execute_result"
    }
   ],
   "source": [
    "top_four"
   ]
  },
  {
   "cell_type": "code",
   "execution_count": 144,
   "metadata": {},
   "outputs": [],
   "source": [
    "linear_reg = LinearRegression()"
   ]
  },
  {
   "cell_type": "code",
   "execution_count": 145,
   "metadata": {},
   "outputs": [
    {
     "data": {
      "text/plain": [
       "LinearRegression()"
      ]
     },
     "execution_count": 145,
     "metadata": {},
     "output_type": "execute_result"
    }
   ],
   "source": [
    "linear_reg.fit(X_train[top_four],y_train)"
   ]
  },
  {
   "cell_type": "code",
   "execution_count": 146,
   "metadata": {},
   "outputs": [],
   "source": [
    "y_pred = linear_reg.predict(X_test[top_four])"
   ]
  },
  {
   "cell_type": "code",
   "execution_count": 147,
   "metadata": {},
   "outputs": [
    {
     "name": "stdout",
     "output_type": "stream",
     "text": [
      "Mean absolute error = 1009340.52\n",
      "Mean squared error = 1937351429045.72\n",
      "Median absolute error = 714650.43\n",
      "Explain variance score = -0.01\n",
      "R2 score = -0.04\n"
     ]
    }
   ],
   "source": [
    "import sklearn.metrics as sm\n",
    "print(\"Mean absolute error =\", round(sm.mean_absolute_error(y_test, y_pred), 2)) \n",
    "print(\"Mean squared error =\", round(sm.mean_squared_error(y_test, y_pred), 2)) \n",
    "print(\"Median absolute error =\", round(sm.median_absolute_error(y_test, y_pred), 2)) \n",
    "print(\"Explain variance score =\", round(sm.explained_variance_score(y_test, y_pred), 2)) \n",
    "print(\"R2 score =\", round(sm.r2_score(y_test, y_pred), 2))"
   ]
  },
  {
   "cell_type": "code",
   "execution_count": 148,
   "metadata": {},
   "outputs": [
    {
     "name": "stdout",
     "output_type": "stream",
     "text": [
      "Engine (CC)\n"
     ]
    },
    {
     "data": {
      "image/png": "[encoded data removed]",
      "text/plain": [
       "<Figure size 432x288 with 1 Axes>"
      ]
     },
     "metadata": {
      "needs_background": "light"
     },
     "output_type": "display_data"
    },
    {
     "name": "stdout",
     "output_type": "stream",
     "text": [
      "Fuel\n"
     ]
    },
    {
     "data": {
      "image/png": "[encoded data removed]",
      "text/plain": [
       "<Figure size 432x288 with 1 Axes>"
      ]
     },
     "metadata": {
      "needs_background": "light"
     },
     "output_type": "display_data"
    },
    {
     "name": "stdout",
     "output_type": "stream",
     "text": [
      "Brand Name\n"
     ]
    },
    {
     "data": {
      "image/png": "[encoded data removed]",
      "text/plain": [
       "<Figure size 432x288 with 1 Axes>"
      ]
     },
     "metadata": {
      "needs_background": "light"
     },
     "output_type": "display_data"
    },
    {
     "name": "stdout",
     "output_type": "stream",
     "text": [
      "Kilometer Run\n"
     ]
    },
    {
     "data": {
      "image/png": "[encoded data removed]",
      "text/plain": [
       "<Figure size 432x288 with 1 Axes>"
      ]
     },
     "metadata": {
      "needs_background": "light"
     },
     "output_type": "display_data"
    }
   ],
   "source": [
    "for index in top_four:\n",
    "    print(index)\n",
    "    plt.scatter(X_train[index], y_train,color='g') \n",
    "    plt.plot(X_test[index], y_pred,color='k') \n",
    "    plt.show()"
   ]
  },
  {
   "cell_type": "markdown",
   "metadata": {},
   "source": [
    "### SVC"
   ]
  },
  {
   "cell_type": "code",
   "execution_count": 149,
   "metadata": {},
   "outputs": [],
   "source": [
    "from sklearn.svm import SVR"
   ]
  },
  {
   "cell_type": "code",
   "execution_count": 150,
   "metadata": {},
   "outputs": [],
   "source": [
    "svr = SVR()"
   ]
  },
  {
   "cell_type": "code",
   "execution_count": 151,
   "metadata": {},
   "outputs": [
    {
     "data": {
      "text/plain": [
       "SVR()"
      ]
     },
     "execution_count": 151,
     "metadata": {},
     "output_type": "execute_result"
    }
   ],
   "source": [
    "svr.fit(X_train[top_four],y_train)"
   ]
  },
  {
   "cell_type": "code",
   "execution_count": 152,
   "metadata": {},
   "outputs": [],
   "source": [
    "y_pred = svr.predict(X_test[top_four])"
   ]
  },
  {
   "cell_type": "code",
   "execution_count": 153,
   "metadata": {},
   "outputs": [
    {
     "name": "stdout",
     "output_type": "stream",
     "text": [
      "Mean absolute error = 907147.68\n",
      "Mean squared error = 1978128313791.92\n",
      "Median absolute error = 612498.34\n",
      "Explain variance score = 0.0\n",
      "R2 score = -0.06\n"
     ]
    }
   ],
   "source": [
    "print(\"Mean absolute error =\", round(sm.mean_absolute_error(y_test, y_pred), 2)) \n",
    "print(\"Mean squared error =\", round(sm.mean_squared_error(y_test, y_pred), 2)) \n",
    "print(\"Median absolute error =\", round(sm.median_absolute_error(y_test, y_pred), 2)) \n",
    "print(\"Explain variance score =\", round(sm.explained_variance_score(y_test, y_pred), 2)) \n",
    "print(\"R2 score =\", round(sm.r2_score(y_test, y_pred), 2))"
   ]
  }
 ],
 "metadata": {
  "kernelspec": {
   "display_name": "base",
   "language": "python",
   "name": "python3"
  },
  "language_info": {
   "codemirror_mode": {
    "name": "ipython",
    "version": 3
   },
   "file_extension": ".py",
   "mimetype": "text/x-python",
   "name": "python",
   "nbconvert_exporter": "python",
   "pygments_lexer": "ipython3",
   "version": "3.9.12"
  },
  "orig_nbformat": 4
 },
 "nbformat": 4,
 "nbformat_minor": 2
}
