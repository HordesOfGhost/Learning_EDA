{
 "cells": [
  {
   "cell_type": "markdown",
   "metadata": {},
   "source": [
    "# Training"
   ]
  },
  {
   "cell_type": "markdown",
   "metadata": {},
   "source": [
    "## Importing Libraries"
   ]
  },
  {
   "cell_type": "code",
   "execution_count": 119,
   "metadata": {},
   "outputs": [],
   "source": [
    "import pandas as pd \n",
    "import numpy as np\n",
    "\n",
    "from sklearn.preprocessing import LabelEncoder\n",
    "\n",
    "from sklearn.svm import SVC\n",
    "from sklearn.tree import DecisionTreeClassifier\n",
    "from sklearn.ensemble import RandomForestClassifier\n",
    "from sklearn.naive_bayes import MultinomialNB\n",
    "from sklearn.neighbors import KNeighborsClassifier\n",
    "\n",
    "from sklearn.model_selection import train_test_split\n",
    "from sklearn.metrics import accuracy_score,classification_report,confusion_matrix\n",
    "\n",
    "#Ignores warning messages.\n",
    "import warnings\n",
    "warnings.filterwarnings('ignore')\n",
    "\n",
    "# #Prints all statements\n",
    "from IPython.core.interactiveshell import InteractiveShell\n",
    "InteractiveShell.ast_node_interactivity = \"all\"\n",
    "import itertools\n",
    "\n",
    "import seaborn as sns\n",
    "import matplotlib.pyplot as plt"
   ]
  },
  {
   "cell_type": "code",
   "execution_count": 120,
   "metadata": {},
   "outputs": [],
   "source": [
    "le = LabelEncoder()"
   ]
  },
  {
   "cell_type": "code",
   "execution_count": 121,
   "metadata": {},
   "outputs": [],
   "source": [
    "unique_SSN = []\n",
    "\n",
    "# open file and read the content in a list\n",
    "with open(r'list_files//unique_SSN.txt', 'r') as fp:\n",
    "    for line in fp:\n",
    "        # remove linebreak from a current name\n",
    "        # linebreak is the last character of each line\n",
    "        x = line[:-1]\n",
    "\n",
    "        # add current item to the list\n",
    "        unique_SSN.append(int(x))"
   ]
  },
  {
   "cell_type": "markdown",
   "metadata": {},
   "source": [
    "## Import Dataset"
   ]
  },
  {
   "cell_type": "code",
   "execution_count": 122,
   "metadata": {},
   "outputs": [],
   "source": [
    "df = pd.read_csv('checkpoints//df_final.csv')"
   ]
  },
  {
   "cell_type": "code",
   "execution_count": 123,
   "metadata": {},
   "outputs": [
    {
     "name": "stdout",
     "output_type": "stream",
     "text": [
      "Length of DataFrame : 100000\n",
      "DataFrame Columns : ['Month', 'Age', 'SSN', 'Occupation', 'Annual_Income', 'Monthly_Inhand_Salary', 'Num_Bank_Accounts', 'Num_Credit_Card', 'Interest_Rate', 'Num_of_Loan', 'Type_of_Loan', 'Delay_from_due_date', 'Num_of_Delayed_Payment', 'Changed_Credit_Limit', 'Num_Credit_Inquiries', 'Credit_Mix', 'Outstanding_Debt', 'Credit_Utilization_Ratio', 'Credit_History_Age', 'Payment_of_Min_Amount', 'Total_EMI_per_month', 'Amount_invested_monthly', 'Payment_Behaviour', 'Monthly_Balance', 'Credit_Score']\n"
     ]
    }
   ],
   "source": [
    "print(f'Length of DataFrame : {len(df)}')\n",
    "print(f'DataFrame Columns : {list(df.columns)}')"
   ]
  },
  {
   "cell_type": "code",
   "execution_count": 124,
   "metadata": {},
   "outputs": [
    {
     "data": {
      "text/html": [
       "<div>\n",
       "<style scoped>\n",
       "    .dataframe tbody tr th:only-of-type {\n",
       "        vertical-align: middle;\n",
       "    }\n",
       "\n",
       "    .dataframe tbody tr th {\n",
       "        vertical-align: top;\n",
       "    }\n",
       "\n",
       "    .dataframe thead th {\n",
       "        text-align: right;\n",
       "    }\n",
       "</style>\n",
       "<table border=\"1\" class=\"dataframe\">\n",
       "  <thead>\n",
       "    <tr style=\"text-align: right;\">\n",
       "      <th></th>\n",
       "      <th>Month</th>\n",
       "      <th>Age</th>\n",
       "      <th>SSN</th>\n",
       "      <th>Occupation</th>\n",
       "      <th>Annual_Income</th>\n",
       "      <th>Monthly_Inhand_Salary</th>\n",
       "      <th>Num_Bank_Accounts</th>\n",
       "      <th>Num_Credit_Card</th>\n",
       "      <th>Interest_Rate</th>\n",
       "      <th>Num_of_Loan</th>\n",
       "      <th>...</th>\n",
       "      <th>Credit_Mix</th>\n",
       "      <th>Outstanding_Debt</th>\n",
       "      <th>Credit_Utilization_Ratio</th>\n",
       "      <th>Credit_History_Age</th>\n",
       "      <th>Payment_of_Min_Amount</th>\n",
       "      <th>Total_EMI_per_month</th>\n",
       "      <th>Amount_invested_monthly</th>\n",
       "      <th>Payment_Behaviour</th>\n",
       "      <th>Monthly_Balance</th>\n",
       "      <th>Credit_Score</th>\n",
       "    </tr>\n",
       "  </thead>\n",
       "  <tbody>\n",
       "    <tr>\n",
       "      <th>0</th>\n",
       "      <td>January</td>\n",
       "      <td>23</td>\n",
       "      <td>821000265</td>\n",
       "      <td>Scientist</td>\n",
       "      <td>19114.12</td>\n",
       "      <td>1824.843333</td>\n",
       "      <td>3</td>\n",
       "      <td>4</td>\n",
       "      <td>3</td>\n",
       "      <td>4</td>\n",
       "      <td>...</td>\n",
       "      <td>Good</td>\n",
       "      <td>809.98</td>\n",
       "      <td>26.822620</td>\n",
       "      <td>265</td>\n",
       "      <td>No</td>\n",
       "      <td>49.574949</td>\n",
       "      <td>80.415295</td>\n",
       "      <td>High_spent_Small_value_payments</td>\n",
       "      <td>312.494089</td>\n",
       "      <td>Good</td>\n",
       "    </tr>\n",
       "    <tr>\n",
       "      <th>1</th>\n",
       "      <td>February</td>\n",
       "      <td>23</td>\n",
       "      <td>821000265</td>\n",
       "      <td>Scientist</td>\n",
       "      <td>19114.12</td>\n",
       "      <td>1824.843333</td>\n",
       "      <td>3</td>\n",
       "      <td>4</td>\n",
       "      <td>3</td>\n",
       "      <td>4</td>\n",
       "      <td>...</td>\n",
       "      <td>Good</td>\n",
       "      <td>809.98</td>\n",
       "      <td>31.944960</td>\n",
       "      <td>266</td>\n",
       "      <td>No</td>\n",
       "      <td>49.574949</td>\n",
       "      <td>118.280222</td>\n",
       "      <td>Low_spent_Large_value_payments</td>\n",
       "      <td>284.629162</td>\n",
       "      <td>Good</td>\n",
       "    </tr>\n",
       "    <tr>\n",
       "      <th>2</th>\n",
       "      <td>March</td>\n",
       "      <td>23</td>\n",
       "      <td>821000265</td>\n",
       "      <td>Scientist</td>\n",
       "      <td>19114.12</td>\n",
       "      <td>1824.843333</td>\n",
       "      <td>3</td>\n",
       "      <td>4</td>\n",
       "      <td>3</td>\n",
       "      <td>4</td>\n",
       "      <td>...</td>\n",
       "      <td>Good</td>\n",
       "      <td>809.98</td>\n",
       "      <td>28.609352</td>\n",
       "      <td>267</td>\n",
       "      <td>No</td>\n",
       "      <td>49.574949</td>\n",
       "      <td>81.699521</td>\n",
       "      <td>Low_spent_Medium_value_payments</td>\n",
       "      <td>331.209863</td>\n",
       "      <td>Good</td>\n",
       "    </tr>\n",
       "    <tr>\n",
       "      <th>3</th>\n",
       "      <td>April</td>\n",
       "      <td>23</td>\n",
       "      <td>821000265</td>\n",
       "      <td>Scientist</td>\n",
       "      <td>19114.12</td>\n",
       "      <td>1824.843333</td>\n",
       "      <td>3</td>\n",
       "      <td>4</td>\n",
       "      <td>3</td>\n",
       "      <td>4</td>\n",
       "      <td>...</td>\n",
       "      <td>Good</td>\n",
       "      <td>809.98</td>\n",
       "      <td>31.377862</td>\n",
       "      <td>268</td>\n",
       "      <td>No</td>\n",
       "      <td>49.574949</td>\n",
       "      <td>199.458074</td>\n",
       "      <td>Low_spent_Small_value_payments</td>\n",
       "      <td>223.451310</td>\n",
       "      <td>Good</td>\n",
       "    </tr>\n",
       "    <tr>\n",
       "      <th>4</th>\n",
       "      <td>May</td>\n",
       "      <td>23</td>\n",
       "      <td>821000265</td>\n",
       "      <td>Scientist</td>\n",
       "      <td>19114.12</td>\n",
       "      <td>1824.843333</td>\n",
       "      <td>3</td>\n",
       "      <td>4</td>\n",
       "      <td>3</td>\n",
       "      <td>4</td>\n",
       "      <td>...</td>\n",
       "      <td>Good</td>\n",
       "      <td>809.98</td>\n",
       "      <td>24.797347</td>\n",
       "      <td>269</td>\n",
       "      <td>No</td>\n",
       "      <td>49.574949</td>\n",
       "      <td>41.420153</td>\n",
       "      <td>High_spent_Medium_value_payments</td>\n",
       "      <td>341.489231</td>\n",
       "      <td>Good</td>\n",
       "    </tr>\n",
       "  </tbody>\n",
       "</table>\n",
       "<p>5 rows × 25 columns</p>\n",
       "</div>"
      ],
      "text/plain": [
       "      Month  Age        SSN Occupation  Annual_Income  Monthly_Inhand_Salary  \\\n",
       "0   January   23  821000265  Scientist       19114.12            1824.843333   \n",
       "1  February   23  821000265  Scientist       19114.12            1824.843333   \n",
       "2     March   23  821000265  Scientist       19114.12            1824.843333   \n",
       "3     April   23  821000265  Scientist       19114.12            1824.843333   \n",
       "4       May   23  821000265  Scientist       19114.12            1824.843333   \n",
       "\n",
       "   Num_Bank_Accounts  Num_Credit_Card  Interest_Rate  Num_of_Loan  ...  \\\n",
       "0                  3                4              3            4  ...   \n",
       "1                  3                4              3            4  ...   \n",
       "2                  3                4              3            4  ...   \n",
       "3                  3                4              3            4  ...   \n",
       "4                  3                4              3            4  ...   \n",
       "\n",
       "  Credit_Mix  Outstanding_Debt  Credit_Utilization_Ratio  Credit_History_Age  \\\n",
       "0       Good            809.98                 26.822620                 265   \n",
       "1       Good            809.98                 31.944960                 266   \n",
       "2       Good            809.98                 28.609352                 267   \n",
       "3       Good            809.98                 31.377862                 268   \n",
       "4       Good            809.98                 24.797347                 269   \n",
       "\n",
       "   Payment_of_Min_Amount Total_EMI_per_month  Amount_invested_monthly  \\\n",
       "0                     No           49.574949                80.415295   \n",
       "1                     No           49.574949               118.280222   \n",
       "2                     No           49.574949                81.699521   \n",
       "3                     No           49.574949               199.458074   \n",
       "4                     No           49.574949                41.420153   \n",
       "\n",
       "                  Payment_Behaviour  Monthly_Balance Credit_Score  \n",
       "0   High_spent_Small_value_payments       312.494089         Good  \n",
       "1    Low_spent_Large_value_payments       284.629162         Good  \n",
       "2   Low_spent_Medium_value_payments       331.209863         Good  \n",
       "3    Low_spent_Small_value_payments       223.451310         Good  \n",
       "4  High_spent_Medium_value_payments       341.489231         Good  \n",
       "\n",
       "[5 rows x 25 columns]"
      ]
     },
     "execution_count": 124,
     "metadata": {},
     "output_type": "execute_result"
    }
   ],
   "source": [
    "df.head()"
   ]
  },
  {
   "cell_type": "markdown",
   "metadata": {},
   "source": [
    "### Selecting Features"
   ]
  },
  {
   "cell_type": "markdown",
   "metadata": {},
   "source": [
    "##### We select relevant columns from our previous notebooks."
   ]
  },
  {
   "cell_type": "code",
   "execution_count": 125,
   "metadata": {},
   "outputs": [
    {
     "name": "stdout",
     "output_type": "stream",
     "text": [
      "Columns to keep : {'Num_Credit_Card', 'Num_Bank_Accounts', 'Credit_Score', 'Outstanding_Debt', 'Credit_History_Age', 'Payment_Behaviour', 'SSN', 'Type_of_Loan', 'Payment_of_Min_Amount', 'Credit_Utilization_Ratio', 'Monthly_Balance', 'Changed_Credit_Limit', 'Monthly_Inhand_Salary', 'Delay_from_due_date', 'Interest_Rate', 'Credit_Mix'}\n",
      "Columns to drop : {'Num_of_Delayed_Payment', 'Annual_Income', 'Num_Credit_Inquiries', 'Amount_invested_monthly', 'Total_EMI_per_month', 'Occupation', 'Month', 'Num_of_Loan', 'Age'}\n"
     ]
    }
   ],
   "source": [
    "columns_to_keep = set(['SSN',\n",
    "        'Monthly_Inhand_Salary',\n",
    "        'Num_Bank_Accounts',\n",
    "        'Num_Credit_Card',\n",
    "        'Interest_Rate',\n",
    "        'Delay_from_due_date',\n",
    "        'Changed_Credit_Limit',\n",
    "        'Credit_Mix',\n",
    "        'Outstanding_Debt',\n",
    "        'Credit_Utilization_Ratio',\n",
    "        'Payment_of_Min_Amount',\n",
    "        'Payment_Behaviour',\n",
    "        'Monthly_Balance',\n",
    "        'Type_of_Loan',\n",
    "        'Credit_History_Age',\n",
    "        'Credit_Score'])\n",
    "columns_to_drop = set(df.columns) - columns_to_keep\n",
    "print(f'Columns to keep : {columns_to_keep}')\n",
    "print(f'Columns to drop : {columns_to_drop}')"
   ]
  },
  {
   "cell_type": "markdown",
   "metadata": {},
   "source": [
    "### Drop Irrelevant Columns"
   ]
  },
  {
   "cell_type": "code",
   "execution_count": 126,
   "metadata": {},
   "outputs": [],
   "source": [
    "df.drop(columns = [col for col in columns_to_drop],  axis = 1,inplace = True)\n"
   ]
  },
  {
   "cell_type": "markdown",
   "metadata": {},
   "source": [
    "### Details on new dataframe"
   ]
  },
  {
   "cell_type": "code",
   "execution_count": 127,
   "metadata": {},
   "outputs": [
    {
     "data": {
      "text/plain": [
       "Index(['SSN', 'Monthly_Inhand_Salary', 'Num_Bank_Accounts', 'Num_Credit_Card',\n",
       "       'Interest_Rate', 'Type_of_Loan', 'Delay_from_due_date',\n",
       "       'Changed_Credit_Limit', 'Credit_Mix', 'Outstanding_Debt',\n",
       "       'Credit_Utilization_Ratio', 'Credit_History_Age',\n",
       "       'Payment_of_Min_Amount', 'Payment_Behaviour', 'Monthly_Balance',\n",
       "       'Credit_Score'],\n",
       "      dtype='object')"
      ]
     },
     "execution_count": 127,
     "metadata": {},
     "output_type": "execute_result"
    }
   ],
   "source": [
    "df.columns"
   ]
  },
  {
   "cell_type": "code",
   "execution_count": 128,
   "metadata": {},
   "outputs": [
    {
     "name": "stdout",
     "output_type": "stream",
     "text": [
      "<class 'pandas.core.frame.DataFrame'>\n",
      "RangeIndex: 100000 entries, 0 to 99999\n",
      "Data columns (total 16 columns):\n",
      " #   Column                    Non-Null Count   Dtype  \n",
      "---  ------                    --------------   -----  \n",
      " 0   SSN                       100000 non-null  int64  \n",
      " 1   Monthly_Inhand_Salary     100000 non-null  float64\n",
      " 2   Num_Bank_Accounts         100000 non-null  int64  \n",
      " 3   Num_Credit_Card           100000 non-null  int64  \n",
      " 4   Interest_Rate             100000 non-null  int64  \n",
      " 5   Type_of_Loan              100000 non-null  object \n",
      " 6   Delay_from_due_date       100000 non-null  int64  \n",
      " 7   Changed_Credit_Limit      100000 non-null  float64\n",
      " 8   Credit_Mix                100000 non-null  object \n",
      " 9   Outstanding_Debt          100000 non-null  float64\n",
      " 10  Credit_Utilization_Ratio  100000 non-null  float64\n",
      " 11  Credit_History_Age        100000 non-null  int64  \n",
      " 12  Payment_of_Min_Amount     100000 non-null  object \n",
      " 13  Payment_Behaviour         100000 non-null  object \n",
      " 14  Monthly_Balance           100000 non-null  float64\n",
      " 15  Credit_Score              100000 non-null  object \n",
      "dtypes: float64(5), int64(6), object(5)\n",
      "memory usage: 12.2+ MB\n"
     ]
    }
   ],
   "source": [
    "df.info()"
   ]
  },
  {
   "attachments": {},
   "cell_type": "markdown",
   "metadata": {},
   "source": [
    "# Preparing Data"
   ]
  },
  {
   "attachments": {},
   "cell_type": "markdown",
   "metadata": {},
   "source": [
    "### Converting Object Data types to Numerical"
   ]
  },
  {
   "cell_type": "markdown",
   "metadata": {},
   "source": [
    "### Type Of Loan"
   ]
  },
  {
   "cell_type": "code",
   "execution_count": 129,
   "metadata": {},
   "outputs": [
    {
     "data": {
      "text/plain": [
       "0    Auto, Credit-Builder, Personal, and HomeEquity\n",
       "1    Auto, Credit-Builder, Personal, and HomeEquity\n",
       "2    Auto, Credit-Builder, Personal, and HomeEquity\n",
       "3    Auto, Credit-Builder, Personal, and HomeEquity\n",
       "4    Auto, Credit-Builder, Personal, and HomeEquity\n",
       "Name: Type_of_Loan, dtype: object"
      ]
     },
     "execution_count": 129,
     "metadata": {},
     "output_type": "execute_result"
    }
   ],
   "source": [
    "df['Type_of_Loan'].head()"
   ]
  },
  {
   "cell_type": "code",
   "execution_count": 130,
   "metadata": {},
   "outputs": [
    {
     "data": {
      "text/plain": [
       "6260"
      ]
     },
     "execution_count": 130,
     "metadata": {},
     "output_type": "execute_result"
    }
   ],
   "source": [
    "df['Type_of_Loan'].nunique()"
   ]
  },
  {
   "cell_type": "markdown",
   "metadata": {},
   "source": [
    "### One hot Encoding"
   ]
  },
  {
   "cell_type": "code",
   "execution_count": 131,
   "metadata": {},
   "outputs": [],
   "source": [
    "corresponding_unique_type_of_loan_values = {}\n",
    "for ssn in unique_SSN:\n",
    "    corresponding_unique_type_of_loan_values[ssn] = list(df[df['SSN'] == ssn]['Type_of_Loan'].unique())"
   ]
  },
  {
   "cell_type": "code",
   "execution_count": 132,
   "metadata": {},
   "outputs": [],
   "source": [
    "types_of_loan = set()"
   ]
  },
  {
   "cell_type": "code",
   "execution_count": 133,
   "metadata": {},
   "outputs": [],
   "source": [
    "for values in corresponding_unique_type_of_loan_values.values():\n",
    "    for i in range(len(values)):\n",
    "        types_of_loan.add(values[0].split(',')[i].split(' Loan')[0].replace(' ','').replace('and',''))"
   ]
  },
  {
   "cell_type": "code",
   "execution_count": 134,
   "metadata": {},
   "outputs": [
    {
     "data": {
      "text/plain": [
       "['Auto Loan',\n",
       " 'Credit-Builder Loan',\n",
       " 'Debt Consolidation Loan',\n",
       " 'Home Equity Loan',\n",
       " 'Mortgage Loan',\n",
       " 'Not Specified',\n",
       " 'Payday Loan',\n",
       " 'Personal Loan',\n",
       " 'Student Loan']"
      ]
     },
     "execution_count": 134,
     "metadata": {},
     "output_type": "execute_result"
    },
    {
     "data": {
      "text/plain": [
       "['Auto',\n",
       " 'Credit-Builder',\n",
       " 'DebtConsolidation',\n",
       " 'HomeEquity',\n",
       " 'Mortgage',\n",
       " 'NotSpecified',\n",
       " 'Payday',\n",
       " 'Personal',\n",
       " 'Student']"
      ]
     },
     "execution_count": 134,
     "metadata": {},
     "output_type": "execute_result"
    }
   ],
   "source": [
    "dataframe_type_of_loan_list = sorted(['Credit-Builder Loan',\n",
    "                               'Not Specified',\n",
    "                               'Debt Consolidation Loan',\n",
    "                               'Auto Loan',\n",
    "                               'Student Loan',\n",
    "                               'Home Equity Loan', \n",
    "                               'Mortgage Loan',\n",
    "                               'Personal Loan',\n",
    "                               'Payday Loan'])\n",
    "dataframe_type_of_loan_list\n",
    "\n",
    "processed_types_of_loan_list = sorted(list(types_of_loan))\n",
    "processed_types_of_loan_list"
   ]
  },
  {
   "cell_type": "code",
   "execution_count": 135,
   "metadata": {},
   "outputs": [],
   "source": [
    "def map_type_of_loan(txt):\n",
    "    txt = str(txt)\n",
    "    for i in range(len(processed_types_of_loan_list)):\n",
    "        txt = txt.replace(' and ', ' ')\n",
    "        txt = txt.replace(dataframe_type_of_loan_list[i],processed_types_of_loan_list[i])\n",
    "    return txt"
   ]
  },
  {
   "cell_type": "code",
   "execution_count": 136,
   "metadata": {},
   "outputs": [
    {
     "data": {
      "text/plain": [
       "0    Auto, Credit-Builder, Personal, and HomeEquity\n",
       "1    Auto, Credit-Builder, Personal, and HomeEquity\n",
       "2    Auto, Credit-Builder, Personal, and HomeEquity\n",
       "3    Auto, Credit-Builder, Personal, and HomeEquity\n",
       "4    Auto, Credit-Builder, Personal, and HomeEquity\n",
       "Name: Type_of_Loan, dtype: object"
      ]
     },
     "execution_count": 136,
     "metadata": {},
     "output_type": "execute_result"
    }
   ],
   "source": [
    "df['Type_of_Loan'].head()"
   ]
  },
  {
   "cell_type": "code",
   "execution_count": 137,
   "metadata": {},
   "outputs": [],
   "source": [
    "index = 0\n",
    "for type_of_loan in processed_types_of_loan_list:\n",
    "    df.insert(loc = 11 + index, column = type_of_loan , value = 0)\n",
    "    index += 1"
   ]
  },
  {
   "cell_type": "code",
   "execution_count": 138,
   "metadata": {},
   "outputs": [],
   "source": [
    "for type_of_loan in processed_types_of_loan_list:    \n",
    "    df[type_of_loan] = df['Type_of_Loan'].apply(lambda x:1 if type_of_loan in x else 0)"
   ]
  },
  {
   "cell_type": "code",
   "execution_count": 139,
   "metadata": {},
   "outputs": [],
   "source": [
    "df.drop('Type_of_Loan', axis = 1, inplace = True)"
   ]
  },
  {
   "cell_type": "code",
   "execution_count": 140,
   "metadata": {},
   "outputs": [
    {
     "data": {
      "text/html": [
       "<div>\n",
       "<style scoped>\n",
       "    .dataframe tbody tr th:only-of-type {\n",
       "        vertical-align: middle;\n",
       "    }\n",
       "\n",
       "    .dataframe tbody tr th {\n",
       "        vertical-align: top;\n",
       "    }\n",
       "\n",
       "    .dataframe thead th {\n",
       "        text-align: right;\n",
       "    }\n",
       "</style>\n",
       "<table border=\"1\" class=\"dataframe\">\n",
       "  <thead>\n",
       "    <tr style=\"text-align: right;\">\n",
       "      <th></th>\n",
       "      <th>SSN</th>\n",
       "      <th>Monthly_Inhand_Salary</th>\n",
       "      <th>Num_Bank_Accounts</th>\n",
       "      <th>Num_Credit_Card</th>\n",
       "      <th>Interest_Rate</th>\n",
       "      <th>Delay_from_due_date</th>\n",
       "      <th>Changed_Credit_Limit</th>\n",
       "      <th>Credit_Mix</th>\n",
       "      <th>Outstanding_Debt</th>\n",
       "      <th>Credit_Utilization_Ratio</th>\n",
       "      <th>...</th>\n",
       "      <th>Mortgage</th>\n",
       "      <th>NotSpecified</th>\n",
       "      <th>Payday</th>\n",
       "      <th>Personal</th>\n",
       "      <th>Student</th>\n",
       "      <th>Credit_History_Age</th>\n",
       "      <th>Payment_of_Min_Amount</th>\n",
       "      <th>Payment_Behaviour</th>\n",
       "      <th>Monthly_Balance</th>\n",
       "      <th>Credit_Score</th>\n",
       "    </tr>\n",
       "  </thead>\n",
       "  <tbody>\n",
       "    <tr>\n",
       "      <th>0</th>\n",
       "      <td>821000265</td>\n",
       "      <td>1824.843333</td>\n",
       "      <td>3</td>\n",
       "      <td>4</td>\n",
       "      <td>3</td>\n",
       "      <td>3</td>\n",
       "      <td>11.27</td>\n",
       "      <td>Good</td>\n",
       "      <td>809.98</td>\n",
       "      <td>26.822620</td>\n",
       "      <td>...</td>\n",
       "      <td>0</td>\n",
       "      <td>0</td>\n",
       "      <td>0</td>\n",
       "      <td>1</td>\n",
       "      <td>0</td>\n",
       "      <td>265</td>\n",
       "      <td>No</td>\n",
       "      <td>High_spent_Small_value_payments</td>\n",
       "      <td>312.494089</td>\n",
       "      <td>Good</td>\n",
       "    </tr>\n",
       "    <tr>\n",
       "      <th>1</th>\n",
       "      <td>821000265</td>\n",
       "      <td>1824.843333</td>\n",
       "      <td>3</td>\n",
       "      <td>4</td>\n",
       "      <td>3</td>\n",
       "      <td>3</td>\n",
       "      <td>11.27</td>\n",
       "      <td>Good</td>\n",
       "      <td>809.98</td>\n",
       "      <td>31.944960</td>\n",
       "      <td>...</td>\n",
       "      <td>0</td>\n",
       "      <td>0</td>\n",
       "      <td>0</td>\n",
       "      <td>1</td>\n",
       "      <td>0</td>\n",
       "      <td>266</td>\n",
       "      <td>No</td>\n",
       "      <td>Low_spent_Large_value_payments</td>\n",
       "      <td>284.629162</td>\n",
       "      <td>Good</td>\n",
       "    </tr>\n",
       "    <tr>\n",
       "      <th>2</th>\n",
       "      <td>821000265</td>\n",
       "      <td>1824.843333</td>\n",
       "      <td>3</td>\n",
       "      <td>4</td>\n",
       "      <td>3</td>\n",
       "      <td>3</td>\n",
       "      <td>11.27</td>\n",
       "      <td>Good</td>\n",
       "      <td>809.98</td>\n",
       "      <td>28.609352</td>\n",
       "      <td>...</td>\n",
       "      <td>0</td>\n",
       "      <td>0</td>\n",
       "      <td>0</td>\n",
       "      <td>1</td>\n",
       "      <td>0</td>\n",
       "      <td>267</td>\n",
       "      <td>No</td>\n",
       "      <td>Low_spent_Medium_value_payments</td>\n",
       "      <td>331.209863</td>\n",
       "      <td>Good</td>\n",
       "    </tr>\n",
       "    <tr>\n",
       "      <th>3</th>\n",
       "      <td>821000265</td>\n",
       "      <td>1824.843333</td>\n",
       "      <td>3</td>\n",
       "      <td>4</td>\n",
       "      <td>3</td>\n",
       "      <td>5</td>\n",
       "      <td>6.27</td>\n",
       "      <td>Good</td>\n",
       "      <td>809.98</td>\n",
       "      <td>31.377862</td>\n",
       "      <td>...</td>\n",
       "      <td>0</td>\n",
       "      <td>0</td>\n",
       "      <td>0</td>\n",
       "      <td>1</td>\n",
       "      <td>0</td>\n",
       "      <td>268</td>\n",
       "      <td>No</td>\n",
       "      <td>Low_spent_Small_value_payments</td>\n",
       "      <td>223.451310</td>\n",
       "      <td>Good</td>\n",
       "    </tr>\n",
       "    <tr>\n",
       "      <th>4</th>\n",
       "      <td>821000265</td>\n",
       "      <td>1824.843333</td>\n",
       "      <td>3</td>\n",
       "      <td>4</td>\n",
       "      <td>3</td>\n",
       "      <td>6</td>\n",
       "      <td>11.27</td>\n",
       "      <td>Good</td>\n",
       "      <td>809.98</td>\n",
       "      <td>24.797347</td>\n",
       "      <td>...</td>\n",
       "      <td>0</td>\n",
       "      <td>0</td>\n",
       "      <td>0</td>\n",
       "      <td>1</td>\n",
       "      <td>0</td>\n",
       "      <td>269</td>\n",
       "      <td>No</td>\n",
       "      <td>High_spent_Medium_value_payments</td>\n",
       "      <td>341.489231</td>\n",
       "      <td>Good</td>\n",
       "    </tr>\n",
       "  </tbody>\n",
       "</table>\n",
       "<p>5 rows × 24 columns</p>\n",
       "</div>"
      ],
      "text/plain": [
       "         SSN  Monthly_Inhand_Salary  Num_Bank_Accounts  Num_Credit_Card  \\\n",
       "0  821000265            1824.843333                  3                4   \n",
       "1  821000265            1824.843333                  3                4   \n",
       "2  821000265            1824.843333                  3                4   \n",
       "3  821000265            1824.843333                  3                4   \n",
       "4  821000265            1824.843333                  3                4   \n",
       "\n",
       "   Interest_Rate  Delay_from_due_date  Changed_Credit_Limit Credit_Mix  \\\n",
       "0              3                    3                 11.27       Good   \n",
       "1              3                    3                 11.27       Good   \n",
       "2              3                    3                 11.27       Good   \n",
       "3              3                    5                  6.27       Good   \n",
       "4              3                    6                 11.27       Good   \n",
       "\n",
       "   Outstanding_Debt  Credit_Utilization_Ratio  ...  Mortgage  NotSpecified  \\\n",
       "0            809.98                 26.822620  ...         0             0   \n",
       "1            809.98                 31.944960  ...         0             0   \n",
       "2            809.98                 28.609352  ...         0             0   \n",
       "3            809.98                 31.377862  ...         0             0   \n",
       "4            809.98                 24.797347  ...         0             0   \n",
       "\n",
       "   Payday  Personal  Student  Credit_History_Age  Payment_of_Min_Amount  \\\n",
       "0       0         1        0                 265                     No   \n",
       "1       0         1        0                 266                     No   \n",
       "2       0         1        0                 267                     No   \n",
       "3       0         1        0                 268                     No   \n",
       "4       0         1        0                 269                     No   \n",
       "\n",
       "                  Payment_Behaviour  Monthly_Balance  Credit_Score  \n",
       "0   High_spent_Small_value_payments       312.494089          Good  \n",
       "1    Low_spent_Large_value_payments       284.629162          Good  \n",
       "2   Low_spent_Medium_value_payments       331.209863          Good  \n",
       "3    Low_spent_Small_value_payments       223.451310          Good  \n",
       "4  High_spent_Medium_value_payments       341.489231          Good  \n",
       "\n",
       "[5 rows x 24 columns]"
      ]
     },
     "execution_count": 140,
     "metadata": {},
     "output_type": "execute_result"
    }
   ],
   "source": [
    "df.head()"
   ]
  },
  {
   "cell_type": "markdown",
   "metadata": {},
   "source": [
    "### Credit_Mix"
   ]
  },
  {
   "cell_type": "code",
   "execution_count": 141,
   "metadata": {},
   "outputs": [
    {
     "data": {
      "text/plain": [
       "0    Good\n",
       "1    Good\n",
       "2    Good\n",
       "3    Good\n",
       "4    Good\n",
       "Name: Credit_Mix, dtype: object"
      ]
     },
     "execution_count": 141,
     "metadata": {},
     "output_type": "execute_result"
    }
   ],
   "source": [
    "df['Credit_Mix'].head()"
   ]
  },
  {
   "cell_type": "code",
   "execution_count": 142,
   "metadata": {},
   "outputs": [
    {
     "data": {
      "text/plain": [
       "array(['Good', 'Standard', 'Bad'], dtype=object)"
      ]
     },
     "execution_count": 142,
     "metadata": {},
     "output_type": "execute_result"
    },
    {
     "data": {
      "text/plain": [
       "Standard    45848\n",
       "Good        30384\n",
       "Bad         23768\n",
       "Name: Credit_Mix, dtype: int64"
      ]
     },
     "execution_count": 142,
     "metadata": {},
     "output_type": "execute_result"
    }
   ],
   "source": [
    "df['Credit_Mix'].unique()\n",
    "df['Credit_Mix'].value_counts()"
   ]
  },
  {
   "cell_type": "code",
   "execution_count": 143,
   "metadata": {},
   "outputs": [],
   "source": [
    "map_credit_mix = {'Bad' : 0, 'Good' : 1,'Standard' : 2}\n",
    "df['Credit_Mix'] = df['Credit_Mix'].map(map_credit_mix)"
   ]
  },
  {
   "cell_type": "code",
   "execution_count": 144,
   "metadata": {},
   "outputs": [
    {
     "data": {
      "text/plain": [
       "array([1, 2, 0], dtype=int64)"
      ]
     },
     "execution_count": 144,
     "metadata": {},
     "output_type": "execute_result"
    },
    {
     "data": {
      "text/plain": [
       "2    45848\n",
       "1    30384\n",
       "0    23768\n",
       "Name: Credit_Mix, dtype: int64"
      ]
     },
     "execution_count": 144,
     "metadata": {},
     "output_type": "execute_result"
    }
   ],
   "source": [
    "df['Credit_Mix'].unique()\n",
    "df['Credit_Mix'].value_counts()"
   ]
  },
  {
   "cell_type": "markdown",
   "metadata": {},
   "source": [
    "### Payment_of_Min_Amount"
   ]
  },
  {
   "cell_type": "code",
   "execution_count": 145,
   "metadata": {},
   "outputs": [
    {
     "data": {
      "text/plain": [
       "0    No\n",
       "1    No\n",
       "2    No\n",
       "3    No\n",
       "4    No\n",
       "Name: Payment_of_Min_Amount, dtype: object"
      ]
     },
     "execution_count": 145,
     "metadata": {},
     "output_type": "execute_result"
    }
   ],
   "source": [
    "df['Payment_of_Min_Amount'].head()"
   ]
  },
  {
   "cell_type": "code",
   "execution_count": 146,
   "metadata": {},
   "outputs": [
    {
     "data": {
      "text/plain": [
       "array(['No', 'Yes'], dtype=object)"
      ]
     },
     "execution_count": 146,
     "metadata": {},
     "output_type": "execute_result"
    },
    {
     "data": {
      "text/plain": [
       "Yes    59432\n",
       "No     40568\n",
       "Name: Payment_of_Min_Amount, dtype: int64"
      ]
     },
     "execution_count": 146,
     "metadata": {},
     "output_type": "execute_result"
    }
   ],
   "source": [
    "df['Payment_of_Min_Amount'].unique()\n",
    "df['Payment_of_Min_Amount'].value_counts()"
   ]
  },
  {
   "cell_type": "code",
   "execution_count": 147,
   "metadata": {},
   "outputs": [],
   "source": [
    "map_payment_of_min_amount = {'Yes' : 1, 'No' : 0}\n",
    "df['Payment_of_Min_Amount'] = df['Payment_of_Min_Amount'].map(map_payment_of_min_amount)"
   ]
  },
  {
   "cell_type": "code",
   "execution_count": 148,
   "metadata": {},
   "outputs": [
    {
     "data": {
      "text/plain": [
       "array([0, 1], dtype=int64)"
      ]
     },
     "execution_count": 148,
     "metadata": {},
     "output_type": "execute_result"
    },
    {
     "data": {
      "text/plain": [
       "1    59432\n",
       "0    40568\n",
       "Name: Payment_of_Min_Amount, dtype: int64"
      ]
     },
     "execution_count": 148,
     "metadata": {},
     "output_type": "execute_result"
    }
   ],
   "source": [
    "df['Payment_of_Min_Amount'].unique()\n",
    "df['Payment_of_Min_Amount'].value_counts()"
   ]
  },
  {
   "cell_type": "code",
   "execution_count": 149,
   "metadata": {},
   "outputs": [
    {
     "name": "stdout",
     "output_type": "stream",
     "text": [
      "<class 'pandas.core.frame.DataFrame'>\n",
      "RangeIndex: 100000 entries, 0 to 99999\n",
      "Data columns (total 24 columns):\n",
      " #   Column                    Non-Null Count   Dtype  \n",
      "---  ------                    --------------   -----  \n",
      " 0   SSN                       100000 non-null  int64  \n",
      " 1   Monthly_Inhand_Salary     100000 non-null  float64\n",
      " 2   Num_Bank_Accounts         100000 non-null  int64  \n",
      " 3   Num_Credit_Card           100000 non-null  int64  \n",
      " 4   Interest_Rate             100000 non-null  int64  \n",
      " 5   Delay_from_due_date       100000 non-null  int64  \n",
      " 6   Changed_Credit_Limit      100000 non-null  float64\n",
      " 7   Credit_Mix                100000 non-null  int64  \n",
      " 8   Outstanding_Debt          100000 non-null  float64\n",
      " 9   Credit_Utilization_Ratio  100000 non-null  float64\n",
      " 10  Auto                      100000 non-null  int64  \n",
      " 11  Credit-Builder            100000 non-null  int64  \n",
      " 12  DebtConsolidation         100000 non-null  int64  \n",
      " 13  HomeEquity                100000 non-null  int64  \n",
      " 14  Mortgage                  100000 non-null  int64  \n",
      " 15  NotSpecified              100000 non-null  int64  \n",
      " 16  Payday                    100000 non-null  int64  \n",
      " 17  Personal                  100000 non-null  int64  \n",
      " 18  Student                   100000 non-null  int64  \n",
      " 19  Credit_History_Age        100000 non-null  int64  \n",
      " 20  Payment_of_Min_Amount     100000 non-null  int64  \n",
      " 21  Payment_Behaviour         100000 non-null  object \n",
      " 22  Monthly_Balance           100000 non-null  float64\n",
      " 23  Credit_Score              100000 non-null  object \n",
      "dtypes: float64(5), int64(17), object(2)\n",
      "memory usage: 18.3+ MB\n"
     ]
    }
   ],
   "source": [
    "df.info()"
   ]
  },
  {
   "cell_type": "markdown",
   "metadata": {},
   "source": [
    "### Payment_Behaviour"
   ]
  },
  {
   "cell_type": "code",
   "execution_count": 150,
   "metadata": {},
   "outputs": [
    {
     "data": {
      "text/plain": [
       "array(['High_spent_Small_value_payments',\n",
       "       'Low_spent_Large_value_payments',\n",
       "       'Low_spent_Medium_value_payments',\n",
       "       'Low_spent_Small_value_payments',\n",
       "       'High_spent_Medium_value_payments', 'NotSpecified',\n",
       "       'High_spent_Large_value_payments'], dtype=object)"
      ]
     },
     "execution_count": 150,
     "metadata": {},
     "output_type": "execute_result"
    },
    {
     "data": {
      "text/plain": [
       "Low_spent_Small_value_payments      25513\n",
       "High_spent_Medium_value_payments    17540\n",
       "Low_spent_Medium_value_payments     13861\n",
       "High_spent_Large_value_payments     13721\n",
       "High_spent_Small_value_payments     11340\n",
       "Low_spent_Large_value_payments      10425\n",
       "NotSpecified                         7600\n",
       "Name: Payment_Behaviour, dtype: int64"
      ]
     },
     "execution_count": 150,
     "metadata": {},
     "output_type": "execute_result"
    }
   ],
   "source": [
    "df['Payment_Behaviour'].unique()\n",
    "df['Payment_Behaviour'].value_counts()"
   ]
  },
  {
   "cell_type": "code",
   "execution_count": 151,
   "metadata": {},
   "outputs": [],
   "source": [
    "df['Payment_Behaviour'] = le.fit_transform(df['Payment_Behaviour'])"
   ]
  },
  {
   "cell_type": "code",
   "execution_count": 152,
   "metadata": {},
   "outputs": [
    {
     "data": {
      "text/plain": [
       "array([2, 3, 4, 5, 1, 6, 0])"
      ]
     },
     "execution_count": 152,
     "metadata": {},
     "output_type": "execute_result"
    },
    {
     "data": {
      "text/plain": [
       "5    25513\n",
       "1    17540\n",
       "4    13861\n",
       "0    13721\n",
       "2    11340\n",
       "3    10425\n",
       "6     7600\n",
       "Name: Payment_Behaviour, dtype: int64"
      ]
     },
     "execution_count": 152,
     "metadata": {},
     "output_type": "execute_result"
    }
   ],
   "source": [
    "df['Payment_Behaviour'].unique()\n",
    "df['Payment_Behaviour'].value_counts()"
   ]
  },
  {
   "cell_type": "code",
   "execution_count": 153,
   "metadata": {},
   "outputs": [
    {
     "name": "stdout",
     "output_type": "stream",
     "text": [
      "<class 'pandas.core.frame.DataFrame'>\n",
      "RangeIndex: 100000 entries, 0 to 99999\n",
      "Data columns (total 24 columns):\n",
      " #   Column                    Non-Null Count   Dtype  \n",
      "---  ------                    --------------   -----  \n",
      " 0   SSN                       100000 non-null  int64  \n",
      " 1   Monthly_Inhand_Salary     100000 non-null  float64\n",
      " 2   Num_Bank_Accounts         100000 non-null  int64  \n",
      " 3   Num_Credit_Card           100000 non-null  int64  \n",
      " 4   Interest_Rate             100000 non-null  int64  \n",
      " 5   Delay_from_due_date       100000 non-null  int64  \n",
      " 6   Changed_Credit_Limit      100000 non-null  float64\n",
      " 7   Credit_Mix                100000 non-null  int64  \n",
      " 8   Outstanding_Debt          100000 non-null  float64\n",
      " 9   Credit_Utilization_Ratio  100000 non-null  float64\n",
      " 10  Auto                      100000 non-null  int64  \n",
      " 11  Credit-Builder            100000 non-null  int64  \n",
      " 12  DebtConsolidation         100000 non-null  int64  \n",
      " 13  HomeEquity                100000 non-null  int64  \n",
      " 14  Mortgage                  100000 non-null  int64  \n",
      " 15  NotSpecified              100000 non-null  int64  \n",
      " 16  Payday                    100000 non-null  int64  \n",
      " 17  Personal                  100000 non-null  int64  \n",
      " 18  Student                   100000 non-null  int64  \n",
      " 19  Credit_History_Age        100000 non-null  int64  \n",
      " 20  Payment_of_Min_Amount     100000 non-null  int64  \n",
      " 21  Payment_Behaviour         100000 non-null  int32  \n",
      " 22  Monthly_Balance           100000 non-null  float64\n",
      " 23  Credit_Score              100000 non-null  object \n",
      "dtypes: float64(5), int32(1), int64(17), object(1)\n",
      "memory usage: 17.9+ MB\n"
     ]
    }
   ],
   "source": [
    "df.info()"
   ]
  },
  {
   "cell_type": "markdown",
   "metadata": {},
   "source": [
    "### Credit_Score"
   ]
  },
  {
   "cell_type": "code",
   "execution_count": 154,
   "metadata": {},
   "outputs": [
    {
     "data": {
      "text/plain": [
       "array(['Good', 'Standard', 'Poor'], dtype=object)"
      ]
     },
     "execution_count": 154,
     "metadata": {},
     "output_type": "execute_result"
    },
    {
     "data": {
      "text/plain": [
       "Standard    53174\n",
       "Poor        28998\n",
       "Good        17828\n",
       "Name: Credit_Score, dtype: int64"
      ]
     },
     "execution_count": 154,
     "metadata": {},
     "output_type": "execute_result"
    }
   ],
   "source": [
    "df['Credit_Score'].unique()\n",
    "df['Credit_Score'].value_counts()"
   ]
  },
  {
   "cell_type": "code",
   "execution_count": 155,
   "metadata": {},
   "outputs": [],
   "source": [
    "map_credit_score   = {'Good' : 0,'Poor' : 1, 'Standard' : 2}\n",
    "df['Credit_Score'] = df['Credit_Score'].map(map_credit_score)"
   ]
  },
  {
   "cell_type": "code",
   "execution_count": 156,
   "metadata": {},
   "outputs": [
    {
     "data": {
      "text/plain": [
       "array([0, 2, 1], dtype=int64)"
      ]
     },
     "execution_count": 156,
     "metadata": {},
     "output_type": "execute_result"
    },
    {
     "data": {
      "text/plain": [
       "2    53174\n",
       "1    28998\n",
       "0    17828\n",
       "Name: Credit_Score, dtype: int64"
      ]
     },
     "execution_count": 156,
     "metadata": {},
     "output_type": "execute_result"
    }
   ],
   "source": [
    "df['Credit_Score'].unique()\n",
    "df['Credit_Score'].value_counts()"
   ]
  },
  {
   "attachments": {},
   "cell_type": "markdown",
   "metadata": {},
   "source": [
    "## Select Features"
   ]
  },
  {
   "cell_type": "code",
   "execution_count": 157,
   "metadata": {},
   "outputs": [],
   "source": [
    "X,y=df.drop(columns = ['Credit_Score'],axis=1),df['Credit_Score']"
   ]
  },
  {
   "cell_type": "code",
   "execution_count": 158,
   "metadata": {},
   "outputs": [
    {
     "data": {
      "text/plain": [
       "SSN                         0.011919\n",
       "Monthly_Inhand_Salary      -0.078955\n",
       "Num_Bank_Accounts           0.173234\n",
       "Num_Credit_Card             0.109595\n",
       "Interest_Rate               0.120170\n",
       "Delay_from_due_date         0.096984\n",
       "Changed_Credit_Limit        0.188842\n",
       "Credit_Mix                  0.229920\n",
       "Outstanding_Debt            0.037153\n",
       "Credit_Utilization_Ratio   -0.014371\n",
       "Auto                        0.026571\n",
       "Credit-Builder              0.024562\n",
       "DebtConsolidation           0.032146\n",
       "HomeEquity                  0.026376\n",
       "Mortgage                    0.020499\n",
       "NotSpecified               -0.010108\n",
       "Payday                      0.025630\n",
       "Personal                    0.036713\n",
       "Student                     0.016661\n",
       "Credit_History_Age         -0.102603\n",
       "Payment_of_Min_Amount       0.278235\n",
       "Payment_Behaviour           0.018793\n",
       "Monthly_Balance            -0.061176\n",
       "dtype: float64"
      ]
     },
     "execution_count": 158,
     "metadata": {},
     "output_type": "execute_result"
    }
   ],
   "source": [
    "X.corrwith(y)"
   ]
  },
  {
   "cell_type": "markdown",
   "metadata": {},
   "source": [
    "### Selecting Features"
   ]
  },
  {
   "cell_type": "code",
   "execution_count": 159,
   "metadata": {},
   "outputs": [],
   "source": [
    "columns_to_drop =[]\n",
    "for col in X.columns:\n",
    "    if abs(X[col].corr(y)) < 0.1:\n",
    "        columns_to_drop.append(col)"
   ]
  },
  {
   "cell_type": "code",
   "execution_count": 160,
   "metadata": {},
   "outputs": [
    {
     "data": {
      "text/plain": [
       "['SSN',\n",
       " 'Monthly_Inhand_Salary',\n",
       " 'Delay_from_due_date',\n",
       " 'Outstanding_Debt',\n",
       " 'Credit_Utilization_Ratio',\n",
       " 'Auto',\n",
       " 'Credit-Builder',\n",
       " 'DebtConsolidation',\n",
       " 'HomeEquity',\n",
       " 'Mortgage',\n",
       " 'NotSpecified',\n",
       " 'Payday',\n",
       " 'Personal',\n",
       " 'Student',\n",
       " 'Payment_Behaviour',\n",
       " 'Monthly_Balance']"
      ]
     },
     "execution_count": 160,
     "metadata": {},
     "output_type": "execute_result"
    }
   ],
   "source": [
    "columns_to_drop"
   ]
  },
  {
   "cell_type": "code",
   "execution_count": 161,
   "metadata": {},
   "outputs": [],
   "source": [
    "X,y=df.drop(columns = columns_to_drop,axis=1),df['Credit_Score']"
   ]
  },
  {
   "cell_type": "code",
   "execution_count": 162,
   "metadata": {},
   "outputs": [
    {
     "data": {
      "text/html": [
       "<div>\n",
       "<style scoped>\n",
       "    .dataframe tbody tr th:only-of-type {\n",
       "        vertical-align: middle;\n",
       "    }\n",
       "\n",
       "    .dataframe tbody tr th {\n",
       "        vertical-align: top;\n",
       "    }\n",
       "\n",
       "    .dataframe thead th {\n",
       "        text-align: right;\n",
       "    }\n",
       "</style>\n",
       "<table border=\"1\" class=\"dataframe\">\n",
       "  <thead>\n",
       "    <tr style=\"text-align: right;\">\n",
       "      <th></th>\n",
       "      <th>Num_Bank_Accounts</th>\n",
       "      <th>Num_Credit_Card</th>\n",
       "      <th>Interest_Rate</th>\n",
       "      <th>Changed_Credit_Limit</th>\n",
       "      <th>Credit_Mix</th>\n",
       "      <th>Credit_History_Age</th>\n",
       "      <th>Payment_of_Min_Amount</th>\n",
       "      <th>Credit_Score</th>\n",
       "    </tr>\n",
       "  </thead>\n",
       "  <tbody>\n",
       "    <tr>\n",
       "      <th>0</th>\n",
       "      <td>3</td>\n",
       "      <td>4</td>\n",
       "      <td>3</td>\n",
       "      <td>11.27</td>\n",
       "      <td>1</td>\n",
       "      <td>265</td>\n",
       "      <td>0</td>\n",
       "      <td>0</td>\n",
       "    </tr>\n",
       "    <tr>\n",
       "      <th>1</th>\n",
       "      <td>3</td>\n",
       "      <td>4</td>\n",
       "      <td>3</td>\n",
       "      <td>11.27</td>\n",
       "      <td>1</td>\n",
       "      <td>266</td>\n",
       "      <td>0</td>\n",
       "      <td>0</td>\n",
       "    </tr>\n",
       "    <tr>\n",
       "      <th>2</th>\n",
       "      <td>3</td>\n",
       "      <td>4</td>\n",
       "      <td>3</td>\n",
       "      <td>11.27</td>\n",
       "      <td>1</td>\n",
       "      <td>267</td>\n",
       "      <td>0</td>\n",
       "      <td>0</td>\n",
       "    </tr>\n",
       "    <tr>\n",
       "      <th>3</th>\n",
       "      <td>3</td>\n",
       "      <td>4</td>\n",
       "      <td>3</td>\n",
       "      <td>6.27</td>\n",
       "      <td>1</td>\n",
       "      <td>268</td>\n",
       "      <td>0</td>\n",
       "      <td>0</td>\n",
       "    </tr>\n",
       "    <tr>\n",
       "      <th>4</th>\n",
       "      <td>3</td>\n",
       "      <td>4</td>\n",
       "      <td>3</td>\n",
       "      <td>11.27</td>\n",
       "      <td>1</td>\n",
       "      <td>269</td>\n",
       "      <td>0</td>\n",
       "      <td>0</td>\n",
       "    </tr>\n",
       "  </tbody>\n",
       "</table>\n",
       "</div>"
      ],
      "text/plain": [
       "   Num_Bank_Accounts  Num_Credit_Card  Interest_Rate  Changed_Credit_Limit  \\\n",
       "0                  3                4              3                 11.27   \n",
       "1                  3                4              3                 11.27   \n",
       "2                  3                4              3                 11.27   \n",
       "3                  3                4              3                  6.27   \n",
       "4                  3                4              3                 11.27   \n",
       "\n",
       "   Credit_Mix  Credit_History_Age  Payment_of_Min_Amount  Credit_Score  \n",
       "0           1                 265                      0             0  \n",
       "1           1                 266                      0             0  \n",
       "2           1                 267                      0             0  \n",
       "3           1                 268                      0             0  \n",
       "4           1                 269                      0             0  "
      ]
     },
     "execution_count": 162,
     "metadata": {},
     "output_type": "execute_result"
    }
   ],
   "source": [
    "X.head()"
   ]
  },
  {
   "cell_type": "code",
   "execution_count": 163,
   "metadata": {},
   "outputs": [],
   "source": [
    "train_X,test_X,train_y,test_y = train_test_split(X , y , test_size = 0.2, random_state = 11)"
   ]
  },
  {
   "cell_type": "markdown",
   "metadata": {},
   "source": [
    "# Training"
   ]
  },
  {
   "cell_type": "markdown",
   "metadata": {},
   "source": [
    "## KNN"
   ]
  },
  {
   "cell_type": "code",
   "execution_count": 164,
   "metadata": {},
   "outputs": [],
   "source": [
    "params = {'n_neighbors':[5,7,9,11,13],\n",
    "        'metric':['cosine','euclidean','manhattan'],\n",
    "        'weights':['uniform','distance']},"
   ]
  },
  {
   "cell_type": "code",
   "execution_count": 165,
   "metadata": {},
   "outputs": [
    {
     "ename": "AttributeError",
     "evalue": "'tuple' object has no attribute 'values'",
     "output_type": "error",
     "traceback": [
      "\u001b[1;31m---------------------------------------------------------------------------\u001b[0m",
      "\u001b[1;31mAttributeError\u001b[0m                            Traceback (most recent call last)",
      "\u001b[1;32mc:\\Users\\Ghost\\Desktop\\ALL IN ONE\\Learning_EDA\\Credit_Analysis\\notebook_training.ipynb Cell 66\u001b[0m in \u001b[0;36m<cell line: 3>\u001b[1;34m()\u001b[0m\n\u001b[0;32m      <a href='vscode-notebook-cell:/c%3A/Users/Ghost/Desktop/ALL%20IN%20ONE/Learning_EDA/Credit_Analysis/notebook_training.ipynb#Y204sZmlsZQ%3D%3D?line=0'>1</a>\u001b[0m max_score \u001b[39m=\u001b[39m \u001b[39m0.001\u001b[39m\n\u001b[0;32m      <a href='vscode-notebook-cell:/c%3A/Users/Ghost/Desktop/ALL%20IN%20ONE/Learning_EDA/Credit_Analysis/notebook_training.ipynb#Y204sZmlsZQ%3D%3D?line=1'>2</a>\u001b[0m \u001b[39m### for selecting the best hyperparameters\u001b[39;00m\n\u001b[1;32m----> <a href='vscode-notebook-cell:/c%3A/Users/Ghost/Desktop/ALL%20IN%20ONE/Learning_EDA/Credit_Analysis/notebook_training.ipynb#Y204sZmlsZQ%3D%3D?line=2'>3</a>\u001b[0m \u001b[39mfor\u001b[39;00m combination \u001b[39min\u001b[39;00m itertools\u001b[39m.\u001b[39mproduct(\u001b[39m*\u001b[39mparams\u001b[39m.\u001b[39;49mvalues()):\n\u001b[0;32m      <a href='vscode-notebook-cell:/c%3A/Users/Ghost/Desktop/ALL%20IN%20ONE/Learning_EDA/Credit_Analysis/notebook_training.ipynb#Y204sZmlsZQ%3D%3D?line=3'>4</a>\u001b[0m     param_dict \u001b[39m=\u001b[39m \u001b[39mdict\u001b[39m(\u001b[39mzip\u001b[39m(params\u001b[39m.\u001b[39mkeys(), combination))\n\u001b[0;32m      <a href='vscode-notebook-cell:/c%3A/Users/Ghost/Desktop/ALL%20IN%20ONE/Learning_EDA/Credit_Analysis/notebook_training.ipynb#Y204sZmlsZQ%3D%3D?line=4'>5</a>\u001b[0m     \u001b[39mprint\u001b[39m(\u001b[39m\"\u001b[39m\u001b[39mTraining with hyper parameters:\u001b[39m\u001b[39m\"\u001b[39m, param_dict)\n",
      "\u001b[1;31mAttributeError\u001b[0m: 'tuple' object has no attribute 'values'"
     ]
    }
   ],
   "source": [
    "max_score = 0.001\n",
    "### for selecting the best hyperparameters\n",
    "for combination in itertools.product(*params.values()):\n",
    "    param_dict = dict(zip(params.keys(), combination))\n",
    "    print(\"Training with hyper parameters:\", param_dict)\n",
    "\n",
    "    knn = KNeighborsClassifier(**param_dict)\n",
    "    knn.fit(train_X, train_y)\n",
    "\n",
    "    model_score = knn.score(test_X, test_y)\n",
    "    print('Test Accuracy Score : ',model_score)\n",
    "    print('------------------------------------')\n",
    "    \n",
    "    if model_score > max_score:\n",
    "        max_score = model_score\n",
    "        hyper_parameters = combination\n",
    "print('Best hyper-parameter : ', hyper_parameters)\n",
    "print('Score : ', max_score)"
   ]
  },
  {
   "cell_type": "markdown",
   "metadata": {},
   "source": [
    "## Decision Tree"
   ]
  },
  {
   "cell_type": "code",
   "execution_count": null,
   "metadata": {},
   "outputs": [],
   "source": [
    "params = {'criterion':['gini','entropy'],\n",
    "        'max_depth':[2,4,6,8,10,12]\n",
    "        }"
   ]
  },
  {
   "cell_type": "code",
   "execution_count": null,
   "metadata": {},
   "outputs": [],
   "source": [
    "max_score = 0.001\n",
    "### for selecting the best hyperparameters\n",
    "for combination in itertools.product(*params.values()):\n",
    "    param_dict = dict(zip(params.keys(), combination))\n",
    "    print(\"Training with hyper parameters:\", param_dict)\n",
    "\n",
    "    dtc = DecisionTreeClassifier(**param_dict)\n",
    "    dtc.fit(train_X, train_y)\n",
    "\n",
    "    model_score = dtc.score(test_X, test_y)\n",
    "    print('Test Accuracy Score : ',model_score)\n",
    "    print('------------------------------------')\n",
    "    \n",
    "    if model_score > max_score:\n",
    "        max_score = model_score\n",
    "        hyper_parameters = combination\n",
    "print('Best hyper-parameter : ', hyper_parameters)\n",
    "print('Score : ', max_score)"
   ]
  },
  {
   "cell_type": "markdown",
   "metadata": {},
   "source": [
    "## Random Forest Classifier"
   ]
  },
  {
   "cell_type": "code",
   "execution_count": null,
   "metadata": {},
   "outputs": [],
   "source": [
    "params = {\n",
    "        'criterion':['gini','entropy'],\n",
    "        'max_depth':[2,4,6,8,10,12]\n",
    "    }"
   ]
  },
  {
   "cell_type": "code",
   "execution_count": null,
   "metadata": {},
   "outputs": [],
   "source": [
    "max_score = 0.001\n",
    "### for selecting the best hyperparameters\n",
    "for combination in itertools.product(*params.values()):\n",
    "    param_dict = dict(zip(params.keys(), combination))\n",
    "    print(\"Training with hyper parameters:\", param_dict)\n",
    "\n",
    "    rtc = RandomForestClassifier(**param_dict)\n",
    "    rtc.fit(train_X, train_y)\n",
    "\n",
    "    model_score = rtc.score(test_X, test_y)\n",
    "    print('Test Accuracy Score : ',model_score)\n",
    "    print('------------------------------------')\n",
    "    \n",
    "    if model_score > max_score:\n",
    "        max_score = model_score\n",
    "        hyper_parameters = combination\n",
    "print('Best hyper-parameter : ', hyper_parameters)\n",
    "print('Score : ', max_score)"
   ]
  },
  {
   "cell_type": "markdown",
   "metadata": {},
   "source": [
    "## MultinomialNB"
   ]
  },
  {
   "cell_type": "code",
   "execution_count": null,
   "metadata": {},
   "outputs": [],
   "source": [
    "params = {\n",
    "        'alpha': [1.0,2.0],\n",
    "        'fit_prior': [True]\n",
    "    }"
   ]
  },
  {
   "cell_type": "code",
   "execution_count": null,
   "metadata": {},
   "outputs": [],
   "source": [
    "max_score = 0.001\n",
    "### for selecting the best hyperparameters\n",
    "for combination in itertools.product(*params.values()):\n",
    "    param_dict = dict(zip(params.keys(), combination))\n",
    "    print(\"Training with hyper parameters:\", param_dict)\n",
    "\n",
    "    mnb = MultinomialNB(**param_dict)\n",
    "    mnb.fit(train_X, train_y)\n",
    "\n",
    "    model_score = mnb.score(test_X, test_y)\n",
    "    print('Test Accuracy Score : ',model_score)\n",
    "    print('------------------------------------')\n",
    "    \n",
    "    if model_score > max_score:\n",
    "        max_score = model_score\n",
    "        hyper_parameters = combination\n",
    "print('Best hyper-parameter : ', hyper_parameters)\n",
    "print('Score : ', max_score)"
   ]
  },
  {
   "cell_type": "markdown",
   "metadata": {},
   "source": [
    "## SVC"
   ]
  },
  {
   "cell_type": "code",
   "execution_count": null,
   "metadata": {},
   "outputs": [],
   "source": [
    "params = {'C':[0.1,1,10,100], \n",
    "            'gamma':[1,0.1,0.01], \n",
    "            'kernel':['rbf','linear','poly']\n",
    "        }"
   ]
  },
  {
   "cell_type": "code",
   "execution_count": null,
   "metadata": {},
   "outputs": [],
   "source": [
    "max_score = 0.001\n",
    "### for selecting the best hyperparameters\n",
    "for combination in itertools.product(*params.values()):\n",
    "    param_dict = dict(zip(params.keys(), combination))\n",
    "    print(\"Training with hyper parameters:\", param_dict)\n",
    "\n",
    "    svc = SVC(**param_dict)\n",
    "    svc.fit(train_X, train_y)\n",
    "\n",
    "    model_score = svc.score(test_X, test_y)\n",
    "    print('Test Accuracy Score : ',model_score)\n",
    "    print('------------------------------------')\n",
    "    \n",
    "    if model_score > max_score:\n",
    "        max_score = model_score\n",
    "        hyper_parameters = combination\n",
    "print('Best hyper-parameter : ', hyper_parameters)\n",
    "print('Score : ', max_score)"
   ]
  },
  {
   "cell_type": "code",
   "execution_count": null,
   "metadata": {},
   "outputs": [],
   "source": []
  }
 ],
 "metadata": {
  "kernelspec": {
   "display_name": "base",
   "language": "python",
   "name": "python3"
  },
  "language_info": {
   "codemirror_mode": {
    "name": "ipython",
    "version": 3
   },
   "file_extension": ".py",
   "mimetype": "text/x-python",
   "name": "python",
   "nbconvert_exporter": "python",
   "pygments_lexer": "ipython3",
   "version": "3.9.12"
  },
  "orig_nbformat": 4
 },
 "nbformat": 4,
 "nbformat_minor": 2
}
