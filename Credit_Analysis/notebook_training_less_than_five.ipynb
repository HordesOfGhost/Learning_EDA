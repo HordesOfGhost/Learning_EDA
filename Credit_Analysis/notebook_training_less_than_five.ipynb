{
 "cells": [
  {
   "cell_type": "markdown",
   "metadata": {},
   "source": [
    "# Training"
   ]
  },
  {
   "cell_type": "markdown",
   "metadata": {},
   "source": [
    "## Importing Libraries"
   ]
  },
  {
   "cell_type": "code",
   "execution_count": 1,
   "metadata": {},
   "outputs": [],
   "source": [
    "import pandas as pd \n",
    "import numpy as np\n",
    "\n",
    "from sklearn.preprocessing import LabelEncoder\n",
    "\n",
    "from sklearn.svm import SVC\n",
    "from sklearn.tree import DecisionTreeClassifier\n",
    "from sklearn.ensemble import RandomForestClassifier\n",
    "from sklearn.naive_bayes import MultinomialNB\n",
    "from sklearn.neighbors import KNeighborsClassifier\n",
    "\n",
    "from sklearn.model_selection import train_test_split\n",
    "from sklearn.metrics import accuracy_score,classification_report,confusion_matrix\n",
    "from sklearn.model_selection import KFold\n",
    "from sklearn.model_selection import cross_val_score\n",
    "\n",
    "#Ignores warning messages.\n",
    "import warnings\n",
    "warnings.filterwarnings('ignore')\n",
    "\n",
    "# #Prints all statements\n",
    "from IPython.core.interactiveshell import InteractiveShell\n",
    "InteractiveShell.ast_node_interactivity = \"all\"\n",
    "import itertools\n",
    "\n",
    "import seaborn as sns\n",
    "import matplotlib.pyplot as plt"
   ]
  },
  {
   "cell_type": "code",
   "execution_count": 2,
   "metadata": {},
   "outputs": [],
   "source": [
    "le = LabelEncoder()"
   ]
  },
  {
   "cell_type": "code",
   "execution_count": 3,
   "metadata": {},
   "outputs": [],
   "source": [
    "unique_SSN = []\n",
    "\n",
    "# open file and read the content in a list\n",
    "with open(r'list_files//unique_SSN.txt', 'r') as fp:\n",
    "    for line in fp:\n",
    "        # remove linebreak from a current name\n",
    "        # linebreak is the last character of each line\n",
    "        x = line[:-1]\n",
    "\n",
    "        # add current item to the list\n",
    "        unique_SSN.append(int(x))"
   ]
  },
  {
   "cell_type": "markdown",
   "metadata": {},
   "source": [
    "## Import Dataset"
   ]
  },
  {
   "cell_type": "code",
   "execution_count": 4,
   "metadata": {},
   "outputs": [],
   "source": [
    "df = pd.read_csv('checkpoints//df_final.csv')"
   ]
  },
  {
   "cell_type": "code",
   "execution_count": 5,
   "metadata": {},
   "outputs": [
    {
     "name": "stdout",
     "output_type": "stream",
     "text": [
      "Length of DataFrame : 100000\n",
      "DataFrame Columns : ['Month', 'Age', 'SSN', 'Occupation', 'Annual_Income', 'Monthly_Inhand_Salary', 'Num_Bank_Accounts', 'Num_Credit_Card', 'Interest_Rate', 'Num_of_Loan', 'Type_of_Loan', 'Delay_from_due_date', 'Num_of_Delayed_Payment', 'Changed_Credit_Limit', 'Num_Credit_Inquiries', 'Credit_Mix', 'Outstanding_Debt', 'Credit_Utilization_Ratio', 'Credit_History_Age', 'Payment_of_Min_Amount', 'Total_EMI_per_month', 'Amount_invested_monthly', 'Payment_Behaviour', 'Monthly_Balance', 'Credit_Score']\n"
     ]
    }
   ],
   "source": [
    "print(f'Length of DataFrame : {len(df)}')\n",
    "print(f'DataFrame Columns : {list(df.columns)}')"
   ]
  },
  {
   "cell_type": "code",
   "execution_count": 6,
   "metadata": {},
   "outputs": [
    {
     "data": {
      "text/html": [
       "<div>\n",
       "<style scoped>\n",
       "    .dataframe tbody tr th:only-of-type {\n",
       "        vertical-align: middle;\n",
       "    }\n",
       "\n",
       "    .dataframe tbody tr th {\n",
       "        vertical-align: top;\n",
       "    }\n",
       "\n",
       "    .dataframe thead th {\n",
       "        text-align: right;\n",
       "    }\n",
       "</style>\n",
       "<table border=\"1\" class=\"dataframe\">\n",
       "  <thead>\n",
       "    <tr style=\"text-align: right;\">\n",
       "      <th></th>\n",
       "      <th>Month</th>\n",
       "      <th>Age</th>\n",
       "      <th>SSN</th>\n",
       "      <th>Occupation</th>\n",
       "      <th>Annual_Income</th>\n",
       "      <th>Monthly_Inhand_Salary</th>\n",
       "      <th>Num_Bank_Accounts</th>\n",
       "      <th>Num_Credit_Card</th>\n",
       "      <th>Interest_Rate</th>\n",
       "      <th>Num_of_Loan</th>\n",
       "      <th>...</th>\n",
       "      <th>Credit_Mix</th>\n",
       "      <th>Outstanding_Debt</th>\n",
       "      <th>Credit_Utilization_Ratio</th>\n",
       "      <th>Credit_History_Age</th>\n",
       "      <th>Payment_of_Min_Amount</th>\n",
       "      <th>Total_EMI_per_month</th>\n",
       "      <th>Amount_invested_monthly</th>\n",
       "      <th>Payment_Behaviour</th>\n",
       "      <th>Monthly_Balance</th>\n",
       "      <th>Credit_Score</th>\n",
       "    </tr>\n",
       "  </thead>\n",
       "  <tbody>\n",
       "    <tr>\n",
       "      <th>0</th>\n",
       "      <td>January</td>\n",
       "      <td>23</td>\n",
       "      <td>821000265</td>\n",
       "      <td>Scientist</td>\n",
       "      <td>19114.12</td>\n",
       "      <td>1824.843333</td>\n",
       "      <td>3</td>\n",
       "      <td>4</td>\n",
       "      <td>3</td>\n",
       "      <td>4</td>\n",
       "      <td>...</td>\n",
       "      <td>Good</td>\n",
       "      <td>809.98</td>\n",
       "      <td>26.822620</td>\n",
       "      <td>265</td>\n",
       "      <td>No</td>\n",
       "      <td>49.574949</td>\n",
       "      <td>80.415295</td>\n",
       "      <td>High_spent_Small_value_payments</td>\n",
       "      <td>312.494089</td>\n",
       "      <td>Good</td>\n",
       "    </tr>\n",
       "    <tr>\n",
       "      <th>1</th>\n",
       "      <td>February</td>\n",
       "      <td>23</td>\n",
       "      <td>821000265</td>\n",
       "      <td>Scientist</td>\n",
       "      <td>19114.12</td>\n",
       "      <td>1824.843333</td>\n",
       "      <td>3</td>\n",
       "      <td>4</td>\n",
       "      <td>3</td>\n",
       "      <td>4</td>\n",
       "      <td>...</td>\n",
       "      <td>Good</td>\n",
       "      <td>809.98</td>\n",
       "      <td>31.944960</td>\n",
       "      <td>266</td>\n",
       "      <td>No</td>\n",
       "      <td>49.574949</td>\n",
       "      <td>118.280222</td>\n",
       "      <td>Low_spent_Large_value_payments</td>\n",
       "      <td>284.629162</td>\n",
       "      <td>Good</td>\n",
       "    </tr>\n",
       "    <tr>\n",
       "      <th>2</th>\n",
       "      <td>March</td>\n",
       "      <td>23</td>\n",
       "      <td>821000265</td>\n",
       "      <td>Scientist</td>\n",
       "      <td>19114.12</td>\n",
       "      <td>1824.843333</td>\n",
       "      <td>3</td>\n",
       "      <td>4</td>\n",
       "      <td>3</td>\n",
       "      <td>4</td>\n",
       "      <td>...</td>\n",
       "      <td>Good</td>\n",
       "      <td>809.98</td>\n",
       "      <td>28.609352</td>\n",
       "      <td>267</td>\n",
       "      <td>No</td>\n",
       "      <td>49.574949</td>\n",
       "      <td>81.699521</td>\n",
       "      <td>Low_spent_Medium_value_payments</td>\n",
       "      <td>331.209863</td>\n",
       "      <td>Good</td>\n",
       "    </tr>\n",
       "    <tr>\n",
       "      <th>3</th>\n",
       "      <td>April</td>\n",
       "      <td>23</td>\n",
       "      <td>821000265</td>\n",
       "      <td>Scientist</td>\n",
       "      <td>19114.12</td>\n",
       "      <td>1824.843333</td>\n",
       "      <td>3</td>\n",
       "      <td>4</td>\n",
       "      <td>3</td>\n",
       "      <td>4</td>\n",
       "      <td>...</td>\n",
       "      <td>Good</td>\n",
       "      <td>809.98</td>\n",
       "      <td>31.377862</td>\n",
       "      <td>268</td>\n",
       "      <td>No</td>\n",
       "      <td>49.574949</td>\n",
       "      <td>199.458074</td>\n",
       "      <td>Low_spent_Small_value_payments</td>\n",
       "      <td>223.451310</td>\n",
       "      <td>Good</td>\n",
       "    </tr>\n",
       "    <tr>\n",
       "      <th>4</th>\n",
       "      <td>May</td>\n",
       "      <td>23</td>\n",
       "      <td>821000265</td>\n",
       "      <td>Scientist</td>\n",
       "      <td>19114.12</td>\n",
       "      <td>1824.843333</td>\n",
       "      <td>3</td>\n",
       "      <td>4</td>\n",
       "      <td>3</td>\n",
       "      <td>4</td>\n",
       "      <td>...</td>\n",
       "      <td>Good</td>\n",
       "      <td>809.98</td>\n",
       "      <td>24.797347</td>\n",
       "      <td>269</td>\n",
       "      <td>No</td>\n",
       "      <td>49.574949</td>\n",
       "      <td>41.420153</td>\n",
       "      <td>High_spent_Medium_value_payments</td>\n",
       "      <td>341.489231</td>\n",
       "      <td>Good</td>\n",
       "    </tr>\n",
       "  </tbody>\n",
       "</table>\n",
       "<p>5 rows × 25 columns</p>\n",
       "</div>"
      ],
      "text/plain": [
       "      Month  Age        SSN Occupation  Annual_Income  Monthly_Inhand_Salary  \\\n",
       "0   January   23  821000265  Scientist       19114.12            1824.843333   \n",
       "1  February   23  821000265  Scientist       19114.12            1824.843333   \n",
       "2     March   23  821000265  Scientist       19114.12            1824.843333   \n",
       "3     April   23  821000265  Scientist       19114.12            1824.843333   \n",
       "4       May   23  821000265  Scientist       19114.12            1824.843333   \n",
       "\n",
       "   Num_Bank_Accounts  Num_Credit_Card  Interest_Rate  Num_of_Loan  ...  \\\n",
       "0                  3                4              3            4  ...   \n",
       "1                  3                4              3            4  ...   \n",
       "2                  3                4              3            4  ...   \n",
       "3                  3                4              3            4  ...   \n",
       "4                  3                4              3            4  ...   \n",
       "\n",
       "  Credit_Mix  Outstanding_Debt  Credit_Utilization_Ratio  Credit_History_Age  \\\n",
       "0       Good            809.98                 26.822620                 265   \n",
       "1       Good            809.98                 31.944960                 266   \n",
       "2       Good            809.98                 28.609352                 267   \n",
       "3       Good            809.98                 31.377862                 268   \n",
       "4       Good            809.98                 24.797347                 269   \n",
       "\n",
       "   Payment_of_Min_Amount Total_EMI_per_month  Amount_invested_monthly  \\\n",
       "0                     No           49.574949                80.415295   \n",
       "1                     No           49.574949               118.280222   \n",
       "2                     No           49.574949                81.699521   \n",
       "3                     No           49.574949               199.458074   \n",
       "4                     No           49.574949                41.420153   \n",
       "\n",
       "                  Payment_Behaviour  Monthly_Balance Credit_Score  \n",
       "0   High_spent_Small_value_payments       312.494089         Good  \n",
       "1    Low_spent_Large_value_payments       284.629162         Good  \n",
       "2   Low_spent_Medium_value_payments       331.209863         Good  \n",
       "3    Low_spent_Small_value_payments       223.451310         Good  \n",
       "4  High_spent_Medium_value_payments       341.489231         Good  \n",
       "\n",
       "[5 rows x 25 columns]"
      ]
     },
     "execution_count": 6,
     "metadata": {},
     "output_type": "execute_result"
    }
   ],
   "source": [
    "df.head()"
   ]
  },
  {
   "cell_type": "markdown",
   "metadata": {},
   "source": [
    "### Selecting Features"
   ]
  },
  {
   "cell_type": "markdown",
   "metadata": {},
   "source": [
    "##### We select relevant columns from our previous notebooks."
   ]
  },
  {
   "cell_type": "code",
   "execution_count": 7,
   "metadata": {},
   "outputs": [
    {
     "name": "stdout",
     "output_type": "stream",
     "text": [
      "Columns to keep : {'Credit_History_Age', 'Type_of_Loan', 'Credit_Score', 'Changed_Credit_Limit', 'Credit_Mix', 'Credit_Utilization_Ratio', 'Num_Credit_Card', 'Interest_Rate', 'Monthly_Inhand_Salary', 'Outstanding_Debt', 'Monthly_Balance', 'Delay_from_due_date', 'Payment_of_Min_Amount', 'SSN', 'Num_Bank_Accounts', 'Payment_Behaviour'}\n",
      "Columns to drop : {'Num_of_Loan', 'Age', 'Annual_Income', 'Amount_invested_monthly', 'Num_Credit_Inquiries', 'Month', 'Occupation', 'Num_of_Delayed_Payment', 'Total_EMI_per_month'}\n"
     ]
    }
   ],
   "source": [
    "columns_to_keep = set(['SSN',\n",
    "        'Monthly_Inhand_Salary',\n",
    "        'Num_Bank_Accounts',\n",
    "        'Num_Credit_Card',\n",
    "        'Interest_Rate',\n",
    "        'Delay_from_due_date',\n",
    "        'Changed_Credit_Limit',\n",
    "        'Credit_Mix',\n",
    "        'Outstanding_Debt',\n",
    "        'Credit_Utilization_Ratio',\n",
    "        'Payment_of_Min_Amount',\n",
    "        'Payment_Behaviour',\n",
    "        'Monthly_Balance',\n",
    "        'Type_of_Loan',\n",
    "        'Credit_History_Age',\n",
    "        'Credit_Score'])\n",
    "columns_to_drop = set(df.columns) - columns_to_keep\n",
    "print(f'Columns to keep : {columns_to_keep}')\n",
    "print(f'Columns to drop : {columns_to_drop}')"
   ]
  },
  {
   "cell_type": "markdown",
   "metadata": {},
   "source": [
    "### Drop Irrelevant Columns"
   ]
  },
  {
   "cell_type": "code",
   "execution_count": 8,
   "metadata": {},
   "outputs": [],
   "source": [
    "df.drop(columns = [col for col in columns_to_drop],  axis = 1,inplace = True)\n"
   ]
  },
  {
   "cell_type": "markdown",
   "metadata": {},
   "source": [
    "### Details on new dataframe"
   ]
  },
  {
   "cell_type": "code",
   "execution_count": 9,
   "metadata": {},
   "outputs": [
    {
     "data": {
      "text/plain": [
       "Index(['SSN', 'Monthly_Inhand_Salary', 'Num_Bank_Accounts', 'Num_Credit_Card',\n",
       "       'Interest_Rate', 'Type_of_Loan', 'Delay_from_due_date',\n",
       "       'Changed_Credit_Limit', 'Credit_Mix', 'Outstanding_Debt',\n",
       "       'Credit_Utilization_Ratio', 'Credit_History_Age',\n",
       "       'Payment_of_Min_Amount', 'Payment_Behaviour', 'Monthly_Balance',\n",
       "       'Credit_Score'],\n",
       "      dtype='object')"
      ]
     },
     "execution_count": 9,
     "metadata": {},
     "output_type": "execute_result"
    }
   ],
   "source": [
    "df.columns"
   ]
  },
  {
   "cell_type": "code",
   "execution_count": 10,
   "metadata": {},
   "outputs": [
    {
     "name": "stdout",
     "output_type": "stream",
     "text": [
      "<class 'pandas.core.frame.DataFrame'>\n",
      "RangeIndex: 100000 entries, 0 to 99999\n",
      "Data columns (total 16 columns):\n",
      " #   Column                    Non-Null Count   Dtype  \n",
      "---  ------                    --------------   -----  \n",
      " 0   SSN                       100000 non-null  int64  \n",
      " 1   Monthly_Inhand_Salary     100000 non-null  float64\n",
      " 2   Num_Bank_Accounts         100000 non-null  int64  \n",
      " 3   Num_Credit_Card           100000 non-null  int64  \n",
      " 4   Interest_Rate             100000 non-null  int64  \n",
      " 5   Type_of_Loan              100000 non-null  object \n",
      " 6   Delay_from_due_date       100000 non-null  int64  \n",
      " 7   Changed_Credit_Limit      100000 non-null  float64\n",
      " 8   Credit_Mix                100000 non-null  object \n",
      " 9   Outstanding_Debt          100000 non-null  float64\n",
      " 10  Credit_Utilization_Ratio  100000 non-null  float64\n",
      " 11  Credit_History_Age        100000 non-null  int64  \n",
      " 12  Payment_of_Min_Amount     100000 non-null  object \n",
      " 13  Payment_Behaviour         100000 non-null  object \n",
      " 14  Monthly_Balance           100000 non-null  float64\n",
      " 15  Credit_Score              100000 non-null  object \n",
      "dtypes: float64(5), int64(6), object(5)\n",
      "memory usage: 12.2+ MB\n"
     ]
    }
   ],
   "source": [
    "df.info()"
   ]
  },
  {
   "attachments": {},
   "cell_type": "markdown",
   "metadata": {},
   "source": [
    "# Preparing Data"
   ]
  },
  {
   "attachments": {},
   "cell_type": "markdown",
   "metadata": {},
   "source": [
    "### Converting Object Data types to Numerical"
   ]
  },
  {
   "cell_type": "markdown",
   "metadata": {},
   "source": [
    "### Type Of Loan"
   ]
  },
  {
   "cell_type": "code",
   "execution_count": 11,
   "metadata": {},
   "outputs": [
    {
     "data": {
      "text/plain": [
       "0    Auto, Credit-Builder, Personal, and HomeEquity\n",
       "1    Auto, Credit-Builder, Personal, and HomeEquity\n",
       "2    Auto, Credit-Builder, Personal, and HomeEquity\n",
       "3    Auto, Credit-Builder, Personal, and HomeEquity\n",
       "4    Auto, Credit-Builder, Personal, and HomeEquity\n",
       "Name: Type_of_Loan, dtype: object"
      ]
     },
     "execution_count": 11,
     "metadata": {},
     "output_type": "execute_result"
    }
   ],
   "source": [
    "df['Type_of_Loan'].head()"
   ]
  },
  {
   "cell_type": "code",
   "execution_count": 12,
   "metadata": {},
   "outputs": [
    {
     "data": {
      "text/plain": [
       "6260"
      ]
     },
     "execution_count": 12,
     "metadata": {},
     "output_type": "execute_result"
    }
   ],
   "source": [
    "df['Type_of_Loan'].nunique()"
   ]
  },
  {
   "cell_type": "markdown",
   "metadata": {},
   "source": [
    "### One hot Encoding"
   ]
  },
  {
   "cell_type": "code",
   "execution_count": 13,
   "metadata": {},
   "outputs": [],
   "source": [
    "corresponding_unique_type_of_loan_values = {}\n",
    "for ssn in unique_SSN:\n",
    "    corresponding_unique_type_of_loan_values[ssn] = list(df[df['SSN'] == ssn]['Type_of_Loan'].unique())"
   ]
  },
  {
   "cell_type": "code",
   "execution_count": 14,
   "metadata": {},
   "outputs": [],
   "source": [
    "types_of_loan = set()"
   ]
  },
  {
   "cell_type": "code",
   "execution_count": 15,
   "metadata": {},
   "outputs": [],
   "source": [
    "for values in corresponding_unique_type_of_loan_values.values():\n",
    "    for i in range(len(values)):\n",
    "        types_of_loan.add(values[0].split(',')[i].split(' Loan')[0].replace(' ','').replace('and',''))"
   ]
  },
  {
   "cell_type": "code",
   "execution_count": 16,
   "metadata": {},
   "outputs": [
    {
     "data": {
      "text/plain": [
       "['Auto Loan',\n",
       " 'Credit-Builder Loan',\n",
       " 'Debt Consolidation Loan',\n",
       " 'Home Equity Loan',\n",
       " 'Mortgage Loan',\n",
       " 'Not Specified',\n",
       " 'Payday Loan',\n",
       " 'Personal Loan',\n",
       " 'Student Loan']"
      ]
     },
     "execution_count": 16,
     "metadata": {},
     "output_type": "execute_result"
    },
    {
     "data": {
      "text/plain": [
       "['Auto',\n",
       " 'Credit-Builder',\n",
       " 'DebtConsolidation',\n",
       " 'HomeEquity',\n",
       " 'Mortgage',\n",
       " 'NotSpecified',\n",
       " 'Payday',\n",
       " 'Personal',\n",
       " 'Student']"
      ]
     },
     "execution_count": 16,
     "metadata": {},
     "output_type": "execute_result"
    }
   ],
   "source": [
    "dataframe_type_of_loan_list = sorted(['Credit-Builder Loan',\n",
    "                               'Not Specified',\n",
    "                               'Debt Consolidation Loan',\n",
    "                               'Auto Loan',\n",
    "                               'Student Loan',\n",
    "                               'Home Equity Loan', \n",
    "                               'Mortgage Loan',\n",
    "                               'Personal Loan',\n",
    "                               'Payday Loan'])\n",
    "dataframe_type_of_loan_list\n",
    "\n",
    "processed_types_of_loan_list = sorted(list(types_of_loan))\n",
    "processed_types_of_loan_list"
   ]
  },
  {
   "cell_type": "code",
   "execution_count": 17,
   "metadata": {},
   "outputs": [],
   "source": [
    "def map_type_of_loan(txt):\n",
    "    txt = str(txt)\n",
    "    for i in range(len(processed_types_of_loan_list)):\n",
    "        txt = txt.replace(' and ', ' ')\n",
    "        txt = txt.replace(dataframe_type_of_loan_list[i],processed_types_of_loan_list[i])\n",
    "    return txt"
   ]
  },
  {
   "cell_type": "code",
   "execution_count": 18,
   "metadata": {},
   "outputs": [
    {
     "data": {
      "text/plain": [
       "0    Auto, Credit-Builder, Personal, and HomeEquity\n",
       "1    Auto, Credit-Builder, Personal, and HomeEquity\n",
       "2    Auto, Credit-Builder, Personal, and HomeEquity\n",
       "3    Auto, Credit-Builder, Personal, and HomeEquity\n",
       "4    Auto, Credit-Builder, Personal, and HomeEquity\n",
       "Name: Type_of_Loan, dtype: object"
      ]
     },
     "execution_count": 18,
     "metadata": {},
     "output_type": "execute_result"
    }
   ],
   "source": [
    "df['Type_of_Loan'].head()"
   ]
  },
  {
   "cell_type": "code",
   "execution_count": 19,
   "metadata": {},
   "outputs": [],
   "source": [
    "index = 0\n",
    "for type_of_loan in processed_types_of_loan_list:\n",
    "    df.insert(loc = 11 + index, column = type_of_loan , value = 0)\n",
    "    index += 1"
   ]
  },
  {
   "cell_type": "code",
   "execution_count": 20,
   "metadata": {},
   "outputs": [],
   "source": [
    "for type_of_loan in processed_types_of_loan_list:    \n",
    "    df[type_of_loan] = df['Type_of_Loan'].apply(lambda x:1 if type_of_loan in x else 0)"
   ]
  },
  {
   "cell_type": "code",
   "execution_count": 21,
   "metadata": {},
   "outputs": [],
   "source": [
    "df.drop('Type_of_Loan', axis = 1, inplace = True)"
   ]
  },
  {
   "cell_type": "code",
   "execution_count": 22,
   "metadata": {},
   "outputs": [
    {
     "data": {
      "text/html": [
       "<div>\n",
       "<style scoped>\n",
       "    .dataframe tbody tr th:only-of-type {\n",
       "        vertical-align: middle;\n",
       "    }\n",
       "\n",
       "    .dataframe tbody tr th {\n",
       "        vertical-align: top;\n",
       "    }\n",
       "\n",
       "    .dataframe thead th {\n",
       "        text-align: right;\n",
       "    }\n",
       "</style>\n",
       "<table border=\"1\" class=\"dataframe\">\n",
       "  <thead>\n",
       "    <tr style=\"text-align: right;\">\n",
       "      <th></th>\n",
       "      <th>SSN</th>\n",
       "      <th>Monthly_Inhand_Salary</th>\n",
       "      <th>Num_Bank_Accounts</th>\n",
       "      <th>Num_Credit_Card</th>\n",
       "      <th>Interest_Rate</th>\n",
       "      <th>Delay_from_due_date</th>\n",
       "      <th>Changed_Credit_Limit</th>\n",
       "      <th>Credit_Mix</th>\n",
       "      <th>Outstanding_Debt</th>\n",
       "      <th>Credit_Utilization_Ratio</th>\n",
       "      <th>...</th>\n",
       "      <th>Mortgage</th>\n",
       "      <th>NotSpecified</th>\n",
       "      <th>Payday</th>\n",
       "      <th>Personal</th>\n",
       "      <th>Student</th>\n",
       "      <th>Credit_History_Age</th>\n",
       "      <th>Payment_of_Min_Amount</th>\n",
       "      <th>Payment_Behaviour</th>\n",
       "      <th>Monthly_Balance</th>\n",
       "      <th>Credit_Score</th>\n",
       "    </tr>\n",
       "  </thead>\n",
       "  <tbody>\n",
       "    <tr>\n",
       "      <th>0</th>\n",
       "      <td>821000265</td>\n",
       "      <td>1824.843333</td>\n",
       "      <td>3</td>\n",
       "      <td>4</td>\n",
       "      <td>3</td>\n",
       "      <td>3</td>\n",
       "      <td>11.27</td>\n",
       "      <td>Good</td>\n",
       "      <td>809.98</td>\n",
       "      <td>26.822620</td>\n",
       "      <td>...</td>\n",
       "      <td>0</td>\n",
       "      <td>0</td>\n",
       "      <td>0</td>\n",
       "      <td>1</td>\n",
       "      <td>0</td>\n",
       "      <td>265</td>\n",
       "      <td>No</td>\n",
       "      <td>High_spent_Small_value_payments</td>\n",
       "      <td>312.494089</td>\n",
       "      <td>Good</td>\n",
       "    </tr>\n",
       "    <tr>\n",
       "      <th>1</th>\n",
       "      <td>821000265</td>\n",
       "      <td>1824.843333</td>\n",
       "      <td>3</td>\n",
       "      <td>4</td>\n",
       "      <td>3</td>\n",
       "      <td>3</td>\n",
       "      <td>11.27</td>\n",
       "      <td>Good</td>\n",
       "      <td>809.98</td>\n",
       "      <td>31.944960</td>\n",
       "      <td>...</td>\n",
       "      <td>0</td>\n",
       "      <td>0</td>\n",
       "      <td>0</td>\n",
       "      <td>1</td>\n",
       "      <td>0</td>\n",
       "      <td>266</td>\n",
       "      <td>No</td>\n",
       "      <td>Low_spent_Large_value_payments</td>\n",
       "      <td>284.629162</td>\n",
       "      <td>Good</td>\n",
       "    </tr>\n",
       "    <tr>\n",
       "      <th>2</th>\n",
       "      <td>821000265</td>\n",
       "      <td>1824.843333</td>\n",
       "      <td>3</td>\n",
       "      <td>4</td>\n",
       "      <td>3</td>\n",
       "      <td>3</td>\n",
       "      <td>11.27</td>\n",
       "      <td>Good</td>\n",
       "      <td>809.98</td>\n",
       "      <td>28.609352</td>\n",
       "      <td>...</td>\n",
       "      <td>0</td>\n",
       "      <td>0</td>\n",
       "      <td>0</td>\n",
       "      <td>1</td>\n",
       "      <td>0</td>\n",
       "      <td>267</td>\n",
       "      <td>No</td>\n",
       "      <td>Low_spent_Medium_value_payments</td>\n",
       "      <td>331.209863</td>\n",
       "      <td>Good</td>\n",
       "    </tr>\n",
       "    <tr>\n",
       "      <th>3</th>\n",
       "      <td>821000265</td>\n",
       "      <td>1824.843333</td>\n",
       "      <td>3</td>\n",
       "      <td>4</td>\n",
       "      <td>3</td>\n",
       "      <td>5</td>\n",
       "      <td>6.27</td>\n",
       "      <td>Good</td>\n",
       "      <td>809.98</td>\n",
       "      <td>31.377862</td>\n",
       "      <td>...</td>\n",
       "      <td>0</td>\n",
       "      <td>0</td>\n",
       "      <td>0</td>\n",
       "      <td>1</td>\n",
       "      <td>0</td>\n",
       "      <td>268</td>\n",
       "      <td>No</td>\n",
       "      <td>Low_spent_Small_value_payments</td>\n",
       "      <td>223.451310</td>\n",
       "      <td>Good</td>\n",
       "    </tr>\n",
       "    <tr>\n",
       "      <th>4</th>\n",
       "      <td>821000265</td>\n",
       "      <td>1824.843333</td>\n",
       "      <td>3</td>\n",
       "      <td>4</td>\n",
       "      <td>3</td>\n",
       "      <td>6</td>\n",
       "      <td>11.27</td>\n",
       "      <td>Good</td>\n",
       "      <td>809.98</td>\n",
       "      <td>24.797347</td>\n",
       "      <td>...</td>\n",
       "      <td>0</td>\n",
       "      <td>0</td>\n",
       "      <td>0</td>\n",
       "      <td>1</td>\n",
       "      <td>0</td>\n",
       "      <td>269</td>\n",
       "      <td>No</td>\n",
       "      <td>High_spent_Medium_value_payments</td>\n",
       "      <td>341.489231</td>\n",
       "      <td>Good</td>\n",
       "    </tr>\n",
       "  </tbody>\n",
       "</table>\n",
       "<p>5 rows × 24 columns</p>\n",
       "</div>"
      ],
      "text/plain": [
       "         SSN  Monthly_Inhand_Salary  Num_Bank_Accounts  Num_Credit_Card  \\\n",
       "0  821000265            1824.843333                  3                4   \n",
       "1  821000265            1824.843333                  3                4   \n",
       "2  821000265            1824.843333                  3                4   \n",
       "3  821000265            1824.843333                  3                4   \n",
       "4  821000265            1824.843333                  3                4   \n",
       "\n",
       "   Interest_Rate  Delay_from_due_date  Changed_Credit_Limit Credit_Mix  \\\n",
       "0              3                    3                 11.27       Good   \n",
       "1              3                    3                 11.27       Good   \n",
       "2              3                    3                 11.27       Good   \n",
       "3              3                    5                  6.27       Good   \n",
       "4              3                    6                 11.27       Good   \n",
       "\n",
       "   Outstanding_Debt  Credit_Utilization_Ratio  ...  Mortgage  NotSpecified  \\\n",
       "0            809.98                 26.822620  ...         0             0   \n",
       "1            809.98                 31.944960  ...         0             0   \n",
       "2            809.98                 28.609352  ...         0             0   \n",
       "3            809.98                 31.377862  ...         0             0   \n",
       "4            809.98                 24.797347  ...         0             0   \n",
       "\n",
       "   Payday  Personal  Student  Credit_History_Age  Payment_of_Min_Amount  \\\n",
       "0       0         1        0                 265                     No   \n",
       "1       0         1        0                 266                     No   \n",
       "2       0         1        0                 267                     No   \n",
       "3       0         1        0                 268                     No   \n",
       "4       0         1        0                 269                     No   \n",
       "\n",
       "                  Payment_Behaviour  Monthly_Balance  Credit_Score  \n",
       "0   High_spent_Small_value_payments       312.494089          Good  \n",
       "1    Low_spent_Large_value_payments       284.629162          Good  \n",
       "2   Low_spent_Medium_value_payments       331.209863          Good  \n",
       "3    Low_spent_Small_value_payments       223.451310          Good  \n",
       "4  High_spent_Medium_value_payments       341.489231          Good  \n",
       "\n",
       "[5 rows x 24 columns]"
      ]
     },
     "execution_count": 22,
     "metadata": {},
     "output_type": "execute_result"
    }
   ],
   "source": [
    "df.head()"
   ]
  },
  {
   "cell_type": "markdown",
   "metadata": {},
   "source": [
    "### Credit_Mix"
   ]
  },
  {
   "cell_type": "code",
   "execution_count": 23,
   "metadata": {},
   "outputs": [
    {
     "data": {
      "text/plain": [
       "0    Good\n",
       "1    Good\n",
       "2    Good\n",
       "3    Good\n",
       "4    Good\n",
       "Name: Credit_Mix, dtype: object"
      ]
     },
     "execution_count": 23,
     "metadata": {},
     "output_type": "execute_result"
    }
   ],
   "source": [
    "df['Credit_Mix'].head()"
   ]
  },
  {
   "cell_type": "code",
   "execution_count": 24,
   "metadata": {},
   "outputs": [
    {
     "data": {
      "text/plain": [
       "array(['Good', 'Standard', 'Bad'], dtype=object)"
      ]
     },
     "execution_count": 24,
     "metadata": {},
     "output_type": "execute_result"
    },
    {
     "data": {
      "text/plain": [
       "Standard    45848\n",
       "Good        30384\n",
       "Bad         23768\n",
       "Name: Credit_Mix, dtype: int64"
      ]
     },
     "execution_count": 24,
     "metadata": {},
     "output_type": "execute_result"
    }
   ],
   "source": [
    "df['Credit_Mix'].unique()\n",
    "df['Credit_Mix'].value_counts()"
   ]
  },
  {
   "cell_type": "code",
   "execution_count": 25,
   "metadata": {},
   "outputs": [],
   "source": [
    "map_credit_mix = {'Bad' : 0, 'Good' : 1,'Standard' : 2}\n",
    "df['Credit_Mix'] = df['Credit_Mix'].map(map_credit_mix)"
   ]
  },
  {
   "cell_type": "code",
   "execution_count": 26,
   "metadata": {},
   "outputs": [
    {
     "data": {
      "text/plain": [
       "array([1, 2, 0], dtype=int64)"
      ]
     },
     "execution_count": 26,
     "metadata": {},
     "output_type": "execute_result"
    },
    {
     "data": {
      "text/plain": [
       "2    45848\n",
       "1    30384\n",
       "0    23768\n",
       "Name: Credit_Mix, dtype: int64"
      ]
     },
     "execution_count": 26,
     "metadata": {},
     "output_type": "execute_result"
    }
   ],
   "source": [
    "df['Credit_Mix'].unique()\n",
    "df['Credit_Mix'].value_counts()"
   ]
  },
  {
   "cell_type": "markdown",
   "metadata": {},
   "source": [
    "### Payment_of_Min_Amount"
   ]
  },
  {
   "cell_type": "code",
   "execution_count": 27,
   "metadata": {},
   "outputs": [
    {
     "data": {
      "text/plain": [
       "0    No\n",
       "1    No\n",
       "2    No\n",
       "3    No\n",
       "4    No\n",
       "Name: Payment_of_Min_Amount, dtype: object"
      ]
     },
     "execution_count": 27,
     "metadata": {},
     "output_type": "execute_result"
    }
   ],
   "source": [
    "df['Payment_of_Min_Amount'].head()"
   ]
  },
  {
   "cell_type": "code",
   "execution_count": 28,
   "metadata": {},
   "outputs": [
    {
     "data": {
      "text/plain": [
       "array(['No', 'Yes'], dtype=object)"
      ]
     },
     "execution_count": 28,
     "metadata": {},
     "output_type": "execute_result"
    },
    {
     "data": {
      "text/plain": [
       "Yes    59432\n",
       "No     40568\n",
       "Name: Payment_of_Min_Amount, dtype: int64"
      ]
     },
     "execution_count": 28,
     "metadata": {},
     "output_type": "execute_result"
    }
   ],
   "source": [
    "df['Payment_of_Min_Amount'].unique()\n",
    "df['Payment_of_Min_Amount'].value_counts()"
   ]
  },
  {
   "cell_type": "code",
   "execution_count": 29,
   "metadata": {},
   "outputs": [],
   "source": [
    "map_payment_of_min_amount = {'Yes' : 1, 'No' : 0}\n",
    "df['Payment_of_Min_Amount'] = df['Payment_of_Min_Amount'].map(map_payment_of_min_amount)"
   ]
  },
  {
   "cell_type": "code",
   "execution_count": 30,
   "metadata": {},
   "outputs": [
    {
     "data": {
      "text/plain": [
       "array([0, 1], dtype=int64)"
      ]
     },
     "execution_count": 30,
     "metadata": {},
     "output_type": "execute_result"
    },
    {
     "data": {
      "text/plain": [
       "1    59432\n",
       "0    40568\n",
       "Name: Payment_of_Min_Amount, dtype: int64"
      ]
     },
     "execution_count": 30,
     "metadata": {},
     "output_type": "execute_result"
    }
   ],
   "source": [
    "df['Payment_of_Min_Amount'].unique()\n",
    "df['Payment_of_Min_Amount'].value_counts()"
   ]
  },
  {
   "cell_type": "code",
   "execution_count": 31,
   "metadata": {},
   "outputs": [
    {
     "name": "stdout",
     "output_type": "stream",
     "text": [
      "<class 'pandas.core.frame.DataFrame'>\n",
      "RangeIndex: 100000 entries, 0 to 99999\n",
      "Data columns (total 24 columns):\n",
      " #   Column                    Non-Null Count   Dtype  \n",
      "---  ------                    --------------   -----  \n",
      " 0   SSN                       100000 non-null  int64  \n",
      " 1   Monthly_Inhand_Salary     100000 non-null  float64\n",
      " 2   Num_Bank_Accounts         100000 non-null  int64  \n",
      " 3   Num_Credit_Card           100000 non-null  int64  \n",
      " 4   Interest_Rate             100000 non-null  int64  \n",
      " 5   Delay_from_due_date       100000 non-null  int64  \n",
      " 6   Changed_Credit_Limit      100000 non-null  float64\n",
      " 7   Credit_Mix                100000 non-null  int64  \n",
      " 8   Outstanding_Debt          100000 non-null  float64\n",
      " 9   Credit_Utilization_Ratio  100000 non-null  float64\n",
      " 10  Auto                      100000 non-null  int64  \n",
      " 11  Credit-Builder            100000 non-null  int64  \n",
      " 12  DebtConsolidation         100000 non-null  int64  \n",
      " 13  HomeEquity                100000 non-null  int64  \n",
      " 14  Mortgage                  100000 non-null  int64  \n",
      " 15  NotSpecified              100000 non-null  int64  \n",
      " 16  Payday                    100000 non-null  int64  \n",
      " 17  Personal                  100000 non-null  int64  \n",
      " 18  Student                   100000 non-null  int64  \n",
      " 19  Credit_History_Age        100000 non-null  int64  \n",
      " 20  Payment_of_Min_Amount     100000 non-null  int64  \n",
      " 21  Payment_Behaviour         100000 non-null  object \n",
      " 22  Monthly_Balance           100000 non-null  float64\n",
      " 23  Credit_Score              100000 non-null  object \n",
      "dtypes: float64(5), int64(17), object(2)\n",
      "memory usage: 18.3+ MB\n"
     ]
    }
   ],
   "source": [
    "df.info()"
   ]
  },
  {
   "cell_type": "markdown",
   "metadata": {},
   "source": [
    "### Payment_Behaviour"
   ]
  },
  {
   "cell_type": "code",
   "execution_count": 32,
   "metadata": {},
   "outputs": [
    {
     "data": {
      "text/plain": [
       "array(['High_spent_Small_value_payments',\n",
       "       'Low_spent_Large_value_payments',\n",
       "       'Low_spent_Medium_value_payments',\n",
       "       'Low_spent_Small_value_payments',\n",
       "       'High_spent_Medium_value_payments', 'NotSpecified',\n",
       "       'High_spent_Large_value_payments'], dtype=object)"
      ]
     },
     "execution_count": 32,
     "metadata": {},
     "output_type": "execute_result"
    },
    {
     "data": {
      "text/plain": [
       "Low_spent_Small_value_payments      25513\n",
       "High_spent_Medium_value_payments    17540\n",
       "Low_spent_Medium_value_payments     13861\n",
       "High_spent_Large_value_payments     13721\n",
       "High_spent_Small_value_payments     11340\n",
       "Low_spent_Large_value_payments      10425\n",
       "NotSpecified                         7600\n",
       "Name: Payment_Behaviour, dtype: int64"
      ]
     },
     "execution_count": 32,
     "metadata": {},
     "output_type": "execute_result"
    }
   ],
   "source": [
    "df['Payment_Behaviour'].unique()\n",
    "df['Payment_Behaviour'].value_counts()"
   ]
  },
  {
   "cell_type": "code",
   "execution_count": 33,
   "metadata": {},
   "outputs": [],
   "source": [
    "df['Payment_Behaviour'] = le.fit_transform(df['Payment_Behaviour'])"
   ]
  },
  {
   "cell_type": "code",
   "execution_count": 34,
   "metadata": {},
   "outputs": [
    {
     "data": {
      "text/plain": [
       "array([2, 3, 4, 5, 1, 6, 0])"
      ]
     },
     "execution_count": 34,
     "metadata": {},
     "output_type": "execute_result"
    },
    {
     "data": {
      "text/plain": [
       "5    25513\n",
       "1    17540\n",
       "4    13861\n",
       "0    13721\n",
       "2    11340\n",
       "3    10425\n",
       "6     7600\n",
       "Name: Payment_Behaviour, dtype: int64"
      ]
     },
     "execution_count": 34,
     "metadata": {},
     "output_type": "execute_result"
    }
   ],
   "source": [
    "df['Payment_Behaviour'].unique()\n",
    "df['Payment_Behaviour'].value_counts()"
   ]
  },
  {
   "cell_type": "code",
   "execution_count": 35,
   "metadata": {},
   "outputs": [
    {
     "name": "stdout",
     "output_type": "stream",
     "text": [
      "<class 'pandas.core.frame.DataFrame'>\n",
      "RangeIndex: 100000 entries, 0 to 99999\n",
      "Data columns (total 24 columns):\n",
      " #   Column                    Non-Null Count   Dtype  \n",
      "---  ------                    --------------   -----  \n",
      " 0   SSN                       100000 non-null  int64  \n",
      " 1   Monthly_Inhand_Salary     100000 non-null  float64\n",
      " 2   Num_Bank_Accounts         100000 non-null  int64  \n",
      " 3   Num_Credit_Card           100000 non-null  int64  \n",
      " 4   Interest_Rate             100000 non-null  int64  \n",
      " 5   Delay_from_due_date       100000 non-null  int64  \n",
      " 6   Changed_Credit_Limit      100000 non-null  float64\n",
      " 7   Credit_Mix                100000 non-null  int64  \n",
      " 8   Outstanding_Debt          100000 non-null  float64\n",
      " 9   Credit_Utilization_Ratio  100000 non-null  float64\n",
      " 10  Auto                      100000 non-null  int64  \n",
      " 11  Credit-Builder            100000 non-null  int64  \n",
      " 12  DebtConsolidation         100000 non-null  int64  \n",
      " 13  HomeEquity                100000 non-null  int64  \n",
      " 14  Mortgage                  100000 non-null  int64  \n",
      " 15  NotSpecified              100000 non-null  int64  \n",
      " 16  Payday                    100000 non-null  int64  \n",
      " 17  Personal                  100000 non-null  int64  \n",
      " 18  Student                   100000 non-null  int64  \n",
      " 19  Credit_History_Age        100000 non-null  int64  \n",
      " 20  Payment_of_Min_Amount     100000 non-null  int64  \n",
      " 21  Payment_Behaviour         100000 non-null  int32  \n",
      " 22  Monthly_Balance           100000 non-null  float64\n",
      " 23  Credit_Score              100000 non-null  object \n",
      "dtypes: float64(5), int32(1), int64(17), object(1)\n",
      "memory usage: 17.9+ MB\n"
     ]
    }
   ],
   "source": [
    "df.info()"
   ]
  },
  {
   "cell_type": "markdown",
   "metadata": {},
   "source": [
    "### Credit_Score"
   ]
  },
  {
   "cell_type": "code",
   "execution_count": 36,
   "metadata": {},
   "outputs": [
    {
     "data": {
      "text/plain": [
       "array(['Good', 'Standard', 'Poor'], dtype=object)"
      ]
     },
     "execution_count": 36,
     "metadata": {},
     "output_type": "execute_result"
    },
    {
     "data": {
      "text/plain": [
       "Standard    53174\n",
       "Poor        28998\n",
       "Good        17828\n",
       "Name: Credit_Score, dtype: int64"
      ]
     },
     "execution_count": 36,
     "metadata": {},
     "output_type": "execute_result"
    }
   ],
   "source": [
    "df['Credit_Score'].unique()\n",
    "df['Credit_Score'].value_counts()"
   ]
  },
  {
   "cell_type": "code",
   "execution_count": 37,
   "metadata": {},
   "outputs": [],
   "source": [
    "map_credit_score   = {'Good' : 0,'Poor' : 1, 'Standard' : 2}\n",
    "df['Credit_Score'] = df['Credit_Score'].map(map_credit_score)"
   ]
  },
  {
   "cell_type": "code",
   "execution_count": 38,
   "metadata": {},
   "outputs": [
    {
     "data": {
      "text/plain": [
       "array([0, 2, 1], dtype=int64)"
      ]
     },
     "execution_count": 38,
     "metadata": {},
     "output_type": "execute_result"
    },
    {
     "data": {
      "text/plain": [
       "2    53174\n",
       "1    28998\n",
       "0    17828\n",
       "Name: Credit_Score, dtype: int64"
      ]
     },
     "execution_count": 38,
     "metadata": {},
     "output_type": "execute_result"
    }
   ],
   "source": [
    "df['Credit_Score'].unique()\n",
    "df['Credit_Score'].value_counts()"
   ]
  },
  {
   "attachments": {},
   "cell_type": "markdown",
   "metadata": {},
   "source": [
    "## Select Features"
   ]
  },
  {
   "cell_type": "code",
   "execution_count": 39,
   "metadata": {},
   "outputs": [],
   "source": [
    "X,y=df.drop(columns = ['Credit_Score'],axis=1),df['Credit_Score']"
   ]
  },
  {
   "cell_type": "code",
   "execution_count": 40,
   "metadata": {},
   "outputs": [
    {
     "data": {
      "text/plain": [
       "SSN                         0.011919\n",
       "Monthly_Inhand_Salary      -0.078955\n",
       "Num_Bank_Accounts           0.173234\n",
       "Num_Credit_Card             0.109595\n",
       "Interest_Rate               0.120170\n",
       "Delay_from_due_date         0.096984\n",
       "Changed_Credit_Limit        0.188842\n",
       "Credit_Mix                  0.229920\n",
       "Outstanding_Debt            0.037153\n",
       "Credit_Utilization_Ratio   -0.014371\n",
       "Auto                        0.026571\n",
       "Credit-Builder              0.024562\n",
       "DebtConsolidation           0.032146\n",
       "HomeEquity                  0.026376\n",
       "Mortgage                    0.020499\n",
       "NotSpecified               -0.010108\n",
       "Payday                      0.025630\n",
       "Personal                    0.036713\n",
       "Student                     0.016661\n",
       "Credit_History_Age         -0.102603\n",
       "Payment_of_Min_Amount       0.278235\n",
       "Payment_Behaviour           0.018793\n",
       "Monthly_Balance            -0.061176\n",
       "dtype: float64"
      ]
     },
     "execution_count": 40,
     "metadata": {},
     "output_type": "execute_result"
    }
   ],
   "source": [
    "X.corrwith(y)"
   ]
  },
  {
   "cell_type": "markdown",
   "metadata": {},
   "source": [
    "### Selecting Features"
   ]
  },
  {
   "cell_type": "code",
   "execution_count": 41,
   "metadata": {},
   "outputs": [],
   "source": [
    "columns_to_drop =[]\n",
    "for col in X.columns:\n",
    "    if abs(X[col].corr(y)) < 0.05:\n",
    "        columns_to_drop.append(col)"
   ]
  },
  {
   "cell_type": "code",
   "execution_count": 42,
   "metadata": {},
   "outputs": [
    {
     "data": {
      "text/plain": [
       "['SSN',\n",
       " 'Outstanding_Debt',\n",
       " 'Credit_Utilization_Ratio',\n",
       " 'Auto',\n",
       " 'Credit-Builder',\n",
       " 'DebtConsolidation',\n",
       " 'HomeEquity',\n",
       " 'Mortgage',\n",
       " 'NotSpecified',\n",
       " 'Payday',\n",
       " 'Personal',\n",
       " 'Student',\n",
       " 'Payment_Behaviour']"
      ]
     },
     "execution_count": 42,
     "metadata": {},
     "output_type": "execute_result"
    }
   ],
   "source": [
    "columns_to_drop"
   ]
  },
  {
   "cell_type": "code",
   "execution_count": 43,
   "metadata": {},
   "outputs": [],
   "source": [
    "X,y=df.drop(columns = columns_to_drop,axis=1),df['Credit_Score']"
   ]
  },
  {
   "cell_type": "code",
   "execution_count": 44,
   "metadata": {},
   "outputs": [
    {
     "data": {
      "text/html": [
       "<div>\n",
       "<style scoped>\n",
       "    .dataframe tbody tr th:only-of-type {\n",
       "        vertical-align: middle;\n",
       "    }\n",
       "\n",
       "    .dataframe tbody tr th {\n",
       "        vertical-align: top;\n",
       "    }\n",
       "\n",
       "    .dataframe thead th {\n",
       "        text-align: right;\n",
       "    }\n",
       "</style>\n",
       "<table border=\"1\" class=\"dataframe\">\n",
       "  <thead>\n",
       "    <tr style=\"text-align: right;\">\n",
       "      <th></th>\n",
       "      <th>Monthly_Inhand_Salary</th>\n",
       "      <th>Num_Bank_Accounts</th>\n",
       "      <th>Num_Credit_Card</th>\n",
       "      <th>Interest_Rate</th>\n",
       "      <th>Delay_from_due_date</th>\n",
       "      <th>Changed_Credit_Limit</th>\n",
       "      <th>Credit_Mix</th>\n",
       "      <th>Credit_History_Age</th>\n",
       "      <th>Payment_of_Min_Amount</th>\n",
       "      <th>Monthly_Balance</th>\n",
       "      <th>Credit_Score</th>\n",
       "    </tr>\n",
       "  </thead>\n",
       "  <tbody>\n",
       "    <tr>\n",
       "      <th>0</th>\n",
       "      <td>1824.843333</td>\n",
       "      <td>3</td>\n",
       "      <td>4</td>\n",
       "      <td>3</td>\n",
       "      <td>3</td>\n",
       "      <td>11.27</td>\n",
       "      <td>1</td>\n",
       "      <td>265</td>\n",
       "      <td>0</td>\n",
       "      <td>312.494089</td>\n",
       "      <td>0</td>\n",
       "    </tr>\n",
       "    <tr>\n",
       "      <th>1</th>\n",
       "      <td>1824.843333</td>\n",
       "      <td>3</td>\n",
       "      <td>4</td>\n",
       "      <td>3</td>\n",
       "      <td>3</td>\n",
       "      <td>11.27</td>\n",
       "      <td>1</td>\n",
       "      <td>266</td>\n",
       "      <td>0</td>\n",
       "      <td>284.629162</td>\n",
       "      <td>0</td>\n",
       "    </tr>\n",
       "    <tr>\n",
       "      <th>2</th>\n",
       "      <td>1824.843333</td>\n",
       "      <td>3</td>\n",
       "      <td>4</td>\n",
       "      <td>3</td>\n",
       "      <td>3</td>\n",
       "      <td>11.27</td>\n",
       "      <td>1</td>\n",
       "      <td>267</td>\n",
       "      <td>0</td>\n",
       "      <td>331.209863</td>\n",
       "      <td>0</td>\n",
       "    </tr>\n",
       "    <tr>\n",
       "      <th>3</th>\n",
       "      <td>1824.843333</td>\n",
       "      <td>3</td>\n",
       "      <td>4</td>\n",
       "      <td>3</td>\n",
       "      <td>5</td>\n",
       "      <td>6.27</td>\n",
       "      <td>1</td>\n",
       "      <td>268</td>\n",
       "      <td>0</td>\n",
       "      <td>223.451310</td>\n",
       "      <td>0</td>\n",
       "    </tr>\n",
       "    <tr>\n",
       "      <th>4</th>\n",
       "      <td>1824.843333</td>\n",
       "      <td>3</td>\n",
       "      <td>4</td>\n",
       "      <td>3</td>\n",
       "      <td>6</td>\n",
       "      <td>11.27</td>\n",
       "      <td>1</td>\n",
       "      <td>269</td>\n",
       "      <td>0</td>\n",
       "      <td>341.489231</td>\n",
       "      <td>0</td>\n",
       "    </tr>\n",
       "  </tbody>\n",
       "</table>\n",
       "</div>"
      ],
      "text/plain": [
       "   Monthly_Inhand_Salary  Num_Bank_Accounts  Num_Credit_Card  Interest_Rate  \\\n",
       "0            1824.843333                  3                4              3   \n",
       "1            1824.843333                  3                4              3   \n",
       "2            1824.843333                  3                4              3   \n",
       "3            1824.843333                  3                4              3   \n",
       "4            1824.843333                  3                4              3   \n",
       "\n",
       "   Delay_from_due_date  Changed_Credit_Limit  Credit_Mix  Credit_History_Age  \\\n",
       "0                    3                 11.27           1                 265   \n",
       "1                    3                 11.27           1                 266   \n",
       "2                    3                 11.27           1                 267   \n",
       "3                    5                  6.27           1                 268   \n",
       "4                    6                 11.27           1                 269   \n",
       "\n",
       "   Payment_of_Min_Amount  Monthly_Balance  Credit_Score  \n",
       "0                      0       312.494089             0  \n",
       "1                      0       284.629162             0  \n",
       "2                      0       331.209863             0  \n",
       "3                      0       223.451310             0  \n",
       "4                      0       341.489231             0  "
      ]
     },
     "execution_count": 44,
     "metadata": {},
     "output_type": "execute_result"
    }
   ],
   "source": [
    "X.head()"
   ]
  },
  {
   "cell_type": "code",
   "execution_count": 45,
   "metadata": {},
   "outputs": [],
   "source": [
    "train_X,test_X,train_y,test_y = train_test_split(X , y , test_size = 0.2, random_state = 11)"
   ]
  },
  {
   "cell_type": "markdown",
   "metadata": {},
   "source": [
    "# Training"
   ]
  },
  {
   "cell_type": "code",
   "execution_count": 46,
   "metadata": {},
   "outputs": [],
   "source": [
    "Category_class = ['Good','Poor','Standard']"
   ]
  },
  {
   "cell_type": "markdown",
   "metadata": {},
   "source": [
    "## KNN"
   ]
  },
  {
   "cell_type": "code",
   "execution_count": 47,
   "metadata": {},
   "outputs": [],
   "source": [
    "params = {'n_neighbors':[5,7,9,11,13],\n",
    "        'metric':['cosine','euclidean','manhattan'],\n",
    "        'weights':['uniform','distance']}"
   ]
  },
  {
   "cell_type": "code",
   "execution_count": 48,
   "metadata": {},
   "outputs": [
    {
     "name": "stdout",
     "output_type": "stream",
     "text": [
      "Training with hyper parameters: {'n_neighbors': 5, 'metric': 'cosine', 'weights': 'uniform'}\n"
     ]
    },
    {
     "data": {
      "text/plain": [
       "KNeighborsClassifier(metric='cosine')"
      ]
     },
     "execution_count": 48,
     "metadata": {},
     "output_type": "execute_result"
    },
    {
     "name": "stdout",
     "output_type": "stream",
     "text": [
      "Train Accuracy Score : 0.7518875\n",
      "Test Accuracy Score  : 0.6239\n",
      "---------------------------------------------------------------------------------------------------------\n",
      "Training with hyper parameters: {'n_neighbors': 5, 'metric': 'cosine', 'weights': 'distance'}\n"
     ]
    },
    {
     "data": {
      "text/plain": [
       "KNeighborsClassifier(metric='cosine', weights='distance')"
      ]
     },
     "execution_count": 48,
     "metadata": {},
     "output_type": "execute_result"
    },
    {
     "name": "stdout",
     "output_type": "stream",
     "text": [
      "Train Accuracy Score : 1.0\n",
      "Test Accuracy Score  : 0.6454\n",
      "---------------------------------------------------------------------------------------------------------\n",
      "Training with hyper parameters: {'n_neighbors': 5, 'metric': 'euclidean', 'weights': 'uniform'}\n"
     ]
    },
    {
     "data": {
      "text/plain": [
       "KNeighborsClassifier(metric='euclidean')"
      ]
     },
     "execution_count": 48,
     "metadata": {},
     "output_type": "execute_result"
    },
    {
     "name": "stdout",
     "output_type": "stream",
     "text": [
      "Train Accuracy Score : 0.7546\n",
      "Test Accuracy Score  : 0.61825\n",
      "---------------------------------------------------------------------------------------------------------\n",
      "Training with hyper parameters: {'n_neighbors': 5, 'metric': 'euclidean', 'weights': 'distance'}\n"
     ]
    },
    {
     "data": {
      "text/plain": [
       "KNeighborsClassifier(metric='euclidean', weights='distance')"
      ]
     },
     "execution_count": 48,
     "metadata": {},
     "output_type": "execute_result"
    },
    {
     "name": "stdout",
     "output_type": "stream",
     "text": [
      "Train Accuracy Score : 1.0\n",
      "Test Accuracy Score  : 0.6626\n",
      "---------------------------------------------------------------------------------------------------------\n",
      "Training with hyper parameters: {'n_neighbors': 5, 'metric': 'manhattan', 'weights': 'uniform'}\n"
     ]
    },
    {
     "data": {
      "text/plain": [
       "KNeighborsClassifier(metric='manhattan')"
      ]
     },
     "execution_count": 48,
     "metadata": {},
     "output_type": "execute_result"
    },
    {
     "name": "stdout",
     "output_type": "stream",
     "text": [
      "Train Accuracy Score : 0.8161875\n",
      "Test Accuracy Score  : 0.70835\n",
      "---------------------------------------------------------------------------------------------------------\n",
      "Training with hyper parameters: {'n_neighbors': 5, 'metric': 'manhattan', 'weights': 'distance'}\n"
     ]
    },
    {
     "data": {
      "text/plain": [
       "KNeighborsClassifier(metric='manhattan', weights='distance')"
      ]
     },
     "execution_count": 48,
     "metadata": {},
     "output_type": "execute_result"
    },
    {
     "name": "stdout",
     "output_type": "stream",
     "text": [
      "Train Accuracy Score : 1.0\n",
      "Test Accuracy Score  : 0.7388\n",
      "---------------------------------------------------------------------------------------------------------\n",
      "Training with hyper parameters: {'n_neighbors': 7, 'metric': 'cosine', 'weights': 'uniform'}\n"
     ]
    },
    {
     "data": {
      "text/plain": [
       "KNeighborsClassifier(metric='cosine', n_neighbors=7)"
      ]
     },
     "execution_count": 48,
     "metadata": {},
     "output_type": "execute_result"
    },
    {
     "name": "stdout",
     "output_type": "stream",
     "text": [
      "Train Accuracy Score : 0.7269375\n",
      "Test Accuracy Score  : 0.6317\n",
      "---------------------------------------------------------------------------------------------------------\n",
      "Training with hyper parameters: {'n_neighbors': 7, 'metric': 'cosine', 'weights': 'distance'}\n"
     ]
    },
    {
     "data": {
      "text/plain": [
       "KNeighborsClassifier(metric='cosine', n_neighbors=7, weights='distance')"
      ]
     },
     "execution_count": 48,
     "metadata": {},
     "output_type": "execute_result"
    },
    {
     "name": "stdout",
     "output_type": "stream",
     "text": [
      "Train Accuracy Score : 1.0\n",
      "Test Accuracy Score  : 0.6535\n",
      "---------------------------------------------------------------------------------------------------------\n",
      "Training with hyper parameters: {'n_neighbors': 7, 'metric': 'euclidean', 'weights': 'uniform'}\n"
     ]
    },
    {
     "data": {
      "text/plain": [
       "KNeighborsClassifier(metric='euclidean', n_neighbors=7)"
      ]
     },
     "execution_count": 48,
     "metadata": {},
     "output_type": "execute_result"
    },
    {
     "name": "stdout",
     "output_type": "stream",
     "text": [
      "Train Accuracy Score : 0.7216625\n",
      "Test Accuracy Score  : 0.61235\n",
      "---------------------------------------------------------------------------------------------------------\n",
      "Training with hyper parameters: {'n_neighbors': 7, 'metric': 'euclidean', 'weights': 'distance'}\n"
     ]
    },
    {
     "data": {
      "text/plain": [
       "KNeighborsClassifier(metric='euclidean', n_neighbors=7, weights='distance')"
      ]
     },
     "execution_count": 48,
     "metadata": {},
     "output_type": "execute_result"
    },
    {
     "name": "stdout",
     "output_type": "stream",
     "text": [
      "Train Accuracy Score : 1.0\n",
      "Test Accuracy Score  : 0.6632\n",
      "---------------------------------------------------------------------------------------------------------\n",
      "Training with hyper parameters: {'n_neighbors': 7, 'metric': 'manhattan', 'weights': 'uniform'}\n"
     ]
    },
    {
     "data": {
      "text/plain": [
       "KNeighborsClassifier(metric='manhattan', n_neighbors=7)"
      ]
     },
     "execution_count": 48,
     "metadata": {},
     "output_type": "execute_result"
    },
    {
     "name": "stdout",
     "output_type": "stream",
     "text": [
      "Train Accuracy Score : 0.790775\n",
      "Test Accuracy Score  : 0.70185\n",
      "---------------------------------------------------------------------------------------------------------\n",
      "Training with hyper parameters: {'n_neighbors': 7, 'metric': 'manhattan', 'weights': 'distance'}\n"
     ]
    },
    {
     "data": {
      "text/plain": [
       "KNeighborsClassifier(metric='manhattan', n_neighbors=7, weights='distance')"
      ]
     },
     "execution_count": 48,
     "metadata": {},
     "output_type": "execute_result"
    },
    {
     "name": "stdout",
     "output_type": "stream",
     "text": [
      "Train Accuracy Score : 1.0\n",
      "Test Accuracy Score  : 0.7384\n",
      "---------------------------------------------------------------------------------------------------------\n",
      "Training with hyper parameters: {'n_neighbors': 9, 'metric': 'cosine', 'weights': 'uniform'}\n"
     ]
    },
    {
     "data": {
      "text/plain": [
       "KNeighborsClassifier(metric='cosine', n_neighbors=9)"
      ]
     },
     "execution_count": 48,
     "metadata": {},
     "output_type": "execute_result"
    },
    {
     "name": "stdout",
     "output_type": "stream",
     "text": [
      "Train Accuracy Score : 0.7110375\n",
      "Test Accuracy Score  : 0.63505\n",
      "---------------------------------------------------------------------------------------------------------\n",
      "Training with hyper parameters: {'n_neighbors': 9, 'metric': 'cosine', 'weights': 'distance'}\n"
     ]
    },
    {
     "data": {
      "text/plain": [
       "KNeighborsClassifier(metric='cosine', n_neighbors=9, weights='distance')"
      ]
     },
     "execution_count": 48,
     "metadata": {},
     "output_type": "execute_result"
    },
    {
     "name": "stdout",
     "output_type": "stream",
     "text": [
      "Train Accuracy Score : 1.0\n",
      "Test Accuracy Score  : 0.6572\n",
      "---------------------------------------------------------------------------------------------------------\n",
      "Training with hyper parameters: {'n_neighbors': 9, 'metric': 'euclidean', 'weights': 'uniform'}\n"
     ]
    },
    {
     "data": {
      "text/plain": [
       "KNeighborsClassifier(metric='euclidean', n_neighbors=9)"
      ]
     },
     "execution_count": 48,
     "metadata": {},
     "output_type": "execute_result"
    },
    {
     "name": "stdout",
     "output_type": "stream",
     "text": [
      "Train Accuracy Score : 0.70145\n",
      "Test Accuracy Score  : 0.6087\n",
      "---------------------------------------------------------------------------------------------------------\n",
      "Training with hyper parameters: {'n_neighbors': 9, 'metric': 'euclidean', 'weights': 'distance'}\n"
     ]
    },
    {
     "data": {
      "text/plain": [
       "KNeighborsClassifier(metric='euclidean', n_neighbors=9, weights='distance')"
      ]
     },
     "execution_count": 48,
     "metadata": {},
     "output_type": "execute_result"
    },
    {
     "name": "stdout",
     "output_type": "stream",
     "text": [
      "Train Accuracy Score : 1.0\n",
      "Test Accuracy Score  : 0.65715\n",
      "---------------------------------------------------------------------------------------------------------\n",
      "Training with hyper parameters: {'n_neighbors': 9, 'metric': 'manhattan', 'weights': 'uniform'}\n"
     ]
    },
    {
     "data": {
      "text/plain": [
       "KNeighborsClassifier(metric='manhattan', n_neighbors=9)"
      ]
     },
     "execution_count": 48,
     "metadata": {},
     "output_type": "execute_result"
    },
    {
     "name": "stdout",
     "output_type": "stream",
     "text": [
      "Train Accuracy Score : 0.7711125\n",
      "Test Accuracy Score  : 0.6951\n",
      "---------------------------------------------------------------------------------------------------------\n",
      "Training with hyper parameters: {'n_neighbors': 9, 'metric': 'manhattan', 'weights': 'distance'}\n"
     ]
    },
    {
     "data": {
      "text/plain": [
       "KNeighborsClassifier(metric='manhattan', n_neighbors=9, weights='distance')"
      ]
     },
     "execution_count": 48,
     "metadata": {},
     "output_type": "execute_result"
    },
    {
     "name": "stdout",
     "output_type": "stream",
     "text": [
      "Train Accuracy Score : 1.0\n",
      "Test Accuracy Score  : 0.73875\n",
      "---------------------------------------------------------------------------------------------------------\n",
      "Training with hyper parameters: {'n_neighbors': 11, 'metric': 'cosine', 'weights': 'uniform'}\n"
     ]
    },
    {
     "data": {
      "text/plain": [
       "KNeighborsClassifier(metric='cosine', n_neighbors=11)"
      ]
     },
     "execution_count": 48,
     "metadata": {},
     "output_type": "execute_result"
    },
    {
     "name": "stdout",
     "output_type": "stream",
     "text": [
      "Train Accuracy Score : 0.7008\n",
      "Test Accuracy Score  : 0.63215\n",
      "---------------------------------------------------------------------------------------------------------\n",
      "Training with hyper parameters: {'n_neighbors': 11, 'metric': 'cosine', 'weights': 'distance'}\n"
     ]
    },
    {
     "data": {
      "text/plain": [
       "KNeighborsClassifier(metric='cosine', n_neighbors=11, weights='distance')"
      ]
     },
     "execution_count": 48,
     "metadata": {},
     "output_type": "execute_result"
    },
    {
     "name": "stdout",
     "output_type": "stream",
     "text": [
      "Train Accuracy Score : 1.0\n",
      "Test Accuracy Score  : 0.6575\n",
      "---------------------------------------------------------------------------------------------------------\n",
      "Training with hyper parameters: {'n_neighbors': 11, 'metric': 'euclidean', 'weights': 'uniform'}\n"
     ]
    },
    {
     "data": {
      "text/plain": [
       "KNeighborsClassifier(metric='euclidean', n_neighbors=11)"
      ]
     },
     "execution_count": 48,
     "metadata": {},
     "output_type": "execute_result"
    },
    {
     "name": "stdout",
     "output_type": "stream",
     "text": [
      "Train Accuracy Score : 0.6872625\n",
      "Test Accuracy Score  : 0.60845\n",
      "---------------------------------------------------------------------------------------------------------\n",
      "Training with hyper parameters: {'n_neighbors': 11, 'metric': 'euclidean', 'weights': 'distance'}\n"
     ]
    },
    {
     "data": {
      "text/plain": [
       "KNeighborsClassifier(metric='euclidean', n_neighbors=11, weights='distance')"
      ]
     },
     "execution_count": 48,
     "metadata": {},
     "output_type": "execute_result"
    },
    {
     "name": "stdout",
     "output_type": "stream",
     "text": [
      "Train Accuracy Score : 1.0\n",
      "Test Accuracy Score  : 0.65745\n",
      "---------------------------------------------------------------------------------------------------------\n",
      "Training with hyper parameters: {'n_neighbors': 11, 'metric': 'manhattan', 'weights': 'uniform'}\n"
     ]
    },
    {
     "data": {
      "text/plain": [
       "KNeighborsClassifier(metric='manhattan', n_neighbors=11)"
      ]
     },
     "execution_count": 48,
     "metadata": {},
     "output_type": "execute_result"
    },
    {
     "name": "stdout",
     "output_type": "stream",
     "text": [
      "Train Accuracy Score : 0.7566\n",
      "Test Accuracy Score  : 0.68685\n",
      "---------------------------------------------------------------------------------------------------------\n",
      "Training with hyper parameters: {'n_neighbors': 11, 'metric': 'manhattan', 'weights': 'distance'}\n"
     ]
    },
    {
     "data": {
      "text/plain": [
       "KNeighborsClassifier(metric='manhattan', n_neighbors=11, weights='distance')"
      ]
     },
     "execution_count": 48,
     "metadata": {},
     "output_type": "execute_result"
    },
    {
     "name": "stdout",
     "output_type": "stream",
     "text": [
      "Train Accuracy Score : 1.0\n",
      "Test Accuracy Score  : 0.7368\n",
      "---------------------------------------------------------------------------------------------------------\n",
      "Training with hyper parameters: {'n_neighbors': 13, 'metric': 'cosine', 'weights': 'uniform'}\n"
     ]
    },
    {
     "data": {
      "text/plain": [
       "KNeighborsClassifier(metric='cosine', n_neighbors=13)"
      ]
     },
     "execution_count": 48,
     "metadata": {},
     "output_type": "execute_result"
    },
    {
     "name": "stdout",
     "output_type": "stream",
     "text": [
      "Train Accuracy Score : 0.6929375\n",
      "Test Accuracy Score  : 0.6343\n",
      "---------------------------------------------------------------------------------------------------------\n",
      "Training with hyper parameters: {'n_neighbors': 13, 'metric': 'cosine', 'weights': 'distance'}\n"
     ]
    },
    {
     "data": {
      "text/plain": [
       "KNeighborsClassifier(metric='cosine', n_neighbors=13, weights='distance')"
      ]
     },
     "execution_count": 48,
     "metadata": {},
     "output_type": "execute_result"
    },
    {
     "name": "stdout",
     "output_type": "stream",
     "text": [
      "Train Accuracy Score : 1.0\n",
      "Test Accuracy Score  : 0.65915\n",
      "---------------------------------------------------------------------------------------------------------\n",
      "Training with hyper parameters: {'n_neighbors': 13, 'metric': 'euclidean', 'weights': 'uniform'}\n"
     ]
    },
    {
     "data": {
      "text/plain": [
       "KNeighborsClassifier(metric='euclidean', n_neighbors=13)"
      ]
     },
     "execution_count": 48,
     "metadata": {},
     "output_type": "execute_result"
    },
    {
     "name": "stdout",
     "output_type": "stream",
     "text": [
      "Train Accuracy Score : 0.6741875\n",
      "Test Accuracy Score  : 0.6063\n",
      "---------------------------------------------------------------------------------------------------------\n",
      "Training with hyper parameters: {'n_neighbors': 13, 'metric': 'euclidean', 'weights': 'distance'}\n"
     ]
    },
    {
     "data": {
      "text/plain": [
       "KNeighborsClassifier(metric='euclidean', n_neighbors=13, weights='distance')"
      ]
     },
     "execution_count": 48,
     "metadata": {},
     "output_type": "execute_result"
    },
    {
     "name": "stdout",
     "output_type": "stream",
     "text": [
      "Train Accuracy Score : 1.0\n",
      "Test Accuracy Score  : 0.6564\n",
      "---------------------------------------------------------------------------------------------------------\n",
      "Training with hyper parameters: {'n_neighbors': 13, 'metric': 'manhattan', 'weights': 'uniform'}\n"
     ]
    },
    {
     "data": {
      "text/plain": [
       "KNeighborsClassifier(metric='manhattan', n_neighbors=13)"
      ]
     },
     "execution_count": 48,
     "metadata": {},
     "output_type": "execute_result"
    },
    {
     "name": "stdout",
     "output_type": "stream",
     "text": [
      "Train Accuracy Score : 0.7448375\n",
      "Test Accuracy Score  : 0.68005\n",
      "---------------------------------------------------------------------------------------------------------\n",
      "Training with hyper parameters: {'n_neighbors': 13, 'metric': 'manhattan', 'weights': 'distance'}\n"
     ]
    },
    {
     "data": {
      "text/plain": [
       "KNeighborsClassifier(metric='manhattan', n_neighbors=13, weights='distance')"
      ]
     },
     "execution_count": 48,
     "metadata": {},
     "output_type": "execute_result"
    },
    {
     "name": "stdout",
     "output_type": "stream",
     "text": [
      "Train Accuracy Score : 1.0\n",
      "Test Accuracy Score  : 0.73275\n",
      "---------------------------------------------------------------------------------------------------------\n",
      "Best hyper-parameter : (5, 'manhattan', 'distance')\n",
      "Score :  0.7388\n"
     ]
    }
   ],
   "source": [
    "max_score = 0.001\n",
    "### for selecting the best hyperparameters\n",
    "for combination in itertools.product(*params.values()):\n",
    "    param_dict = dict(zip(params.keys(), combination))\n",
    "    print(\"Training with hyper parameters:\", param_dict)\n",
    "\n",
    "    knn = KNeighborsClassifier(**param_dict)\n",
    "    knn.fit(train_X, train_y)\n",
    "\n",
    "    train_score = knn.score(train_X,train_y)\n",
    "    test_score = knn.score(test_X, test_y)\n",
    "    print(f'Train Accuracy Score : {train_score}')\n",
    "    print(f'Test Accuracy Score  : {test_score}')\n",
    "    print('---------------------------------------------------------------------------------------------------------')\n",
    "    \n",
    "    if test_score > max_score:\n",
    "        max_score = test_score\n",
    "        hyper_parameters = combination\n",
    "print(f'Best hyper-parameter : {hyper_parameters}')\n",
    "print('Score : ', max_score)"
   ]
  },
  {
   "attachments": {},
   "cell_type": "markdown",
   "metadata": {},
   "source": [
    "## Analysis on Best Hyper-Parameters"
   ]
  },
  {
   "cell_type": "code",
   "execution_count": 69,
   "metadata": {},
   "outputs": [
    {
     "data": {
      "text/plain": [
       "KNeighborsClassifier(metric='manhattan', weights='distance')"
      ]
     },
     "execution_count": 69,
     "metadata": {},
     "output_type": "execute_result"
    }
   ],
   "source": [
    "knn = KNeighborsClassifier(n_neighbors = 5, metric = 'manhattan', weights = 'distance')\n",
    "knn.fit(train_X,train_y)"
   ]
  },
  {
   "cell_type": "code",
   "execution_count": 70,
   "metadata": {},
   "outputs": [
    {
     "name": "stdout",
     "output_type": "stream",
     "text": [
      "Train Accuracy Score : 100\n",
      "Test Accuracy Score  : 74\n",
      "\n",
      "              precision    recall  f1-score   support\n",
      "\n",
      "        Good       0.66      0.61      0.64      3520\n",
      "        Poor       0.75      0.73      0.74      5806\n",
      "    Standard       0.76      0.78      0.77     10674\n",
      "\n",
      "    accuracy                           0.74     20000\n",
      "   macro avg       0.72      0.71      0.72     20000\n",
      "weighted avg       0.74      0.74      0.74     20000\n",
      "\n"
     ]
    }
   ],
   "source": [
    "pred_y = knn.predict(test_X)\n",
    "train_accuracy = round(knn.score(train_X, train_y)*100)\n",
    "test_accuracy =round(accuracy_score(test_y, pred_y)*100)\n",
    "\n",
    "print(f\"Train Accuracy Score : {train_accuracy}\")\n",
    "print(f\"Test Accuracy Score  : {test_accuracy}\")\n",
    "print()\n",
    "print(classification_report(test_y, pred_y, target_names=Category_class))"
   ]
  },
  {
   "cell_type": "code",
   "execution_count": 72,
   "metadata": {},
   "outputs": [
    {
     "data": {
      "text/plain": [
       "<AxesSubplot:>"
      ]
     },
     "execution_count": 72,
     "metadata": {},
     "output_type": "execute_result"
    },
    {
     "data": {
      "image/png": "[encoded data removed]",
      "text/plain": [
       "<Figure size 432x288 with 2 Axes>"
      ]
     },
     "metadata": {
      "needs_background": "light"
     },
     "output_type": "display_data"
    }
   ],
   "source": [
    "cf = confusion_matrix(test_y,pred_y)\n",
    "cm_array_df = pd.DataFrame(cf, index = Category_class, columns = Category_class)\n",
    "sns.heatmap(cm_array_df, annot=True, annot_kws={\"size\": 12}, fmt=\".0f\") "
   ]
  },
  {
   "cell_type": "markdown",
   "metadata": {},
   "source": [
    "## Decision Tree"
   ]
  },
  {
   "cell_type": "code",
   "execution_count": 52,
   "metadata": {},
   "outputs": [],
   "source": [
    "params = {'criterion':['gini','entropy'],\n",
    "        'max_depth':[2,4,6,8,10,12]\n",
    "        }"
   ]
  },
  {
   "cell_type": "code",
   "execution_count": 53,
   "metadata": {},
   "outputs": [
    {
     "name": "stdout",
     "output_type": "stream",
     "text": [
      "Training with hyper parameters: {'criterion': 'gini', 'max_depth': 2}\n"
     ]
    },
    {
     "data": {
      "text/plain": [
       "DecisionTreeClassifier(max_depth=2)"
      ]
     },
     "execution_count": 53,
     "metadata": {},
     "output_type": "execute_result"
    },
    {
     "name": "stdout",
     "output_type": "stream",
     "text": [
      "Train Accuracy Score : 1.0\n",
      "Test Accuracy Score  : 1.0\n",
      "---------------------------------------------------------------------------------------------------------\n",
      "Training with hyper parameters: {'criterion': 'gini', 'max_depth': 4}\n"
     ]
    },
    {
     "data": {
      "text/plain": [
       "DecisionTreeClassifier(max_depth=4)"
      ]
     },
     "execution_count": 53,
     "metadata": {},
     "output_type": "execute_result"
    },
    {
     "name": "stdout",
     "output_type": "stream",
     "text": [
      "Train Accuracy Score : 1.0\n",
      "Test Accuracy Score  : 1.0\n",
      "---------------------------------------------------------------------------------------------------------\n",
      "Training with hyper parameters: {'criterion': 'gini', 'max_depth': 6}\n"
     ]
    },
    {
     "data": {
      "text/plain": [
       "DecisionTreeClassifier(max_depth=6)"
      ]
     },
     "execution_count": 53,
     "metadata": {},
     "output_type": "execute_result"
    },
    {
     "name": "stdout",
     "output_type": "stream",
     "text": [
      "Train Accuracy Score : 1.0\n",
      "Test Accuracy Score  : 1.0\n",
      "---------------------------------------------------------------------------------------------------------\n",
      "Training with hyper parameters: {'criterion': 'gini', 'max_depth': 8}\n"
     ]
    },
    {
     "data": {
      "text/plain": [
       "DecisionTreeClassifier(max_depth=8)"
      ]
     },
     "execution_count": 53,
     "metadata": {},
     "output_type": "execute_result"
    },
    {
     "name": "stdout",
     "output_type": "stream",
     "text": [
      "Train Accuracy Score : 1.0\n",
      "Test Accuracy Score  : 1.0\n",
      "---------------------------------------------------------------------------------------------------------\n",
      "Training with hyper parameters: {'criterion': 'gini', 'max_depth': 10}\n"
     ]
    },
    {
     "data": {
      "text/plain": [
       "DecisionTreeClassifier(max_depth=10)"
      ]
     },
     "execution_count": 53,
     "metadata": {},
     "output_type": "execute_result"
    },
    {
     "name": "stdout",
     "output_type": "stream",
     "text": [
      "Train Accuracy Score : 1.0\n",
      "Test Accuracy Score  : 1.0\n",
      "---------------------------------------------------------------------------------------------------------\n",
      "Training with hyper parameters: {'criterion': 'gini', 'max_depth': 12}\n"
     ]
    },
    {
     "data": {
      "text/plain": [
       "DecisionTreeClassifier(max_depth=12)"
      ]
     },
     "execution_count": 53,
     "metadata": {},
     "output_type": "execute_result"
    },
    {
     "name": "stdout",
     "output_type": "stream",
     "text": [
      "Train Accuracy Score : 1.0\n",
      "Test Accuracy Score  : 1.0\n",
      "---------------------------------------------------------------------------------------------------------\n",
      "Training with hyper parameters: {'criterion': 'entropy', 'max_depth': 2}\n"
     ]
    },
    {
     "data": {
      "text/plain": [
       "DecisionTreeClassifier(criterion='entropy', max_depth=2)"
      ]
     },
     "execution_count": 53,
     "metadata": {},
     "output_type": "execute_result"
    },
    {
     "name": "stdout",
     "output_type": "stream",
     "text": [
      "Train Accuracy Score : 1.0\n",
      "Test Accuracy Score  : 1.0\n",
      "---------------------------------------------------------------------------------------------------------\n",
      "Training with hyper parameters: {'criterion': 'entropy', 'max_depth': 4}\n"
     ]
    },
    {
     "data": {
      "text/plain": [
       "DecisionTreeClassifier(criterion='entropy', max_depth=4)"
      ]
     },
     "execution_count": 53,
     "metadata": {},
     "output_type": "execute_result"
    },
    {
     "name": "stdout",
     "output_type": "stream",
     "text": [
      "Train Accuracy Score : 1.0\n",
      "Test Accuracy Score  : 1.0\n",
      "---------------------------------------------------------------------------------------------------------\n",
      "Training with hyper parameters: {'criterion': 'entropy', 'max_depth': 6}\n"
     ]
    },
    {
     "data": {
      "text/plain": [
       "DecisionTreeClassifier(criterion='entropy', max_depth=6)"
      ]
     },
     "execution_count": 53,
     "metadata": {},
     "output_type": "execute_result"
    },
    {
     "name": "stdout",
     "output_type": "stream",
     "text": [
      "Train Accuracy Score : 1.0\n",
      "Test Accuracy Score  : 1.0\n",
      "---------------------------------------------------------------------------------------------------------\n",
      "Training with hyper parameters: {'criterion': 'entropy', 'max_depth': 8}\n"
     ]
    },
    {
     "data": {
      "text/plain": [
       "DecisionTreeClassifier(criterion='entropy', max_depth=8)"
      ]
     },
     "execution_count": 53,
     "metadata": {},
     "output_type": "execute_result"
    },
    {
     "name": "stdout",
     "output_type": "stream",
     "text": [
      "Train Accuracy Score : 1.0\n",
      "Test Accuracy Score  : 1.0\n",
      "---------------------------------------------------------------------------------------------------------\n",
      "Training with hyper parameters: {'criterion': 'entropy', 'max_depth': 10}\n"
     ]
    },
    {
     "data": {
      "text/plain": [
       "DecisionTreeClassifier(criterion='entropy', max_depth=10)"
      ]
     },
     "execution_count": 53,
     "metadata": {},
     "output_type": "execute_result"
    },
    {
     "name": "stdout",
     "output_type": "stream",
     "text": [
      "Train Accuracy Score : 1.0\n",
      "Test Accuracy Score  : 1.0\n",
      "---------------------------------------------------------------------------------------------------------\n",
      "Training with hyper parameters: {'criterion': 'entropy', 'max_depth': 12}\n"
     ]
    },
    {
     "data": {
      "text/plain": [
       "DecisionTreeClassifier(criterion='entropy', max_depth=12)"
      ]
     },
     "execution_count": 53,
     "metadata": {},
     "output_type": "execute_result"
    },
    {
     "name": "stdout",
     "output_type": "stream",
     "text": [
      "Train Accuracy Score : 1.0\n",
      "Test Accuracy Score  : 1.0\n",
      "---------------------------------------------------------------------------------------------------------\n",
      "Best hyper-parameter : ('gini', 2)\n",
      "Score :  1.0\n"
     ]
    }
   ],
   "source": [
    "max_score = 0.001\n",
    "### for selecting the best hyperparameters\n",
    "for combination in itertools.product(*params.values()):\n",
    "    param_dict = dict(zip(params.keys(), combination))\n",
    "    print(\"Training with hyper parameters:\", param_dict)\n",
    "\n",
    "    dtc = DecisionTreeClassifier(**param_dict)\n",
    "    dtc.fit(train_X, train_y)\n",
    "\n",
    "    train_score = dtc.score(train_X,train_y)\n",
    "    test_score = dtc.score(test_X, test_y)\n",
    "    print(f'Train Accuracy Score : {train_score}')\n",
    "    print(f'Test Accuracy Score  : {test_score}')\n",
    "    print('---------------------------------------------------------------------------------------------------------')\n",
    "    \n",
    "    if test_score > max_score:\n",
    "        max_score = test_score\n",
    "        hyper_parameters = combination\n",
    "print(f'Best hyper-parameter : {hyper_parameters}')\n",
    "print('Score : ', max_score)"
   ]
  },
  {
   "attachments": {},
   "cell_type": "markdown",
   "metadata": {},
   "source": [
    "## Analysis on Best Parameter"
   ]
  },
  {
   "cell_type": "code",
   "execution_count": 73,
   "metadata": {},
   "outputs": [
    {
     "name": "stdout",
     "output_type": "stream",
     "text": [
      "Train Accuracy Score : 100\n",
      "Test Accuracy Score  : 100\n",
      "\n",
      "              precision    recall  f1-score   support\n",
      "\n",
      "        Good       1.00      1.00      1.00      3520\n",
      "        Poor       1.00      1.00      1.00      5806\n",
      "    Standard       1.00      1.00      1.00     10674\n",
      "\n",
      "    accuracy                           1.00     20000\n",
      "   macro avg       1.00      1.00      1.00     20000\n",
      "weighted avg       1.00      1.00      1.00     20000\n",
      "\n"
     ]
    }
   ],
   "source": [
    "### As all so same result\n",
    "pred_y = dtc.predict(test_X)\n",
    "train_accuracy = round(dtc.score(train_X, train_y)*100)\n",
    "test_accuracy =round(accuracy_score(test_y, pred_y)*100)\n",
    "\n",
    "print(f\"Train Accuracy Score : {train_accuracy}\")\n",
    "print(f\"Test Accuracy Score  : {test_accuracy}\")\n",
    "print()\n",
    "print(classification_report(test_y, pred_y, target_names=Category_class))"
   ]
  },
  {
   "cell_type": "code",
   "execution_count": 74,
   "metadata": {},
   "outputs": [
    {
     "data": {
      "text/plain": [
       "<AxesSubplot:>"
      ]
     },
     "execution_count": 74,
     "metadata": {},
     "output_type": "execute_result"
    },
    {
     "data": {
      "image/png": "[encoded data removed]",
      "text/plain": [
       "<Figure size 432x288 with 2 Axes>"
      ]
     },
     "metadata": {
      "needs_background": "light"
     },
     "output_type": "display_data"
    }
   ],
   "source": [
    "cf = confusion_matrix(test_y,pred_y)\n",
    "cm_array_df = pd.DataFrame(cf, index = Category_class, columns = Category_class)\n",
    "sns.heatmap(cm_array_df, annot=True, annot_kws={\"size\": 12}, fmt=\".0f\") "
   ]
  },
  {
   "cell_type": "markdown",
   "metadata": {},
   "source": [
    "## Random Forest Classifier"
   ]
  },
  {
   "cell_type": "code",
   "execution_count": 56,
   "metadata": {},
   "outputs": [],
   "source": [
    "params = {\n",
    "        'criterion':['gini','entropy'],\n",
    "        'max_depth':[2,4,6,8,10,12]\n",
    "    }"
   ]
  },
  {
   "cell_type": "code",
   "execution_count": 57,
   "metadata": {},
   "outputs": [
    {
     "name": "stdout",
     "output_type": "stream",
     "text": [
      "Training with hyper parameters: {'criterion': 'gini', 'max_depth': 2}\n"
     ]
    },
    {
     "data": {
      "text/plain": [
       "RandomForestClassifier(max_depth=2)"
      ]
     },
     "execution_count": 57,
     "metadata": {},
     "output_type": "execute_result"
    },
    {
     "name": "stdout",
     "output_type": "stream",
     "text": [
      "Train Accuracy Score : 0.9124375\n",
      "Test Accuracy Score  : 0.9144\n",
      "---------------------------------------------------------------------------------------------------------\n",
      "Training with hyper parameters: {'criterion': 'gini', 'max_depth': 4}\n"
     ]
    },
    {
     "data": {
      "text/plain": [
       "RandomForestClassifier(max_depth=4)"
      ]
     },
     "execution_count": 57,
     "metadata": {},
     "output_type": "execute_result"
    },
    {
     "name": "stdout",
     "output_type": "stream",
     "text": [
      "Train Accuracy Score : 0.9949\n",
      "Test Accuracy Score  : 0.99485\n",
      "---------------------------------------------------------------------------------------------------------\n",
      "Training with hyper parameters: {'criterion': 'gini', 'max_depth': 6}\n"
     ]
    },
    {
     "data": {
      "text/plain": [
       "RandomForestClassifier(max_depth=6)"
      ]
     },
     "execution_count": 57,
     "metadata": {},
     "output_type": "execute_result"
    },
    {
     "name": "stdout",
     "output_type": "stream",
     "text": [
      "Train Accuracy Score : 1.0\n",
      "Test Accuracy Score  : 1.0\n",
      "---------------------------------------------------------------------------------------------------------\n",
      "Training with hyper parameters: {'criterion': 'gini', 'max_depth': 8}\n"
     ]
    },
    {
     "data": {
      "text/plain": [
       "RandomForestClassifier(max_depth=8)"
      ]
     },
     "execution_count": 57,
     "metadata": {},
     "output_type": "execute_result"
    },
    {
     "name": "stdout",
     "output_type": "stream",
     "text": [
      "Train Accuracy Score : 1.0\n",
      "Test Accuracy Score  : 1.0\n",
      "---------------------------------------------------------------------------------------------------------\n",
      "Training with hyper parameters: {'criterion': 'gini', 'max_depth': 10}\n"
     ]
    },
    {
     "data": {
      "text/plain": [
       "RandomForestClassifier(max_depth=10)"
      ]
     },
     "execution_count": 57,
     "metadata": {},
     "output_type": "execute_result"
    },
    {
     "name": "stdout",
     "output_type": "stream",
     "text": [
      "Train Accuracy Score : 1.0\n",
      "Test Accuracy Score  : 1.0\n",
      "---------------------------------------------------------------------------------------------------------\n",
      "Training with hyper parameters: {'criterion': 'gini', 'max_depth': 12}\n"
     ]
    },
    {
     "data": {
      "text/plain": [
       "RandomForestClassifier(max_depth=12)"
      ]
     },
     "execution_count": 57,
     "metadata": {},
     "output_type": "execute_result"
    },
    {
     "name": "stdout",
     "output_type": "stream",
     "text": [
      "Train Accuracy Score : 1.0\n",
      "Test Accuracy Score  : 1.0\n",
      "---------------------------------------------------------------------------------------------------------\n",
      "Training with hyper parameters: {'criterion': 'entropy', 'max_depth': 2}\n"
     ]
    },
    {
     "data": {
      "text/plain": [
       "RandomForestClassifier(criterion='entropy', max_depth=2)"
      ]
     },
     "execution_count": 57,
     "metadata": {},
     "output_type": "execute_result"
    },
    {
     "name": "stdout",
     "output_type": "stream",
     "text": [
      "Train Accuracy Score : 0.925925\n",
      "Test Accuracy Score  : 0.92725\n",
      "---------------------------------------------------------------------------------------------------------\n",
      "Training with hyper parameters: {'criterion': 'entropy', 'max_depth': 4}\n"
     ]
    },
    {
     "data": {
      "text/plain": [
       "RandomForestClassifier(criterion='entropy', max_depth=4)"
      ]
     },
     "execution_count": 57,
     "metadata": {},
     "output_type": "execute_result"
    },
    {
     "name": "stdout",
     "output_type": "stream",
     "text": [
      "Train Accuracy Score : 0.9930875\n",
      "Test Accuracy Score  : 0.9927\n",
      "---------------------------------------------------------------------------------------------------------\n",
      "Training with hyper parameters: {'criterion': 'entropy', 'max_depth': 6}\n"
     ]
    },
    {
     "data": {
      "text/plain": [
       "RandomForestClassifier(criterion='entropy', max_depth=6)"
      ]
     },
     "execution_count": 57,
     "metadata": {},
     "output_type": "execute_result"
    },
    {
     "name": "stdout",
     "output_type": "stream",
     "text": [
      "Train Accuracy Score : 1.0\n",
      "Test Accuracy Score  : 1.0\n",
      "---------------------------------------------------------------------------------------------------------\n",
      "Training with hyper parameters: {'criterion': 'entropy', 'max_depth': 8}\n"
     ]
    },
    {
     "data": {
      "text/plain": [
       "RandomForestClassifier(criterion='entropy', max_depth=8)"
      ]
     },
     "execution_count": 57,
     "metadata": {},
     "output_type": "execute_result"
    },
    {
     "name": "stdout",
     "output_type": "stream",
     "text": [
      "Train Accuracy Score : 1.0\n",
      "Test Accuracy Score  : 1.0\n",
      "---------------------------------------------------------------------------------------------------------\n",
      "Training with hyper parameters: {'criterion': 'entropy', 'max_depth': 10}\n"
     ]
    },
    {
     "data": {
      "text/plain": [
       "RandomForestClassifier(criterion='entropy', max_depth=10)"
      ]
     },
     "execution_count": 57,
     "metadata": {},
     "output_type": "execute_result"
    },
    {
     "name": "stdout",
     "output_type": "stream",
     "text": [
      "Train Accuracy Score : 1.0\n",
      "Test Accuracy Score  : 1.0\n",
      "---------------------------------------------------------------------------------------------------------\n",
      "Training with hyper parameters: {'criterion': 'entropy', 'max_depth': 12}\n"
     ]
    },
    {
     "data": {
      "text/plain": [
       "RandomForestClassifier(criterion='entropy', max_depth=12)"
      ]
     },
     "execution_count": 57,
     "metadata": {},
     "output_type": "execute_result"
    },
    {
     "name": "stdout",
     "output_type": "stream",
     "text": [
      "Train Accuracy Score : 1.0\n",
      "Test Accuracy Score  : 1.0\n",
      "---------------------------------------------------------------------------------------------------------\n",
      "Best hyper-parameter : ('gini', 6)\n",
      "Score :  1.0\n"
     ]
    }
   ],
   "source": [
    "max_score = 0.001\n",
    "### for selecting the best hyperparameters\n",
    "for combination in itertools.product(*params.values()):\n",
    "    param_dict = dict(zip(params.keys(), combination))\n",
    "    print(\"Training with hyper parameters:\", param_dict)\n",
    "\n",
    "    rtc = RandomForestClassifier(**param_dict)\n",
    "    rtc.fit(train_X, train_y)\n",
    "\n",
    "    train_score = rtc.score(train_X,train_y)\n",
    "    test_score = rtc.score(test_X, test_y)\n",
    "    print(f'Train Accuracy Score : {train_score}')\n",
    "    print(f'Test Accuracy Score  : {test_score}')\n",
    "    print('---------------------------------------------------------------------------------------------------------')\n",
    "    \n",
    "    if test_score > max_score:\n",
    "        max_score = test_score\n",
    "        hyper_parameters = combination\n",
    "print(f'Best hyper-parameter : {hyper_parameters}')\n",
    "print('Score : ', max_score)"
   ]
  },
  {
   "cell_type": "markdown",
   "metadata": {},
   "source": [
    "## Analyzing on Best Parameter"
   ]
  },
  {
   "cell_type": "code",
   "execution_count": 58,
   "metadata": {},
   "outputs": [
    {
     "data": {
      "text/plain": [
       "RandomForestClassifier(max_depth=8)"
      ]
     },
     "execution_count": 58,
     "metadata": {},
     "output_type": "execute_result"
    }
   ],
   "source": [
    "rtc = RandomForestClassifier(criterion = 'gini', max_depth = 8)\n",
    "rtc.fit(train_X,train_y)"
   ]
  },
  {
   "cell_type": "code",
   "execution_count": 59,
   "metadata": {},
   "outputs": [
    {
     "name": "stdout",
     "output_type": "stream",
     "text": [
      "Train Accuracy Score : 100\n",
      "Test Accuracy Score  : 100\n",
      "\n",
      "              precision    recall  f1-score   support\n",
      "\n",
      "        Good       1.00      1.00      1.00      3520\n",
      "        Poor       1.00      1.00      1.00      5806\n",
      "    Standard       1.00      1.00      1.00     10674\n",
      "\n",
      "    accuracy                           1.00     20000\n",
      "   macro avg       1.00      1.00      1.00     20000\n",
      "weighted avg       1.00      1.00      1.00     20000\n",
      "\n"
     ]
    }
   ],
   "source": [
    "pred_y = rtc.predict(test_X)\n",
    "train_accuracy = round(rtc.score(train_X, train_y)*100)\n",
    "test_accuracy =round(accuracy_score(test_y, pred_y)*100)\n",
    "\n",
    "print(f\"Train Accuracy Score : {train_accuracy}\")\n",
    "print(f\"Test Accuracy Score  : {test_accuracy}\")\n",
    "print()\n",
    "print(classification_report(test_y, pred_y, target_names=Category_class))"
   ]
  },
  {
   "cell_type": "code",
   "execution_count": 60,
   "metadata": {},
   "outputs": [
    {
     "data": {
      "text/plain": [
       "<AxesSubplot:>"
      ]
     },
     "execution_count": 60,
     "metadata": {},
     "output_type": "execute_result"
    },
    {
     "data": {
      "image/png": "[encoded data removed]",
      "text/plain": [
       "<Figure size 432x288 with 2 Axes>"
      ]
     },
     "metadata": {
      "needs_background": "light"
     },
     "output_type": "display_data"
    }
   ],
   "source": [
    "cf = confusion_matrix(test_y,pred_y)\n",
    "cm_array_df = pd.DataFrame(cf, index = Category_class, columns = Category_class)\n",
    "sns.heatmap(cm_array_df, annot=True, annot_kws={\"size\": 12}, fmt=\".0f\") "
   ]
  },
  {
   "cell_type": "markdown",
   "metadata": {},
   "source": [
    "## MultinomialNB"
   ]
  },
  {
   "cell_type": "code",
   "execution_count": 61,
   "metadata": {},
   "outputs": [],
   "source": [
    "Xm,ym=df.drop(columns = columns_to_drop,axis=1),df['Credit_Score']\n",
    "Xm = Xm.drop('Changed_Credit_Limit',axis = 1)"
   ]
  },
  {
   "cell_type": "code",
   "execution_count": 62,
   "metadata": {},
   "outputs": [],
   "source": [
    "Xm['Num_Bank_Accounts'] = abs(Xm['Num_Bank_Accounts'])"
   ]
  },
  {
   "cell_type": "code",
   "execution_count": 63,
   "metadata": {},
   "outputs": [],
   "source": [
    "train_Xm,test_Xm,train_ym,test_ym = train_test_split(Xm,ym,test_size = 0.2, random_state = 11)"
   ]
  },
  {
   "cell_type": "code",
   "execution_count": 64,
   "metadata": {},
   "outputs": [],
   "source": [
    "params = {\n",
    "        'alpha': [1.0,2.0],\n",
    "        'fit_prior': [True,False]\n",
    "    }"
   ]
  },
  {
   "cell_type": "code",
   "execution_count": 65,
   "metadata": {},
   "outputs": [
    {
     "name": "stdout",
     "output_type": "stream",
     "text": [
      "Training with hyper parameters: {'alpha': 1.0, 'fit_prior': True}\n"
     ]
    },
    {
     "data": {
      "text/plain": [
       "MultinomialNB()"
      ]
     },
     "execution_count": 65,
     "metadata": {},
     "output_type": "execute_result"
    },
    {
     "name": "stdout",
     "output_type": "stream",
     "text": [
      "Train Accuracy Score : 0.5301125\n",
      "Test Accuracy Score  : 0.52905\n",
      "---------------------------------------------------------------------------------------------------------\n",
      "Training with hyper parameters: {'alpha': 1.0, 'fit_prior': False}\n"
     ]
    },
    {
     "data": {
      "text/plain": [
       "MultinomialNB(fit_prior=False)"
      ]
     },
     "execution_count": 65,
     "metadata": {},
     "output_type": "execute_result"
    },
    {
     "name": "stdout",
     "output_type": "stream",
     "text": [
      "Train Accuracy Score : 0.525425\n",
      "Test Accuracy Score  : 0.52465\n",
      "---------------------------------------------------------------------------------------------------------\n",
      "Training with hyper parameters: {'alpha': 2.0, 'fit_prior': True}\n"
     ]
    },
    {
     "data": {
      "text/plain": [
       "MultinomialNB(alpha=2.0)"
      ]
     },
     "execution_count": 65,
     "metadata": {},
     "output_type": "execute_result"
    },
    {
     "name": "stdout",
     "output_type": "stream",
     "text": [
      "Train Accuracy Score : 0.526025\n",
      "Test Accuracy Score  : 0.52575\n",
      "---------------------------------------------------------------------------------------------------------\n",
      "Training with hyper parameters: {'alpha': 2.0, 'fit_prior': False}\n"
     ]
    },
    {
     "data": {
      "text/plain": [
       "MultinomialNB(alpha=2.0, fit_prior=False)"
      ]
     },
     "execution_count": 65,
     "metadata": {},
     "output_type": "execute_result"
    },
    {
     "name": "stdout",
     "output_type": "stream",
     "text": [
      "Train Accuracy Score : 0.5212\n",
      "Test Accuracy Score  : 0.52065\n",
      "---------------------------------------------------------------------------------------------------------\n",
      "Best hyper-parameter : (1.0, True)\n",
      "Score :  0.52905\n"
     ]
    }
   ],
   "source": [
    "max_score = 0.001\n",
    "### for selecting the best hyperparameters\n",
    "for combination in itertools.product(*params.values()):\n",
    "    param_dict = dict(zip(params.keys(), combination))\n",
    "    print(\"Training with hyper parameters:\", param_dict)\n",
    "\n",
    "    mnb = MultinomialNB(**param_dict)\n",
    "    mnb.fit(train_Xm, train_ym)\n",
    "\n",
    "    train_score = mnb.score(train_Xm,train_ym)\n",
    "    test_score = mnb.score(test_Xm, test_ym)\n",
    "    print(f'Train Accuracy Score : {train_score}')\n",
    "    print(f'Test Accuracy Score  : {test_score}')\n",
    "    print('---------------------------------------------------------------------------------------------------------')\n",
    "    \n",
    "    if test_score > max_score:\n",
    "        max_score = test_score\n",
    "        hyper_parameters = combination\n",
    "print(f'Best hyper-parameter : {hyper_parameters}')\n",
    "print('Score : ', max_score)"
   ]
  },
  {
   "cell_type": "markdown",
   "metadata": {},
   "source": [
    "## Analyzing on Best HyperParameter"
   ]
  },
  {
   "cell_type": "code",
   "execution_count": 66,
   "metadata": {},
   "outputs": [
    {
     "data": {
      "text/plain": [
       "MultinomialNB(alpha=1)"
      ]
     },
     "execution_count": 66,
     "metadata": {},
     "output_type": "execute_result"
    }
   ],
   "source": [
    "mnb = MultinomialNB(alpha = 1, fit_prior = True)\n",
    "mnb.fit(train_Xm,train_ym)"
   ]
  },
  {
   "cell_type": "code",
   "execution_count": 67,
   "metadata": {},
   "outputs": [
    {
     "name": "stdout",
     "output_type": "stream",
     "text": [
      "Train Accuracy Score : 53\n",
      "Test Accuracy Score  : 53\n",
      "\n",
      "              precision    recall  f1-score   support\n",
      "\n",
      "        Good       0.41      0.54      0.46      3520\n",
      "        Poor       0.49      0.68      0.57      5806\n",
      "    Standard       0.65      0.44      0.53     10674\n",
      "\n",
      "    accuracy                           0.53     20000\n",
      "   macro avg       0.52      0.55      0.52     20000\n",
      "weighted avg       0.56      0.53      0.53     20000\n",
      "\n"
     ]
    }
   ],
   "source": [
    "pred_y = mnb.predict(test_Xm)\n",
    "train_accuracy = round(mnb.score(train_Xm, train_ym)*100)\n",
    "test_accuracy =round(accuracy_score(test_ym, pred_y)*100)\n",
    "\n",
    "print(f\"Train Accuracy Score : {train_accuracy}\")\n",
    "print(f\"Test Accuracy Score  : {test_accuracy}\")\n",
    "print()\n",
    "print(classification_report(test_ym, pred_y, target_names=Category_class))"
   ]
  },
  {
   "cell_type": "code",
   "execution_count": 68,
   "metadata": {},
   "outputs": [
    {
     "data": {
      "text/plain": [
       "<AxesSubplot:>"
      ]
     },
     "execution_count": 68,
     "metadata": {},
     "output_type": "execute_result"
    },
    {
     "data": {
      "image/png": "[encoded data removed]",
      "text/plain": [
       "<Figure size 432x288 with 2 Axes>"
      ]
     },
     "metadata": {
      "needs_background": "light"
     },
     "output_type": "display_data"
    }
   ],
   "source": [
    "cf = confusion_matrix(test_y,pred_y)\n",
    "cm_array_df = pd.DataFrame(cf, index = Category_class, columns = Category_class)\n",
    "sns.heatmap(cm_array_df, annot=True, annot_kws={\"size\": 12}, fmt=\".0f\") "
   ]
  },
  {
   "cell_type": "markdown",
   "metadata": {},
   "source": [
    "## SVC"
   ]
  },
  {
   "attachments": {},
   "cell_type": "markdown",
   "metadata": {},
   "source": [
    "##### As SVC is hard to train on large dataset. Choosing only one on kernels."
   ]
  },
  {
   "cell_type": "code",
   "execution_count": 75,
   "metadata": {},
   "outputs": [],
   "source": [
    "params = {'kernel':['rbf','linear','poly']}"
   ]
  },
  {
   "cell_type": "code",
   "execution_count": 76,
   "metadata": {},
   "outputs": [
    {
     "name": "stdout",
     "output_type": "stream",
     "text": [
      "Training with hyper parameters: {'kernel': 'rbf'}\n"
     ]
    },
    {
     "data": {
      "text/plain": [
       "SVC()"
      ]
     },
     "execution_count": 76,
     "metadata": {},
     "output_type": "execute_result"
    },
    {
     "name": "stdout",
     "output_type": "stream",
     "text": [
      "Train Accuracy Score : 0.5323625\n",
      "Test Accuracy Score  : 0.53385\n",
      "---------------------------------------------------------------------------------------------------------\n",
      "Training with hyper parameters: {'kernel': 'linear'}\n"
     ]
    },
    {
     "data": {
      "text/plain": [
       "SVC(kernel='linear')"
      ]
     },
     "execution_count": 76,
     "metadata": {},
     "output_type": "execute_result"
    },
    {
     "name": "stdout",
     "output_type": "stream",
     "text": [
      "Train Accuracy Score : 0.99995\n",
      "Test Accuracy Score  : 1.0\n",
      "---------------------------------------------------------------------------------------------------------\n",
      "Training with hyper parameters: {'kernel': 'poly'}\n"
     ]
    },
    {
     "data": {
      "text/plain": [
       "SVC(kernel='poly')"
      ]
     },
     "execution_count": 76,
     "metadata": {},
     "output_type": "execute_result"
    },
    {
     "name": "stdout",
     "output_type": "stream",
     "text": [
      "Train Accuracy Score : 0.53125\n",
      "Test Accuracy Score  : 0.5337\n",
      "---------------------------------------------------------------------------------------------------------\n",
      "Best hyper-parameter : ('linear',)\n",
      "Score :  1.0\n"
     ]
    }
   ],
   "source": [
    "max_score = 0.001\n",
    "### for selecting the best hyperparameters\n",
    "for combination in itertools.product(*params.values()):\n",
    "    param_dict = dict(zip(params.keys(), combination))\n",
    "    print(\"Training with hyper parameters:\", param_dict)\n",
    "\n",
    "    svc = SVC(**param_dict)\n",
    "    svc.fit(train_Xm, train_ym)\n",
    "\n",
    "    train_score = svc.score(train_Xm,train_ym)\n",
    "    test_score = svc.score(test_Xm, test_ym)\n",
    "    print(f'Train Accuracy Score : {train_score}')\n",
    "    print(f'Test Accuracy Score  : {test_score}')\n",
    "    print('---------------------------------------------------------------------------------------------------------')\n",
    "    \n",
    "    if test_score > max_score:\n",
    "        max_score = test_score\n",
    "        hyper_parameters = combination\n",
    "print(f'Best hyper-parameter : {hyper_parameters}')\n",
    "print('Score : ', max_score)"
   ]
  },
  {
   "cell_type": "markdown",
   "metadata": {},
   "source": [
    "## Analyzing on Best Parameter"
   ]
  },
  {
   "cell_type": "code",
   "execution_count": 77,
   "metadata": {},
   "outputs": [
    {
     "data": {
      "text/plain": [
       "SVC(kernel='linear')"
      ]
     },
     "execution_count": 77,
     "metadata": {},
     "output_type": "execute_result"
    }
   ],
   "source": [
    "svc = SVC(kernel = 'linear')\n",
    "svc.fit(train_X,train_y)"
   ]
  },
  {
   "cell_type": "code",
   "execution_count": 78,
   "metadata": {},
   "outputs": [
    {
     "name": "stdout",
     "output_type": "stream",
     "text": [
      "Train Accuracy Score : 100\n",
      "Test Accuracy Score  : 100\n",
      "\n",
      "              precision    recall  f1-score   support\n",
      "\n",
      "        Good       1.00      1.00      1.00      3520\n",
      "        Poor       1.00      1.00      1.00      5806\n",
      "    Standard       1.00      1.00      1.00     10674\n",
      "\n",
      "    accuracy                           1.00     20000\n",
      "   macro avg       1.00      1.00      1.00     20000\n",
      "weighted avg       1.00      1.00      1.00     20000\n",
      "\n"
     ]
    }
   ],
   "source": [
    "pred_y = svc.predict(test_X)\n",
    "train_accuracy = round(svc.score(train_X, train_y)*100)\n",
    "test_accuracy =round(accuracy_score(test_y, pred_y)*100)\n",
    "\n",
    "print(f\"Train Accuracy Score : {train_accuracy}\")\n",
    "print(f\"Test Accuracy Score  : {test_accuracy}\")\n",
    "print()\n",
    "print(classification_report(test_ym, pred_y, target_names=Category_class))"
   ]
  },
  {
   "cell_type": "code",
   "execution_count": 79,
   "metadata": {},
   "outputs": [
    {
     "data": {
      "text/plain": [
       "<AxesSubplot:>"
      ]
     },
     "execution_count": 79,
     "metadata": {},
     "output_type": "execute_result"
    },
    {
     "data": {
      "image/png": "[encoded data removed]",
      "text/plain": [
       "<Figure size 432x288 with 2 Axes>"
      ]
     },
     "metadata": {
      "needs_background": "light"
     },
     "output_type": "display_data"
    }
   ],
   "source": [
    "cf = confusion_matrix(test_y,pred_y)\n",
    "cm_array_df = pd.DataFrame(cf, index = Category_class, columns = Category_class)\n",
    "sns.heatmap(cm_array_df, annot=True, annot_kws={\"size\": 12}, fmt=\".0f\") "
   ]
  },
  {
   "attachments": {},
   "cell_type": "markdown",
   "metadata": {},
   "source": [
    "## Using Cross Validation"
   ]
  },
  {
   "cell_type": "code",
   "execution_count": 80,
   "metadata": {},
   "outputs": [],
   "source": [
    "kfold = KFold(n_splits = 5, shuffle = True, random_state = 11)\n",
    "X,y=df.drop(columns = columns_to_drop,axis=1),df['Credit_Score']"
   ]
  },
  {
   "attachments": {},
   "cell_type": "markdown",
   "metadata": {},
   "source": [
    "## KNN"
   ]
  },
  {
   "cell_type": "code",
   "execution_count": 81,
   "metadata": {},
   "outputs": [],
   "source": [
    "knn = KNeighborsClassifier(n_neighbors = 5, metric = 'cosine', weights = 'distance')"
   ]
  },
  {
   "cell_type": "code",
   "execution_count": 82,
   "metadata": {},
   "outputs": [
    {
     "name": "stdout",
     "output_type": "stream",
     "text": [
      "Scores : [0.6454  0.64455 0.63585 0.64195 0.6448 ]\n",
      "----------------------------------------------------------------------------------------------------\n",
      "Model Score, Mean is 0.643 and Standard Deviation is 0.004\n"
     ]
    }
   ],
   "source": [
    "scores = cross_val_score(knn, X, y, cv= kfold, scoring = 'accuracy')\n",
    "print(f'Scores : {scores}')\n",
    "print('----------------------------------------------------------------------------------------------------')\n",
    "print('Model Score, Mean is %.3f and Standard Deviation is %.3f' %(scores.mean(), scores.std()))"
   ]
  },
  {
   "cell_type": "markdown",
   "metadata": {},
   "source": [
    "## Decision Tree Classifier"
   ]
  },
  {
   "cell_type": "code",
   "execution_count": 83,
   "metadata": {},
   "outputs": [],
   "source": [
    "dtc = DecisionTreeClassifier(criterion='entropy', max_depth=12)"
   ]
  },
  {
   "cell_type": "code",
   "execution_count": 84,
   "metadata": {},
   "outputs": [
    {
     "name": "stdout",
     "output_type": "stream",
     "text": [
      "Scores : [1. 1. 1. 1. 1.]\n",
      "----------------------------------------------------------------------------------------------------\n",
      "Model Score, Mean is 1.000 and Standard Deviation is 0.000\n"
     ]
    }
   ],
   "source": [
    "scores = cross_val_score(dtc, X, y, cv= kfold, scoring = 'accuracy')\n",
    "print(f'Scores : {scores}')\n",
    "print('----------------------------------------------------------------------------------------------------')\n",
    "print('Model Score, Mean is %.3f and Standard Deviation is %.3f' %(scores.mean(), scores.std()))"
   ]
  },
  {
   "attachments": {},
   "cell_type": "markdown",
   "metadata": {},
   "source": [
    "## Random Tree Classifier"
   ]
  },
  {
   "cell_type": "code",
   "execution_count": 85,
   "metadata": {},
   "outputs": [],
   "source": [
    "rtc = RandomForestClassifier(criterion = 'gini', max_depth = 8)"
   ]
  },
  {
   "cell_type": "code",
   "execution_count": 86,
   "metadata": {},
   "outputs": [
    {
     "name": "stdout",
     "output_type": "stream",
     "text": [
      "Scores : [1. 1. 1. 1. 1.]\n",
      "----------------------------------------------------------------------------------------------------\n",
      "Model Score, Mean is 1.000 and Standard Deviation is 0.000\n"
     ]
    }
   ],
   "source": [
    "scores = cross_val_score(rtc, X, y, cv= kfold, scoring = 'accuracy')\n",
    "print(f'Scores : {scores}')\n",
    "print('----------------------------------------------------------------------------------------------------')\n",
    "print('Model Score, Mean is %.3f and Standard Deviation is %.3f' %(scores.mean(), scores.std()))"
   ]
  },
  {
   "cell_type": "markdown",
   "metadata": {},
   "source": [
    "## Multinominal Bayes"
   ]
  },
  {
   "cell_type": "code",
   "execution_count": 87,
   "metadata": {},
   "outputs": [],
   "source": [
    "mnb = MultinomialNB(alpha = 1, fit_prior = True)"
   ]
  },
  {
   "cell_type": "code",
   "execution_count": 88,
   "metadata": {},
   "outputs": [
    {
     "name": "stdout",
     "output_type": "stream",
     "text": [
      "Scores : [0.52905 0.52945 0.5311  0.52495 0.52675]\n",
      "----------------------------------------------------------------------------------------------------\n",
      "Model Score, Mean is 0.528 and Standard Deviation is 0.002\n"
     ]
    }
   ],
   "source": [
    "scores = cross_val_score(mnb, Xm, ym, cv= kfold, scoring = 'accuracy')\n",
    "print(f'Scores : {scores}')\n",
    "print('----------------------------------------------------------------------------------------------------')\n",
    "print('Model Score, Mean is %.3f and Standard Deviation is %.3f' %(scores.mean(), scores.std()))"
   ]
  },
  {
   "cell_type": "markdown",
   "metadata": {},
   "source": [
    "## SVC"
   ]
  },
  {
   "cell_type": "code",
   "execution_count": 89,
   "metadata": {},
   "outputs": [],
   "source": [
    "svc = SVC(kernel = 'linear')"
   ]
  },
  {
   "cell_type": "code",
   "execution_count": 90,
   "metadata": {},
   "outputs": [
    {
     "name": "stdout",
     "output_type": "stream",
     "text": [
      "Scores : [1.      0.99985 1.      0.9999  1.     ]\n",
      "----------------------------------------------------------------------------------------------------\n",
      "Model Score, Mean is 1.000 and Standard Deviation is 0.000\n"
     ]
    }
   ],
   "source": [
    "scores = cross_val_score(svc, Xm, ym, cv= kfold, scoring = 'accuracy')\n",
    "print(f'Scores : {scores}')\n",
    "print('----------------------------------------------------------------------------------------------------')\n",
    "print('Model Score, Mean is %.3f and Standard Deviation is %.3f' %(scores.mean(), scores.std()))"
   ]
  }
 ],
 "metadata": {
  "kernelspec": {
   "display_name": "base",
   "language": "python",
   "name": "python3"
  },
  "language_info": {
   "codemirror_mode": {
    "name": "ipython",
    "version": 3
   },
   "file_extension": ".py",
   "mimetype": "text/x-python",
   "name": "python",
   "nbconvert_exporter": "python",
   "pygments_lexer": "ipython3",
   "version": "3.9.12"
  },
  "orig_nbformat": 4
 },
 "nbformat": 4,
 "nbformat_minor": 2
}
