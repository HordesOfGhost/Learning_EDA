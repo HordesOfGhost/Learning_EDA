{
 "cells": [
  {
   "attachments": {},
   "cell_type": "markdown",
   "metadata": {},
   "source": [
    "# Importing Libraries"
   ]
  },
  {
   "cell_type": "code",
   "execution_count": 1,
   "metadata": {},
   "outputs": [],
   "source": [
    "import pandas as pd\n",
    "import numpy as np\n",
    "\n",
    "#Ignores warning messages.\n",
    "import warnings\n",
    "warnings.filterwarnings('ignore')\n",
    "\n",
    "import itertools\n",
    "import statistics\n",
    "from detailed_details import detailed_details\n",
    "\n",
    "#Prints all statements\n",
    "from IPython.core.interactiveshell import InteractiveShell\n",
    "InteractiveShell.ast_node_interactivity = \"all\""
   ]
  },
  {
   "attachments": {},
   "cell_type": "markdown",
   "metadata": {},
   "source": [
    "##### The following unique_SSN was calculated later while Pre-Processing and stored so Loading it would be easy."
   ]
  },
  {
   "cell_type": "code",
   "execution_count": 2,
   "metadata": {},
   "outputs": [],
   "source": [
    "unique_SSN = []\n",
    "\n",
    "# open file and read the content in a list\n",
    "with open(r'list_files//unique_SSN.txt', 'r') as fp:\n",
    "    for line in fp:\n",
    "        # remove linebreak from a current name\n",
    "        # linebreak is the last character of each line\n",
    "        x = line[:-1]\n",
    "\n",
    "        # add current item to the list\n",
    "        unique_SSN.append(int(x))"
   ]
  },
  {
   "cell_type": "markdown",
   "metadata": {},
   "source": [
    "# Loading Dataset"
   ]
  },
  {
   "cell_type": "code",
   "execution_count": 11,
   "metadata": {},
   "outputs": [],
   "source": [
    "df = pd.read_csv('credit_train.csv')"
   ]
  },
  {
   "cell_type": "code",
   "execution_count": 12,
   "metadata": {},
   "outputs": [
    {
     "data": {
      "text/plain": [
       "Index(['ID', 'Customer_ID', 'Month', 'Name', 'Age', 'SSN', 'Occupation',\n",
       "       'Annual_Income', 'Monthly_Inhand_Salary', 'Num_Bank_Accounts',\n",
       "       'Num_Credit_Card', 'Interest_Rate', 'Num_of_Loan', 'Type_of_Loan',\n",
       "       'Delay_from_due_date', 'Num_of_Delayed_Payment', 'Changed_Credit_Limit',\n",
       "       'Num_Credit_Inquiries', 'Credit_Mix', 'Outstanding_Debt',\n",
       "       'Credit_Utilization_Ratio', 'Credit_History_Age',\n",
       "       'Payment_of_Min_Amount', 'Total_EMI_per_month',\n",
       "       'Amount_invested_monthly', 'Payment_Behaviour', 'Monthly_Balance',\n",
       "       'Credit_Score'],\n",
       "      dtype='object')"
      ]
     },
     "execution_count": 12,
     "metadata": {},
     "output_type": "execute_result"
    }
   ],
   "source": [
    "df.columns"
   ]
  },
  {
   "cell_type": "markdown",
   "metadata": {},
   "source": [
    "# Preprocessing"
   ]
  },
  {
   "cell_type": "code",
   "execution_count": 13,
   "metadata": {},
   "outputs": [
    {
     "data": {
      "text/html": [
       "<div>\n",
       "<style scoped>\n",
       "    .dataframe tbody tr th:only-of-type {\n",
       "        vertical-align: middle;\n",
       "    }\n",
       "\n",
       "    .dataframe tbody tr th {\n",
       "        vertical-align: top;\n",
       "    }\n",
       "\n",
       "    .dataframe thead th {\n",
       "        text-align: right;\n",
       "    }\n",
       "</style>\n",
       "<table border=\"1\" class=\"dataframe\">\n",
       "  <thead>\n",
       "    <tr style=\"text-align: right;\">\n",
       "      <th></th>\n",
       "      <th>ID</th>\n",
       "      <th>Customer_ID</th>\n",
       "      <th>Month</th>\n",
       "      <th>Name</th>\n",
       "      <th>Age</th>\n",
       "      <th>SSN</th>\n",
       "      <th>Occupation</th>\n",
       "      <th>Annual_Income</th>\n",
       "      <th>Monthly_Inhand_Salary</th>\n",
       "      <th>Num_Bank_Accounts</th>\n",
       "      <th>...</th>\n",
       "      <th>Credit_Mix</th>\n",
       "      <th>Outstanding_Debt</th>\n",
       "      <th>Credit_Utilization_Ratio</th>\n",
       "      <th>Credit_History_Age</th>\n",
       "      <th>Payment_of_Min_Amount</th>\n",
       "      <th>Total_EMI_per_month</th>\n",
       "      <th>Amount_invested_monthly</th>\n",
       "      <th>Payment_Behaviour</th>\n",
       "      <th>Monthly_Balance</th>\n",
       "      <th>Credit_Score</th>\n",
       "    </tr>\n",
       "  </thead>\n",
       "  <tbody>\n",
       "    <tr>\n",
       "      <th>0</th>\n",
       "      <td>0x1602</td>\n",
       "      <td>CUS_0xd40</td>\n",
       "      <td>January</td>\n",
       "      <td>Aaron Maashoh</td>\n",
       "      <td>23</td>\n",
       "      <td>821-00-0265</td>\n",
       "      <td>Scientist</td>\n",
       "      <td>19114.12</td>\n",
       "      <td>1824.843333</td>\n",
       "      <td>3</td>\n",
       "      <td>...</td>\n",
       "      <td>_</td>\n",
       "      <td>809.98</td>\n",
       "      <td>26.822620</td>\n",
       "      <td>22 Years and 1 Months</td>\n",
       "      <td>No</td>\n",
       "      <td>49.574949</td>\n",
       "      <td>80.41529543900253</td>\n",
       "      <td>High_spent_Small_value_payments</td>\n",
       "      <td>312.49408867943663</td>\n",
       "      <td>Good</td>\n",
       "    </tr>\n",
       "    <tr>\n",
       "      <th>1</th>\n",
       "      <td>0x1603</td>\n",
       "      <td>CUS_0xd40</td>\n",
       "      <td>February</td>\n",
       "      <td>Aaron Maashoh</td>\n",
       "      <td>23</td>\n",
       "      <td>821-00-0265</td>\n",
       "      <td>Scientist</td>\n",
       "      <td>19114.12</td>\n",
       "      <td>NaN</td>\n",
       "      <td>3</td>\n",
       "      <td>...</td>\n",
       "      <td>Good</td>\n",
       "      <td>809.98</td>\n",
       "      <td>31.944960</td>\n",
       "      <td>NaN</td>\n",
       "      <td>No</td>\n",
       "      <td>49.574949</td>\n",
       "      <td>118.28022162236736</td>\n",
       "      <td>Low_spent_Large_value_payments</td>\n",
       "      <td>284.62916249607184</td>\n",
       "      <td>Good</td>\n",
       "    </tr>\n",
       "    <tr>\n",
       "      <th>2</th>\n",
       "      <td>0x1604</td>\n",
       "      <td>CUS_0xd40</td>\n",
       "      <td>March</td>\n",
       "      <td>Aaron Maashoh</td>\n",
       "      <td>-500</td>\n",
       "      <td>821-00-0265</td>\n",
       "      <td>Scientist</td>\n",
       "      <td>19114.12</td>\n",
       "      <td>NaN</td>\n",
       "      <td>3</td>\n",
       "      <td>...</td>\n",
       "      <td>Good</td>\n",
       "      <td>809.98</td>\n",
       "      <td>28.609352</td>\n",
       "      <td>22 Years and 3 Months</td>\n",
       "      <td>No</td>\n",
       "      <td>49.574949</td>\n",
       "      <td>81.699521264648</td>\n",
       "      <td>Low_spent_Medium_value_payments</td>\n",
       "      <td>331.2098628537912</td>\n",
       "      <td>Good</td>\n",
       "    </tr>\n",
       "    <tr>\n",
       "      <th>3</th>\n",
       "      <td>0x1605</td>\n",
       "      <td>CUS_0xd40</td>\n",
       "      <td>April</td>\n",
       "      <td>Aaron Maashoh</td>\n",
       "      <td>23</td>\n",
       "      <td>821-00-0265</td>\n",
       "      <td>Scientist</td>\n",
       "      <td>19114.12</td>\n",
       "      <td>NaN</td>\n",
       "      <td>3</td>\n",
       "      <td>...</td>\n",
       "      <td>Good</td>\n",
       "      <td>809.98</td>\n",
       "      <td>31.377862</td>\n",
       "      <td>22 Years and 4 Months</td>\n",
       "      <td>No</td>\n",
       "      <td>49.574949</td>\n",
       "      <td>199.4580743910713</td>\n",
       "      <td>Low_spent_Small_value_payments</td>\n",
       "      <td>223.45130972736786</td>\n",
       "      <td>Good</td>\n",
       "    </tr>\n",
       "    <tr>\n",
       "      <th>4</th>\n",
       "      <td>0x1606</td>\n",
       "      <td>CUS_0xd40</td>\n",
       "      <td>May</td>\n",
       "      <td>Aaron Maashoh</td>\n",
       "      <td>23</td>\n",
       "      <td>821-00-0265</td>\n",
       "      <td>Scientist</td>\n",
       "      <td>19114.12</td>\n",
       "      <td>1824.843333</td>\n",
       "      <td>3</td>\n",
       "      <td>...</td>\n",
       "      <td>Good</td>\n",
       "      <td>809.98</td>\n",
       "      <td>24.797347</td>\n",
       "      <td>22 Years and 5 Months</td>\n",
       "      <td>No</td>\n",
       "      <td>49.574949</td>\n",
       "      <td>41.420153086217326</td>\n",
       "      <td>High_spent_Medium_value_payments</td>\n",
       "      <td>341.48923103222177</td>\n",
       "      <td>Good</td>\n",
       "    </tr>\n",
       "  </tbody>\n",
       "</table>\n",
       "<p>5 rows × 28 columns</p>\n",
       "</div>"
      ],
      "text/plain": [
       "       ID Customer_ID     Month           Name   Age          SSN Occupation  \\\n",
       "0  0x1602   CUS_0xd40   January  Aaron Maashoh    23  821-00-0265  Scientist   \n",
       "1  0x1603   CUS_0xd40  February  Aaron Maashoh    23  821-00-0265  Scientist   \n",
       "2  0x1604   CUS_0xd40     March  Aaron Maashoh  -500  821-00-0265  Scientist   \n",
       "3  0x1605   CUS_0xd40     April  Aaron Maashoh    23  821-00-0265  Scientist   \n",
       "4  0x1606   CUS_0xd40       May  Aaron Maashoh    23  821-00-0265  Scientist   \n",
       "\n",
       "  Annual_Income  Monthly_Inhand_Salary  Num_Bank_Accounts  ...  Credit_Mix  \\\n",
       "0      19114.12            1824.843333                  3  ...           _   \n",
       "1      19114.12                    NaN                  3  ...        Good   \n",
       "2      19114.12                    NaN                  3  ...        Good   \n",
       "3      19114.12                    NaN                  3  ...        Good   \n",
       "4      19114.12            1824.843333                  3  ...        Good   \n",
       "\n",
       "   Outstanding_Debt Credit_Utilization_Ratio     Credit_History_Age  \\\n",
       "0            809.98                26.822620  22 Years and 1 Months   \n",
       "1            809.98                31.944960                    NaN   \n",
       "2            809.98                28.609352  22 Years and 3 Months   \n",
       "3            809.98                31.377862  22 Years and 4 Months   \n",
       "4            809.98                24.797347  22 Years and 5 Months   \n",
       "\n",
       "   Payment_of_Min_Amount Total_EMI_per_month Amount_invested_monthly  \\\n",
       "0                     No           49.574949       80.41529543900253   \n",
       "1                     No           49.574949      118.28022162236736   \n",
       "2                     No           49.574949         81.699521264648   \n",
       "3                     No           49.574949       199.4580743910713   \n",
       "4                     No           49.574949      41.420153086217326   \n",
       "\n",
       "                  Payment_Behaviour     Monthly_Balance Credit_Score  \n",
       "0   High_spent_Small_value_payments  312.49408867943663         Good  \n",
       "1    Low_spent_Large_value_payments  284.62916249607184         Good  \n",
       "2   Low_spent_Medium_value_payments   331.2098628537912         Good  \n",
       "3    Low_spent_Small_value_payments  223.45130972736786         Good  \n",
       "4  High_spent_Medium_value_payments  341.48923103222177         Good  \n",
       "\n",
       "[5 rows x 28 columns]"
      ]
     },
     "execution_count": 13,
     "metadata": {},
     "output_type": "execute_result"
    }
   ],
   "source": [
    "df.head()"
   ]
  },
  {
   "attachments": {},
   "cell_type": "markdown",
   "metadata": {},
   "source": [
    "## PreProcessing ID and Customer_ID"
   ]
  },
  {
   "cell_type": "code",
   "execution_count": 14,
   "metadata": {},
   "outputs": [],
   "source": [
    "df_id = df.copy()"
   ]
  },
  {
   "cell_type": "code",
   "execution_count": 15,
   "metadata": {},
   "outputs": [
    {
     "name": "stdout",
     "output_type": "stream",
     "text": [
      "Unique Value Count : 100000\n",
      "Null Value Count : 0\n"
     ]
    }
   ],
   "source": [
    "print('Unique Value Count :',df_id['ID'].nunique())\n",
    "print('Null Value Count :',df_id['ID'].isna().sum())"
   ]
  },
  {
   "attachments": {},
   "cell_type": "markdown",
   "metadata": {},
   "source": [
    "##### As ID seems not that important. We can drop them."
   ]
  },
  {
   "cell_type": "code",
   "execution_count": 16,
   "metadata": {},
   "outputs": [],
   "source": [
    "df_id.drop(columns = 'ID', axis = 1, inplace = True)"
   ]
  },
  {
   "cell_type": "code",
   "execution_count": 17,
   "metadata": {},
   "outputs": [
    {
     "data": {
      "text/html": [
       "<div>\n",
       "<style scoped>\n",
       "    .dataframe tbody tr th:only-of-type {\n",
       "        vertical-align: middle;\n",
       "    }\n",
       "\n",
       "    .dataframe tbody tr th {\n",
       "        vertical-align: top;\n",
       "    }\n",
       "\n",
       "    .dataframe thead th {\n",
       "        text-align: right;\n",
       "    }\n",
       "</style>\n",
       "<table border=\"1\" class=\"dataframe\">\n",
       "  <thead>\n",
       "    <tr style=\"text-align: right;\">\n",
       "      <th></th>\n",
       "      <th>Customer_ID</th>\n",
       "      <th>Month</th>\n",
       "      <th>Name</th>\n",
       "      <th>Age</th>\n",
       "      <th>SSN</th>\n",
       "      <th>Occupation</th>\n",
       "      <th>Annual_Income</th>\n",
       "      <th>Monthly_Inhand_Salary</th>\n",
       "      <th>Num_Bank_Accounts</th>\n",
       "      <th>Num_Credit_Card</th>\n",
       "      <th>...</th>\n",
       "      <th>Credit_Mix</th>\n",
       "      <th>Outstanding_Debt</th>\n",
       "      <th>Credit_Utilization_Ratio</th>\n",
       "      <th>Credit_History_Age</th>\n",
       "      <th>Payment_of_Min_Amount</th>\n",
       "      <th>Total_EMI_per_month</th>\n",
       "      <th>Amount_invested_monthly</th>\n",
       "      <th>Payment_Behaviour</th>\n",
       "      <th>Monthly_Balance</th>\n",
       "      <th>Credit_Score</th>\n",
       "    </tr>\n",
       "  </thead>\n",
       "  <tbody>\n",
       "    <tr>\n",
       "      <th>0</th>\n",
       "      <td>CUS_0xd40</td>\n",
       "      <td>January</td>\n",
       "      <td>Aaron Maashoh</td>\n",
       "      <td>23</td>\n",
       "      <td>821-00-0265</td>\n",
       "      <td>Scientist</td>\n",
       "      <td>19114.12</td>\n",
       "      <td>1824.843333</td>\n",
       "      <td>3</td>\n",
       "      <td>4</td>\n",
       "      <td>...</td>\n",
       "      <td>_</td>\n",
       "      <td>809.98</td>\n",
       "      <td>26.822620</td>\n",
       "      <td>22 Years and 1 Months</td>\n",
       "      <td>No</td>\n",
       "      <td>49.574949</td>\n",
       "      <td>80.41529543900253</td>\n",
       "      <td>High_spent_Small_value_payments</td>\n",
       "      <td>312.49408867943663</td>\n",
       "      <td>Good</td>\n",
       "    </tr>\n",
       "    <tr>\n",
       "      <th>1</th>\n",
       "      <td>CUS_0xd40</td>\n",
       "      <td>February</td>\n",
       "      <td>Aaron Maashoh</td>\n",
       "      <td>23</td>\n",
       "      <td>821-00-0265</td>\n",
       "      <td>Scientist</td>\n",
       "      <td>19114.12</td>\n",
       "      <td>NaN</td>\n",
       "      <td>3</td>\n",
       "      <td>4</td>\n",
       "      <td>...</td>\n",
       "      <td>Good</td>\n",
       "      <td>809.98</td>\n",
       "      <td>31.944960</td>\n",
       "      <td>NaN</td>\n",
       "      <td>No</td>\n",
       "      <td>49.574949</td>\n",
       "      <td>118.28022162236736</td>\n",
       "      <td>Low_spent_Large_value_payments</td>\n",
       "      <td>284.62916249607184</td>\n",
       "      <td>Good</td>\n",
       "    </tr>\n",
       "    <tr>\n",
       "      <th>2</th>\n",
       "      <td>CUS_0xd40</td>\n",
       "      <td>March</td>\n",
       "      <td>Aaron Maashoh</td>\n",
       "      <td>-500</td>\n",
       "      <td>821-00-0265</td>\n",
       "      <td>Scientist</td>\n",
       "      <td>19114.12</td>\n",
       "      <td>NaN</td>\n",
       "      <td>3</td>\n",
       "      <td>4</td>\n",
       "      <td>...</td>\n",
       "      <td>Good</td>\n",
       "      <td>809.98</td>\n",
       "      <td>28.609352</td>\n",
       "      <td>22 Years and 3 Months</td>\n",
       "      <td>No</td>\n",
       "      <td>49.574949</td>\n",
       "      <td>81.699521264648</td>\n",
       "      <td>Low_spent_Medium_value_payments</td>\n",
       "      <td>331.2098628537912</td>\n",
       "      <td>Good</td>\n",
       "    </tr>\n",
       "    <tr>\n",
       "      <th>3</th>\n",
       "      <td>CUS_0xd40</td>\n",
       "      <td>April</td>\n",
       "      <td>Aaron Maashoh</td>\n",
       "      <td>23</td>\n",
       "      <td>821-00-0265</td>\n",
       "      <td>Scientist</td>\n",
       "      <td>19114.12</td>\n",
       "      <td>NaN</td>\n",
       "      <td>3</td>\n",
       "      <td>4</td>\n",
       "      <td>...</td>\n",
       "      <td>Good</td>\n",
       "      <td>809.98</td>\n",
       "      <td>31.377862</td>\n",
       "      <td>22 Years and 4 Months</td>\n",
       "      <td>No</td>\n",
       "      <td>49.574949</td>\n",
       "      <td>199.4580743910713</td>\n",
       "      <td>Low_spent_Small_value_payments</td>\n",
       "      <td>223.45130972736786</td>\n",
       "      <td>Good</td>\n",
       "    </tr>\n",
       "    <tr>\n",
       "      <th>4</th>\n",
       "      <td>CUS_0xd40</td>\n",
       "      <td>May</td>\n",
       "      <td>Aaron Maashoh</td>\n",
       "      <td>23</td>\n",
       "      <td>821-00-0265</td>\n",
       "      <td>Scientist</td>\n",
       "      <td>19114.12</td>\n",
       "      <td>1824.843333</td>\n",
       "      <td>3</td>\n",
       "      <td>4</td>\n",
       "      <td>...</td>\n",
       "      <td>Good</td>\n",
       "      <td>809.98</td>\n",
       "      <td>24.797347</td>\n",
       "      <td>22 Years and 5 Months</td>\n",
       "      <td>No</td>\n",
       "      <td>49.574949</td>\n",
       "      <td>41.420153086217326</td>\n",
       "      <td>High_spent_Medium_value_payments</td>\n",
       "      <td>341.48923103222177</td>\n",
       "      <td>Good</td>\n",
       "    </tr>\n",
       "  </tbody>\n",
       "</table>\n",
       "<p>5 rows × 27 columns</p>\n",
       "</div>"
      ],
      "text/plain": [
       "  Customer_ID     Month           Name   Age          SSN Occupation  \\\n",
       "0   CUS_0xd40   January  Aaron Maashoh    23  821-00-0265  Scientist   \n",
       "1   CUS_0xd40  February  Aaron Maashoh    23  821-00-0265  Scientist   \n",
       "2   CUS_0xd40     March  Aaron Maashoh  -500  821-00-0265  Scientist   \n",
       "3   CUS_0xd40     April  Aaron Maashoh    23  821-00-0265  Scientist   \n",
       "4   CUS_0xd40       May  Aaron Maashoh    23  821-00-0265  Scientist   \n",
       "\n",
       "  Annual_Income  Monthly_Inhand_Salary  Num_Bank_Accounts  Num_Credit_Card  \\\n",
       "0      19114.12            1824.843333                  3                4   \n",
       "1      19114.12                    NaN                  3                4   \n",
       "2      19114.12                    NaN                  3                4   \n",
       "3      19114.12                    NaN                  3                4   \n",
       "4      19114.12            1824.843333                  3                4   \n",
       "\n",
       "   ...  Credit_Mix Outstanding_Debt Credit_Utilization_Ratio  \\\n",
       "0  ...           _           809.98                26.822620   \n",
       "1  ...        Good           809.98                31.944960   \n",
       "2  ...        Good           809.98                28.609352   \n",
       "3  ...        Good           809.98                31.377862   \n",
       "4  ...        Good           809.98                24.797347   \n",
       "\n",
       "      Credit_History_Age Payment_of_Min_Amount Total_EMI_per_month  \\\n",
       "0  22 Years and 1 Months                    No           49.574949   \n",
       "1                    NaN                    No           49.574949   \n",
       "2  22 Years and 3 Months                    No           49.574949   \n",
       "3  22 Years and 4 Months                    No           49.574949   \n",
       "4  22 Years and 5 Months                    No           49.574949   \n",
       "\n",
       "   Amount_invested_monthly                 Payment_Behaviour  \\\n",
       "0        80.41529543900253   High_spent_Small_value_payments   \n",
       "1       118.28022162236736    Low_spent_Large_value_payments   \n",
       "2          81.699521264648   Low_spent_Medium_value_payments   \n",
       "3        199.4580743910713    Low_spent_Small_value_payments   \n",
       "4       41.420153086217326  High_spent_Medium_value_payments   \n",
       "\n",
       "      Monthly_Balance  Credit_Score  \n",
       "0  312.49408867943663          Good  \n",
       "1  284.62916249607184          Good  \n",
       "2   331.2098628537912          Good  \n",
       "3  223.45130972736786          Good  \n",
       "4  341.48923103222177          Good  \n",
       "\n",
       "[5 rows x 27 columns]"
      ]
     },
     "execution_count": 17,
     "metadata": {},
     "output_type": "execute_result"
    }
   ],
   "source": [
    "df_id.head()"
   ]
  },
  {
   "attachments": {},
   "cell_type": "markdown",
   "metadata": {},
   "source": [
    "### Checking if Customer_ID, Name, SSN are all same or are belonging to a single Customer"
   ]
  },
  {
   "cell_type": "code",
   "execution_count": 18,
   "metadata": {},
   "outputs": [
    {
     "name": "stdout",
     "output_type": "stream",
     "text": [
      "Unique Value Count : 12500\n",
      "Null Value Count : 12501\n"
     ]
    }
   ],
   "source": [
    "print('Unique Value Count :',df_id['Customer_ID'].nunique())\n",
    "print('Null Value Count :',df_id[\"SSN\"].nunique())"
   ]
  },
  {
   "cell_type": "markdown",
   "metadata": {},
   "source": [
    "##### Thus they seeem to belong to the same Customer. A single Noisy value seems to be present."
   ]
  },
  {
   "attachments": {},
   "cell_type": "markdown",
   "metadata": {},
   "source": [
    "### Check what unique SSN each customer_ID has"
   ]
  },
  {
   "cell_type": "code",
   "execution_count": 19,
   "metadata": {},
   "outputs": [
    {
     "data": {
      "text/plain": [
       "Customer_ID  SSN        \n",
       "CUS_0x1000   913-74-1218    [913-74-1218]\n",
       "CUS_0x1009   #F%$D@*&8        [#F%$D@*&8]\n",
       "             063-67-6938    [063-67-6938]\n",
       "CUS_0x100b   #F%$D@*&8        [#F%$D@*&8]\n",
       "             238-62-0395    [238-62-0395]\n",
       "                                ...      \n",
       "CUS_0xff3    726-35-5322    [726-35-5322]\n",
       "CUS_0xff4    655-05-7666    [655-05-7666]\n",
       "CUS_0xff6    541-92-8371    [541-92-8371]\n",
       "CUS_0xffc    226-86-7294    [226-86-7294]\n",
       "CUS_0xffd    832-88-8320    [832-88-8320]\n",
       "Name: SSN, Length: 17115, dtype: object"
      ]
     },
     "execution_count": 19,
     "metadata": {},
     "output_type": "execute_result"
    }
   ],
   "source": [
    "df_id.groupby(['Customer_ID', 'SSN'])['SSN'].unique()"
   ]
  },
  {
   "cell_type": "code",
   "execution_count": 20,
   "metadata": {},
   "outputs": [
    {
     "data": {
      "text/plain": [
       "['821-00-0265', '#F%$D@*&8']"
      ]
     },
     "execution_count": 20,
     "metadata": {},
     "output_type": "execute_result"
    }
   ],
   "source": [
    "unique_values = list(df_id[df_id['Customer_ID'] == 'CUS_0xd40']['SSN'].unique())\n",
    "unique_values"
   ]
  },
  {
   "attachments": {},
   "cell_type": "markdown",
   "metadata": {},
   "source": [
    "##### Each Customer_ID seems to have a unique SSN except for some noisy data (#F%$D@*&8)"
   ]
  },
  {
   "attachments": {},
   "cell_type": "markdown",
   "metadata": {},
   "source": [
    "## PreProcessing SSN"
   ]
  },
  {
   "cell_type": "code",
   "execution_count": 21,
   "metadata": {},
   "outputs": [],
   "source": [
    "df_ssn = df_id.copy()"
   ]
  },
  {
   "cell_type": "markdown",
   "metadata": {},
   "source": [
    "##### Calculating Noisy SSN Values"
   ]
  },
  {
   "cell_type": "code",
   "execution_count": 22,
   "metadata": {},
   "outputs": [
    {
     "data": {
      "text/plain": [
       "5572"
      ]
     },
     "execution_count": 22,
     "metadata": {},
     "output_type": "execute_result"
    }
   ],
   "source": [
    "(df_ssn[\"SSN\"] == '#F%$D@*&8').sum()"
   ]
  },
  {
   "cell_type": "markdown",
   "metadata": {},
   "source": [
    "### Calculating corresponding Unique_SSN_Values for each Customer_ID"
   ]
  },
  {
   "cell_type": "markdown",
   "metadata": {},
   "source": [
    "##### Following line of code will be executed later in this file. So giving a brief description."
   ]
  },
  {
   "cell_type": "code",
   "execution_count": 23,
   "metadata": {},
   "outputs": [
    {
     "name": "stdout",
     "output_type": "stream",
     "text": [
      "--- Demonstration or Example ---\n",
      " ------------------------------\n",
      " Unique Customer_ID : CUS_0xd40\n",
      " Unique SSN values :  ['821-00-0265', '#F%$D@*&8']\n",
      " -------------------------------\n",
      " Unique Customer_ID : CUS_0x1000\n",
      " Unique SSN values :  ['913-74-1218']\n"
     ]
    }
   ],
   "source": [
    "# Creating a empty dictionary. The keys of dictionary will be Customer_ID and the values are Unique SSNs\n",
    "\n",
    "corresponding_unique_ssn_values = {}\n",
    "\n",
    "# Getting list of Unique Customer_ID\n",
    "\n",
    "unique_customer_id = list(df_ssn['Customer_ID'].unique())\n",
    "\n",
    "print('--- Demonstration or Example ---')\n",
    "print(' ------------------------------')\n",
    "print(' Unique Customer_ID : CUS_0xd40')\n",
    "print(' Unique SSN values : ', list(df_ssn[df_ssn['Customer_ID'] == 'CUS_0xd40']['SSN'].unique()))\n",
    "print(' -------------------------------')\n",
    "print(' Unique Customer_ID : CUS_0x1000')\n",
    "print(' Unique SSN values : ', list(df_ssn[df_ssn['Customer_ID'] == 'CUS_0x1000']['SSN'].unique()))\n",
    "\n",
    "for id in unique_customer_id:\n",
    "    corresponding_unique_ssn_values[id] = list(df_ssn[df_ssn['Customer_ID'] == id]['SSN'].unique())"
   ]
  },
  {
   "cell_type": "code",
   "execution_count": 24,
   "metadata": {},
   "outputs": [
    {
     "data": {
      "text/plain": [
       "{'CUS_0xd40': ['821-00-0265', '#F%$D@*&8'],\n",
       " 'CUS_0x21b1': ['004-07-5839'],\n",
       " 'CUS_0x2dbc': ['486-85-3974'],\n",
       " 'CUS_0xb891': ['072-31-6145', '#F%$D@*&8'],\n",
       " 'CUS_0x1cdb': ['615-06-7821']}"
      ]
     },
     "execution_count": 24,
     "metadata": {},
     "output_type": "execute_result"
    }
   ],
   "source": [
    "dict(itertools.islice(corresponding_unique_ssn_values.items(), 5))"
   ]
  },
  {
   "attachments": {},
   "cell_type": "markdown",
   "metadata": {},
   "source": [
    "### Replace SSN according to corresponding Customer_ID"
   ]
  },
  {
   "cell_type": "markdown",
   "metadata": {},
   "source": [
    "##### Here we use list comphrension to deselect noisy data from the above dictionary and return only valid SSN numbers."
   ]
  },
  {
   "cell_type": "code",
   "execution_count": 25,
   "metadata": {},
   "outputs": [
    {
     "name": "stdout",
     "output_type": "stream",
     "text": [
      " --- Includes Noisy Data ---\n"
     ]
    },
    {
     "data": {
      "text/plain": [
       "['821-00-0265', '#F%$D@*&8']"
      ]
     },
     "execution_count": 25,
     "metadata": {},
     "output_type": "execute_result"
    },
    {
     "data": {
      "text/plain": [
       "['004-07-5839']"
      ]
     },
     "execution_count": 25,
     "metadata": {},
     "output_type": "execute_result"
    },
    {
     "name": "stdout",
     "output_type": "stream",
     "text": [
      " --- Deslecting Noisy Data ---\n"
     ]
    },
    {
     "data": {
      "text/plain": [
       "'821-00-0265'"
      ]
     },
     "execution_count": 25,
     "metadata": {},
     "output_type": "execute_result"
    },
    {
     "data": {
      "text/plain": [
       "'004-07-5839'"
      ]
     },
     "execution_count": 25,
     "metadata": {},
     "output_type": "execute_result"
    }
   ],
   "source": [
    "print(' --- Includes Noisy Data ---')\n",
    "[val for val in corresponding_unique_ssn_values['CUS_0xd40'] ]\n",
    "[val for val in corresponding_unique_ssn_values['CUS_0x21b1']]\n",
    "print(' --- Deslecting Noisy Data ---')\n",
    "[val for val in corresponding_unique_ssn_values['CUS_0xd40'] if not val.startswith('#')][0]\n",
    "[val for val in corresponding_unique_ssn_values['CUS_0x21b1'] if not val.startswith('#')][0]"
   ]
  },
  {
   "attachments": {},
   "cell_type": "markdown",
   "metadata": {},
   "source": [
    "##### Replacing values of noisy data"
   ]
  },
  {
   "cell_type": "code",
   "execution_count": 26,
   "metadata": {},
   "outputs": [],
   "source": [
    "for index in range(len(df_ssn)):\n",
    "    if df_ssn['SSN'][index].startswith('#'):\n",
    "        df_ssn['SSN'][index] = [val for val in corresponding_unique_ssn_values[df_ssn['Customer_ID'][index]] if not val.startswith('#')][0]"
   ]
  },
  {
   "cell_type": "code",
   "execution_count": 27,
   "metadata": {},
   "outputs": [
    {
     "data": {
      "text/html": [
       "<div>\n",
       "<style scoped>\n",
       "    .dataframe tbody tr th:only-of-type {\n",
       "        vertical-align: middle;\n",
       "    }\n",
       "\n",
       "    .dataframe tbody tr th {\n",
       "        vertical-align: top;\n",
       "    }\n",
       "\n",
       "    .dataframe thead th {\n",
       "        text-align: right;\n",
       "    }\n",
       "</style>\n",
       "<table border=\"1\" class=\"dataframe\">\n",
       "  <thead>\n",
       "    <tr style=\"text-align: right;\">\n",
       "      <th></th>\n",
       "      <th>Customer_ID</th>\n",
       "      <th>Month</th>\n",
       "      <th>Name</th>\n",
       "      <th>Age</th>\n",
       "      <th>SSN</th>\n",
       "      <th>Occupation</th>\n",
       "      <th>Annual_Income</th>\n",
       "      <th>Monthly_Inhand_Salary</th>\n",
       "      <th>Num_Bank_Accounts</th>\n",
       "      <th>Num_Credit_Card</th>\n",
       "      <th>...</th>\n",
       "      <th>Credit_Mix</th>\n",
       "      <th>Outstanding_Debt</th>\n",
       "      <th>Credit_Utilization_Ratio</th>\n",
       "      <th>Credit_History_Age</th>\n",
       "      <th>Payment_of_Min_Amount</th>\n",
       "      <th>Total_EMI_per_month</th>\n",
       "      <th>Amount_invested_monthly</th>\n",
       "      <th>Payment_Behaviour</th>\n",
       "      <th>Monthly_Balance</th>\n",
       "      <th>Credit_Score</th>\n",
       "    </tr>\n",
       "  </thead>\n",
       "  <tbody>\n",
       "    <tr>\n",
       "      <th>0</th>\n",
       "      <td>CUS_0xd40</td>\n",
       "      <td>January</td>\n",
       "      <td>Aaron Maashoh</td>\n",
       "      <td>23</td>\n",
       "      <td>821-00-0265</td>\n",
       "      <td>Scientist</td>\n",
       "      <td>19114.12</td>\n",
       "      <td>1824.843333</td>\n",
       "      <td>3</td>\n",
       "      <td>4</td>\n",
       "      <td>...</td>\n",
       "      <td>_</td>\n",
       "      <td>809.98</td>\n",
       "      <td>26.822620</td>\n",
       "      <td>22 Years and 1 Months</td>\n",
       "      <td>No</td>\n",
       "      <td>49.574949</td>\n",
       "      <td>80.41529543900253</td>\n",
       "      <td>High_spent_Small_value_payments</td>\n",
       "      <td>312.49408867943663</td>\n",
       "      <td>Good</td>\n",
       "    </tr>\n",
       "    <tr>\n",
       "      <th>1</th>\n",
       "      <td>CUS_0xd40</td>\n",
       "      <td>February</td>\n",
       "      <td>Aaron Maashoh</td>\n",
       "      <td>23</td>\n",
       "      <td>821-00-0265</td>\n",
       "      <td>Scientist</td>\n",
       "      <td>19114.12</td>\n",
       "      <td>NaN</td>\n",
       "      <td>3</td>\n",
       "      <td>4</td>\n",
       "      <td>...</td>\n",
       "      <td>Good</td>\n",
       "      <td>809.98</td>\n",
       "      <td>31.944960</td>\n",
       "      <td>NaN</td>\n",
       "      <td>No</td>\n",
       "      <td>49.574949</td>\n",
       "      <td>118.28022162236736</td>\n",
       "      <td>Low_spent_Large_value_payments</td>\n",
       "      <td>284.62916249607184</td>\n",
       "      <td>Good</td>\n",
       "    </tr>\n",
       "    <tr>\n",
       "      <th>2</th>\n",
       "      <td>CUS_0xd40</td>\n",
       "      <td>March</td>\n",
       "      <td>Aaron Maashoh</td>\n",
       "      <td>-500</td>\n",
       "      <td>821-00-0265</td>\n",
       "      <td>Scientist</td>\n",
       "      <td>19114.12</td>\n",
       "      <td>NaN</td>\n",
       "      <td>3</td>\n",
       "      <td>4</td>\n",
       "      <td>...</td>\n",
       "      <td>Good</td>\n",
       "      <td>809.98</td>\n",
       "      <td>28.609352</td>\n",
       "      <td>22 Years and 3 Months</td>\n",
       "      <td>No</td>\n",
       "      <td>49.574949</td>\n",
       "      <td>81.699521264648</td>\n",
       "      <td>Low_spent_Medium_value_payments</td>\n",
       "      <td>331.2098628537912</td>\n",
       "      <td>Good</td>\n",
       "    </tr>\n",
       "    <tr>\n",
       "      <th>3</th>\n",
       "      <td>CUS_0xd40</td>\n",
       "      <td>April</td>\n",
       "      <td>Aaron Maashoh</td>\n",
       "      <td>23</td>\n",
       "      <td>821-00-0265</td>\n",
       "      <td>Scientist</td>\n",
       "      <td>19114.12</td>\n",
       "      <td>NaN</td>\n",
       "      <td>3</td>\n",
       "      <td>4</td>\n",
       "      <td>...</td>\n",
       "      <td>Good</td>\n",
       "      <td>809.98</td>\n",
       "      <td>31.377862</td>\n",
       "      <td>22 Years and 4 Months</td>\n",
       "      <td>No</td>\n",
       "      <td>49.574949</td>\n",
       "      <td>199.4580743910713</td>\n",
       "      <td>Low_spent_Small_value_payments</td>\n",
       "      <td>223.45130972736786</td>\n",
       "      <td>Good</td>\n",
       "    </tr>\n",
       "    <tr>\n",
       "      <th>4</th>\n",
       "      <td>CUS_0xd40</td>\n",
       "      <td>May</td>\n",
       "      <td>Aaron Maashoh</td>\n",
       "      <td>23</td>\n",
       "      <td>821-00-0265</td>\n",
       "      <td>Scientist</td>\n",
       "      <td>19114.12</td>\n",
       "      <td>1824.843333</td>\n",
       "      <td>3</td>\n",
       "      <td>4</td>\n",
       "      <td>...</td>\n",
       "      <td>Good</td>\n",
       "      <td>809.98</td>\n",
       "      <td>24.797347</td>\n",
       "      <td>22 Years and 5 Months</td>\n",
       "      <td>No</td>\n",
       "      <td>49.574949</td>\n",
       "      <td>41.420153086217326</td>\n",
       "      <td>High_spent_Medium_value_payments</td>\n",
       "      <td>341.48923103222177</td>\n",
       "      <td>Good</td>\n",
       "    </tr>\n",
       "  </tbody>\n",
       "</table>\n",
       "<p>5 rows × 27 columns</p>\n",
       "</div>"
      ],
      "text/plain": [
       "  Customer_ID     Month           Name   Age          SSN Occupation  \\\n",
       "0   CUS_0xd40   January  Aaron Maashoh    23  821-00-0265  Scientist   \n",
       "1   CUS_0xd40  February  Aaron Maashoh    23  821-00-0265  Scientist   \n",
       "2   CUS_0xd40     March  Aaron Maashoh  -500  821-00-0265  Scientist   \n",
       "3   CUS_0xd40     April  Aaron Maashoh    23  821-00-0265  Scientist   \n",
       "4   CUS_0xd40       May  Aaron Maashoh    23  821-00-0265  Scientist   \n",
       "\n",
       "  Annual_Income  Monthly_Inhand_Salary  Num_Bank_Accounts  Num_Credit_Card  \\\n",
       "0      19114.12            1824.843333                  3                4   \n",
       "1      19114.12                    NaN                  3                4   \n",
       "2      19114.12                    NaN                  3                4   \n",
       "3      19114.12                    NaN                  3                4   \n",
       "4      19114.12            1824.843333                  3                4   \n",
       "\n",
       "   ...  Credit_Mix Outstanding_Debt Credit_Utilization_Ratio  \\\n",
       "0  ...           _           809.98                26.822620   \n",
       "1  ...        Good           809.98                31.944960   \n",
       "2  ...        Good           809.98                28.609352   \n",
       "3  ...        Good           809.98                31.377862   \n",
       "4  ...        Good           809.98                24.797347   \n",
       "\n",
       "      Credit_History_Age Payment_of_Min_Amount Total_EMI_per_month  \\\n",
       "0  22 Years and 1 Months                    No           49.574949   \n",
       "1                    NaN                    No           49.574949   \n",
       "2  22 Years and 3 Months                    No           49.574949   \n",
       "3  22 Years and 4 Months                    No           49.574949   \n",
       "4  22 Years and 5 Months                    No           49.574949   \n",
       "\n",
       "   Amount_invested_monthly                 Payment_Behaviour  \\\n",
       "0        80.41529543900253   High_spent_Small_value_payments   \n",
       "1       118.28022162236736    Low_spent_Large_value_payments   \n",
       "2          81.699521264648   Low_spent_Medium_value_payments   \n",
       "3        199.4580743910713    Low_spent_Small_value_payments   \n",
       "4       41.420153086217326  High_spent_Medium_value_payments   \n",
       "\n",
       "      Monthly_Balance  Credit_Score  \n",
       "0  312.49408867943663          Good  \n",
       "1  284.62916249607184          Good  \n",
       "2   331.2098628537912          Good  \n",
       "3  223.45130972736786          Good  \n",
       "4  341.48923103222177          Good  \n",
       "\n",
       "[5 rows x 27 columns]"
      ]
     },
     "execution_count": 27,
     "metadata": {},
     "output_type": "execute_result"
    }
   ],
   "source": [
    "df_ssn.head()"
   ]
  },
  {
   "cell_type": "markdown",
   "metadata": {},
   "source": [
    "##### Checking if Noisy values have been replaced."
   ]
  },
  {
   "cell_type": "code",
   "execution_count": 28,
   "metadata": {},
   "outputs": [],
   "source": [
    "for id in unique_customer_id:\n",
    "    corresponding_unique_ssn_values[id] = list(df_ssn[df_ssn['Customer_ID'] == id]['SSN'].unique())"
   ]
  },
  {
   "cell_type": "code",
   "execution_count": 29,
   "metadata": {},
   "outputs": [
    {
     "data": {
      "text/plain": [
       "{'CUS_0xd40': ['821-00-0265'],\n",
       " 'CUS_0x21b1': ['004-07-5839'],\n",
       " 'CUS_0x2dbc': ['486-85-3974'],\n",
       " 'CUS_0xb891': ['072-31-6145'],\n",
       " 'CUS_0x1cdb': ['615-06-7821']}"
      ]
     },
     "execution_count": 29,
     "metadata": {},
     "output_type": "execute_result"
    }
   ],
   "source": [
    "dict(itertools.islice(corresponding_unique_ssn_values.items(), 5))"
   ]
  },
  {
   "attachments": {},
   "cell_type": "markdown",
   "metadata": {},
   "source": [
    "##### Making SSN more Readable by replacing - with empty value and making it a int value"
   ]
  },
  {
   "cell_type": "code",
   "execution_count": 30,
   "metadata": {},
   "outputs": [],
   "source": [
    "for index in range(len(df_ssn)):\n",
    "    df_ssn['SSN'][index] = int (df_ssn['SSN'][index].replace('-',''))  "
   ]
  },
  {
   "cell_type": "code",
   "execution_count": 31,
   "metadata": {},
   "outputs": [
    {
     "name": "stdout",
     "output_type": "stream",
     "text": [
      "Unique SSN value :  12500\n",
      "Unique Customer_ID :  12500\n"
     ]
    }
   ],
   "source": [
    "print('Unique SSN value : ',df_ssn['SSN'].nunique())\n",
    "print('Unique Customer_ID : ',df_ssn['Customer_ID'].nunique())"
   ]
  },
  {
   "cell_type": "markdown",
   "metadata": {},
   "source": [
    "##### This further shows that all noise is removed from SSN column."
   ]
  },
  {
   "attachments": {},
   "cell_type": "markdown",
   "metadata": {},
   "source": [
    "### Now dropping column Customer_ID because each row can now be identified by SSN and SSN is easy to Read."
   ]
  },
  {
   "cell_type": "code",
   "execution_count": 32,
   "metadata": {},
   "outputs": [],
   "source": [
    "df_ssn.drop(columns = ['Customer_ID'],axis = 1, inplace = True)"
   ]
  },
  {
   "cell_type": "markdown",
   "metadata": {},
   "source": [
    "##### Setting Checkpoints"
   ]
  },
  {
   "cell_type": "code",
   "execution_count": 33,
   "metadata": {},
   "outputs": [],
   "source": [
    "df_ssn.to_csv('checkpoints//1_df_ssn.csv',index = False )"
   ]
  },
  {
   "attachments": {},
   "cell_type": "markdown",
   "metadata": {},
   "source": [
    "## PreProcessing Month"
   ]
  },
  {
   "cell_type": "code",
   "execution_count": 34,
   "metadata": {},
   "outputs": [],
   "source": [
    "df_month = pd.read_csv('checkpoints//1_df_ssn.csv')"
   ]
  },
  {
   "cell_type": "code",
   "execution_count": 35,
   "metadata": {},
   "outputs": [
    {
     "data": {
      "text/plain": [
       "January     12500\n",
       "February    12500\n",
       "March       12500\n",
       "April       12500\n",
       "May         12500\n",
       "June        12500\n",
       "July        12500\n",
       "August      12500\n",
       "Name: Month, dtype: int64"
      ]
     },
     "execution_count": 35,
     "metadata": {},
     "output_type": "execute_result"
    }
   ],
   "source": [
    "df_month['Month'].value_counts()"
   ]
  },
  {
   "attachments": {},
   "cell_type": "markdown",
   "metadata": {},
   "source": [
    "##### Leaving months as it is for now."
   ]
  },
  {
   "attachments": {},
   "cell_type": "markdown",
   "metadata": {},
   "source": [
    "## PreProcessing Name"
   ]
  },
  {
   "cell_type": "code",
   "execution_count": 36,
   "metadata": {},
   "outputs": [],
   "source": [
    "df_name = df_month.copy()"
   ]
  },
  {
   "cell_type": "code",
   "execution_count": 37,
   "metadata": {},
   "outputs": [
    {
     "name": "stdout",
     "output_type": "stream",
     "text": [
      "Unique Name Count :  10139\n",
      "Null Value Count :  9985\n"
     ]
    }
   ],
   "source": [
    "print('Unique Name Count : ',df_name['Name'].nunique())\n",
    "print('Null Value Count : ',df_name['Name'].isna().sum())"
   ]
  },
  {
   "attachments": {},
   "cell_type": "markdown",
   "metadata": {},
   "source": [
    "##### Name maynot be that relevant so dropping. Also each row can be uniquely determined by SSN values."
   ]
  },
  {
   "cell_type": "code",
   "execution_count": 38,
   "metadata": {},
   "outputs": [],
   "source": [
    "df_name.drop(columns = ['Name'], axis = 1, inplace = True)"
   ]
  },
  {
   "cell_type": "code",
   "execution_count": 39,
   "metadata": {},
   "outputs": [
    {
     "data": {
      "text/html": [
       "<div>\n",
       "<style scoped>\n",
       "    .dataframe tbody tr th:only-of-type {\n",
       "        vertical-align: middle;\n",
       "    }\n",
       "\n",
       "    .dataframe tbody tr th {\n",
       "        vertical-align: top;\n",
       "    }\n",
       "\n",
       "    .dataframe thead th {\n",
       "        text-align: right;\n",
       "    }\n",
       "</style>\n",
       "<table border=\"1\" class=\"dataframe\">\n",
       "  <thead>\n",
       "    <tr style=\"text-align: right;\">\n",
       "      <th></th>\n",
       "      <th>Month</th>\n",
       "      <th>Age</th>\n",
       "      <th>SSN</th>\n",
       "      <th>Occupation</th>\n",
       "      <th>Annual_Income</th>\n",
       "      <th>Monthly_Inhand_Salary</th>\n",
       "      <th>Num_Bank_Accounts</th>\n",
       "      <th>Num_Credit_Card</th>\n",
       "      <th>Interest_Rate</th>\n",
       "      <th>Num_of_Loan</th>\n",
       "      <th>...</th>\n",
       "      <th>Credit_Mix</th>\n",
       "      <th>Outstanding_Debt</th>\n",
       "      <th>Credit_Utilization_Ratio</th>\n",
       "      <th>Credit_History_Age</th>\n",
       "      <th>Payment_of_Min_Amount</th>\n",
       "      <th>Total_EMI_per_month</th>\n",
       "      <th>Amount_invested_monthly</th>\n",
       "      <th>Payment_Behaviour</th>\n",
       "      <th>Monthly_Balance</th>\n",
       "      <th>Credit_Score</th>\n",
       "    </tr>\n",
       "  </thead>\n",
       "  <tbody>\n",
       "    <tr>\n",
       "      <th>0</th>\n",
       "      <td>January</td>\n",
       "      <td>23</td>\n",
       "      <td>821000265</td>\n",
       "      <td>Scientist</td>\n",
       "      <td>19114.12</td>\n",
       "      <td>1824.843333</td>\n",
       "      <td>3</td>\n",
       "      <td>4</td>\n",
       "      <td>3</td>\n",
       "      <td>4</td>\n",
       "      <td>...</td>\n",
       "      <td>_</td>\n",
       "      <td>809.98</td>\n",
       "      <td>26.822620</td>\n",
       "      <td>22 Years and 1 Months</td>\n",
       "      <td>No</td>\n",
       "      <td>49.574949</td>\n",
       "      <td>80.41529543900253</td>\n",
       "      <td>High_spent_Small_value_payments</td>\n",
       "      <td>312.49408867943663</td>\n",
       "      <td>Good</td>\n",
       "    </tr>\n",
       "    <tr>\n",
       "      <th>1</th>\n",
       "      <td>February</td>\n",
       "      <td>23</td>\n",
       "      <td>821000265</td>\n",
       "      <td>Scientist</td>\n",
       "      <td>19114.12</td>\n",
       "      <td>NaN</td>\n",
       "      <td>3</td>\n",
       "      <td>4</td>\n",
       "      <td>3</td>\n",
       "      <td>4</td>\n",
       "      <td>...</td>\n",
       "      <td>Good</td>\n",
       "      <td>809.98</td>\n",
       "      <td>31.944960</td>\n",
       "      <td>NaN</td>\n",
       "      <td>No</td>\n",
       "      <td>49.574949</td>\n",
       "      <td>118.28022162236736</td>\n",
       "      <td>Low_spent_Large_value_payments</td>\n",
       "      <td>284.62916249607184</td>\n",
       "      <td>Good</td>\n",
       "    </tr>\n",
       "    <tr>\n",
       "      <th>2</th>\n",
       "      <td>March</td>\n",
       "      <td>-500</td>\n",
       "      <td>821000265</td>\n",
       "      <td>Scientist</td>\n",
       "      <td>19114.12</td>\n",
       "      <td>NaN</td>\n",
       "      <td>3</td>\n",
       "      <td>4</td>\n",
       "      <td>3</td>\n",
       "      <td>4</td>\n",
       "      <td>...</td>\n",
       "      <td>Good</td>\n",
       "      <td>809.98</td>\n",
       "      <td>28.609352</td>\n",
       "      <td>22 Years and 3 Months</td>\n",
       "      <td>No</td>\n",
       "      <td>49.574949</td>\n",
       "      <td>81.699521264648</td>\n",
       "      <td>Low_spent_Medium_value_payments</td>\n",
       "      <td>331.2098628537912</td>\n",
       "      <td>Good</td>\n",
       "    </tr>\n",
       "    <tr>\n",
       "      <th>3</th>\n",
       "      <td>April</td>\n",
       "      <td>23</td>\n",
       "      <td>821000265</td>\n",
       "      <td>Scientist</td>\n",
       "      <td>19114.12</td>\n",
       "      <td>NaN</td>\n",
       "      <td>3</td>\n",
       "      <td>4</td>\n",
       "      <td>3</td>\n",
       "      <td>4</td>\n",
       "      <td>...</td>\n",
       "      <td>Good</td>\n",
       "      <td>809.98</td>\n",
       "      <td>31.377862</td>\n",
       "      <td>22 Years and 4 Months</td>\n",
       "      <td>No</td>\n",
       "      <td>49.574949</td>\n",
       "      <td>199.4580743910713</td>\n",
       "      <td>Low_spent_Small_value_payments</td>\n",
       "      <td>223.45130972736786</td>\n",
       "      <td>Good</td>\n",
       "    </tr>\n",
       "    <tr>\n",
       "      <th>4</th>\n",
       "      <td>May</td>\n",
       "      <td>23</td>\n",
       "      <td>821000265</td>\n",
       "      <td>Scientist</td>\n",
       "      <td>19114.12</td>\n",
       "      <td>1824.843333</td>\n",
       "      <td>3</td>\n",
       "      <td>4</td>\n",
       "      <td>3</td>\n",
       "      <td>4</td>\n",
       "      <td>...</td>\n",
       "      <td>Good</td>\n",
       "      <td>809.98</td>\n",
       "      <td>24.797347</td>\n",
       "      <td>22 Years and 5 Months</td>\n",
       "      <td>No</td>\n",
       "      <td>49.574949</td>\n",
       "      <td>41.420153086217326</td>\n",
       "      <td>High_spent_Medium_value_payments</td>\n",
       "      <td>341.48923103222177</td>\n",
       "      <td>Good</td>\n",
       "    </tr>\n",
       "  </tbody>\n",
       "</table>\n",
       "<p>5 rows × 25 columns</p>\n",
       "</div>"
      ],
      "text/plain": [
       "      Month   Age        SSN Occupation Annual_Income  Monthly_Inhand_Salary  \\\n",
       "0   January    23  821000265  Scientist      19114.12            1824.843333   \n",
       "1  February    23  821000265  Scientist      19114.12                    NaN   \n",
       "2     March  -500  821000265  Scientist      19114.12                    NaN   \n",
       "3     April    23  821000265  Scientist      19114.12                    NaN   \n",
       "4       May    23  821000265  Scientist      19114.12            1824.843333   \n",
       "\n",
       "   Num_Bank_Accounts  Num_Credit_Card  Interest_Rate Num_of_Loan  ...  \\\n",
       "0                  3                4              3           4  ...   \n",
       "1                  3                4              3           4  ...   \n",
       "2                  3                4              3           4  ...   \n",
       "3                  3                4              3           4  ...   \n",
       "4                  3                4              3           4  ...   \n",
       "\n",
       "  Credit_Mix  Outstanding_Debt Credit_Utilization_Ratio  \\\n",
       "0          _            809.98                26.822620   \n",
       "1       Good            809.98                31.944960   \n",
       "2       Good            809.98                28.609352   \n",
       "3       Good            809.98                31.377862   \n",
       "4       Good            809.98                24.797347   \n",
       "\n",
       "      Credit_History_Age  Payment_of_Min_Amount Total_EMI_per_month  \\\n",
       "0  22 Years and 1 Months                     No           49.574949   \n",
       "1                    NaN                     No           49.574949   \n",
       "2  22 Years and 3 Months                     No           49.574949   \n",
       "3  22 Years and 4 Months                     No           49.574949   \n",
       "4  22 Years and 5 Months                     No           49.574949   \n",
       "\n",
       "  Amount_invested_monthly                 Payment_Behaviour  \\\n",
       "0       80.41529543900253   High_spent_Small_value_payments   \n",
       "1      118.28022162236736    Low_spent_Large_value_payments   \n",
       "2         81.699521264648   Low_spent_Medium_value_payments   \n",
       "3       199.4580743910713    Low_spent_Small_value_payments   \n",
       "4      41.420153086217326  High_spent_Medium_value_payments   \n",
       "\n",
       "      Monthly_Balance Credit_Score  \n",
       "0  312.49408867943663         Good  \n",
       "1  284.62916249607184         Good  \n",
       "2   331.2098628537912         Good  \n",
       "3  223.45130972736786         Good  \n",
       "4  341.48923103222177         Good  \n",
       "\n",
       "[5 rows x 25 columns]"
      ]
     },
     "execution_count": 39,
     "metadata": {},
     "output_type": "execute_result"
    }
   ],
   "source": [
    "df_name.head()"
   ]
  },
  {
   "attachments": {},
   "cell_type": "markdown",
   "metadata": {},
   "source": [
    "## PreProcessing Age"
   ]
  },
  {
   "cell_type": "code",
   "execution_count": 40,
   "metadata": {},
   "outputs": [],
   "source": [
    "df_age = df_name.copy()"
   ]
  },
  {
   "cell_type": "code",
   "execution_count": 41,
   "metadata": {},
   "outputs": [
    {
     "name": "stdout",
     "output_type": "stream",
     "text": [
      "Unique Age Count :  1788\n",
      "Null Value Count :  0\n"
     ]
    }
   ],
   "source": [
    "print('Unique Age Count : ',df_age['Age'].nunique())\n",
    "print('Null Value Count : ',df_age['Age'].isna().sum())"
   ]
  },
  {
   "attachments": {},
   "cell_type": "markdown",
   "metadata": {},
   "source": [
    "### Count possible noisy data in Age (age upper limit = 100 and lower limit is 0)"
   ]
  },
  {
   "cell_type": "code",
   "execution_count": 42,
   "metadata": {},
   "outputs": [
    {
     "name": "stdout",
     "output_type": "stream",
     "text": [
      "Underscore_age Count :  4939 || Unique Underscore_age count : 127  || Example :  ['28_', '34_', '30_', '24_', '33_']\n",
      "Noisy_age Count :  1805 || Unique Noisy_age count : 1614  || Example :  ['7580', '181', '995', '5079', '6409']\n"
     ]
    }
   ],
   "source": [
    "underscore_age = 0\n",
    "underscore_age_list = []\n",
    "noisy_age = 0\n",
    "noisy_age_list = []\n",
    "for index in range(len(df_age)):\n",
    "    if '_' in  df_age['Age'][index]:\n",
    "        underscore_age += 1\n",
    "        underscore_age_list.append(df_age['Age'][index])\n",
    "    try:\n",
    "        if int(df_age['Age'][index]) > 100 or int(df_age['Age'][index] <= 0):\n",
    "            noisy_age +=1\n",
    "            noisy_age_list.append(df_age['Age'][index])\n",
    "            \n",
    "    except:\n",
    "        pass\n",
    "print(\"Underscore_age Count : \",underscore_age,\"|| Unique Underscore_age count :\",len(set(underscore_age_list)), \" || Example : \",underscore_age_list[0:5])\n",
    "print(\"Noisy_age Count : \",noisy_age,\"|| Unique Noisy_age count :\",len(set(noisy_age_list)),\" || Example : \",noisy_age_list[0:5])\n",
    "\n"
   ]
  },
  {
   "attachments": {},
   "cell_type": "markdown",
   "metadata": {},
   "source": [
    "#### Probable Unique age values <br>\n",
    "1788 - 127 - 1608 =53"
   ]
  },
  {
   "attachments": {},
   "cell_type": "markdown",
   "metadata": {},
   "source": [
    "##### Ommiting the underscore in underscore ages."
   ]
  },
  {
   "cell_type": "code",
   "execution_count": 43,
   "metadata": {},
   "outputs": [],
   "source": [
    "for index in range(len(df_age)):\n",
    "    if '_' in df_age['Age'][index]:\n",
    "        df_age['Age'][index] = df_age['Age'][index].replace('_','')"
   ]
  },
  {
   "attachments": {},
   "cell_type": "markdown",
   "metadata": {},
   "source": [
    "##### Ommiting noisy ages"
   ]
  },
  {
   "attachments": {},
   "cell_type": "markdown",
   "metadata": {},
   "source": [
    "##### We load unique SSN Earlier"
   ]
  },
  {
   "cell_type": "code",
   "execution_count": 44,
   "metadata": {},
   "outputs": [],
   "source": [
    "corresponding_unique_age_values= {}\n",
    "\n",
    "df_age['Age'] = df_age['Age'].astype(int)\n",
    "\n",
    "for ssn in unique_SSN:\n",
    "    corresponding_unique_age_values[ssn] = list(df_age[df_age['SSN'] == ssn]['Age'].unique())"
   ]
  },
  {
   "cell_type": "code",
   "execution_count": 45,
   "metadata": {},
   "outputs": [
    {
     "data": {
      "text/plain": [
       "{821000265: [23, -500],\n",
       " 4075839: [28],\n",
       " 486853974: [34],\n",
       " 72316145: [54, 55],\n",
       " 615067821: [21],\n",
       " 612708987: [31],\n",
       " 411510676: [33, 34],\n",
       " 500926408: [7580, 30],\n",
       " 70191622: [23, 24],\n",
       " 366681681: [44, 45]}"
      ]
     },
     "execution_count": 45,
     "metadata": {},
     "output_type": "execute_result"
    }
   ],
   "source": [
    "dict(itertools.islice(corresponding_unique_age_values.items(),10))"
   ]
  },
  {
   "attachments": {},
   "cell_type": "markdown",
   "metadata": {},
   "source": [
    "##### For now allowing multiple valid ages but replacing the noisy data."
   ]
  },
  {
   "cell_type": "code",
   "execution_count": 46,
   "metadata": {},
   "outputs": [
    {
     "data": {
      "text/plain": [
       "[7580, 30]"
      ]
     },
     "execution_count": 46,
     "metadata": {},
     "output_type": "execute_result"
    },
    {
     "data": {
      "text/plain": [
       "30"
      ]
     },
     "execution_count": 46,
     "metadata": {},
     "output_type": "execute_result"
    }
   ],
   "source": [
    "[val for val in corresponding_unique_age_values[500926408] ]\n",
    "[val for val in corresponding_unique_age_values[500926408] if ((int(val) >= 0) and (int(val) <= 100)) ][0]"
   ]
  },
  {
   "cell_type": "code",
   "execution_count": 47,
   "metadata": {},
   "outputs": [],
   "source": [
    "for index in range(len(df_age)):\n",
    "    if df_age['Age'][index] > 100 or df_age['Age'][index] <= 0:\n",
    "        df_age['Age'][index] = [val for val in corresponding_unique_age_values[df_age['SSN'][index]] if ((val > 0) and (val <= 100)) ][0]"
   ]
  },
  {
   "attachments": {},
   "cell_type": "markdown",
   "metadata": {},
   "source": [
    "### Lets Check"
   ]
  },
  {
   "cell_type": "code",
   "execution_count": 48,
   "metadata": {},
   "outputs": [
    {
     "name": "stdout",
     "output_type": "stream",
     "text": [
      "Noisy_age Count :  0 || Unique Noisy_age count : 0  || Example :  []\n"
     ]
    }
   ],
   "source": [
    "noisy_age = 0\n",
    "noisy_age_list = []\n",
    "for index in range(len(df_age)):\n",
    "    if df_age['Age'][index] > 120 or df_age['Age'][index] <= 0:\n",
    "        noisy_age +=1\n",
    "        noisy_age_list.append(df_age['Age'][index])\n",
    "print(\"Noisy_age Count : \",noisy_age,\"|| Unique Noisy_age count :\",len(set(noisy_age_list)),\" || Example : \",noisy_age_list[0:5])"
   ]
  },
  {
   "cell_type": "code",
   "execution_count": 49,
   "metadata": {},
   "outputs": [],
   "source": [
    "df_age.to_csv('checkpoints//2_df_age.csv',index = False)"
   ]
  },
  {
   "attachments": {},
   "cell_type": "markdown",
   "metadata": {},
   "source": [
    "## PreProcessing Occupation"
   ]
  },
  {
   "cell_type": "code",
   "execution_count": 50,
   "metadata": {},
   "outputs": [],
   "source": [
    "df_occupation = pd.read_csv('checkpoints//2_df_age.csv')"
   ]
  },
  {
   "cell_type": "code",
   "execution_count": 51,
   "metadata": {},
   "outputs": [
    {
     "data": {
      "text/html": [
       "<div>\n",
       "<style scoped>\n",
       "    .dataframe tbody tr th:only-of-type {\n",
       "        vertical-align: middle;\n",
       "    }\n",
       "\n",
       "    .dataframe tbody tr th {\n",
       "        vertical-align: top;\n",
       "    }\n",
       "\n",
       "    .dataframe thead th {\n",
       "        text-align: right;\n",
       "    }\n",
       "</style>\n",
       "<table border=\"1\" class=\"dataframe\">\n",
       "  <thead>\n",
       "    <tr style=\"text-align: right;\">\n",
       "      <th></th>\n",
       "      <th>Month</th>\n",
       "      <th>Age</th>\n",
       "      <th>SSN</th>\n",
       "      <th>Occupation</th>\n",
       "      <th>Annual_Income</th>\n",
       "      <th>Monthly_Inhand_Salary</th>\n",
       "      <th>Num_Bank_Accounts</th>\n",
       "      <th>Num_Credit_Card</th>\n",
       "      <th>Interest_Rate</th>\n",
       "      <th>Num_of_Loan</th>\n",
       "      <th>...</th>\n",
       "      <th>Credit_Mix</th>\n",
       "      <th>Outstanding_Debt</th>\n",
       "      <th>Credit_Utilization_Ratio</th>\n",
       "      <th>Credit_History_Age</th>\n",
       "      <th>Payment_of_Min_Amount</th>\n",
       "      <th>Total_EMI_per_month</th>\n",
       "      <th>Amount_invested_monthly</th>\n",
       "      <th>Payment_Behaviour</th>\n",
       "      <th>Monthly_Balance</th>\n",
       "      <th>Credit_Score</th>\n",
       "    </tr>\n",
       "  </thead>\n",
       "  <tbody>\n",
       "    <tr>\n",
       "      <th>0</th>\n",
       "      <td>January</td>\n",
       "      <td>23</td>\n",
       "      <td>821000265</td>\n",
       "      <td>Scientist</td>\n",
       "      <td>19114.12</td>\n",
       "      <td>1824.843333</td>\n",
       "      <td>3</td>\n",
       "      <td>4</td>\n",
       "      <td>3</td>\n",
       "      <td>4</td>\n",
       "      <td>...</td>\n",
       "      <td>_</td>\n",
       "      <td>809.98</td>\n",
       "      <td>26.822620</td>\n",
       "      <td>22 Years and 1 Months</td>\n",
       "      <td>No</td>\n",
       "      <td>49.574949</td>\n",
       "      <td>80.41529543900253</td>\n",
       "      <td>High_spent_Small_value_payments</td>\n",
       "      <td>312.49408867943663</td>\n",
       "      <td>Good</td>\n",
       "    </tr>\n",
       "    <tr>\n",
       "      <th>1</th>\n",
       "      <td>February</td>\n",
       "      <td>23</td>\n",
       "      <td>821000265</td>\n",
       "      <td>Scientist</td>\n",
       "      <td>19114.12</td>\n",
       "      <td>NaN</td>\n",
       "      <td>3</td>\n",
       "      <td>4</td>\n",
       "      <td>3</td>\n",
       "      <td>4</td>\n",
       "      <td>...</td>\n",
       "      <td>Good</td>\n",
       "      <td>809.98</td>\n",
       "      <td>31.944960</td>\n",
       "      <td>NaN</td>\n",
       "      <td>No</td>\n",
       "      <td>49.574949</td>\n",
       "      <td>118.28022162236736</td>\n",
       "      <td>Low_spent_Large_value_payments</td>\n",
       "      <td>284.62916249607184</td>\n",
       "      <td>Good</td>\n",
       "    </tr>\n",
       "    <tr>\n",
       "      <th>2</th>\n",
       "      <td>March</td>\n",
       "      <td>23</td>\n",
       "      <td>821000265</td>\n",
       "      <td>Scientist</td>\n",
       "      <td>19114.12</td>\n",
       "      <td>NaN</td>\n",
       "      <td>3</td>\n",
       "      <td>4</td>\n",
       "      <td>3</td>\n",
       "      <td>4</td>\n",
       "      <td>...</td>\n",
       "      <td>Good</td>\n",
       "      <td>809.98</td>\n",
       "      <td>28.609352</td>\n",
       "      <td>22 Years and 3 Months</td>\n",
       "      <td>No</td>\n",
       "      <td>49.574949</td>\n",
       "      <td>81.699521264648</td>\n",
       "      <td>Low_spent_Medium_value_payments</td>\n",
       "      <td>331.2098628537912</td>\n",
       "      <td>Good</td>\n",
       "    </tr>\n",
       "    <tr>\n",
       "      <th>3</th>\n",
       "      <td>April</td>\n",
       "      <td>23</td>\n",
       "      <td>821000265</td>\n",
       "      <td>Scientist</td>\n",
       "      <td>19114.12</td>\n",
       "      <td>NaN</td>\n",
       "      <td>3</td>\n",
       "      <td>4</td>\n",
       "      <td>3</td>\n",
       "      <td>4</td>\n",
       "      <td>...</td>\n",
       "      <td>Good</td>\n",
       "      <td>809.98</td>\n",
       "      <td>31.377862</td>\n",
       "      <td>22 Years and 4 Months</td>\n",
       "      <td>No</td>\n",
       "      <td>49.574949</td>\n",
       "      <td>199.4580743910713</td>\n",
       "      <td>Low_spent_Small_value_payments</td>\n",
       "      <td>223.45130972736786</td>\n",
       "      <td>Good</td>\n",
       "    </tr>\n",
       "    <tr>\n",
       "      <th>4</th>\n",
       "      <td>May</td>\n",
       "      <td>23</td>\n",
       "      <td>821000265</td>\n",
       "      <td>Scientist</td>\n",
       "      <td>19114.12</td>\n",
       "      <td>1824.843333</td>\n",
       "      <td>3</td>\n",
       "      <td>4</td>\n",
       "      <td>3</td>\n",
       "      <td>4</td>\n",
       "      <td>...</td>\n",
       "      <td>Good</td>\n",
       "      <td>809.98</td>\n",
       "      <td>24.797347</td>\n",
       "      <td>22 Years and 5 Months</td>\n",
       "      <td>No</td>\n",
       "      <td>49.574949</td>\n",
       "      <td>41.420153086217326</td>\n",
       "      <td>High_spent_Medium_value_payments</td>\n",
       "      <td>341.48923103222177</td>\n",
       "      <td>Good</td>\n",
       "    </tr>\n",
       "  </tbody>\n",
       "</table>\n",
       "<p>5 rows × 25 columns</p>\n",
       "</div>"
      ],
      "text/plain": [
       "      Month  Age        SSN Occupation Annual_Income  Monthly_Inhand_Salary  \\\n",
       "0   January   23  821000265  Scientist      19114.12            1824.843333   \n",
       "1  February   23  821000265  Scientist      19114.12                    NaN   \n",
       "2     March   23  821000265  Scientist      19114.12                    NaN   \n",
       "3     April   23  821000265  Scientist      19114.12                    NaN   \n",
       "4       May   23  821000265  Scientist      19114.12            1824.843333   \n",
       "\n",
       "   Num_Bank_Accounts  Num_Credit_Card  Interest_Rate Num_of_Loan  ...  \\\n",
       "0                  3                4              3           4  ...   \n",
       "1                  3                4              3           4  ...   \n",
       "2                  3                4              3           4  ...   \n",
       "3                  3                4              3           4  ...   \n",
       "4                  3                4              3           4  ...   \n",
       "\n",
       "  Credit_Mix  Outstanding_Debt Credit_Utilization_Ratio  \\\n",
       "0          _            809.98                26.822620   \n",
       "1       Good            809.98                31.944960   \n",
       "2       Good            809.98                28.609352   \n",
       "3       Good            809.98                31.377862   \n",
       "4       Good            809.98                24.797347   \n",
       "\n",
       "      Credit_History_Age  Payment_of_Min_Amount Total_EMI_per_month  \\\n",
       "0  22 Years and 1 Months                     No           49.574949   \n",
       "1                    NaN                     No           49.574949   \n",
       "2  22 Years and 3 Months                     No           49.574949   \n",
       "3  22 Years and 4 Months                     No           49.574949   \n",
       "4  22 Years and 5 Months                     No           49.574949   \n",
       "\n",
       "  Amount_invested_monthly                 Payment_Behaviour  \\\n",
       "0       80.41529543900253   High_spent_Small_value_payments   \n",
       "1      118.28022162236736    Low_spent_Large_value_payments   \n",
       "2         81.699521264648   Low_spent_Medium_value_payments   \n",
       "3       199.4580743910713    Low_spent_Small_value_payments   \n",
       "4      41.420153086217326  High_spent_Medium_value_payments   \n",
       "\n",
       "      Monthly_Balance Credit_Score  \n",
       "0  312.49408867943663         Good  \n",
       "1  284.62916249607184         Good  \n",
       "2   331.2098628537912         Good  \n",
       "3  223.45130972736786         Good  \n",
       "4  341.48923103222177         Good  \n",
       "\n",
       "[5 rows x 25 columns]"
      ]
     },
     "execution_count": 51,
     "metadata": {},
     "output_type": "execute_result"
    }
   ],
   "source": [
    "df_occupation.head()"
   ]
  },
  {
   "cell_type": "code",
   "execution_count": 52,
   "metadata": {},
   "outputs": [
    {
     "name": "stdout",
     "output_type": "stream",
     "text": [
      "Unique Value Count : 16\n",
      "Null Value Count :  0\n"
     ]
    }
   ],
   "source": [
    "print('Unique Value Count :',df_occupation['Occupation'].nunique())\n",
    "print('Null Value Count : ',df_occupation['Occupation'].isna().sum())"
   ]
  },
  {
   "cell_type": "code",
   "execution_count": 53,
   "metadata": {},
   "outputs": [
    {
     "data": {
      "text/plain": [
       "_______          7062\n",
       "Lawyer           6575\n",
       "Architect        6355\n",
       "Engineer         6350\n",
       "Scientist        6299\n",
       "Mechanic         6291\n",
       "Accountant       6271\n",
       "Developer        6235\n",
       "Media_Manager    6232\n",
       "Teacher          6215\n",
       "Entrepreneur     6174\n",
       "Doctor           6087\n",
       "Journalist       6085\n",
       "Manager          5973\n",
       "Musician         5911\n",
       "Writer           5885\n",
       "Name: Occupation, dtype: int64"
      ]
     },
     "execution_count": 53,
     "metadata": {},
     "output_type": "execute_result"
    }
   ],
   "source": [
    "df_occupation[\"Occupation\"].value_counts()"
   ]
  },
  {
   "attachments": {},
   "cell_type": "markdown",
   "metadata": {},
   "source": [
    "##### _______ seems to be noisy data."
   ]
  },
  {
   "cell_type": "code",
   "execution_count": 54,
   "metadata": {},
   "outputs": [],
   "source": [
    "corresponding_unique_occupation_values = {}\n",
    "for ssn in unique_SSN:\n",
    "    corresponding_unique_occupation_values[ssn] = list(df_occupation[df_occupation['SSN'] == ssn]['Occupation'].unique())"
   ]
  },
  {
   "cell_type": "code",
   "execution_count": 55,
   "metadata": {},
   "outputs": [
    {
     "data": {
      "text/plain": [
       "{821000265: ['Scientist'],\n",
       " 4075839: ['_______', 'Teacher'],\n",
       " 486853974: ['_______', 'Engineer'],\n",
       " 72316145: ['Entrepreneur', '_______'],\n",
       " 615067821: ['Developer'],\n",
       " 612708987: ['Lawyer', '_______'],\n",
       " 411510676: ['Lawyer'],\n",
       " 500926408: ['Media_Manager', '_______'],\n",
       " 70191622: ['Doctor'],\n",
       " 366681681: ['Journalist']}"
      ]
     },
     "execution_count": 55,
     "metadata": {},
     "output_type": "execute_result"
    }
   ],
   "source": [
    "dict(itertools.islice(corresponding_unique_occupation_values.items(),10))"
   ]
  },
  {
   "cell_type": "code",
   "execution_count": 56,
   "metadata": {},
   "outputs": [
    {
     "data": {
      "text/plain": [
       "['_______', 'Teacher']"
      ]
     },
     "execution_count": 56,
     "metadata": {},
     "output_type": "execute_result"
    },
    {
     "data": {
      "text/plain": [
       "'Teacher'"
      ]
     },
     "execution_count": 56,
     "metadata": {},
     "output_type": "execute_result"
    }
   ],
   "source": [
    "[val for val in corresponding_unique_occupation_values[4075839] ]\n",
    "[val for val in corresponding_unique_occupation_values[4075839] if not val.startswith('_') ][0]"
   ]
  },
  {
   "cell_type": "markdown",
   "metadata": {},
   "source": [
    "### Replacing the noisy data."
   ]
  },
  {
   "cell_type": "code",
   "execution_count": 57,
   "metadata": {},
   "outputs": [],
   "source": [
    "for index in range(len(df_occupation)):\n",
    "    if df_occupation['Occupation'][index].startswith('_'):\n",
    "        df_occupation['Occupation'][index] = [val for val in corresponding_unique_occupation_values[df_occupation['SSN'][index]] if not val.startswith('_') ][0]"
   ]
  },
  {
   "cell_type": "code",
   "execution_count": 58,
   "metadata": {},
   "outputs": [
    {
     "data": {
      "text/plain": [
       "Lawyer           7096\n",
       "Engineer         6864\n",
       "Architect        6824\n",
       "Mechanic         6776\n",
       "Scientist        6744\n",
       "Accountant       6744\n",
       "Developer        6720\n",
       "Media_Manager    6720\n",
       "Teacher          6672\n",
       "Entrepreneur     6648\n",
       "Doctor           6568\n",
       "Journalist       6536\n",
       "Manager          6432\n",
       "Musician         6352\n",
       "Writer           6304\n",
       "Name: Occupation, dtype: int64"
      ]
     },
     "execution_count": 58,
     "metadata": {},
     "output_type": "execute_result"
    }
   ],
   "source": [
    "df_occupation[\"Occupation\"].value_counts()"
   ]
  },
  {
   "cell_type": "markdown",
   "metadata": {},
   "source": [
    "### Checking"
   ]
  },
  {
   "cell_type": "code",
   "execution_count": 59,
   "metadata": {},
   "outputs": [
    {
     "data": {
      "text/plain": [
       "{821000265: ['Scientist'],\n",
       " 4075839: ['Teacher'],\n",
       " 486853974: ['Engineer'],\n",
       " 72316145: ['Entrepreneur'],\n",
       " 615067821: ['Developer'],\n",
       " 612708987: ['Lawyer'],\n",
       " 411510676: ['Lawyer'],\n",
       " 500926408: ['Media_Manager'],\n",
       " 70191622: ['Doctor'],\n",
       " 366681681: ['Journalist']}"
      ]
     },
     "execution_count": 59,
     "metadata": {},
     "output_type": "execute_result"
    }
   ],
   "source": [
    "for ssn in unique_SSN:\n",
    "    corresponding_unique_occupation_values[ssn] = list(df_occupation[df_occupation['SSN'] == ssn]['Occupation'].unique())\n",
    "dict(itertools.islice(corresponding_unique_occupation_values.items(),10))"
   ]
  },
  {
   "attachments": {},
   "cell_type": "markdown",
   "metadata": {},
   "source": [
    "## PreProcessing Annual Income"
   ]
  },
  {
   "cell_type": "code",
   "execution_count": 60,
   "metadata": {},
   "outputs": [],
   "source": [
    "df_annual_income = df_occupation.copy()"
   ]
  },
  {
   "cell_type": "code",
   "execution_count": 61,
   "metadata": {},
   "outputs": [
    {
     "name": "stdout",
     "output_type": "stream",
     "text": [
      "Unique Value Count : 18940\n",
      "Null Value Count : 0\n"
     ]
    }
   ],
   "source": [
    "print('Unique Value Count :',df_annual_income['Annual_Income'].nunique())\n",
    "print('Null Value Count :',df_annual_income['Annual_Income'].isna().sum())"
   ]
  },
  {
   "cell_type": "markdown",
   "metadata": {},
   "source": [
    "### Checking noisy datas"
   ]
  },
  {
   "cell_type": "code",
   "execution_count": 62,
   "metadata": {},
   "outputs": [
    {
     "name": "stdout",
     "output_type": "stream",
     "text": [
      "Underscore_annual_income Count :  6980 || Unique Underscore_annual_income count : 5503  || Example :  ['34847.84_', '30689.89_', '35547.71_', '34081.38_', '114838.41_']\n"
     ]
    }
   ],
   "source": [
    "underscore_annual_income = 0\n",
    "underscore_annual_income_list = []\n",
    "for index in range(len(df_annual_income)):\n",
    "    if '_' in  df_annual_income['Annual_Income'][index]:\n",
    "        underscore_annual_income += 1\n",
    "        underscore_annual_income_list.append(df_annual_income['Annual_Income'][index])\n",
    "print(\"Underscore_annual_income Count : \",underscore_annual_income,\"|| Unique Underscore_annual_income count :\",len(set(underscore_annual_income_list)), \" || Example : \",underscore_annual_income_list[0:5])"
   ]
  },
  {
   "attachments": {},
   "cell_type": "markdown",
   "metadata": {},
   "source": [
    "### Ommitting the underscore annual income"
   ]
  },
  {
   "cell_type": "code",
   "execution_count": 63,
   "metadata": {},
   "outputs": [],
   "source": [
    "for index in range(len(df_annual_income)):\n",
    "    if '_' in df_annual_income['Annual_Income'][index]:\n",
    "        df_annual_income['Annual_Income'][index] = df_annual_income['Annual_Income'][index].replace('_','')"
   ]
  },
  {
   "cell_type": "code",
   "execution_count": 64,
   "metadata": {},
   "outputs": [
    {
     "name": "stdout",
     "output_type": "stream",
     "text": [
      "Underscore_annual_income Count :  0 || Unique Underscore_annual_income count : 0  || Example :  []\n"
     ]
    }
   ],
   "source": [
    "underscore_annual_income = 0\n",
    "underscore_annual_income_list = []\n",
    "for index in range(len(df_annual_income)):\n",
    "    if '_' in  df_annual_income['Annual_Income'][index]:\n",
    "        underscore_annual_income += 1\n",
    "        underscore_annual_income_list.append(df_annual_income['Annual_Income'][index])\n",
    "print(\"Underscore_annual_income Count : \",underscore_annual_income,\"|| Unique Underscore_annual_income count :\",len(set(underscore_annual_income_list)), \" || Example : \",underscore_annual_income_list[0:5])"
   ]
  },
  {
   "cell_type": "markdown",
   "metadata": {},
   "source": [
    "### Make column numerical."
   ]
  },
  {
   "cell_type": "code",
   "execution_count": 65,
   "metadata": {},
   "outputs": [],
   "source": [
    "df_annual_income['Annual_Income'] = df_annual_income['Annual_Income'].astype(float)"
   ]
  },
  {
   "cell_type": "markdown",
   "metadata": {},
   "source": [
    "### Checking if each Customer has same Annual_Income"
   ]
  },
  {
   "cell_type": "code",
   "execution_count": 66,
   "metadata": {},
   "outputs": [],
   "source": [
    "corresponding_unique_annual_income_values = {}\n",
    "for ssn in unique_SSN:\n",
    "    corresponding_unique_annual_income_values[ssn] = list(df_annual_income[df_annual_income['SSN'] == ssn]['Annual_Income'].unique())"
   ]
  },
  {
   "cell_type": "code",
   "execution_count": 67,
   "metadata": {},
   "outputs": [
    {
     "data": {
      "text/plain": [
       "{821000265: [19114.12],\n",
       " 4075839: [34847.84],\n",
       " 486853974: [143162.64],\n",
       " 72316145: [30689.89],\n",
       " 615067821: [35547.71],\n",
       " 612708987: [73928.46],\n",
       " 411510676: [131313.4, 10909427.0],\n",
       " 500926408: [34081.38],\n",
       " 70191622: [114838.41],\n",
       " 366681681: [31370.8],\n",
       " 221308554: [33751.27],\n",
       " 342902649: [88640.24],\n",
       " 414532918: [54392.16],\n",
       " 328336328: [8701.545],\n",
       " 655057666: [25546.26],\n",
       " 965462491: [31993.78],\n",
       " 891559364: [92047.08],\n",
       " 928914452: [32284.62],\n",
       " 84253745: [97791.42],\n",
       " 68834394: [19300.34],\n",
       " 561609294: [19514.88],\n",
       " 905507912: [10183.015],\n",
       " 28164402: [106733.13],\n",
       " 706950150: [12600.445],\n",
       " 189095267: [57983.12],\n",
       " 13390742: [20787.69],\n",
       " 467131148: [34290.12],\n",
       " 663163845: [43070.24],\n",
       " 311137309: [28572.39, 6515990.0],\n",
       " 904887361: [39641.54],\n",
       " 889072357: [20186.02, 586359.0],\n",
       " 425476723: [18627.64],\n",
       " 602551355: [12986.745],\n",
       " 679266464: [58317.0],\n",
       " 253912822: [42171.98],\n",
       " 734547098: [71681.4],\n",
       " 995378920: [29469.98],\n",
       " 431584893: [72559.36],\n",
       " 700603660: [15566.02],\n",
       " 397289675: [66567.32]}"
      ]
     },
     "execution_count": 67,
     "metadata": {},
     "output_type": "execute_result"
    }
   ],
   "source": [
    "dict(itertools.islice(corresponding_unique_annual_income_values.items(),40))"
   ]
  },
  {
   "cell_type": "markdown",
   "metadata": {},
   "source": [
    "##### These datas seems to be noise. And maybe Outliers. And can be removed Later in Data Visualization. For now leaving as it is."
   ]
  },
  {
   "cell_type": "code",
   "execution_count": 68,
   "metadata": {},
   "outputs": [],
   "source": [
    "df_annual_income.to_csv('checkpoints//3_df_annual_income.csv',index = False)"
   ]
  },
  {
   "attachments": {},
   "cell_type": "markdown",
   "metadata": {},
   "source": [
    "## PreProcessing Monthly_Inhand_Salary"
   ]
  },
  {
   "cell_type": "code",
   "execution_count": 69,
   "metadata": {},
   "outputs": [],
   "source": [
    "df_monthly_inhand_salary = pd.read_csv('checkpoints//3_df_annual_income.csv')"
   ]
  },
  {
   "cell_type": "code",
   "execution_count": 70,
   "metadata": {},
   "outputs": [
    {
     "name": "stdout",
     "output_type": "stream",
     "text": [
      "Unique Value count :  13235\n",
      "Null Value Count :  15002\n"
     ]
    }
   ],
   "source": [
    "print('Unique Value count : ',df_monthly_inhand_salary['Monthly_Inhand_Salary'].nunique())\n",
    "print('Null Value Count : ',df_monthly_inhand_salary['Monthly_Inhand_Salary'].isna().sum())"
   ]
  },
  {
   "attachments": {},
   "cell_type": "markdown",
   "metadata": {},
   "source": [
    "### Checking if each customer have same monthly inhand salary"
   ]
  },
  {
   "cell_type": "code",
   "execution_count": 71,
   "metadata": {},
   "outputs": [],
   "source": [
    "corresponding_unique_inhand_salary_values = {}\n",
    "for ssn in unique_SSN:\n",
    "    corresponding_unique_inhand_salary_values[ssn] = list(df_monthly_inhand_salary[df_monthly_inhand_salary['SSN'] == ssn]['Monthly_Inhand_Salary'].unique())"
   ]
  },
  {
   "cell_type": "code",
   "execution_count": 72,
   "metadata": {},
   "outputs": [
    {
     "data": {
      "text/plain": [
       "{821000265: [1824.8433333333328, nan],\n",
       " 4075839: [3037.986666666666, nan],\n",
       " 486853974: [12187.22, nan],\n",
       " 72316145: [2612.4908333333333],\n",
       " 615067821: [2853.3091666666664, nan],\n",
       " 612708987: [nan, 5988.705000000001],\n",
       " 411510676: [11242.783333333333, 10469.207759388815, nan],\n",
       " 500926408: [nan, 2611.115],\n",
       " 70191622: [9843.8675, nan],\n",
       " 366681681: [2825.233333333333, nan],\n",
       " 221308554: [2948.605833333333, nan],\n",
       " 342902649: [7266.686666666667, nan],\n",
       " 414532918: [4766.68, nan],\n",
       " 328336328: [nan, 519.12875],\n",
       " 655057666: [2415.855, nan],\n",
       " 965462491: [2942.148333333333, nan],\n",
       " 891559364: [nan, 7591.59],\n",
       " 928914452: [2898.385],\n",
       " 84253745: [8079.285, nan, 7449.469346853578],\n",
       " 68834394: [1512.361666666667, nan]}"
      ]
     },
     "execution_count": 72,
     "metadata": {},
     "output_type": "execute_result"
    }
   ],
   "source": [
    "dict(itertools.islice(corresponding_unique_inhand_salary_values.items(),20))"
   ]
  },
  {
   "attachments": {},
   "cell_type": "markdown",
   "metadata": {},
   "source": [
    "### Replacing nan with median of the monthly_inhand_salary."
   ]
  },
  {
   "cell_type": "code",
   "execution_count": 73,
   "metadata": {},
   "outputs": [
    {
     "data": {
      "text/plain": [
       "[11242.783333333333, 10469.207759388815, nan]"
      ]
     },
     "execution_count": 73,
     "metadata": {},
     "output_type": "execute_result"
    },
    {
     "data": {
      "text/plain": [
       "10855.995546361075"
      ]
     },
     "execution_count": 73,
     "metadata": {},
     "output_type": "execute_result"
    }
   ],
   "source": [
    "[val for val in corresponding_unique_inhand_salary_values[411510676] ]\n",
    "\n",
    "statistics.median([val for val in corresponding_unique_inhand_salary_values[411510676] if not np.isnan(val) ])"
   ]
  },
  {
   "cell_type": "code",
   "execution_count": 74,
   "metadata": {},
   "outputs": [],
   "source": [
    "for index in range(len(df_monthly_inhand_salary)):\n",
    "    if np.isnan(df_monthly_inhand_salary['Monthly_Inhand_Salary'][index]):\n",
    "        df_monthly_inhand_salary['Monthly_Inhand_Salary'][index] = statistics.median([val for val in corresponding_unique_inhand_salary_values[411510676] if not np.isnan(val) ])"
   ]
  },
  {
   "cell_type": "code",
   "execution_count": 75,
   "metadata": {},
   "outputs": [
    {
     "data": {
      "text/plain": [
       "{821000265: [1824.8433333333328, 10855.995546361075],\n",
       " 4075839: [3037.986666666666, 10855.995546361075],\n",
       " 486853974: [12187.22, 10855.995546361075],\n",
       " 72316145: [2612.4908333333333],\n",
       " 615067821: [2853.3091666666664, 10855.995546361075],\n",
       " 612708987: [10855.995546361075, 5988.705000000001],\n",
       " 411510676: [11242.783333333333, 10469.207759388815, 10855.995546361075],\n",
       " 500926408: [10855.995546361075, 2611.115],\n",
       " 70191622: [9843.8675, 10855.995546361075],\n",
       " 366681681: [2825.233333333333, 10855.995546361075]}"
      ]
     },
     "execution_count": 75,
     "metadata": {},
     "output_type": "execute_result"
    }
   ],
   "source": [
    "for ssn in unique_SSN:\n",
    "    corresponding_unique_inhand_salary_values[ssn] = list(df_monthly_inhand_salary[df_monthly_inhand_salary['SSN'] == ssn]['Monthly_Inhand_Salary'].unique())\n",
    "dict(itertools.islice(corresponding_unique_inhand_salary_values.items(),10))"
   ]
  },
  {
   "cell_type": "code",
   "execution_count": 76,
   "metadata": {},
   "outputs": [
    {
     "data": {
      "text/plain": [
       "0"
      ]
     },
     "execution_count": 76,
     "metadata": {},
     "output_type": "execute_result"
    }
   ],
   "source": [
    "df_monthly_inhand_salary['Monthly_Inhand_Salary'].isna().sum()"
   ]
  },
  {
   "cell_type": "code",
   "execution_count": 77,
   "metadata": {},
   "outputs": [],
   "source": [
    "df_monthly_inhand_salary.to_csv('checkpoints//4_df_monthly_inhand_salary.csv',index = False)"
   ]
  },
  {
   "attachments": {},
   "cell_type": "markdown",
   "metadata": {},
   "source": [
    "## PreProcessing Num_Bank_Accounts"
   ]
  },
  {
   "cell_type": "code",
   "execution_count": 78,
   "metadata": {},
   "outputs": [],
   "source": [
    "df_num_bank_accounts = pd.read_csv('checkpoints//4_df_monthly_inhand_salary.csv')"
   ]
  },
  {
   "cell_type": "code",
   "execution_count": 79,
   "metadata": {},
   "outputs": [
    {
     "name": "stdout",
     "output_type": "stream",
     "text": [
      "Unique Value Count :  943\n",
      "Null Value Count :  0\n"
     ]
    }
   ],
   "source": [
    "print('Unique Value Count : ',df_num_bank_accounts['Num_Bank_Accounts'].nunique())\n",
    "print('Null Value Count : ',df_num_bank_accounts['Num_Bank_Accounts'].isna().sum())"
   ]
  },
  {
   "attachments": {},
   "cell_type": "markdown",
   "metadata": {},
   "source": [
    "### Checking for Noisy Datas for greater than 50."
   ]
  },
  {
   "cell_type": "code",
   "execution_count": 80,
   "metadata": {},
   "outputs": [
    {
     "name": "stdout",
     "output_type": "stream",
     "text": [
      "bank_account Count :  1280 || Unique bank_account count : 909  || Example :  [1414, 1231, 67, 572, 1488]\n"
     ]
    }
   ],
   "source": [
    "bank_account = 0\n",
    "bank_account_list = []\n",
    "for index in range(len(df_num_bank_accounts)):\n",
    "    if (df_num_bank_accounts['Num_Bank_Accounts'][index]) > 50:\n",
    "        bank_account +=1\n",
    "        bank_account_list.append(df_num_bank_accounts['Num_Bank_Accounts'][index])\n",
    "print(\"bank_account Count : \",bank_account,\"|| Unique bank_account count :\",len(set(bank_account_list)),\" || Example : \",bank_account_list[0:5])"
   ]
  },
  {
   "cell_type": "markdown",
   "metadata": {},
   "source": [
    "### Checking Corresponding number of bank accounts with SSN."
   ]
  },
  {
   "cell_type": "code",
   "execution_count": 81,
   "metadata": {},
   "outputs": [],
   "source": [
    "corresponding_unique_bank_accounts_values = {}\n",
    "for ssn in unique_SSN:\n",
    "    corresponding_unique_bank_accounts_values[ssn] = list(df_num_bank_accounts[df_num_bank_accounts['SSN'] == ssn]['Num_Bank_Accounts'].unique())"
   ]
  },
  {
   "cell_type": "code",
   "execution_count": 82,
   "metadata": {},
   "outputs": [
    {
     "data": {
      "text/plain": [
       "{87226137: [3],\n",
       " 62293192: [2],\n",
       " 727409990: [4],\n",
       " 16732103: [6],\n",
       " 198089791: [7, 91],\n",
       " 518012262: [9],\n",
       " 465939571: [5],\n",
       " 860361556: [3],\n",
       " 407069232: [3],\n",
       " 550948995: [6]}"
      ]
     },
     "execution_count": 82,
     "metadata": {},
     "output_type": "execute_result"
    }
   ],
   "source": [
    "dict(itertools.islice(corresponding_unique_bank_accounts_values.items(),90,100))"
   ]
  },
  {
   "attachments": {},
   "cell_type": "markdown",
   "metadata": {},
   "source": [
    "### Replacing number of banks greater than 50"
   ]
  },
  {
   "cell_type": "code",
   "execution_count": 83,
   "metadata": {},
   "outputs": [
    {
     "data": {
      "text/plain": [
       "[7, 91]"
      ]
     },
     "execution_count": 83,
     "metadata": {},
     "output_type": "execute_result"
    },
    {
     "data": {
      "text/plain": [
       "7"
      ]
     },
     "execution_count": 83,
     "metadata": {},
     "output_type": "execute_result"
    }
   ],
   "source": [
    "[val for val in corresponding_unique_bank_accounts_values[198089791]]\n",
    "[val for val in corresponding_unique_bank_accounts_values[198089791] if val <50 ][0]"
   ]
  },
  {
   "cell_type": "code",
   "execution_count": 84,
   "metadata": {},
   "outputs": [],
   "source": [
    "for index in range(len(df_num_bank_accounts)):\n",
    "    if df_num_bank_accounts['Num_Bank_Accounts'][index] > 50:\n",
    "        df_num_bank_accounts['Num_Bank_Accounts'][index] = [val for val in corresponding_unique_bank_accounts_values[df_num_bank_accounts['SSN'][index]] if val <= 50 ][0]"
   ]
  },
  {
   "cell_type": "code",
   "execution_count": 85,
   "metadata": {},
   "outputs": [
    {
     "data": {
      "text/plain": [
       "{87226137: [3],\n",
       " 62293192: [2],\n",
       " 727409990: [4],\n",
       " 16732103: [6],\n",
       " 198089791: [7],\n",
       " 518012262: [9],\n",
       " 465939571: [5],\n",
       " 860361556: [3],\n",
       " 407069232: [3],\n",
       " 550948995: [6]}"
      ]
     },
     "execution_count": 85,
     "metadata": {},
     "output_type": "execute_result"
    }
   ],
   "source": [
    "for ssn in unique_SSN:\n",
    "    corresponding_unique_bank_accounts_values[ssn] = list(df_num_bank_accounts[df_num_bank_accounts['SSN'] == ssn]['Num_Bank_Accounts'].unique())\n",
    "dict(itertools.islice(corresponding_unique_bank_accounts_values.items(),90,100))"
   ]
  },
  {
   "attachments": {},
   "cell_type": "markdown",
   "metadata": {},
   "source": [
    "### Checking for noisy data."
   ]
  },
  {
   "cell_type": "code",
   "execution_count": 86,
   "metadata": {},
   "outputs": [
    {
     "name": "stdout",
     "output_type": "stream",
     "text": [
      "bank_account Count :  0 || Unique bank_account count : 0  || Example :  []\n"
     ]
    }
   ],
   "source": [
    "bank_account = 0\n",
    "bank_account_list = []\n",
    "for index in range(len(df_num_bank_accounts)):\n",
    "    if (df_num_bank_accounts['Num_Bank_Accounts'][index]) > 50:\n",
    "        bank_account +=1\n",
    "        bank_account_list.append(df_num_bank_accounts['Num_Bank_Accounts'][index])\n",
    "print(\"bank_account Count : \",bank_account,\"|| Unique bank_account count :\",len(set(bank_account_list)),\" || Example : \",bank_account_list[0:5])"
   ]
  },
  {
   "attachments": {},
   "cell_type": "markdown",
   "metadata": {},
   "source": [
    "## PreProcessing Num_Credit_Card"
   ]
  },
  {
   "cell_type": "code",
   "execution_count": 87,
   "metadata": {},
   "outputs": [],
   "source": [
    "df_num_credit_card = df_num_bank_accounts.copy()"
   ]
  },
  {
   "cell_type": "code",
   "execution_count": 88,
   "metadata": {},
   "outputs": [
    {
     "name": "stdout",
     "output_type": "stream",
     "text": [
      "Unique Value Count :  1179\n",
      "Null Value Count :  0\n"
     ]
    }
   ],
   "source": [
    "print('Unique Value Count : ', df_num_credit_card['Num_Credit_Card'].nunique())\n",
    "print('Null Value Count : ', df_num_credit_card['Num_Credit_Card'].isna().sum())"
   ]
  },
  {
   "cell_type": "markdown",
   "metadata": {},
   "source": [
    "### Checking Noise data for Num_Credit_Card > 50"
   ]
  },
  {
   "cell_type": "code",
   "execution_count": 89,
   "metadata": {},
   "outputs": [
    {
     "name": "stdout",
     "output_type": "stream",
     "text": [
      "num_credit_cardCount :  2214 || Unique num_credit_cardcount : 1139  || Example :  [1385, 1288, 1029, 488, 1381]\n"
     ]
    }
   ],
   "source": [
    "num_credit_card= 0\n",
    "num_credit_card_list = []\n",
    "for index in range(len(df_num_credit_card)):\n",
    "    if (df_num_credit_card['Num_Credit_Card'][index]) > 50:\n",
    "        num_credit_card += 1\n",
    "        num_credit_card_list.append(df_num_credit_card['Num_Credit_Card'][index])\n",
    "print(\"num_credit_cardCount : \",num_credit_card,\"|| Unique num_credit_cardcount :\",len(set(num_credit_card_list)),\" || Example : \",num_credit_card_list[0:5])"
   ]
  },
  {
   "cell_type": "markdown",
   "metadata": {},
   "source": [
    "### Checking unique Num_Credit_Card corresponding to SSN."
   ]
  },
  {
   "cell_type": "code",
   "execution_count": 93,
   "metadata": {},
   "outputs": [],
   "source": [
    "corresponding_unique_num_credit_card_values = {}\n",
    "for ssn in unique_SSN:\n",
    "    corresponding_unique_num_credit_card_values[ssn] = list(df_num_credit_card[df_num_credit_card['SSN'] == ssn]['Num_Credit_Card'].unique())"
   ]
  },
  {
   "cell_type": "code",
   "execution_count": 94,
   "metadata": {},
   "outputs": [
    {
     "data": {
      "text/plain": [
       "{821000265: [4],\n",
       " 4075839: [4, 1385],\n",
       " 486853974: [5],\n",
       " 72316145: [5],\n",
       " 615067821: [5],\n",
       " 612708987: [1288, 5],\n",
       " 411510676: [1],\n",
       " 500926408: [7],\n",
       " 70191622: [5],\n",
       " 366681681: [5, 6]}"
      ]
     },
     "execution_count": 94,
     "metadata": {},
     "output_type": "execute_result"
    }
   ],
   "source": [
    "dict(itertools.islice(corresponding_unique_num_credit_card_values.items(),10))"
   ]
  },
  {
   "cell_type": "markdown",
   "metadata": {},
   "source": [
    "### Replacing value greater than 50."
   ]
  },
  {
   "cell_type": "code",
   "execution_count": 95,
   "metadata": {},
   "outputs": [
    {
     "data": {
      "text/plain": [
       "[1288, 5]"
      ]
     },
     "execution_count": 95,
     "metadata": {},
     "output_type": "execute_result"
    },
    {
     "data": {
      "text/plain": [
       "5"
      ]
     },
     "execution_count": 95,
     "metadata": {},
     "output_type": "execute_result"
    }
   ],
   "source": [
    "[val for val in corresponding_unique_num_credit_card_values[612708987] ]\n",
    "[val for val in corresponding_unique_num_credit_card_values[612708987] if val <= 50 ][0]"
   ]
  },
  {
   "cell_type": "code",
   "execution_count": 96,
   "metadata": {},
   "outputs": [],
   "source": [
    "for index in range(len(df_num_credit_card)):\n",
    "    if df_num_credit_card['Num_Credit_Card'][index] > 50:\n",
    "        df_num_credit_card['Num_Credit_Card'][index] = [val for val in corresponding_unique_num_credit_card_values[df_num_credit_card['SSN'][index]] if val <= 50 ][0]"
   ]
  },
  {
   "cell_type": "markdown",
   "metadata": {},
   "source": [
    "### Checking."
   ]
  },
  {
   "cell_type": "code",
   "execution_count": 97,
   "metadata": {},
   "outputs": [
    {
     "data": {
      "text/plain": [
       "{821000265: [4],\n",
       " 4075839: [4],\n",
       " 486853974: [5],\n",
       " 72316145: [5],\n",
       " 615067821: [5],\n",
       " 612708987: [5],\n",
       " 411510676: [1],\n",
       " 500926408: [7],\n",
       " 70191622: [5],\n",
       " 366681681: [5, 6]}"
      ]
     },
     "execution_count": 97,
     "metadata": {},
     "output_type": "execute_result"
    }
   ],
   "source": [
    "for ssn in unique_SSN:\n",
    "    corresponding_unique_num_credit_card_values[ssn] = list(df_num_credit_card[df_num_credit_card['SSN'] == ssn]['Num_Credit_Card'].unique())\n",
    "dict(itertools.islice(corresponding_unique_num_credit_card_values.items(),10))"
   ]
  },
  {
   "cell_type": "code",
   "execution_count": 98,
   "metadata": {},
   "outputs": [
    {
     "name": "stdout",
     "output_type": "stream",
     "text": [
      "num_credit_cardCount :  0 || Unique num_credit_cardcount : 0  || Example :  []\n"
     ]
    }
   ],
   "source": [
    "num_credit_card= 0\n",
    "num_credit_card_list = []\n",
    "for index in range(len(df_num_credit_card)):\n",
    "    if (df_num_credit_card['Num_Credit_Card'][index]) > 50:\n",
    "        num_credit_card += 1\n",
    "        num_credit_card_list.append(df_num_credit_card['Num_Credit_Card'][index])\n",
    "print(\"num_credit_cardCount : \",num_credit_card,\"|| Unique num_credit_cardcount :\",len(set(num_credit_card_list)),\" || Example : \",num_credit_card_list[0:5])"
   ]
  },
  {
   "cell_type": "code",
   "execution_count": 99,
   "metadata": {},
   "outputs": [],
   "source": [
    "df_num_credit_card.to_csv('checkpoints//5_df_num_credit_card.csv',index = False)"
   ]
  },
  {
   "attachments": {},
   "cell_type": "markdown",
   "metadata": {},
   "source": [
    "## PreProcessing Interest_Rate"
   ]
  },
  {
   "cell_type": "code",
   "execution_count": 100,
   "metadata": {},
   "outputs": [],
   "source": [
    "df_interest_rate = pd.read_csv('checkpoints//5_df_num_credit_card.csv')"
   ]
  },
  {
   "cell_type": "code",
   "execution_count": 101,
   "metadata": {},
   "outputs": [
    {
     "name": "stdout",
     "output_type": "stream",
     "text": [
      "Unique Value Count :  1750\n",
      "Null Value Count :  0\n"
     ]
    }
   ],
   "source": [
    "print('Unique Value Count : ',df_interest_rate[\"Interest_Rate\"].nunique())\n",
    "print('Null Value Count : ',df_interest_rate[\"Interest_Rate\"].isna().sum())"
   ]
  },
  {
   "cell_type": "markdown",
   "metadata": {},
   "source": [
    "### Checking Corresponding Values"
   ]
  },
  {
   "cell_type": "code",
   "execution_count": 102,
   "metadata": {},
   "outputs": [],
   "source": [
    "corresponding_unique_interest_rate_values = {}\n",
    "for ssn in unique_SSN:\n",
    "    corresponding_unique_interest_rate_values[ssn] = list(df_interest_rate[df_interest_rate['SSN'] == ssn]['Interest_Rate'].unique())"
   ]
  },
  {
   "cell_type": "code",
   "execution_count": 103,
   "metadata": {},
   "outputs": [
    {
     "data": {
      "text/plain": [
       "{821000265: [3],\n",
       " 4075839: [6],\n",
       " 486853974: [8],\n",
       " 72316145: [4],\n",
       " 615067821: [5],\n",
       " 612708987: [8, 5318],\n",
       " 411510676: [8],\n",
       " 500926408: [15],\n",
       " 70191622: [7],\n",
       " 366681681: [12]}"
      ]
     },
     "execution_count": 103,
     "metadata": {},
     "output_type": "execute_result"
    }
   ],
   "source": [
    "dict(itertools.islice(corresponding_unique_interest_rate_values.items(),10))"
   ]
  },
  {
   "attachments": {},
   "cell_type": "markdown",
   "metadata": {},
   "source": [
    "### Checking Noisy Data for Interest_Rate > 100"
   ]
  },
  {
   "cell_type": "code",
   "execution_count": 104,
   "metadata": {},
   "outputs": [
    {
     "name": "stdout",
     "output_type": "stream",
     "text": [
      "Interest_rate Count :  2012 || Unique interest_rate count : 1697  || Example :  [5318, 433, 5240, 4975, 668]\n"
     ]
    }
   ],
   "source": [
    "interest_rate = 0\n",
    "interest_rate_list = []\n",
    "for index in range(len(df_interest_rate)):\n",
    "    if (df_interest_rate['Interest_Rate'][index]) > 100:\n",
    "        interest_rate +=1\n",
    "        interest_rate_list.append(df_interest_rate['Interest_Rate'][index])\n",
    "print(\"Interest_rate Count : \",interest_rate,\"|| Unique interest_rate count :\",len(set(interest_rate_list)),\" || Example : \",interest_rate_list[0:5])"
   ]
  },
  {
   "cell_type": "markdown",
   "metadata": {},
   "source": [
    "### Replacing the Noisy Data"
   ]
  },
  {
   "cell_type": "code",
   "execution_count": 105,
   "metadata": {},
   "outputs": [],
   "source": [
    "for index in range(len(df_interest_rate)):\n",
    "    if df_interest_rate['Interest_Rate'][index] > 100:\n",
    "        df_interest_rate['Interest_Rate'][index] = [val for val in corresponding_unique_interest_rate_values[df_interest_rate['SSN'][index]] if val <= 100 ][0]"
   ]
  },
  {
   "attachments": {},
   "cell_type": "markdown",
   "metadata": {},
   "source": [
    "### Checking."
   ]
  },
  {
   "cell_type": "code",
   "execution_count": 106,
   "metadata": {},
   "outputs": [],
   "source": [
    "corresponding_unique_interest_rate_values = {}\n",
    "for ssn in unique_SSN:\n",
    "    corresponding_unique_interest_rate_values[ssn] = list(df_interest_rate[df_interest_rate['SSN'] == ssn]['Interest_Rate'].unique())"
   ]
  },
  {
   "cell_type": "code",
   "execution_count": 107,
   "metadata": {},
   "outputs": [
    {
     "data": {
      "text/plain": [
       "{821000265: [3],\n",
       " 4075839: [6],\n",
       " 486853974: [8],\n",
       " 72316145: [4],\n",
       " 615067821: [5],\n",
       " 612708987: [8],\n",
       " 411510676: [8],\n",
       " 500926408: [15],\n",
       " 70191622: [7],\n",
       " 366681681: [12]}"
      ]
     },
     "execution_count": 107,
     "metadata": {},
     "output_type": "execute_result"
    }
   ],
   "source": [
    "dict(itertools.islice(corresponding_unique_interest_rate_values.items(),10))"
   ]
  },
  {
   "cell_type": "code",
   "execution_count": 108,
   "metadata": {},
   "outputs": [
    {
     "name": "stdout",
     "output_type": "stream",
     "text": [
      "Interest_rate Count :  0 || Unique interest_rate count : 0  || Example :  []\n"
     ]
    }
   ],
   "source": [
    "interest_rate = 0\n",
    "interest_rate_list = []\n",
    "for index in range(len(df_interest_rate)):\n",
    "    if (df_interest_rate['Interest_Rate'][index]) > 100:\n",
    "        interest_rate +=1\n",
    "        interest_rate_list.append(df_interest_rate['Interest_Rate'][index])\n",
    "print(\"Interest_rate Count : \",interest_rate,\"|| Unique interest_rate count :\",len(set(interest_rate_list)),\" || Example : \",interest_rate_list[0:5])"
   ]
  },
  {
   "attachments": {},
   "cell_type": "markdown",
   "metadata": {},
   "source": [
    "## PreProcessing Num_of_Loan"
   ]
  },
  {
   "cell_type": "code",
   "execution_count": 109,
   "metadata": {},
   "outputs": [],
   "source": [
    "df_num_of_loan = df_interest_rate.copy()"
   ]
  },
  {
   "cell_type": "code",
   "execution_count": 110,
   "metadata": {},
   "outputs": [
    {
     "name": "stdout",
     "output_type": "stream",
     "text": [
      "Unique Value Count :  434\n",
      "Null Value Count :  0\n"
     ]
    }
   ],
   "source": [
    "print('Unique Value Count : ',df_num_of_loan['Num_of_Loan'].nunique())\n",
    "print('Null Value Count : ',df_num_of_loan['Num_of_Loan'].isna().sum())"
   ]
  },
  {
   "cell_type": "markdown",
   "metadata": {},
   "source": [
    "### Checking for Noisy Data."
   ]
  },
  {
   "cell_type": "code",
   "execution_count": 111,
   "metadata": {},
   "outputs": [
    {
     "name": "stdout",
     "output_type": "stream",
     "text": [
      "underscore_num_of_loan Count :  4785 || Unique underscore_num_of_loan count : 35  || Example :  ['0_', '3_', '3_', '2_', '5_']\n",
      "noisy_num_of_loan Count :  414 || Unique noisy_num_of_loan count : 362  || Example :  ['967', '1464', '622', '352', '472']\n"
     ]
    }
   ],
   "source": [
    "underscore_num_of_loan = 0\n",
    "underscore_num_of_loan_list = []\n",
    "noisy_num_of_loan = 0\n",
    "noisy_num_of_loan_list = []\n",
    "for index in range(len(df_num_of_loan)):\n",
    "    if '_' in  df_num_of_loan['Num_of_Loan'][index]:\n",
    "        underscore_num_of_loan += 1\n",
    "        underscore_num_of_loan_list.append(df_num_of_loan['Num_of_Loan'][index])\n",
    "    try:\n",
    "        if int(df_num_of_loan['Num_of_Loan'][index]) > 100 or int(df_num_of_loan['Num_of_Loan'][index] < 0):\n",
    "            noisy_num_of_loan +=1\n",
    "            noisy_num_of_loan_list.append(df_num_of_loan['Num_of_Loan'][index])\n",
    "            \n",
    "    except:\n",
    "        pass\n",
    "print(\"underscore_num_of_loan Count : \",underscore_num_of_loan,\"|| Unique underscore_num_of_loan count :\",len(set(underscore_num_of_loan_list)), \" || Example : \",underscore_num_of_loan_list[0:5])\n",
    "print(\"noisy_num_of_loan Count : \",noisy_num_of_loan,\"|| Unique noisy_num_of_loan count :\",len(set(noisy_num_of_loan_list)),\" || Example : \",noisy_num_of_loan_list[0:5])"
   ]
  },
  {
   "attachments": {},
   "cell_type": "markdown",
   "metadata": {},
   "source": [
    "### Ommiting underscores"
   ]
  },
  {
   "cell_type": "code",
   "execution_count": 112,
   "metadata": {},
   "outputs": [],
   "source": [
    "for index in range(len(df_num_of_loan)):\n",
    "    if '_' in df_num_of_loan['Num_of_Loan'][index]:\n",
    "        df_num_of_loan['Num_of_Loan'][index] = df_num_of_loan['Num_of_Loan'][index].replace('_','')"
   ]
  },
  {
   "attachments": {},
   "cell_type": "markdown",
   "metadata": {},
   "source": [
    "### Replacing Noisy Data."
   ]
  },
  {
   "cell_type": "code",
   "execution_count": 113,
   "metadata": {},
   "outputs": [],
   "source": [
    "df_num_of_loan['Num_of_Loan'] = df_num_of_loan['Num_of_Loan'].astype(int)"
   ]
  },
  {
   "cell_type": "code",
   "execution_count": 114,
   "metadata": {},
   "outputs": [],
   "source": [
    "corresponding_unique_num_of_loan_values= {}\n",
    "for ssn in unique_SSN:\n",
    "    corresponding_unique_num_of_loan_values[ssn] = list(df_num_of_loan[df_num_of_loan['SSN'] == ssn]['Num_of_Loan'].unique())"
   ]
  },
  {
   "cell_type": "code",
   "execution_count": 115,
   "metadata": {},
   "outputs": [
    {
     "data": {
      "text/plain": [
       "{821000265: [4],\n",
       " 4075839: [1],\n",
       " 486853974: [3, 967],\n",
       " 72316145: [1, -100],\n",
       " 615067821: [0, -100],\n",
       " 612708987: [0],\n",
       " 411510676: [2, -100],\n",
       " 500926408: [3, -100],\n",
       " 70191622: [-100, 3],\n",
       " 366681681: [2, -100]}"
      ]
     },
     "execution_count": 115,
     "metadata": {},
     "output_type": "execute_result"
    }
   ],
   "source": [
    "dict(itertools.islice(corresponding_unique_num_of_loan_values.items(),10))"
   ]
  },
  {
   "cell_type": "code",
   "execution_count": 116,
   "metadata": {},
   "outputs": [],
   "source": [
    "for index in range(len(df_num_of_loan)):\n",
    "    if df_num_of_loan['Num_of_Loan'][index] < 0:\n",
    "        df_num_of_loan['Num_of_Loan'][index] = [val for val in corresponding_unique_num_of_loan_values[df_num_of_loan['SSN'][index]] if ((val >= 0)) ][0]"
   ]
  },
  {
   "cell_type": "code",
   "execution_count": 117,
   "metadata": {},
   "outputs": [],
   "source": [
    "corresponding_unique_num_of_loan_values= {}\n",
    "for ssn in unique_SSN:\n",
    "    corresponding_unique_num_of_loan_values[ssn] = list(df_num_of_loan[df_num_of_loan['SSN'] == ssn]['Num_of_Loan'].unique())"
   ]
  },
  {
   "cell_type": "code",
   "execution_count": 118,
   "metadata": {},
   "outputs": [
    {
     "data": {
      "text/plain": [
       "{821000265: [4],\n",
       " 4075839: [1],\n",
       " 486853974: [3, 967],\n",
       " 72316145: [1],\n",
       " 615067821: [0],\n",
       " 612708987: [0],\n",
       " 411510676: [2],\n",
       " 500926408: [3],\n",
       " 70191622: [3],\n",
       " 366681681: [2]}"
      ]
     },
     "execution_count": 118,
     "metadata": {},
     "output_type": "execute_result"
    }
   ],
   "source": [
    "dict(itertools.islice(corresponding_unique_num_of_loan_values.items(),10))"
   ]
  },
  {
   "attachments": {},
   "cell_type": "markdown",
   "metadata": {},
   "source": [
    "##### Positive Noisy data can be handled later."
   ]
  },
  {
   "cell_type": "code",
   "execution_count": 119,
   "metadata": {},
   "outputs": [
    {
     "name": "stdout",
     "output_type": "stream",
     "text": [
      "Unique Value Count :  413\n"
     ]
    }
   ],
   "source": [
    "print('Unique Value Count : ',df_num_of_loan['Num_of_Loan'].nunique())"
   ]
  },
  {
   "cell_type": "code",
   "execution_count": 121,
   "metadata": {},
   "outputs": [],
   "source": [
    "df_num_of_loan.to_csv('checkpoints//6_df_num_of_loan.csv',index = False)"
   ]
  },
  {
   "attachments": {},
   "cell_type": "markdown",
   "metadata": {},
   "source": [
    "## PreProcessing Type_of_Loan"
   ]
  },
  {
   "cell_type": "code",
   "execution_count": 122,
   "metadata": {},
   "outputs": [],
   "source": [
    "df_type_of_loan = pd.read_csv('checkpoints//6_df_num_of_loan.csv')"
   ]
  },
  {
   "cell_type": "code",
   "execution_count": 123,
   "metadata": {},
   "outputs": [
    {
     "name": "stdout",
     "output_type": "stream",
     "text": [
      "Unique Value Count :  6260\n",
      "Null Value Count :  11408\n"
     ]
    }
   ],
   "source": [
    "print('Unique Value Count : ',df_type_of_loan['Type_of_Loan'].nunique())\n",
    "print('Null Value Count : ',df_type_of_loan['Type_of_Loan'].isna().sum())"
   ]
  },
  {
   "cell_type": "code",
   "execution_count": 124,
   "metadata": {},
   "outputs": [
    {
     "data": {
      "text/plain": [
       "0    Auto Loan, Credit-Builder Loan, Personal Loan,...\n",
       "1    Auto Loan, Credit-Builder Loan, Personal Loan,...\n",
       "2    Auto Loan, Credit-Builder Loan, Personal Loan,...\n",
       "3    Auto Loan, Credit-Builder Loan, Personal Loan,...\n",
       "4    Auto Loan, Credit-Builder Loan, Personal Loan,...\n",
       "Name: Type_of_Loan, dtype: object"
      ]
     },
     "execution_count": 124,
     "metadata": {},
     "output_type": "execute_result"
    }
   ],
   "source": [
    "df_type_of_loan['Type_of_Loan'].head()"
   ]
  },
  {
   "cell_type": "markdown",
   "metadata": {},
   "source": [
    "### Checking Corresponding Unique Type Of Loans."
   ]
  },
  {
   "cell_type": "code",
   "execution_count": 125,
   "metadata": {},
   "outputs": [],
   "source": [
    "corresponding_unique_type_of_loan_values = {}\n",
    "for ssn in unique_SSN:\n",
    "    corresponding_unique_type_of_loan_values[ssn] = list(df_type_of_loan[df_type_of_loan['SSN'] == ssn]['Type_of_Loan'].unique())"
   ]
  },
  {
   "cell_type": "code",
   "execution_count": 126,
   "metadata": {},
   "outputs": [
    {
     "data": {
      "text/plain": [
       "{821000265: ['Auto Loan, Credit-Builder Loan, Personal Loan, and Home Equity Loan'],\n",
       " 4075839: ['Credit-Builder Loan'],\n",
       " 486853974: ['Auto Loan, Auto Loan, and Not Specified'],\n",
       " 72316145: ['Not Specified'],\n",
       " 615067821: [nan],\n",
       " 612708987: [nan],\n",
       " 411510676: ['Credit-Builder Loan, and Mortgage Loan'],\n",
       " 500926408: ['Not Specified, Auto Loan, and Student Loan'],\n",
       " 70191622: ['Personal Loan, Debt Consolidation Loan, and Auto Loan'],\n",
       " 366681681: ['Not Specified, and Payday Loan']}"
      ]
     },
     "execution_count": 126,
     "metadata": {},
     "output_type": "execute_result"
    }
   ],
   "source": [
    "dict(itertools.islice(corresponding_unique_type_of_loan_values.items(),10))"
   ]
  },
  {
   "attachments": {},
   "cell_type": "markdown",
   "metadata": {},
   "source": [
    "### Replacing nan with 'Not Specified'"
   ]
  },
  {
   "cell_type": "code",
   "execution_count": 127,
   "metadata": {},
   "outputs": [],
   "source": [
    "df_type_of_loan['Type_of_Loan'].fillna('Not Specified',inplace = True)"
   ]
  },
  {
   "cell_type": "code",
   "execution_count": 128,
   "metadata": {},
   "outputs": [],
   "source": [
    "corresponding_unique_type_of_loan_values = {}\n",
    "for ssn in unique_SSN:\n",
    "    corresponding_unique_type_of_loan_values[ssn] = list(df_type_of_loan[df_type_of_loan['SSN'] == ssn]['Type_of_Loan'].unique())"
   ]
  },
  {
   "cell_type": "code",
   "execution_count": 129,
   "metadata": {},
   "outputs": [
    {
     "data": {
      "text/plain": [
       "{821000265: ['Auto Loan, Credit-Builder Loan, Personal Loan, and Home Equity Loan'],\n",
       " 4075839: ['Credit-Builder Loan'],\n",
       " 486853974: ['Auto Loan, Auto Loan, and Not Specified'],\n",
       " 72316145: ['Not Specified'],\n",
       " 615067821: ['Not Specified'],\n",
       " 612708987: ['Not Specified'],\n",
       " 411510676: ['Credit-Builder Loan, and Mortgage Loan'],\n",
       " 500926408: ['Not Specified, Auto Loan, and Student Loan'],\n",
       " 70191622: ['Personal Loan, Debt Consolidation Loan, and Auto Loan'],\n",
       " 366681681: ['Not Specified, and Payday Loan'],\n",
       " 221308554: ['Credit-Builder Loan, Personal Loan, and Auto Loan'],\n",
       " 342902649: ['Payday Loan, and Payday Loan'],\n",
       " 414532918: ['Not Specified, Student Loan, and Personal Loan'],\n",
       " 328336328: ['Personal Loan, Payday Loan, Student Loan, Auto Loan, Home Equity Loan, Student Loan, and Payday Loan'],\n",
       " 655057666: ['Not Specified, Student Loan, Student Loan, Credit-Builder Loan, and Auto Loan'],\n",
       " 965462491: ['Payday Loan, and Home Equity Loan'],\n",
       " 891559364: ['Not Specified'],\n",
       " 928914452: ['Credit-Builder Loan, Not Specified, Mortgage Loan, Payday Loan, Credit-Builder Loan, and Personal Loan'],\n",
       " 84253745: ['Not Specified'],\n",
       " 68834394: ['Mortgage Loan, Debt Consolidation Loan, Payday Loan, Auto Loan, and Not Specified']}"
      ]
     },
     "execution_count": 129,
     "metadata": {},
     "output_type": "execute_result"
    }
   ],
   "source": [
    "dict(itertools.islice(corresponding_unique_type_of_loan_values.items(),20))"
   ]
  },
  {
   "cell_type": "markdown",
   "metadata": {},
   "source": [
    "### Getting unique types of Loans."
   ]
  },
  {
   "cell_type": "code",
   "execution_count": 130,
   "metadata": {},
   "outputs": [],
   "source": [
    "types_of_loan = set()"
   ]
  },
  {
   "cell_type": "code",
   "execution_count": 131,
   "metadata": {},
   "outputs": [
    {
     "name": "stdout",
     "output_type": "stream",
     "text": [
      " --- Example of Types of Loans ---\n"
     ]
    },
    {
     "data": {
      "text/plain": [
       "'Auto Loan, Credit-Builder Loan, Personal Loan, and Home Equity Loan'"
      ]
     },
     "execution_count": 131,
     "metadata": {},
     "output_type": "execute_result"
    },
    {
     "data": {
      "text/plain": [
       "'Credit-Builder Loan'"
      ]
     },
     "execution_count": 131,
     "metadata": {},
     "output_type": "execute_result"
    },
    {
     "name": "stdout",
     "output_type": "stream",
     "text": [
      "-------------------------------------------------------------------\n",
      " --- After Splitting ---\n"
     ]
    },
    {
     "data": {
      "text/plain": [
       "['Auto Loan',\n",
       " ' Credit-Builder Loan',\n",
       " ' Personal Loan',\n",
       " ' and Home Equity Loan']"
      ]
     },
     "execution_count": 131,
     "metadata": {},
     "output_type": "execute_result"
    },
    {
     "data": {
      "text/plain": [
       "'Auto'"
      ]
     },
     "execution_count": 131,
     "metadata": {},
     "output_type": "execute_result"
    },
    {
     "data": {
      "text/plain": [
       "'Credit-Builder'"
      ]
     },
     "execution_count": 131,
     "metadata": {},
     "output_type": "execute_result"
    },
    {
     "data": {
      "text/plain": [
       "'Personal'"
      ]
     },
     "execution_count": 131,
     "metadata": {},
     "output_type": "execute_result"
    },
    {
     "data": {
      "text/plain": [
       "'HomeEquity'"
      ]
     },
     "execution_count": 131,
     "metadata": {},
     "output_type": "execute_result"
    },
    {
     "name": "stdout",
     "output_type": "stream",
     "text": [
      "--------------------------------------------------------------------\n"
     ]
    }
   ],
   "source": [
    "\n",
    "print(' --- Example of Types of Loans ---')\n",
    "df_type_of_loan['Type_of_Loan'][0]\n",
    "df_type_of_loan['Type_of_Loan'][10]\n",
    "print('-------------------------------------------------------------------')\n",
    "print(' --- After Splitting ---')\n",
    "df_type_of_loan['Type_of_Loan'][0].split(',')\n",
    "df_type_of_loan['Type_of_Loan'][0].split(',')[0].split(' Loan')[0].replace(' ','').replace('and','')\n",
    "df_type_of_loan['Type_of_Loan'][0].split(',')[1].split(' Loan')[0].replace(' ','').replace('and','')\n",
    "df_type_of_loan['Type_of_Loan'][0].split(',')[2].split(' Loan')[0].replace(' ','').replace('and','')\n",
    "df_type_of_loan['Type_of_Loan'][0].split(',')[3].split(' Loan')[0].replace(' ','').replace('and','')\n",
    "print('--------------------------------------------------------------------')"
   ]
  },
  {
   "cell_type": "code",
   "execution_count": 132,
   "metadata": {},
   "outputs": [],
   "source": [
    "for values in corresponding_unique_type_of_loan_values.values():\n",
    "    for i in range(len(values)):\n",
    "        types_of_loan.add(values[0].split(',')[i].split(' Loan')[0].replace(' ','').replace('and',''))"
   ]
  },
  {
   "cell_type": "code",
   "execution_count": 133,
   "metadata": {},
   "outputs": [
    {
     "data": {
      "text/plain": [
       "{'Auto',\n",
       " 'Credit-Builder',\n",
       " 'DebtConsolidation',\n",
       " 'HomeEquity',\n",
       " 'Mortgage',\n",
       " 'NotSpecified',\n",
       " 'Payday',\n",
       " 'Personal',\n",
       " 'Student'}"
      ]
     },
     "execution_count": 133,
     "metadata": {},
     "output_type": "execute_result"
    }
   ],
   "source": [
    "types_of_loan"
   ]
  },
  {
   "cell_type": "markdown",
   "metadata": {},
   "source": [
    "### Processing Types of Loans "
   ]
  },
  {
   "cell_type": "code",
   "execution_count": 134,
   "metadata": {},
   "outputs": [
    {
     "data": {
      "text/plain": [
       "['Auto',\n",
       " 'Credit-Builder',\n",
       " 'DebtConsolidation',\n",
       " 'HomeEquity',\n",
       " 'Mortgage',\n",
       " 'NotSpecified',\n",
       " 'Payday',\n",
       " 'Personal',\n",
       " 'Student']"
      ]
     },
     "execution_count": 134,
     "metadata": {},
     "output_type": "execute_result"
    }
   ],
   "source": [
    "processed_types_of_loan_list = sorted(list(types_of_loan))\n",
    "processed_types_of_loan_list"
   ]
  },
  {
   "cell_type": "code",
   "execution_count": 135,
   "metadata": {},
   "outputs": [
    {
     "data": {
      "text/plain": [
       "['Auto Loan',\n",
       " 'Credit-Builder Loan',\n",
       " 'Debt Consolidation Loan',\n",
       " 'Home Equity Loan',\n",
       " 'Mortgage Loan',\n",
       " 'Not Specified',\n",
       " 'Payday Loan',\n",
       " 'Personal Loan',\n",
       " 'Student Loan']"
      ]
     },
     "execution_count": 135,
     "metadata": {},
     "output_type": "execute_result"
    }
   ],
   "source": [
    "dataframe_type_of_loan_list = sorted(['Credit-Builder Loan',\n",
    "                               'Not Specified',\n",
    "                               'Debt Consolidation Loan',\n",
    "                               'Auto Loan',\n",
    "                               'Student Loan',\n",
    "                               'Home Equity Loan', \n",
    "                               'Mortgage Loan',\n",
    "                               'Personal Loan',\n",
    "                               'Payday Loan'])\n",
    "dataframe_type_of_loan_list"
   ]
  },
  {
   "attachments": {},
   "cell_type": "markdown",
   "metadata": {},
   "source": [
    "### Mapping column Type_Of_Loan."
   ]
  },
  {
   "cell_type": "code",
   "execution_count": 136,
   "metadata": {},
   "outputs": [],
   "source": [
    "def map_type_of_loan(txt):\n",
    "    txt = str(txt)\n",
    "    for i in range(len(processed_types_of_loan_list)):\n",
    "        txt = txt.replace(dataframe_type_of_loan_list[i],processed_types_of_loan_list[i])\n",
    "    return txt"
   ]
  },
  {
   "cell_type": "code",
   "execution_count": 137,
   "metadata": {},
   "outputs": [
    {
     "data": {
      "text/plain": [
       "'Credit-Builder,NotSpecified,DebtConsolidation,Auto,Student,HomeEquity,Mortgage,Personal'"
      ]
     },
     "execution_count": 137,
     "metadata": {},
     "output_type": "execute_result"
    }
   ],
   "source": [
    "txt = 'Credit-Builder Loan,Not Specified,Debt Consolidation Loan,Auto Loan,Student Loan,Home Equity Loan,Mortgage Loan,Personal Loan'\n",
    "map_type_of_loan(txt)"
   ]
  },
  {
   "cell_type": "code",
   "execution_count": 138,
   "metadata": {},
   "outputs": [],
   "source": [
    "df_type_of_loan['Type_of_Loan'] = df_type_of_loan['Type_of_Loan'].apply(map_type_of_loan)"
   ]
  },
  {
   "cell_type": "code",
   "execution_count": 139,
   "metadata": {},
   "outputs": [
    {
     "data": {
      "text/plain": [
       "0    Auto, Credit-Builder, Personal, and HomeEquity\n",
       "1    Auto, Credit-Builder, Personal, and HomeEquity\n",
       "2    Auto, Credit-Builder, Personal, and HomeEquity\n",
       "3    Auto, Credit-Builder, Personal, and HomeEquity\n",
       "4    Auto, Credit-Builder, Personal, and HomeEquity\n",
       "Name: Type_of_Loan, dtype: object"
      ]
     },
     "execution_count": 139,
     "metadata": {},
     "output_type": "execute_result"
    }
   ],
   "source": [
    "df_type_of_loan['Type_of_Loan'].head()"
   ]
  },
  {
   "cell_type": "code",
   "execution_count": 142,
   "metadata": {},
   "outputs": [
    {
     "name": "stdout",
     "output_type": "stream",
     "text": [
      "Unique Value Count :  6260\n",
      "Null Value Count :  0\n"
     ]
    }
   ],
   "source": [
    "print('Unique Value Count : ',df_type_of_loan['Type_of_Loan'].nunique())\n",
    "print('Null Value Count : ',df_type_of_loan['Type_of_Loan'].isna().sum())"
   ]
  },
  {
   "cell_type": "markdown",
   "metadata": {},
   "source": [
    "##### Following Code is for One-Hot Encoding Type Of Loan. But For now Commenting them."
   ]
  },
  {
   "cell_type": "code",
   "execution_count": 251,
   "metadata": {},
   "outputs": [],
   "source": [
    "# index = 0\n",
    "# for type_of_loan in processed_types_of_loan_list:\n",
    "#     df_type_of_loan.insert(loc = 11 + index, column = type_of_loan , value = 0)\n",
    "#     index += 1"
   ]
  },
  {
   "cell_type": "code",
   "execution_count": 252,
   "metadata": {},
   "outputs": [],
   "source": [
    "# df_type_of_loan.drop(columns = 'NotSpecified',inplace = True)"
   ]
  },
  {
   "cell_type": "code",
   "execution_count": 140,
   "metadata": {},
   "outputs": [
    {
     "data": {
      "text/plain": [
       "Index(['Month', 'Age', 'SSN', 'Occupation', 'Annual_Income',\n",
       "       'Monthly_Inhand_Salary', 'Num_Bank_Accounts', 'Num_Credit_Card',\n",
       "       'Interest_Rate', 'Num_of_Loan', 'Type_of_Loan', 'Delay_from_due_date',\n",
       "       'Num_of_Delayed_Payment', 'Changed_Credit_Limit',\n",
       "       'Num_Credit_Inquiries', 'Credit_Mix', 'Outstanding_Debt',\n",
       "       'Credit_Utilization_Ratio', 'Credit_History_Age',\n",
       "       'Payment_of_Min_Amount', 'Total_EMI_per_month',\n",
       "       'Amount_invested_monthly', 'Payment_Behaviour', 'Monthly_Balance',\n",
       "       'Credit_Score'],\n",
       "      dtype='object')"
      ]
     },
     "execution_count": 140,
     "metadata": {},
     "output_type": "execute_result"
    }
   ],
   "source": [
    "df_type_of_loan.columns"
   ]
  },
  {
   "cell_type": "code",
   "execution_count": 254,
   "metadata": {},
   "outputs": [],
   "source": [
    "# for type_of_loan in processed_types_of_loan_list:    \n",
    "#     df_type_of_loan[type_of_loan] = df_type_of_loan['Type_of_Loan'].apply(lambda x:1 if type_of_loan in x else 0)"
   ]
  },
  {
   "cell_type": "code",
   "execution_count": 143,
   "metadata": {},
   "outputs": [],
   "source": [
    "df_type_of_loan.to_csv('checkpoints//7_df_type_of_loan.csv',index = False)"
   ]
  },
  {
   "attachments": {},
   "cell_type": "markdown",
   "metadata": {},
   "source": [
    "## PreProcessing Delay_from_due_date"
   ]
  },
  {
   "cell_type": "code",
   "execution_count": 144,
   "metadata": {},
   "outputs": [],
   "source": [
    "df_delay_from_due_date = pd.read_csv('checkpoints//7_df_type_of_loan.csv')"
   ]
  },
  {
   "cell_type": "code",
   "execution_count": 145,
   "metadata": {},
   "outputs": [
    {
     "name": "stdout",
     "output_type": "stream",
     "text": [
      "Unique Value Count :  73\n",
      "Null Value Count :  0\n"
     ]
    }
   ],
   "source": [
    "print('Unique Value Count : ',df_delay_from_due_date['Delay_from_due_date'].nunique())\n",
    "print('Null Value Count : ',df_delay_from_due_date['Delay_from_due_date'].isna().sum())"
   ]
  },
  {
   "attachments": {},
   "cell_type": "markdown",
   "metadata": {},
   "source": [
    "### Checking Corresponding uniaue delay_from_due_date values."
   ]
  },
  {
   "cell_type": "code",
   "execution_count": 146,
   "metadata": {},
   "outputs": [],
   "source": [
    "corresponding_unique_delay_from_due_date_values = {}\n",
    "for ssn in unique_SSN:\n",
    "    corresponding_unique_delay_from_due_date_values[ssn] = list(df_delay_from_due_date[df_delay_from_due_date['SSN'] == ssn]['Delay_from_due_date'].unique())"
   ]
  },
  {
   "cell_type": "code",
   "execution_count": 147,
   "metadata": {},
   "outputs": [
    {
     "data": {
      "text/plain": [
       "{821000265: [3, -1, 5, 6, 8],\n",
       " 4075839: [3, 7],\n",
       " 486853974: [5, 13, 8, 10],\n",
       " 72316145: [0, 5, 3, 7, 4],\n",
       " 615067821: [5, 9, 1, 10],\n",
       " 612708987: [12, 8, 11, 7],\n",
       " 411510676: [0, -1],\n",
       " 500926408: [30, 31, 34, 27],\n",
       " 70191622: [13, 14, 11],\n",
       " 366681681: [4, 2, -2, 1, -1]}"
      ]
     },
     "execution_count": 147,
     "metadata": {},
     "output_type": "execute_result"
    }
   ],
   "source": [
    "dict(itertools.islice(corresponding_unique_delay_from_due_date_values.items(),10))"
   ]
  },
  {
   "cell_type": "markdown",
   "metadata": {},
   "source": [
    "### Checking Data Types."
   ]
  },
  {
   "cell_type": "code",
   "execution_count": 148,
   "metadata": {},
   "outputs": [
    {
     "data": {
      "text/plain": [
       "dtype('int64')"
      ]
     },
     "execution_count": 148,
     "metadata": {},
     "output_type": "execute_result"
    }
   ],
   "source": [
    "df_delay_from_due_date['Delay_from_due_date'].dtypes"
   ]
  },
  {
   "cell_type": "markdown",
   "metadata": {},
   "source": [
    "### Checking For Negative Values."
   ]
  },
  {
   "cell_type": "code",
   "execution_count": 149,
   "metadata": {},
   "outputs": [
    {
     "name": "stdout",
     "output_type": "stream",
     "text": [
      "noisy_delay_from_due_date Count :  591 || Unique noisy_delay_from_due_date count :  5  || Example :  [-1, -1, -2, -1, -2]\n"
     ]
    }
   ],
   "source": [
    "noisy_delay_from_due_date = 0\n",
    "noisy_delay_from_due_date_list = []\n",
    "for index in range(len(df_delay_from_due_date)):\n",
    "    if df_delay_from_due_date['Delay_from_due_date'][index] < 0:\n",
    "            noisy_delay_from_due_date += 1\n",
    "            noisy_delay_from_due_date_list.append(df_delay_from_due_date['Delay_from_due_date'][index])\n",
    "            \n",
    "print(\"noisy_delay_from_due_date Count : \",noisy_delay_from_due_date,\"|| Unique noisy_delay_from_due_date count : \",len(set(noisy_delay_from_due_date_list)),\" || Example : \",noisy_delay_from_due_date_list[0:5])"
   ]
  },
  {
   "cell_type": "markdown",
   "metadata": {},
   "source": [
    "### Replacing Noisy Data."
   ]
  },
  {
   "cell_type": "code",
   "execution_count": 150,
   "metadata": {},
   "outputs": [],
   "source": [
    "for index in range(len(df_delay_from_due_date)):\n",
    "    if df_delay_from_due_date['Delay_from_due_date'][index] < 0:\n",
    "        df_delay_from_due_date['Delay_from_due_date'][index] = [val for val in corresponding_unique_delay_from_due_date_values[df_delay_from_due_date['SSN'][index]] if ((val >= 0)) ][0]"
   ]
  },
  {
   "attachments": {},
   "cell_type": "markdown",
   "metadata": {},
   "source": [
    "### Checking."
   ]
  },
  {
   "cell_type": "code",
   "execution_count": 151,
   "metadata": {},
   "outputs": [
    {
     "data": {
      "text/plain": [
       "{821000265: [3, 5, 6, 8],\n",
       " 4075839: [3, 7],\n",
       " 486853974: [5, 13, 8, 10],\n",
       " 72316145: [0, 5, 3, 7, 4],\n",
       " 615067821: [5, 9, 1, 10],\n",
       " 612708987: [12, 8, 11, 7],\n",
       " 411510676: [0],\n",
       " 500926408: [30, 31, 34, 27],\n",
       " 70191622: [13, 14, 11],\n",
       " 366681681: [4, 2, 1]}"
      ]
     },
     "execution_count": 151,
     "metadata": {},
     "output_type": "execute_result"
    }
   ],
   "source": [
    "corresponding_unique_delay_from_due_date_values = {}\n",
    "for ssn in unique_SSN:\n",
    "    corresponding_unique_delay_from_due_date_values[ssn] = list(df_delay_from_due_date[df_delay_from_due_date['SSN'] == ssn]['Delay_from_due_date'].unique())\n",
    "dict(itertools.islice(corresponding_unique_delay_from_due_date_values.items(),10))"
   ]
  },
  {
   "attachments": {},
   "cell_type": "markdown",
   "metadata": {},
   "source": [
    "## PreProcessing Num_of_Delayed_Payment"
   ]
  },
  {
   "cell_type": "code",
   "execution_count": 189,
   "metadata": {},
   "outputs": [],
   "source": [
    "df_num_of_delayed_payment = df_delay_from_due_date.copy()"
   ]
  },
  {
   "cell_type": "code",
   "execution_count": 190,
   "metadata": {},
   "outputs": [
    {
     "name": "stdout",
     "output_type": "stream",
     "text": [
      "Unique Value Count :  749\n",
      "Null Value Count :  7002\n"
     ]
    }
   ],
   "source": [
    "print('Unique Value Count : ',df_num_of_delayed_payment[\"Num_of_Delayed_Payment\"].nunique())\n",
    "print('Null Value Count : ',df_num_of_delayed_payment[\"Num_of_Delayed_Payment\"].isna().sum())"
   ]
  },
  {
   "cell_type": "markdown",
   "metadata": {},
   "source": [
    "### Checking Unique Corresponding Delayed_Payment."
   ]
  },
  {
   "cell_type": "code",
   "execution_count": 191,
   "metadata": {},
   "outputs": [],
   "source": [
    "corresponding_unique_delayed_payment_values = {}\n",
    "for ssn in unique_SSN:\n",
    "    corresponding_unique_delayed_payment_values[ssn] = list(df_num_of_delayed_payment[df_num_of_delayed_payment['SSN'] == ssn]['Num_of_Delayed_Payment'].unique())"
   ]
  },
  {
   "cell_type": "code",
   "execution_count": 192,
   "metadata": {},
   "outputs": [
    {
     "data": {
      "text/plain": [
       "{821000265: ['7', nan, '4', '8_', '6'],\n",
       " 4075839: ['4', '1', '-1', '3_', '0'],\n",
       " 486853974: ['8', '6', '7', '5'],\n",
       " 72316145: ['6', '3', '9', nan],\n",
       " 615067821: [nan, '12', '15', '17'],\n",
       " 612708987: ['10', '7', '4'],\n",
       " 411510676: ['3', '2', '4', '3_', '2_'],\n",
       " 500926408: ['11', '14'],\n",
       " 70191622: ['11', '8', '14', nan],\n",
       " 366681681: ['0', '2']}"
      ]
     },
     "execution_count": 192,
     "metadata": {},
     "output_type": "execute_result"
    }
   ],
   "source": [
    "dict(itertools.islice(corresponding_unique_delayed_payment_values.items(),10))"
   ]
  },
  {
   "attachments": {},
   "cell_type": "markdown",
   "metadata": {},
   "source": [
    "### Checking for Noisy Data."
   ]
  },
  {
   "cell_type": "code",
   "execution_count": 193,
   "metadata": {},
   "outputs": [
    {
     "name": "stdout",
     "output_type": "stream",
     "text": [
      "underscore_unique_delayed_payment Count :  2744 || Unique underscore_unique_delayed_payment count : 51  || Example :  ['8_', '3_', '3_', '2_', '13_']\n",
      "Noisy_unique_delayed_payment Count :  702 || Unique Noisy_unique_delayed_payment count : 651  || Example :  ['3318', '3083', '1338', '3104', '1106']\n"
     ]
    }
   ],
   "source": [
    "underscore_unique_delayed_payment = 0\n",
    "underscore_unique_delayed_payment_list = []\n",
    "noisy_unique_delayed_payment = 0\n",
    "noisy_unique_delayed_payment_list = []\n",
    "for index in range(len(df_num_of_delayed_payment)):\n",
    "    try:\n",
    "        if '_' in  df_num_of_delayed_payment['Num_of_Delayed_Payment'][index]:\n",
    "            underscore_unique_delayed_payment += 1\n",
    "            underscore_unique_delayed_payment_list.append(df_num_of_delayed_payment['Num_of_Delayed_Payment'][index])\n",
    "    except:\n",
    "        pass\n",
    "    try:\n",
    "        if int(df_num_of_delayed_payment['Num_of_Delayed_Payment'][index]) > 120 or int(df_num_of_delayed_payment['Num_of_Delayed_Payment'][index] < 0):\n",
    "            noisy_unique_delayed_payment +=1\n",
    "            noisy_unique_delayed_payment_list.append(df_num_of_delayed_payment['Num_of_Delayed_Payment'][index])\n",
    "            \n",
    "    except:\n",
    "        pass\n",
    "print(\"underscore_unique_delayed_payment Count : \",underscore_unique_delayed_payment,\"|| Unique underscore_unique_delayed_payment count :\",len(set(underscore_unique_delayed_payment_list)), \" || Example : \",underscore_unique_delayed_payment_list[0:5])\n",
    "print(\"Noisy_unique_delayed_payment Count : \",noisy_unique_delayed_payment,\"|| Unique Noisy_unique_delayed_payment count :\",len(set(noisy_unique_delayed_payment_list)),\" || Example : \",noisy_unique_delayed_payment_list[0:5])\n",
    "\n"
   ]
  },
  {
   "attachments": {},
   "cell_type": "markdown",
   "metadata": {},
   "source": [
    "### Noisy data maybe dropped later. For now replacing underscore value"
   ]
  },
  {
   "cell_type": "code",
   "execution_count": 194,
   "metadata": {},
   "outputs": [],
   "source": [
    "for index in range(len(df_num_of_delayed_payment)):\n",
    "    try:\n",
    "        if '_' in df_num_of_delayed_payment['Num_of_Delayed_Payment'][index]:\n",
    "            df_num_of_delayed_payment['Num_of_Delayed_Payment'][index] = df_num_of_delayed_payment['Num_of_Delayed_Payment'][index].replace('_','')\n",
    "    except:\n",
    "        pass"
   ]
  },
  {
   "attachments": {},
   "cell_type": "markdown",
   "metadata": {},
   "source": [
    "### Converting to Float-type."
   ]
  },
  {
   "cell_type": "code",
   "execution_count": 195,
   "metadata": {},
   "outputs": [],
   "source": [
    "df_num_of_delayed_payment['Num_of_Delayed_Payment'] = df_num_of_delayed_payment['Num_of_Delayed_Payment'].astype(float)"
   ]
  },
  {
   "cell_type": "code",
   "execution_count": 196,
   "metadata": {},
   "outputs": [
    {
     "name": "stdout",
     "output_type": "stream",
     "text": [
      "underscore_unique_delayed_payment Count :  0 || Unique underscore_unique_delayed_payment count : 0  || Example :  []\n",
      "Noisy_unique_delayed_payment Count :  1365 || Unique Noisy_unique_delayed_payment count : 667  || Example :  [-1.0, 3318.0, 3083.0, 1338.0, 3104.0]\n"
     ]
    }
   ],
   "source": [
    "underscore_unique_delayed_payment = 0\n",
    "underscore_unique_delayed_payment_list = []\n",
    "noisy_unique_delayed_payment = 0\n",
    "noisy_unique_delayed_payment_list = []\n",
    "for index in range(len(df_num_of_delayed_payment)):\n",
    "    try:\n",
    "        if '_' in  df_num_of_delayed_payment['Num_of_Delayed_Payment'][index]:\n",
    "            underscore_unique_delayed_payment += 1\n",
    "            underscore_unique_delayed_payment_list.append(df_num_of_delayed_payment['Num_of_Delayed_Payment'][index])\n",
    "    except:\n",
    "        pass\n",
    "    try:\n",
    "        if int(df_num_of_delayed_payment['Num_of_Delayed_Payment'][index]) > 120 or int(df_num_of_delayed_payment['Num_of_Delayed_Payment'][index] < 0):\n",
    "            noisy_unique_delayed_payment +=1\n",
    "            noisy_unique_delayed_payment_list.append(df_num_of_delayed_payment['Num_of_Delayed_Payment'][index])\n",
    "            \n",
    "    except:\n",
    "        pass\n",
    "print(\"underscore_unique_delayed_payment Count : \",underscore_unique_delayed_payment,\"|| Unique underscore_unique_delayed_payment count :\",len(set(underscore_unique_delayed_payment_list)), \" || Example : \",underscore_unique_delayed_payment_list[0:5])\n",
    "print(\"Noisy_unique_delayed_payment Count : \",noisy_unique_delayed_payment,\"|| Unique Noisy_unique_delayed_payment count :\",len(set(noisy_unique_delayed_payment_list)),\" || Example : \",noisy_unique_delayed_payment_list[0:5])\n",
    "\n"
   ]
  },
  {
   "cell_type": "markdown",
   "metadata": {},
   "source": [
    "### Filling NaN Values."
   ]
  },
  {
   "cell_type": "markdown",
   "metadata": {},
   "source": [
    "##### Median of each customer."
   ]
  },
  {
   "cell_type": "code",
   "execution_count": 197,
   "metadata": {},
   "outputs": [
    {
     "data": {
      "text/plain": [
       "{821000265: [7.0, 4.0, 8.0, 6.0],\n",
       " 4075839: [4.0, 1.0, -1.0, 3.0, 0.0],\n",
       " 486853974: [8.0, 6.0, 7.0, 5.0],\n",
       " 72316145: [6.0, 3.0, 9.0],\n",
       " 615067821: [12.0, 15.0, 17.0],\n",
       " 612708987: [10.0, 7.0, 4.0],\n",
       " 411510676: [3.0, 2.0, 4.0],\n",
       " 500926408: [11.0, 14.0],\n",
       " 70191622: [11.0, 8.0, 14.0],\n",
       " 366681681: [0.0, 2.0]}"
      ]
     },
     "execution_count": 197,
     "metadata": {},
     "output_type": "execute_result"
    }
   ],
   "source": [
    "corresponding_unique_delayed_payment_values = {}\n",
    "for ssn in unique_SSN:\n",
    "    corresponding_unique_delayed_payment_values[ssn] = list(df_num_of_delayed_payment[df_num_of_delayed_payment['SSN'] == ssn]['Num_of_Delayed_Payment'].unique())\n",
    "    # Removing nan values\n",
    "    corresponding_unique_delayed_payment_values[ssn] = [val for val in corresponding_unique_delayed_payment_values[ssn]if not(np.isnan(val))]\n",
    "dict(itertools.islice(corresponding_unique_delayed_payment_values.items(),10))"
   ]
  },
  {
   "cell_type": "code",
   "execution_count": 198,
   "metadata": {},
   "outputs": [
    {
     "name": "stdout",
     "output_type": "stream",
     "text": [
      "--- Values ---\n"
     ]
    },
    {
     "data": {
      "text/plain": [
       "[7.0, 4.0, 8.0, 6.0]"
      ]
     },
     "execution_count": 198,
     "metadata": {},
     "output_type": "execute_result"
    },
    {
     "name": "stdout",
     "output_type": "stream",
     "text": [
      "--- Median ---\n"
     ]
    },
    {
     "data": {
      "text/plain": [
       "6.5"
      ]
     },
     "execution_count": 198,
     "metadata": {},
     "output_type": "execute_result"
    },
    {
     "name": "stdout",
     "output_type": "stream",
     "text": [
      "-----------------------------------\n",
      "--- Values ---\n"
     ]
    },
    {
     "data": {
      "text/plain": [
       "[8.0, 6.0, 10.0, 3083.0]"
      ]
     },
     "execution_count": 198,
     "metadata": {},
     "output_type": "execute_result"
    },
    {
     "name": "stdout",
     "output_type": "stream",
     "text": [
      "--- Median ---\n"
     ]
    },
    {
     "data": {
      "text/plain": [
       "9.0"
      ]
     },
     "execution_count": 198,
     "metadata": {},
     "output_type": "execute_result"
    },
    {
     "name": "stdout",
     "output_type": "stream",
     "text": [
      "-----------------------------------\n",
      "--- Values ---\n"
     ]
    },
    {
     "data": {
      "text/plain": [
       "[12.0]"
      ]
     },
     "execution_count": 198,
     "metadata": {},
     "output_type": "execute_result"
    },
    {
     "name": "stdout",
     "output_type": "stream",
     "text": [
      "--- Median ---\n"
     ]
    },
    {
     "data": {
      "text/plain": [
       "12.0"
      ]
     },
     "execution_count": 198,
     "metadata": {},
     "output_type": "execute_result"
    }
   ],
   "source": [
    "print('--- Values ---')\n",
    "[val for val in corresponding_unique_delayed_payment_values[821000265]]\n",
    "print('--- Median ---')\n",
    "statistics.median([val for val in corresponding_unique_delayed_payment_values[821000265]])\n",
    "print('-----------------------------------')\n",
    "print('--- Values ---')\n",
    "[val for val in corresponding_unique_delayed_payment_values[734547098]]\n",
    "print('--- Median ---')\n",
    "statistics.median([val for val in corresponding_unique_delayed_payment_values[734547098]])\n",
    "print('-----------------------------------')\n",
    "print('--- Values ---')\n",
    "[val for val in corresponding_unique_delayed_payment_values[928914452]]\n",
    "print('--- Median ---')\n",
    "statistics.median([val for val in corresponding_unique_delayed_payment_values[928914452]])"
   ]
  },
  {
   "attachments": {},
   "cell_type": "markdown",
   "metadata": {},
   "source": [
    "##### Here exists a list : [12,nan,nan] gives 'nan' as median. So replacing 'nan' value of for the list with 'n' count if number of 'nan' is n - 1 in that particular list."
   ]
  },
  {
   "cell_type": "markdown",
   "metadata": {},
   "source": [
    "##### Demonstration of Logic."
   ]
  },
  {
   "cell_type": "code",
   "execution_count": 199,
   "metadata": {},
   "outputs": [
    {
     "name": "stdout",
     "output_type": "stream",
     "text": [
      "--- List ---\n",
      "[12, nan, nan]\n",
      "---------------------------\n",
      "Length of List :  3\n",
      "\"nan\" value count :  2\n",
      "---------------------------\n",
      "--- Update List ---\n",
      "[12]\n"
     ]
    }
   ],
   "source": [
    "check_list = [12, np.nan, np.nan]\n",
    "print('--- List ---')\n",
    "print(check_list)\n",
    "print('---------------------------')\n",
    "length_of_list = len(check_list)\n",
    "nan_count = np.isnan(check_list).sum()\n",
    "print('Length of List : ',length_of_list)\n",
    "print('\"nan\" value count : ',nan_count)\n",
    "print('---------------------------')\n",
    "print('--- Update List ---')\n",
    "if nan_count == length_of_list - 1:\n",
    "    check_list = [val for val in check_list if not(np.isnan(val))]\n",
    "print(check_list)"
   ]
  },
  {
   "cell_type": "code",
   "execution_count": 200,
   "metadata": {},
   "outputs": [],
   "source": [
    "for index in range(len(df_num_of_delayed_payment)):\n",
    "    if np.isnan(df_num_of_delayed_payment['Num_of_Delayed_Payment'][index]):\n",
    "        df_num_of_delayed_payment['Num_of_Delayed_Payment'][index] = int(statistics.median([val for val in corresponding_unique_delayed_payment_values[df_num_of_delayed_payment['SSN'][index]]]))"
   ]
  },
  {
   "cell_type": "code",
   "execution_count": 201,
   "metadata": {},
   "outputs": [
    {
     "data": {
      "text/plain": [
       "{821000265: [7.0, 6.0, 4.0, 8.0],\n",
       " 4075839: [4.0, 1.0, -1.0, 3.0, 0.0],\n",
       " 486853974: [8.0, 6.0, 7.0, 5.0],\n",
       " 72316145: [6.0, 3.0, 9.0],\n",
       " 615067821: [15.0, 12.0, 17.0],\n",
       " 612708987: [10.0, 7.0, 4.0],\n",
       " 411510676: [3.0, 2.0, 4.0],\n",
       " 500926408: [11.0, 14.0],\n",
       " 70191622: [11.0, 8.0, 14.0],\n",
       " 366681681: [0.0, 2.0]}"
      ]
     },
     "execution_count": 201,
     "metadata": {},
     "output_type": "execute_result"
    }
   ],
   "source": [
    "corresponding_unique_delayed_payment_values = {}\n",
    "for ssn in unique_SSN:\n",
    "    corresponding_unique_delayed_payment_values[ssn] = list(df_num_of_delayed_payment[df_num_of_delayed_payment['SSN'] == ssn]['Num_of_Delayed_Payment'].unique())\n",
    "dict(itertools.islice(corresponding_unique_delayed_payment_values.items(),10))"
   ]
  },
  {
   "cell_type": "code",
   "execution_count": 202,
   "metadata": {},
   "outputs": [
    {
     "name": "stdout",
     "output_type": "stream",
     "text": [
      "Null Value Count :  0\n"
     ]
    }
   ],
   "source": [
    "print('Null Value Count : ', df_num_of_delayed_payment['Num_of_Delayed_Payment'].isna().sum())"
   ]
  },
  {
   "attachments": {},
   "cell_type": "markdown",
   "metadata": {},
   "source": [
    "### Remove Negative numbers."
   ]
  },
  {
   "cell_type": "code",
   "execution_count": 203,
   "metadata": {},
   "outputs": [
    {
     "name": "stdout",
     "output_type": "stream",
     "text": [
      "negative_unique_delayed_payment Count :  678 || Unique negative_unique_delayed_payment count : 3  || Example :  [-1.0, -1.0, -3.0, -2.0, -1.0]\n"
     ]
    }
   ],
   "source": [
    "negative_unique_delayed_payment = 0\n",
    "negative_unique_delayed_payment_list = []\n",
    "for index in range(len(df_num_of_delayed_payment)):\n",
    "    try:\n",
    "        if '_' in  df_num_of_delayed_payment['Num_of_Delayed_Payment'][index]:\n",
    "            underscore_unique_delayed_payment += 1\n",
    "            underscore_unique_delayed_payment_list.append(df_num_of_delayed_payment['Num_of_Delayed_Payment'][index])\n",
    "    except:\n",
    "        pass\n",
    "    try:\n",
    "        if int(df_num_of_delayed_payment['Num_of_Delayed_Payment'][index] < 0):\n",
    "            negative_unique_delayed_payment +=1\n",
    "            negative_unique_delayed_payment_list.append(df_num_of_delayed_payment['Num_of_Delayed_Payment'][index])\n",
    "            \n",
    "    except:\n",
    "        pass\n",
    "\n",
    "print(\"negative_unique_delayed_payment Count : \",negative_unique_delayed_payment,\"|| Unique negative_unique_delayed_payment count :\",len(set(negative_unique_delayed_payment_list)),\" || Example : \",negative_unique_delayed_payment_list[0:5])"
   ]
  },
  {
   "cell_type": "code",
   "execution_count": 204,
   "metadata": {},
   "outputs": [],
   "source": [
    "df_num_of_delayed_payment['Num_of_Delayed_Payment'] = abs(df_num_of_delayed_payment['Num_of_Delayed_Payment'])"
   ]
  },
  {
   "attachments": {},
   "cell_type": "markdown",
   "metadata": {},
   "source": [
    "## PreProcessing Changed_Credit_Limit"
   ]
  },
  {
   "cell_type": "code",
   "execution_count": 185,
   "metadata": {},
   "outputs": [],
   "source": [
    "df_changed_credit_limit = df_num_of_delayed_payment.copy()"
   ]
  },
  {
   "cell_type": "code",
   "execution_count": 186,
   "metadata": {},
   "outputs": [
    {
     "name": "stdout",
     "output_type": "stream",
     "text": [
      "Unique Value Count :  4384\n",
      "Null Value Count :  0\n"
     ]
    }
   ],
   "source": [
    "print('Unique Value Count : ',df_changed_credit_limit['Changed_Credit_Limit'].nunique())\n",
    "print('Null Value Count : ',df_changed_credit_limit['Changed_Credit_Limit'].isna().sum())"
   ]
  },
  {
   "cell_type": "markdown",
   "metadata": {},
   "source": [
    "### Checking corresponding_unique_changed_credit_limit_values."
   ]
  },
  {
   "cell_type": "code",
   "execution_count": 205,
   "metadata": {},
   "outputs": [],
   "source": [
    "corresponding_unique_changed_credit_limit_values = {}\n",
    "for ssn in unique_SSN:\n",
    "    corresponding_unique_changed_credit_limit_values[ssn] = list(df_changed_credit_limit[df_changed_credit_limit['SSN'] == ssn]['Changed_Credit_Limit'].unique())"
   ]
  },
  {
   "cell_type": "code",
   "execution_count": 206,
   "metadata": {},
   "outputs": [
    {
     "data": {
      "text/plain": [
       "{821000265: ['11.27', '_', '6.27', '9.27'],\n",
       " 4075839: ['5.42', '7.42', '6.42'],\n",
       " 486853974: ['7.1', '11.1', '9.1'],\n",
       " 72316145: ['1.99', '-2.01', '-1.01', '-3.01'],\n",
       " 615067821: ['2.58'],\n",
       " 612708987: ['10.14', '9.14'],\n",
       " 411510676: ['9.34', '15.34', '8.34', '11.34'],\n",
       " 500926408: ['17.13', '21.13', '18.13'],\n",
       " 70191622: ['8.24', '_', '11.24'],\n",
       " 366681681: ['5.76', '-1.2400000000000002', '1.7599999999999998']}"
      ]
     },
     "execution_count": 206,
     "metadata": {},
     "output_type": "execute_result"
    }
   ],
   "source": [
    "dict(itertools.islice(corresponding_unique_changed_credit_limit_values.items(),10))"
   ]
  },
  {
   "cell_type": "markdown",
   "metadata": {},
   "source": [
    "### Checking Noisy Data."
   ]
  },
  {
   "cell_type": "code",
   "execution_count": 207,
   "metadata": {},
   "outputs": [
    {
     "name": "stdout",
     "output_type": "stream",
     "text": [
      "underscore_changed_credit_limit Count :  2091 || Unique underscore_changed_credit_limit count : 1  || Example :  ['_', '_', '_', '_', '_']\n"
     ]
    }
   ],
   "source": [
    "underscore_changed_credit_limit = 0\n",
    "underscore_changed_credit_limit_list = []\n",
    "\n",
    "for index in range(len(df_changed_credit_limit)):\n",
    "    if '_' in  df_changed_credit_limit['Changed_Credit_Limit'][index]:\n",
    "        underscore_changed_credit_limit += 1\n",
    "        underscore_changed_credit_limit_list.append(df_changed_credit_limit['Changed_Credit_Limit'][index])\n",
    "print(\"underscore_changed_credit_limit Count : \",underscore_changed_credit_limit,\"|| Unique underscore_changed_credit_limit count :\",len(set(underscore_changed_credit_limit_list)), \" || Example : \",underscore_changed_credit_limit_list[0:5])"
   ]
  },
  {
   "cell_type": "code",
   "execution_count": 208,
   "metadata": {},
   "outputs": [],
   "source": [
    "for index in range(len(df_changed_credit_limit)):\n",
    "    if '_' in df_changed_credit_limit['Changed_Credit_Limit'][index]:\n",
    "        df_changed_credit_limit['Changed_Credit_Limit'][index] = df_changed_credit_limit['Changed_Credit_Limit'][index].replace('_',[val for val in corresponding_unique_changed_credit_limit_values[df_changed_credit_limit['SSN'][index]] if val != '_'][0])"
   ]
  },
  {
   "cell_type": "code",
   "execution_count": 209,
   "metadata": {},
   "outputs": [],
   "source": [
    "df_changed_credit_limit['Changed_Credit_Limit'] = df_changed_credit_limit['Changed_Credit_Limit'].astype(float)"
   ]
  },
  {
   "cell_type": "code",
   "execution_count": 255,
   "metadata": {},
   "outputs": [
    {
     "name": "stdout",
     "output_type": "stream",
     "text": [
      "Null Value Count :  0\n"
     ]
    }
   ],
   "source": [
    "print('Null Value Count : ',df_changed_credit_limit['Changed_Credit_Limit'].isna().sum())"
   ]
  },
  {
   "cell_type": "code",
   "execution_count": 210,
   "metadata": {},
   "outputs": [
    {
     "name": "stdout",
     "output_type": "stream",
     "text": [
      "underscore_changed_credit_limit Count :  0 || Unique underscore_changed_credit_limit count : 0  || Example :  []\n",
      "noisy_changed_credit_limit Count :  1616 || Unique noisy_changed_credit_limit count : 661  || Example :  [-2.01, -1.01, -3.01, -1.2400000000000002, -4.14]\n"
     ]
    }
   ],
   "source": [
    "underscore_changed_credit_limit = 0\n",
    "underscore_changed_credit_limit_list = []\n",
    "noisy_changed_credit_limit = 0\n",
    "noisy_changed_credit_limit_list = []\n",
    "for index in range(len(df_changed_credit_limit)):\n",
    "    if float(df_changed_credit_limit['Changed_Credit_Limit'][index]) > 120 or int(df_changed_credit_limit['Changed_Credit_Limit'][index] <= 0):\n",
    "        noisy_changed_credit_limit +=1\n",
    "        noisy_changed_credit_limit_list.append(df_changed_credit_limit['Changed_Credit_Limit'][index])\n",
    "\n",
    "print(\"underscore_changed_credit_limit Count : \",underscore_changed_credit_limit,\"|| Unique underscore_changed_credit_limit count :\",len(set(underscore_changed_credit_limit_list)), \" || Example : \",underscore_changed_credit_limit_list[0:5])\n",
    "print(\"noisy_changed_credit_limit Count : \",noisy_changed_credit_limit,\"|| Unique noisy_changed_credit_limit count :\",len(set(noisy_changed_credit_limit_list)),\" || Example : \",noisy_changed_credit_limit_list[0:5])\n",
    "\n"
   ]
  },
  {
   "cell_type": "markdown",
   "metadata": {},
   "source": [
    "Also seems random so leaving as it is for now"
   ]
  },
  {
   "attachments": {},
   "cell_type": "markdown",
   "metadata": {},
   "source": [
    "## PreProcessing Num_Credit_Inquiries"
   ]
  },
  {
   "cell_type": "code",
   "execution_count": 211,
   "metadata": {},
   "outputs": [],
   "source": [
    "df_num_credit_inquires = df_changed_credit_limit.copy()"
   ]
  },
  {
   "cell_type": "code",
   "execution_count": 212,
   "metadata": {},
   "outputs": [
    {
     "name": "stdout",
     "output_type": "stream",
     "text": [
      "Unique Value Count :  1223\n",
      "Null Value Count :  1965\n"
     ]
    }
   ],
   "source": [
    "print('Unique Value Count : ',df_num_credit_inquires['Num_Credit_Inquiries'].nunique())\n",
    "print('Null Value Count : ',df_num_credit_inquires['Num_Credit_Inquiries'].isna().sum())"
   ]
  },
  {
   "cell_type": "markdown",
   "metadata": {},
   "source": [
    "### Checking corresponding number credit inquires values."
   ]
  },
  {
   "cell_type": "code",
   "execution_count": 213,
   "metadata": {},
   "outputs": [],
   "source": [
    "corresponding_unique_num_credit_inquires_values = {}\n",
    "for ssn in unique_SSN:\n",
    "    corresponding_unique_num_credit_inquires_values[ssn] = list(df_num_credit_inquires[df_num_credit_inquires['SSN'] == ssn]['Num_Credit_Inquiries'].unique())\n",
    "    corresponding_unique_num_credit_inquires_values[ssn] = [val for val in corresponding_unique_num_credit_inquires_values[ssn]if not(np.isnan(val))]"
   ]
  },
  {
   "cell_type": "code",
   "execution_count": 214,
   "metadata": {},
   "outputs": [
    {
     "data": {
      "text/plain": [
       "{821000265: [4.0],\n",
       " 4075839: [2.0],\n",
       " 486853974: [3.0],\n",
       " 72316145: [4.0],\n",
       " 615067821: [4.0],\n",
       " 612708987: [2.0],\n",
       " 411510676: [2.0, 4.0],\n",
       " 500926408: [5.0, 9.0],\n",
       " 70191622: [3.0, 8.0],\n",
       " 366681681: [2.0, 5.0],\n",
       " 221308554: [4.0, 8.0],\n",
       " 342902649: [3.0],\n",
       " 414532918: [3.0, 7.0],\n",
       " 328336328: [6.0, 9.0],\n",
       " 655057666: [5.0],\n",
       " 965462491: [0.0, 1.0],\n",
       " 891559364: [0.0, 4.0],\n",
       " 928914452: [8.0, 10.0],\n",
       " 84253745: [1.0],\n",
       " 68834394: [7.0, 8.0]}"
      ]
     },
     "execution_count": 214,
     "metadata": {},
     "output_type": "execute_result"
    }
   ],
   "source": [
    "dict(itertools.islice(corresponding_unique_num_credit_inquires_values.items(),20))"
   ]
  },
  {
   "cell_type": "markdown",
   "metadata": {},
   "source": [
    "### Checking Noisy Data."
   ]
  },
  {
   "cell_type": "code",
   "execution_count": 215,
   "metadata": {},
   "outputs": [
    {
     "name": "stdout",
     "output_type": "stream",
     "text": [
      "underscore_num_credit_inquires Count :  0 || Unique underscore_num_credit_inquires count : 0  || Example :  []\n",
      "noisy_num_credit_inquires Count :  1590 || Unique noisy_num_credit_inquires count : 1163  || Example :  [1050.0, 1044.0, 1936.0, 568.0, 1618.0]\n"
     ]
    }
   ],
   "source": [
    "underscore_num_credit_inquires = 0\n",
    "underscore_num_credit_inquires_list = []\n",
    "noisy_num_credit_inquires = 0\n",
    "noisy_num_credit_inquires_list = []\n",
    "for index in range(len(df_num_credit_inquires)):\n",
    "    try:\n",
    "        if '_' in  df_num_credit_inquires['Num_Credit_Inquiries'][index]:\n",
    "            underscore_num_credit_inquires += 1\n",
    "            underscore_num_credit_inquires_list.append(df_num_credit_inquires['Num_Credit_Inquiries'][index])\n",
    "    except:\n",
    "        pass\n",
    "    try:\n",
    "        if int(df_num_credit_inquires['Num_Credit_Inquiries'][index]) > 120 or int(df_num_credit_inquires['Num_Credit_Inquiries'][index] < 0):\n",
    "            noisy_num_credit_inquires +=1\n",
    "            noisy_num_credit_inquires_list.append(df_num_credit_inquires['Num_Credit_Inquiries'][index])\n",
    "            \n",
    "    except:\n",
    "        pass\n",
    "print(\"underscore_num_credit_inquires Count : \",underscore_num_credit_inquires,\"|| Unique underscore_num_credit_inquires count :\",len(set(underscore_num_credit_inquires_list)), \" || Example : \",underscore_num_credit_inquires_list[0:5])\n",
    "print(\"noisy_num_credit_inquires Count : \",noisy_num_credit_inquires,\"|| Unique noisy_num_credit_inquires count :\",len(set(noisy_num_credit_inquires_list)),\" || Example : \",noisy_num_credit_inquires_list[0:5])\n",
    "\n"
   ]
  },
  {
   "cell_type": "markdown",
   "metadata": {},
   "source": [
    "### Fillin nan Values."
   ]
  },
  {
   "cell_type": "code",
   "execution_count": 216,
   "metadata": {},
   "outputs": [],
   "source": [
    "for index in range(len(df_num_credit_inquires)):\n",
    "    if np.isnan(df_num_credit_inquires['Num_Credit_Inquiries'][index]):\n",
    "        df_num_credit_inquires['Num_Credit_Inquiries'][index] = int(statistics.median([val for val in corresponding_unique_num_credit_inquires_values[df_num_credit_inquires['SSN'][index]]]))"
   ]
  },
  {
   "cell_type": "code",
   "execution_count": 217,
   "metadata": {},
   "outputs": [
    {
     "name": "stdout",
     "output_type": "stream",
     "text": [
      "Unique Value Count :  1277\n",
      "Null Value Count :  0\n"
     ]
    }
   ],
   "source": [
    "print('Unique Value Count : ',df_num_credit_inquires['Num_Credit_Inquiries'].nunique())\n",
    "print('Null Value Count : ',df_num_credit_inquires['Num_Credit_Inquiries'].isna().sum())"
   ]
  },
  {
   "cell_type": "code",
   "execution_count": 218,
   "metadata": {},
   "outputs": [],
   "source": [
    "df_num_credit_inquires.to_csv('checkpoints//8_df_credit_inquires.csv',index = False)"
   ]
  },
  {
   "cell_type": "markdown",
   "metadata": {},
   "source": [
    "### PreProcessing Credit_Mix"
   ]
  },
  {
   "cell_type": "code",
   "execution_count": 219,
   "metadata": {},
   "outputs": [],
   "source": [
    "df_credit_mix = pd.read_csv('checkpoints//8_df_credit_inquires.csv')"
   ]
  },
  {
   "cell_type": "code",
   "execution_count": 220,
   "metadata": {},
   "outputs": [
    {
     "name": "stdout",
     "output_type": "stream",
     "text": [
      "Unique Value Count : 4\n",
      "Unique Value Count : 0\n"
     ]
    }
   ],
   "source": [
    "print('Unique Value Count :',df_credit_mix['Credit_Mix'].nunique())\n",
    "print('Unique Value Count :',df_credit_mix['Credit_Mix'].isna().sum())"
   ]
  },
  {
   "cell_type": "markdown",
   "metadata": {},
   "source": [
    "### List unique Values."
   ]
  },
  {
   "cell_type": "code",
   "execution_count": 221,
   "metadata": {},
   "outputs": [
    {
     "data": {
      "text/plain": [
       "Standard    36479\n",
       "Good        24337\n",
       "_           20195\n",
       "Bad         18989\n",
       "Name: Credit_Mix, dtype: int64"
      ]
     },
     "execution_count": 221,
     "metadata": {},
     "output_type": "execute_result"
    }
   ],
   "source": [
    "df_credit_mix['Credit_Mix'].value_counts()"
   ]
  },
  {
   "cell_type": "markdown",
   "metadata": {},
   "source": [
    "### Checking corresponding Unique_Credit_Mix_Values."
   ]
  },
  {
   "cell_type": "code",
   "execution_count": 222,
   "metadata": {},
   "outputs": [],
   "source": [
    "corresponding_unique_credit_mix_values = {}\n",
    "for ssn in unique_SSN:\n",
    "    corresponding_unique_credit_mix_values[ssn] = list(df_credit_mix[df_credit_mix['SSN'] == ssn]['Credit_Mix'].unique())"
   ]
  },
  {
   "cell_type": "code",
   "execution_count": 223,
   "metadata": {},
   "outputs": [
    {
     "data": {
      "text/plain": [
       "{821000265: ['_', 'Good'],\n",
       " 4075839: ['Good', '_'],\n",
       " 486853974: ['Good', '_'],\n",
       " 72316145: ['Good', '_'],\n",
       " 615067821: ['Standard', '_'],\n",
       " 612708987: ['Good', '_'],\n",
       " 411510676: ['Good'],\n",
       " 500926408: ['Standard', '_'],\n",
       " 70191622: ['Good', '_'],\n",
       " 366681681: ['Good', '_']}"
      ]
     },
     "execution_count": 223,
     "metadata": {},
     "output_type": "execute_result"
    }
   ],
   "source": [
    "dict(itertools.islice(corresponding_unique_credit_mix_values.items(),10))"
   ]
  },
  {
   "cell_type": "code",
   "execution_count": 224,
   "metadata": {},
   "outputs": [],
   "source": [
    "for index in range(len(df_credit_mix)):\n",
    "    if '_' in df_credit_mix['Credit_Mix'][index]:\n",
    "        df_credit_mix['Credit_Mix'][index] = [val for val in corresponding_unique_credit_mix_values[df_credit_mix['SSN'][index]] if not '_' in val][0]"
   ]
  },
  {
   "cell_type": "code",
   "execution_count": 225,
   "metadata": {},
   "outputs": [
    {
     "data": {
      "text/plain": [
       "{821000265: ['Good'],\n",
       " 4075839: ['Good'],\n",
       " 486853974: ['Good'],\n",
       " 72316145: ['Good'],\n",
       " 615067821: ['Standard'],\n",
       " 612708987: ['Good'],\n",
       " 411510676: ['Good'],\n",
       " 500926408: ['Standard'],\n",
       " 70191622: ['Good'],\n",
       " 366681681: ['Good']}"
      ]
     },
     "execution_count": 225,
     "metadata": {},
     "output_type": "execute_result"
    }
   ],
   "source": [
    "corresponding_unique_credit_mix_values = {}\n",
    "for ssn in unique_SSN:\n",
    "    corresponding_unique_credit_mix_values[ssn] = list(df_credit_mix[df_credit_mix['SSN'] == ssn]['Credit_Mix'].unique())\n",
    "dict(itertools.islice(corresponding_unique_credit_mix_values.items(),10))"
   ]
  },
  {
   "cell_type": "markdown",
   "metadata": {},
   "source": [
    "### Checking."
   ]
  },
  {
   "cell_type": "code",
   "execution_count": 226,
   "metadata": {},
   "outputs": [
    {
     "data": {
      "text/plain": [
       "Standard    45848\n",
       "Good        30384\n",
       "Bad         23768\n",
       "Name: Credit_Mix, dtype: int64"
      ]
     },
     "execution_count": 226,
     "metadata": {},
     "output_type": "execute_result"
    }
   ],
   "source": [
    "df_credit_mix['Credit_Mix'].value_counts()"
   ]
  },
  {
   "attachments": {},
   "cell_type": "markdown",
   "metadata": {},
   "source": [
    "## PreProcessing Outstanding_Debt"
   ]
  },
  {
   "cell_type": "code",
   "execution_count": 227,
   "metadata": {},
   "outputs": [],
   "source": [
    "df_outstanding_debt = df_credit_mix.copy()"
   ]
  },
  {
   "cell_type": "code",
   "execution_count": 228,
   "metadata": {},
   "outputs": [
    {
     "name": "stdout",
     "output_type": "stream",
     "text": [
      "Unique Value Count :  13178\n",
      "Null Value Count :  0\n"
     ]
    }
   ],
   "source": [
    "print('Unique Value Count : ',df_outstanding_debt['Outstanding_Debt'].nunique())\n",
    "print('Null Value Count : ',df_outstanding_debt['Outstanding_Debt'].isna().sum())"
   ]
  },
  {
   "cell_type": "markdown",
   "metadata": {},
   "source": [
    "### Check corresponding Unique_Outstanding_Debt_Values."
   ]
  },
  {
   "cell_type": "code",
   "execution_count": 229,
   "metadata": {},
   "outputs": [],
   "source": [
    "corresponding_unique_outstanding_debt_values = {}\n",
    "for ssn in unique_SSN:\n",
    "    corresponding_unique_outstanding_debt_values[ssn] = list(df_outstanding_debt[df_outstanding_debt['SSN'] == ssn]['Outstanding_Debt'].unique())"
   ]
  },
  {
   "cell_type": "code",
   "execution_count": 230,
   "metadata": {},
   "outputs": [
    {
     "data": {
      "text/plain": [
       "{821000265: ['809.98'],\n",
       " 4075839: ['605.03'],\n",
       " 486853974: ['1303.01'],\n",
       " 72316145: ['632.46'],\n",
       " 615067821: ['943.86'],\n",
       " 612708987: ['548.2'],\n",
       " 411510676: ['352.16'],\n",
       " 500926408: ['1704.18'],\n",
       " 70191622: ['1377.74'],\n",
       " 366681681: ['421.43'],\n",
       " 221308554: ['1328.93', '1328.93_'],\n",
       " 342902649: ['950.36'],\n",
       " 414532918: ['179.22'],\n",
       " 328336328: ['2602.69'],\n",
       " 655057666: ['758.44']}"
      ]
     },
     "execution_count": 230,
     "metadata": {},
     "output_type": "execute_result"
    }
   ],
   "source": [
    "dict(itertools.islice(corresponding_unique_outstanding_debt_values.items(),15))"
   ]
  },
  {
   "attachments": {},
   "cell_type": "markdown",
   "metadata": {},
   "source": [
    "### Replacing the underscore value"
   ]
  },
  {
   "cell_type": "code",
   "execution_count": 231,
   "metadata": {},
   "outputs": [
    {
     "name": "stdout",
     "output_type": "stream",
     "text": [
      "underscore_outstanding_debt Count :  1009 || Unique underscore_outstanding_debt count : 975  || Example :  ['1328.93_', '1283.37_', '2797.17_', '3818.57_', '343.84_']\n"
     ]
    }
   ],
   "source": [
    "underscore_outstanding_debt = 0\n",
    "underscore_outstanding_debt_list = []\n",
    "for index in range(len(df_outstanding_debt)):\n",
    "    if '_' in  df_outstanding_debt['Outstanding_Debt'][index]:\n",
    "        underscore_outstanding_debt += 1\n",
    "        underscore_outstanding_debt_list.append(df_outstanding_debt['Outstanding_Debt'][index])\n",
    "print(\"underscore_outstanding_debt Count : \",underscore_outstanding_debt,\"|| Unique underscore_outstanding_debt count :\",len(set(underscore_outstanding_debt_list)), \" || Example : \",underscore_outstanding_debt_list[0:5])"
   ]
  },
  {
   "cell_type": "code",
   "execution_count": 232,
   "metadata": {},
   "outputs": [],
   "source": [
    "for index in range(len(df_outstanding_debt)):\n",
    "    if '_' in df_outstanding_debt['Outstanding_Debt'][index]:\n",
    "        df_outstanding_debt['Outstanding_Debt'][index] = [val for val in corresponding_unique_outstanding_debt_values[df_outstanding_debt['SSN'][index]] if not '_' in val][0]"
   ]
  },
  {
   "cell_type": "code",
   "execution_count": 233,
   "metadata": {},
   "outputs": [],
   "source": [
    "df_outstanding_debt['Outstanding_Debt'] = df_outstanding_debt['Outstanding_Debt'].astype(float)"
   ]
  },
  {
   "cell_type": "code",
   "execution_count": 234,
   "metadata": {},
   "outputs": [
    {
     "data": {
      "text/plain": [
       "{821000265: [809.98],\n",
       " 4075839: [605.03],\n",
       " 486853974: [1303.01],\n",
       " 72316145: [632.46],\n",
       " 615067821: [943.86],\n",
       " 612708987: [548.2],\n",
       " 411510676: [352.16],\n",
       " 500926408: [1704.18],\n",
       " 70191622: [1377.74],\n",
       " 366681681: [421.43]}"
      ]
     },
     "execution_count": 234,
     "metadata": {},
     "output_type": "execute_result"
    }
   ],
   "source": [
    "corresponding_unique_outstanding_debt_values = {}\n",
    "for ssn in unique_SSN:\n",
    "    corresponding_unique_outstanding_debt_values[ssn] = list(df_outstanding_debt[df_outstanding_debt['SSN'] == ssn]['Outstanding_Debt'].unique())\n",
    "dict(itertools.islice(corresponding_unique_outstanding_debt_values.items(),10))"
   ]
  },
  {
   "attachments": {},
   "cell_type": "markdown",
   "metadata": {},
   "source": [
    "##### All customer seems to have same outstanding debt."
   ]
  },
  {
   "attachments": {},
   "cell_type": "markdown",
   "metadata": {},
   "source": [
    "## PreProcessing Credit_Utilization_Ratio"
   ]
  },
  {
   "cell_type": "code",
   "execution_count": 235,
   "metadata": {},
   "outputs": [],
   "source": [
    "df_credit_utilization_ratio = df_outstanding_debt.copy()"
   ]
  },
  {
   "cell_type": "code",
   "execution_count": 236,
   "metadata": {},
   "outputs": [
    {
     "name": "stdout",
     "output_type": "stream",
     "text": [
      "Unique Value Count :  100000\n",
      "Null Value Count :  0\n"
     ]
    }
   ],
   "source": [
    "print('Unique Value Count : ',df_credit_utilization_ratio[\"Credit_Utilization_Ratio\"].nunique())\n",
    "print('Null Value Count : ',df_credit_utilization_ratio[\"Credit_Utilization_Ratio\"].isna().sum())"
   ]
  },
  {
   "cell_type": "markdown",
   "metadata": {},
   "source": [
    "### Checking Corresponding Unique_Credit_Utilization_Ratio_Values."
   ]
  },
  {
   "cell_type": "code",
   "execution_count": 237,
   "metadata": {},
   "outputs": [],
   "source": [
    "corresponding_unique_credit_utilization_ratio_values = {}\n",
    "for ssn in unique_SSN:\n",
    "    corresponding_unique_credit_utilization_ratio_values[ssn] = list(df_credit_utilization_ratio[df_credit_utilization_ratio['SSN'] == ssn]['Credit_Utilization_Ratio'].unique())"
   ]
  },
  {
   "cell_type": "code",
   "execution_count": 238,
   "metadata": {},
   "outputs": [
    {
     "data": {
      "text/plain": [
       "{821000265: [26.822619623699016,\n",
       "  31.94496005538421,\n",
       "  28.60935202206993,\n",
       "  31.37786186958236,\n",
       "  24.797346908844982,\n",
       "  27.26225871052017,\n",
       "  22.53759303178384,\n",
       "  23.93379480196552],\n",
       " 4075839: [24.46403063758457,\n",
       "  38.550848433956325,\n",
       "  33.22495078663659,\n",
       "  39.18265565546884,\n",
       "  34.97789474709241,\n",
       "  33.38101020065065,\n",
       "  31.131701611553307,\n",
       "  32.933856293622235],\n",
       " 486853974: [28.616734823006844,\n",
       "  41.70257342393906,\n",
       "  26.51981539154649,\n",
       "  39.50164810812735,\n",
       "  31.37614957421204,\n",
       "  39.78399345802119,\n",
       "  38.068623627698585,\n",
       "  38.37475294778511]}"
      ]
     },
     "execution_count": 238,
     "metadata": {},
     "output_type": "execute_result"
    }
   ],
   "source": [
    "dict(itertools.islice(corresponding_unique_credit_utilization_ratio_values.items(),3))"
   ]
  },
  {
   "attachments": {},
   "cell_type": "markdown",
   "metadata": {},
   "source": [
    "##### Each customer has different credit_utilization_ratio."
   ]
  },
  {
   "cell_type": "code",
   "execution_count": 239,
   "metadata": {},
   "outputs": [],
   "source": [
    "df_credit_utilization_ratio.to_csv('checkpoints//9_df_credit_utilization_ratio.csv', index = False)"
   ]
  },
  {
   "attachments": {},
   "cell_type": "markdown",
   "metadata": {},
   "source": [
    "## PreProcessing Credit_History_Age"
   ]
  },
  {
   "cell_type": "code",
   "execution_count": 240,
   "metadata": {},
   "outputs": [],
   "source": [
    "df_credit_history_age = pd.read_csv('checkpoints//9_df_credit_utilization_ratio.csv')"
   ]
  },
  {
   "cell_type": "code",
   "execution_count": 241,
   "metadata": {},
   "outputs": [
    {
     "name": "stdout",
     "output_type": "stream",
     "text": [
      "Unique Value Count :  404\n",
      "Null Value Count :  9030\n"
     ]
    }
   ],
   "source": [
    "print('Unique Value Count : ',df_credit_history_age['Credit_History_Age'].nunique())\n",
    "print('Null Value Count : ',df_credit_history_age['Credit_History_Age'].isna().sum())"
   ]
  },
  {
   "cell_type": "code",
   "execution_count": 242,
   "metadata": {},
   "outputs": [
    {
     "data": {
      "text/html": [
       "<div>\n",
       "<style scoped>\n",
       "    .dataframe tbody tr th:only-of-type {\n",
       "        vertical-align: middle;\n",
       "    }\n",
       "\n",
       "    .dataframe tbody tr th {\n",
       "        vertical-align: top;\n",
       "    }\n",
       "\n",
       "    .dataframe thead th {\n",
       "        text-align: right;\n",
       "    }\n",
       "</style>\n",
       "<table border=\"1\" class=\"dataframe\">\n",
       "  <thead>\n",
       "    <tr style=\"text-align: right;\">\n",
       "      <th></th>\n",
       "      <th>Month</th>\n",
       "      <th>Age</th>\n",
       "      <th>SSN</th>\n",
       "      <th>Occupation</th>\n",
       "      <th>Annual_Income</th>\n",
       "      <th>Monthly_Inhand_Salary</th>\n",
       "      <th>Num_Bank_Accounts</th>\n",
       "      <th>Num_Credit_Card</th>\n",
       "      <th>Interest_Rate</th>\n",
       "      <th>Num_of_Loan</th>\n",
       "      <th>...</th>\n",
       "      <th>Credit_Mix</th>\n",
       "      <th>Outstanding_Debt</th>\n",
       "      <th>Credit_Utilization_Ratio</th>\n",
       "      <th>Credit_History_Age</th>\n",
       "      <th>Payment_of_Min_Amount</th>\n",
       "      <th>Total_EMI_per_month</th>\n",
       "      <th>Amount_invested_monthly</th>\n",
       "      <th>Payment_Behaviour</th>\n",
       "      <th>Monthly_Balance</th>\n",
       "      <th>Credit_Score</th>\n",
       "    </tr>\n",
       "  </thead>\n",
       "  <tbody>\n",
       "    <tr>\n",
       "      <th>0</th>\n",
       "      <td>January</td>\n",
       "      <td>23</td>\n",
       "      <td>821000265</td>\n",
       "      <td>Scientist</td>\n",
       "      <td>19114.12</td>\n",
       "      <td>1824.843333</td>\n",
       "      <td>3</td>\n",
       "      <td>4</td>\n",
       "      <td>3</td>\n",
       "      <td>4</td>\n",
       "      <td>...</td>\n",
       "      <td>Good</td>\n",
       "      <td>809.98</td>\n",
       "      <td>26.822620</td>\n",
       "      <td>22 Years and 1 Months</td>\n",
       "      <td>No</td>\n",
       "      <td>49.574949</td>\n",
       "      <td>80.41529543900253</td>\n",
       "      <td>High_spent_Small_value_payments</td>\n",
       "      <td>312.49408867943663</td>\n",
       "      <td>Good</td>\n",
       "    </tr>\n",
       "    <tr>\n",
       "      <th>1</th>\n",
       "      <td>February</td>\n",
       "      <td>23</td>\n",
       "      <td>821000265</td>\n",
       "      <td>Scientist</td>\n",
       "      <td>19114.12</td>\n",
       "      <td>10855.995546</td>\n",
       "      <td>3</td>\n",
       "      <td>4</td>\n",
       "      <td>3</td>\n",
       "      <td>4</td>\n",
       "      <td>...</td>\n",
       "      <td>Good</td>\n",
       "      <td>809.98</td>\n",
       "      <td>31.944960</td>\n",
       "      <td>NaN</td>\n",
       "      <td>No</td>\n",
       "      <td>49.574949</td>\n",
       "      <td>118.28022162236736</td>\n",
       "      <td>Low_spent_Large_value_payments</td>\n",
       "      <td>284.62916249607184</td>\n",
       "      <td>Good</td>\n",
       "    </tr>\n",
       "    <tr>\n",
       "      <th>2</th>\n",
       "      <td>March</td>\n",
       "      <td>23</td>\n",
       "      <td>821000265</td>\n",
       "      <td>Scientist</td>\n",
       "      <td>19114.12</td>\n",
       "      <td>10855.995546</td>\n",
       "      <td>3</td>\n",
       "      <td>4</td>\n",
       "      <td>3</td>\n",
       "      <td>4</td>\n",
       "      <td>...</td>\n",
       "      <td>Good</td>\n",
       "      <td>809.98</td>\n",
       "      <td>28.609352</td>\n",
       "      <td>22 Years and 3 Months</td>\n",
       "      <td>No</td>\n",
       "      <td>49.574949</td>\n",
       "      <td>81.699521264648</td>\n",
       "      <td>Low_spent_Medium_value_payments</td>\n",
       "      <td>331.2098628537912</td>\n",
       "      <td>Good</td>\n",
       "    </tr>\n",
       "    <tr>\n",
       "      <th>3</th>\n",
       "      <td>April</td>\n",
       "      <td>23</td>\n",
       "      <td>821000265</td>\n",
       "      <td>Scientist</td>\n",
       "      <td>19114.12</td>\n",
       "      <td>10855.995546</td>\n",
       "      <td>3</td>\n",
       "      <td>4</td>\n",
       "      <td>3</td>\n",
       "      <td>4</td>\n",
       "      <td>...</td>\n",
       "      <td>Good</td>\n",
       "      <td>809.98</td>\n",
       "      <td>31.377862</td>\n",
       "      <td>22 Years and 4 Months</td>\n",
       "      <td>No</td>\n",
       "      <td>49.574949</td>\n",
       "      <td>199.4580743910713</td>\n",
       "      <td>Low_spent_Small_value_payments</td>\n",
       "      <td>223.45130972736786</td>\n",
       "      <td>Good</td>\n",
       "    </tr>\n",
       "    <tr>\n",
       "      <th>4</th>\n",
       "      <td>May</td>\n",
       "      <td>23</td>\n",
       "      <td>821000265</td>\n",
       "      <td>Scientist</td>\n",
       "      <td>19114.12</td>\n",
       "      <td>1824.843333</td>\n",
       "      <td>3</td>\n",
       "      <td>4</td>\n",
       "      <td>3</td>\n",
       "      <td>4</td>\n",
       "      <td>...</td>\n",
       "      <td>Good</td>\n",
       "      <td>809.98</td>\n",
       "      <td>24.797347</td>\n",
       "      <td>22 Years and 5 Months</td>\n",
       "      <td>No</td>\n",
       "      <td>49.574949</td>\n",
       "      <td>41.420153086217326</td>\n",
       "      <td>High_spent_Medium_value_payments</td>\n",
       "      <td>341.48923103222177</td>\n",
       "      <td>Good</td>\n",
       "    </tr>\n",
       "    <tr>\n",
       "      <th>5</th>\n",
       "      <td>June</td>\n",
       "      <td>23</td>\n",
       "      <td>821000265</td>\n",
       "      <td>Scientist</td>\n",
       "      <td>19114.12</td>\n",
       "      <td>10855.995546</td>\n",
       "      <td>3</td>\n",
       "      <td>4</td>\n",
       "      <td>3</td>\n",
       "      <td>4</td>\n",
       "      <td>...</td>\n",
       "      <td>Good</td>\n",
       "      <td>809.98</td>\n",
       "      <td>27.262259</td>\n",
       "      <td>22 Years and 6 Months</td>\n",
       "      <td>No</td>\n",
       "      <td>49.574949</td>\n",
       "      <td>62.430172331195294</td>\n",
       "      <td>!@9#%8</td>\n",
       "      <td>340.4792117872438</td>\n",
       "      <td>Good</td>\n",
       "    </tr>\n",
       "    <tr>\n",
       "      <th>6</th>\n",
       "      <td>July</td>\n",
       "      <td>23</td>\n",
       "      <td>821000265</td>\n",
       "      <td>Scientist</td>\n",
       "      <td>19114.12</td>\n",
       "      <td>1824.843333</td>\n",
       "      <td>3</td>\n",
       "      <td>4</td>\n",
       "      <td>3</td>\n",
       "      <td>4</td>\n",
       "      <td>...</td>\n",
       "      <td>Good</td>\n",
       "      <td>809.98</td>\n",
       "      <td>22.537593</td>\n",
       "      <td>22 Years and 7 Months</td>\n",
       "      <td>No</td>\n",
       "      <td>49.574949</td>\n",
       "      <td>178.3440674122349</td>\n",
       "      <td>Low_spent_Small_value_payments</td>\n",
       "      <td>244.5653167062043</td>\n",
       "      <td>Good</td>\n",
       "    </tr>\n",
       "    <tr>\n",
       "      <th>7</th>\n",
       "      <td>August</td>\n",
       "      <td>23</td>\n",
       "      <td>821000265</td>\n",
       "      <td>Scientist</td>\n",
       "      <td>19114.12</td>\n",
       "      <td>1824.843333</td>\n",
       "      <td>3</td>\n",
       "      <td>4</td>\n",
       "      <td>3</td>\n",
       "      <td>4</td>\n",
       "      <td>...</td>\n",
       "      <td>Good</td>\n",
       "      <td>809.98</td>\n",
       "      <td>23.933795</td>\n",
       "      <td>NaN</td>\n",
       "      <td>No</td>\n",
       "      <td>49.574949</td>\n",
       "      <td>24.785216509052056</td>\n",
       "      <td>High_spent_Medium_value_payments</td>\n",
       "      <td>358.12416760938714</td>\n",
       "      <td>Standard</td>\n",
       "    </tr>\n",
       "    <tr>\n",
       "      <th>8</th>\n",
       "      <td>January</td>\n",
       "      <td>28</td>\n",
       "      <td>4075839</td>\n",
       "      <td>Teacher</td>\n",
       "      <td>34847.84</td>\n",
       "      <td>3037.986667</td>\n",
       "      <td>2</td>\n",
       "      <td>4</td>\n",
       "      <td>6</td>\n",
       "      <td>1</td>\n",
       "      <td>...</td>\n",
       "      <td>Good</td>\n",
       "      <td>605.03</td>\n",
       "      <td>24.464031</td>\n",
       "      <td>26 Years and 7 Months</td>\n",
       "      <td>No</td>\n",
       "      <td>18.816215</td>\n",
       "      <td>104.291825168246</td>\n",
       "      <td>Low_spent_Small_value_payments</td>\n",
       "      <td>470.69062692529184</td>\n",
       "      <td>Standard</td>\n",
       "    </tr>\n",
       "    <tr>\n",
       "      <th>9</th>\n",
       "      <td>February</td>\n",
       "      <td>28</td>\n",
       "      <td>4075839</td>\n",
       "      <td>Teacher</td>\n",
       "      <td>34847.84</td>\n",
       "      <td>3037.986667</td>\n",
       "      <td>2</td>\n",
       "      <td>4</td>\n",
       "      <td>6</td>\n",
       "      <td>1</td>\n",
       "      <td>...</td>\n",
       "      <td>Good</td>\n",
       "      <td>605.03</td>\n",
       "      <td>38.550848</td>\n",
       "      <td>26 Years and 8 Months</td>\n",
       "      <td>No</td>\n",
       "      <td>18.816215</td>\n",
       "      <td>40.39123782853101</td>\n",
       "      <td>High_spent_Large_value_payments</td>\n",
       "      <td>484.5912142650067</td>\n",
       "      <td>Good</td>\n",
       "    </tr>\n",
       "  </tbody>\n",
       "</table>\n",
       "<p>10 rows × 25 columns</p>\n",
       "</div>"
      ],
      "text/plain": [
       "      Month  Age        SSN Occupation  Annual_Income  Monthly_Inhand_Salary  \\\n",
       "0   January   23  821000265  Scientist       19114.12            1824.843333   \n",
       "1  February   23  821000265  Scientist       19114.12           10855.995546   \n",
       "2     March   23  821000265  Scientist       19114.12           10855.995546   \n",
       "3     April   23  821000265  Scientist       19114.12           10855.995546   \n",
       "4       May   23  821000265  Scientist       19114.12            1824.843333   \n",
       "5      June   23  821000265  Scientist       19114.12           10855.995546   \n",
       "6      July   23  821000265  Scientist       19114.12            1824.843333   \n",
       "7    August   23  821000265  Scientist       19114.12            1824.843333   \n",
       "8   January   28    4075839    Teacher       34847.84            3037.986667   \n",
       "9  February   28    4075839    Teacher       34847.84            3037.986667   \n",
       "\n",
       "   Num_Bank_Accounts  Num_Credit_Card  Interest_Rate  Num_of_Loan  ...  \\\n",
       "0                  3                4              3            4  ...   \n",
       "1                  3                4              3            4  ...   \n",
       "2                  3                4              3            4  ...   \n",
       "3                  3                4              3            4  ...   \n",
       "4                  3                4              3            4  ...   \n",
       "5                  3                4              3            4  ...   \n",
       "6                  3                4              3            4  ...   \n",
       "7                  3                4              3            4  ...   \n",
       "8                  2                4              6            1  ...   \n",
       "9                  2                4              6            1  ...   \n",
       "\n",
       "  Credit_Mix  Outstanding_Debt  Credit_Utilization_Ratio  \\\n",
       "0       Good            809.98                 26.822620   \n",
       "1       Good            809.98                 31.944960   \n",
       "2       Good            809.98                 28.609352   \n",
       "3       Good            809.98                 31.377862   \n",
       "4       Good            809.98                 24.797347   \n",
       "5       Good            809.98                 27.262259   \n",
       "6       Good            809.98                 22.537593   \n",
       "7       Good            809.98                 23.933795   \n",
       "8       Good            605.03                 24.464031   \n",
       "9       Good            605.03                 38.550848   \n",
       "\n",
       "      Credit_History_Age  Payment_of_Min_Amount Total_EMI_per_month  \\\n",
       "0  22 Years and 1 Months                     No           49.574949   \n",
       "1                    NaN                     No           49.574949   \n",
       "2  22 Years and 3 Months                     No           49.574949   \n",
       "3  22 Years and 4 Months                     No           49.574949   \n",
       "4  22 Years and 5 Months                     No           49.574949   \n",
       "5  22 Years and 6 Months                     No           49.574949   \n",
       "6  22 Years and 7 Months                     No           49.574949   \n",
       "7                    NaN                     No           49.574949   \n",
       "8  26 Years and 7 Months                     No           18.816215   \n",
       "9  26 Years and 8 Months                     No           18.816215   \n",
       "\n",
       "   Amount_invested_monthly                 Payment_Behaviour  \\\n",
       "0        80.41529543900253   High_spent_Small_value_payments   \n",
       "1       118.28022162236736    Low_spent_Large_value_payments   \n",
       "2          81.699521264648   Low_spent_Medium_value_payments   \n",
       "3        199.4580743910713    Low_spent_Small_value_payments   \n",
       "4       41.420153086217326  High_spent_Medium_value_payments   \n",
       "5       62.430172331195294                            !@9#%8   \n",
       "6        178.3440674122349    Low_spent_Small_value_payments   \n",
       "7       24.785216509052056  High_spent_Medium_value_payments   \n",
       "8         104.291825168246    Low_spent_Small_value_payments   \n",
       "9        40.39123782853101   High_spent_Large_value_payments   \n",
       "\n",
       "      Monthly_Balance Credit_Score  \n",
       "0  312.49408867943663         Good  \n",
       "1  284.62916249607184         Good  \n",
       "2   331.2098628537912         Good  \n",
       "3  223.45130972736786         Good  \n",
       "4  341.48923103222177         Good  \n",
       "5   340.4792117872438         Good  \n",
       "6   244.5653167062043         Good  \n",
       "7  358.12416760938714     Standard  \n",
       "8  470.69062692529184     Standard  \n",
       "9   484.5912142650067         Good  \n",
       "\n",
       "[10 rows x 25 columns]"
      ]
     },
     "execution_count": 242,
     "metadata": {},
     "output_type": "execute_result"
    }
   ],
   "source": [
    "df_credit_history_age[0:10]"
   ]
  },
  {
   "attachments": {},
   "cell_type": "markdown",
   "metadata": {},
   "source": [
    "##### Each row seems to be increased by 1 month."
   ]
  },
  {
   "cell_type": "code",
   "execution_count": 243,
   "metadata": {},
   "outputs": [],
   "source": [
    "df_credit_history_age['Credit_History_Age'].fillna('nan',inplace = True)"
   ]
  },
  {
   "cell_type": "code",
   "execution_count": 244,
   "metadata": {},
   "outputs": [
    {
     "name": "stdout",
     "output_type": "stream",
     "text": [
      "--- Year and Month ---\n"
     ]
    },
    {
     "data": {
      "text/plain": [
       "'22 Years and 1 Months'"
      ]
     },
     "execution_count": 244,
     "metadata": {},
     "output_type": "execute_result"
    },
    {
     "name": "stdout",
     "output_type": "stream",
     "text": [
      "--- After Slicing ---\n"
     ]
    },
    {
     "data": {
      "text/plain": [
       "22"
      ]
     },
     "execution_count": 244,
     "metadata": {},
     "output_type": "execute_result"
    },
    {
     "data": {
      "text/plain": [
       "1"
      ]
     },
     "execution_count": 244,
     "metadata": {},
     "output_type": "execute_result"
    }
   ],
   "source": [
    "print('--- Year and Month ---')\n",
    "check = '22 Years and 1 Months'\n",
    "check\n",
    "print('--- After Slicing ---')\n",
    "int(check.split(' ')[0])\n",
    "int(check.split(' ')[3])"
   ]
  },
  {
   "attachments": {},
   "cell_type": "markdown",
   "metadata": {},
   "source": [
    "### Replacing the nan values by comparing previous and upcoming month and years."
   ]
  },
  {
   "cell_type": "code",
   "execution_count": 245,
   "metadata": {},
   "outputs": [],
   "source": [
    "for index in range(1,len(df_credit_history_age)):\n",
    "    if df_credit_history_age['Credit_History_Age'][index] == 'nan':\n",
    "        if df_credit_history_age['SSN'][index] == df_credit_history_age['SSN'][index - 1] and df_credit_history_age['Credit_History_Age'][index - 1] != 'nan':\n",
    "            previous_year = int(df_credit_history_age['Credit_History_Age'][index - 1].split(' ')[0])\n",
    "            previous_month = int(df_credit_history_age['Credit_History_Age'][index - 1].split(' ')[3])\n",
    "            \n",
    "            if previous_month == 11:\n",
    "                df_credit_history_age['Credit_History_Age'][index] = f'{previous_year + 1} Years and 0 Months'\n",
    "            else:\n",
    "                df_credit_history_age['Credit_History_Age'][index] = f'{previous_year} Years and {previous_month + 1} Months'\n",
    "        \n",
    "        \n",
    "        elif df_credit_history_age['SSN'][index] == df_credit_history_age['SSN'][index + 1] and df_credit_history_age['Credit_History_Age'][index + 1] != 'nan':\n",
    "            upcoming_year = int(df_credit_history_age['Credit_History_Age'][index + 1].split(' ')[0])\n",
    "            upcoming_month = int(df_credit_history_age['Credit_History_Age'][index + 1].split(' ')[3])\n",
    "            \n",
    "            if upcoming_month == 0:\n",
    "                df_credit_history_age['Credit_History_Age'][index] = f'{upcoming_year - 1} Years and 11 Months'\n",
    "            else:\n",
    "                df_credit_history_age['Credit_History_Age'][index] = f'{upcoming_year} Years and {upcoming_month - 1} Months'\n",
    "        \n",
    "        elif df_credit_history_age['SSN'][index] == df_credit_history_age['SSN'][index + 2] and df_credit_history_age['Credit_History_Age'][index + 2] != 'nan':\n",
    "            upcoming_year = int(df_credit_history_age['Credit_History_Age'][index + 2].split(' ')[0])\n",
    "            upcoming_month = int(df_credit_history_age['Credit_History_Age'][index + 2].split(' ')[3])\n",
    "            \n",
    "            if upcoming_month == 1:\n",
    "                df_credit_history_age['Credit_History_Age'][index] = f'{upcoming_year - 1} Years and 11 Months'\n",
    "            elif upcoming_month == 0:\n",
    "                df_credit_history_age['Credit_History_Age'][index] = f'{upcoming_year - 1} Years and 10 Months'\n",
    "            else:\n",
    "                df_credit_history_age['Credit_History_Age'][index] = f'{upcoming_year} Years and {upcoming_month - 2} Months'\n",
    "        \n",
    "        elif df_credit_history_age['SSN'][index] == df_credit_history_age['SSN'][index - 2] and df_credit_history_age['Credit_History_Age'][index - 2] != 'nan':\n",
    "            previous_year = int(df_credit_history_age['Credit_History_Age'][index - 2].split(' ')[0])\n",
    "            previous_month = int(df_credit_history_age['Credit_History_Age'][index - 2].split(' ')[3])\n",
    "            \n",
    "            if previous_month == 10:\n",
    "                df_credit_history_age['Credit_History_Age'][index] = f'{previous_year + 1} Years and 0 Months'\n",
    "            elif previous_month == 11:\n",
    "                df_credit_history_age['Credit_History_Age'][index] = f'{previous_year + 1} Years and 1 Months'\n",
    "            else:\n",
    "                df_credit_history_age['Credit_History_Age'][index] = f'{previous_year} Years and {previous_month + 2} Months'\n",
    "        \n",
    "        elif df_credit_history_age['SSN'][index] == df_credit_history_age['SSN'][index + 3] and df_credit_history_age['Credit_History_Age'][index + 3] != 'nan':\n",
    "            upcoming_year = int(df_credit_history_age['Credit_History_Age'][index + 3].split(' ')[0])\n",
    "            upcoming_month = int(df_credit_history_age['Credit_History_Age'][index + 3].split(' ')[3])\n",
    "            \n",
    "            if upcoming_month == 2:\n",
    "                df_credit_history_age['Credit_History_Age'][index] = f'{upcoming_year - 1} Years and 11 Months'\n",
    "            elif upcoming_month == 1:\n",
    "                df_credit_history_age['Credit_History_Age'][index] = f'{upcoming_year - 1} Years and 10 Months'\n",
    "            elif upcoming_month == 0:\n",
    "                df_credit_history_age['Credit_History_Age'][index] = f'{upcoming_year - 1} Years and 9 Months'\n",
    "            else:\n",
    "                df_credit_history_age['Credit_History_Age'][index] = f'{upcoming_year} Years and {upcoming_month - 3} Months'\n",
    "        \n",
    "        elif df_credit_history_age['SSN'][index] == df_credit_history_age['SSN'][index - 3] and df_credit_history_age['Credit_History_Age'][index - 3] != 'nan':\n",
    "            previous_year = int(df_credit_history_age['Credit_History_Age'][index - 3].split(' ')[0])\n",
    "            previous_month = int(df_credit_history_age['Credit_History_Age'][index - 3].split(' ')[3])\n",
    "            \n",
    "            if previous_month == 9:\n",
    "                df_credit_history_age['Credit_History_Age'][index] = f'{previous_year + 1} Years and 0 Months'\n",
    "            elif previous_month == 10:\n",
    "                df_credit_history_age['Credit_History_Age'][index] = f'{previous_year + 1} Years and 1 Months'\n",
    "            elif previous_month == 11:\n",
    "                df_credit_history_age['Credit_History_Age'][index] = f'{previous_year + 1} Years and 2 Months'\n",
    "            else:\n",
    "                df_credit_history_age['Credit_History_Age'][index] = f'{previous_year} Years and {previous_month + 3} Months'\n",
    "        \n",
    "        elif df_credit_history_age['SSN'][index] == df_credit_history_age['SSN'][index + 4] and df_credit_history_age['Credit_History_Age'][index + 4] != 'nan':\n",
    "            upcoming_year = int(df_credit_history_age['Credit_History_Age'][index + 4].split(' ')[0])\n",
    "            upcoming_month = int(df_credit_history_age['Credit_History_Age'][index + 4].split(' ')[3])\n",
    "            \n",
    "            if upcoming_month == 3:\n",
    "                df_credit_history_age['Credit_History_Age'][index] = f'{upcoming_year - 1} Years and 11 Months'\n",
    "            elif upcoming_month == 2:\n",
    "                df_credit_history_age['Credit_History_Age'][index] = f'{upcoming_year - 1} Years and 10 Months'\n",
    "            elif upcoming_month == 1:\n",
    "                df_credit_history_age['Credit_History_Age'][index] = f'{upcoming_year - 1} Years and 9 Months'\n",
    "            elif upcoming_month == 0:\n",
    "                df_credit_history_age['Credit_History_Age'][index] = f'{upcoming_year - 1} Years and 8 Months'\n",
    "            else:\n",
    "                df_credit_history_age['Credit_History_Age'][index] = f'{upcoming_year} Years and {upcoming_month - 4} Months'\n",
    "        \n",
    "        elif df_credit_history_age['SSN'][index] == df_credit_history_age['SSN'][index - 4] and df_credit_history_age['Credit_History_Age'][index - 4] != 'nan':\n",
    "            previous_year = int(df_credit_history_age['Credit_History_Age'][index - 4].split(' ')[0])\n",
    "            previous_month = int(df_credit_history_age['Credit_History_Age'][index - 4].split(' ')[3])\n",
    "            \n",
    "            if previous_month == 8:\n",
    "                df_credit_history_age['Credit_History_Age'][index] = f'{previous_year + 1} Years and 0 Months'\n",
    "            elif previous_month == 9:\n",
    "                df_credit_history_age['Credit_History_Age'][index] = f'{previous_year + 1} Years and 1 Months'\n",
    "            elif previous_month == 10:\n",
    "                df_credit_history_age['Credit_History_Age'][index] = f'{previous_year + 1} Years and 2 Months'\n",
    "            elif previous_month == 11:\n",
    "                df_credit_history_age['Credit_History_Age'][index] = f'{previous_year + 1} Years and 3 Months'\n",
    "            else:\n",
    "                df_credit_history_age['Credit_History_Age'][index] = f'{previous_year} Years and {previous_month + 4} Months'\n",
    "        "
   ]
  },
  {
   "cell_type": "markdown",
   "metadata": {},
   "source": [
    "### Checking."
   ]
  },
  {
   "cell_type": "code",
   "execution_count": 246,
   "metadata": {},
   "outputs": [
    {
     "data": {
      "text/plain": [
       "15 Years and 10 Months    490\n",
       "19 Years and 5 Months     486\n",
       "19 Years and 4 Months     484\n",
       "17 Years and 11 Months    483\n",
       "17 Years and 9 Months     481\n",
       "                         ... \n",
       "0 Years and 3 Months       22\n",
       "33 Years and 7 Months      15\n",
       "0 Years and 2 Months       15\n",
       "33 Years and 8 Months      15\n",
       "0 Years and 1 Months        2\n",
       "Name: Credit_History_Age, Length: 404, dtype: int64"
      ]
     },
     "execution_count": 246,
     "metadata": {},
     "output_type": "execute_result"
    }
   ],
   "source": [
    "df_credit_history_age['Credit_History_Age'].value_counts()"
   ]
  },
  {
   "cell_type": "markdown",
   "metadata": {},
   "source": [
    "### Convert Years and Months to Months."
   ]
  },
  {
   "cell_type": "code",
   "execution_count": 247,
   "metadata": {},
   "outputs": [],
   "source": [
    "def makeMonths(history_age):\n",
    "    year = int(history_age.split(' ')[0])\n",
    "    month = int(history_age.split(' ')[3])\n",
    "    \n",
    "    return (year * 12) + month\n"
   ]
  },
  {
   "cell_type": "code",
   "execution_count": 248,
   "metadata": {},
   "outputs": [],
   "source": [
    "df_credit_history_age['Credit_History_Age'] = df_credit_history_age['Credit_History_Age'].apply(makeMonths)"
   ]
  },
  {
   "cell_type": "code",
   "execution_count": 249,
   "metadata": {},
   "outputs": [
    {
     "data": {
      "text/html": [
       "<div>\n",
       "<style scoped>\n",
       "    .dataframe tbody tr th:only-of-type {\n",
       "        vertical-align: middle;\n",
       "    }\n",
       "\n",
       "    .dataframe tbody tr th {\n",
       "        vertical-align: top;\n",
       "    }\n",
       "\n",
       "    .dataframe thead th {\n",
       "        text-align: right;\n",
       "    }\n",
       "</style>\n",
       "<table border=\"1\" class=\"dataframe\">\n",
       "  <thead>\n",
       "    <tr style=\"text-align: right;\">\n",
       "      <th></th>\n",
       "      <th>Month</th>\n",
       "      <th>Age</th>\n",
       "      <th>SSN</th>\n",
       "      <th>Occupation</th>\n",
       "      <th>Annual_Income</th>\n",
       "      <th>Monthly_Inhand_Salary</th>\n",
       "      <th>Num_Bank_Accounts</th>\n",
       "      <th>Num_Credit_Card</th>\n",
       "      <th>Interest_Rate</th>\n",
       "      <th>Num_of_Loan</th>\n",
       "      <th>...</th>\n",
       "      <th>Credit_Mix</th>\n",
       "      <th>Outstanding_Debt</th>\n",
       "      <th>Credit_Utilization_Ratio</th>\n",
       "      <th>Credit_History_Age</th>\n",
       "      <th>Payment_of_Min_Amount</th>\n",
       "      <th>Total_EMI_per_month</th>\n",
       "      <th>Amount_invested_monthly</th>\n",
       "      <th>Payment_Behaviour</th>\n",
       "      <th>Monthly_Balance</th>\n",
       "      <th>Credit_Score</th>\n",
       "    </tr>\n",
       "  </thead>\n",
       "  <tbody>\n",
       "    <tr>\n",
       "      <th>0</th>\n",
       "      <td>January</td>\n",
       "      <td>23</td>\n",
       "      <td>821000265</td>\n",
       "      <td>Scientist</td>\n",
       "      <td>19114.12</td>\n",
       "      <td>1824.843333</td>\n",
       "      <td>3</td>\n",
       "      <td>4</td>\n",
       "      <td>3</td>\n",
       "      <td>4</td>\n",
       "      <td>...</td>\n",
       "      <td>Good</td>\n",
       "      <td>809.98</td>\n",
       "      <td>26.822620</td>\n",
       "      <td>265</td>\n",
       "      <td>No</td>\n",
       "      <td>49.574949</td>\n",
       "      <td>80.41529543900253</td>\n",
       "      <td>High_spent_Small_value_payments</td>\n",
       "      <td>312.49408867943663</td>\n",
       "      <td>Good</td>\n",
       "    </tr>\n",
       "    <tr>\n",
       "      <th>1</th>\n",
       "      <td>February</td>\n",
       "      <td>23</td>\n",
       "      <td>821000265</td>\n",
       "      <td>Scientist</td>\n",
       "      <td>19114.12</td>\n",
       "      <td>10855.995546</td>\n",
       "      <td>3</td>\n",
       "      <td>4</td>\n",
       "      <td>3</td>\n",
       "      <td>4</td>\n",
       "      <td>...</td>\n",
       "      <td>Good</td>\n",
       "      <td>809.98</td>\n",
       "      <td>31.944960</td>\n",
       "      <td>266</td>\n",
       "      <td>No</td>\n",
       "      <td>49.574949</td>\n",
       "      <td>118.28022162236736</td>\n",
       "      <td>Low_spent_Large_value_payments</td>\n",
       "      <td>284.62916249607184</td>\n",
       "      <td>Good</td>\n",
       "    </tr>\n",
       "    <tr>\n",
       "      <th>2</th>\n",
       "      <td>March</td>\n",
       "      <td>23</td>\n",
       "      <td>821000265</td>\n",
       "      <td>Scientist</td>\n",
       "      <td>19114.12</td>\n",
       "      <td>10855.995546</td>\n",
       "      <td>3</td>\n",
       "      <td>4</td>\n",
       "      <td>3</td>\n",
       "      <td>4</td>\n",
       "      <td>...</td>\n",
       "      <td>Good</td>\n",
       "      <td>809.98</td>\n",
       "      <td>28.609352</td>\n",
       "      <td>267</td>\n",
       "      <td>No</td>\n",
       "      <td>49.574949</td>\n",
       "      <td>81.699521264648</td>\n",
       "      <td>Low_spent_Medium_value_payments</td>\n",
       "      <td>331.2098628537912</td>\n",
       "      <td>Good</td>\n",
       "    </tr>\n",
       "    <tr>\n",
       "      <th>3</th>\n",
       "      <td>April</td>\n",
       "      <td>23</td>\n",
       "      <td>821000265</td>\n",
       "      <td>Scientist</td>\n",
       "      <td>19114.12</td>\n",
       "      <td>10855.995546</td>\n",
       "      <td>3</td>\n",
       "      <td>4</td>\n",
       "      <td>3</td>\n",
       "      <td>4</td>\n",
       "      <td>...</td>\n",
       "      <td>Good</td>\n",
       "      <td>809.98</td>\n",
       "      <td>31.377862</td>\n",
       "      <td>268</td>\n",
       "      <td>No</td>\n",
       "      <td>49.574949</td>\n",
       "      <td>199.4580743910713</td>\n",
       "      <td>Low_spent_Small_value_payments</td>\n",
       "      <td>223.45130972736786</td>\n",
       "      <td>Good</td>\n",
       "    </tr>\n",
       "    <tr>\n",
       "      <th>4</th>\n",
       "      <td>May</td>\n",
       "      <td>23</td>\n",
       "      <td>821000265</td>\n",
       "      <td>Scientist</td>\n",
       "      <td>19114.12</td>\n",
       "      <td>1824.843333</td>\n",
       "      <td>3</td>\n",
       "      <td>4</td>\n",
       "      <td>3</td>\n",
       "      <td>4</td>\n",
       "      <td>...</td>\n",
       "      <td>Good</td>\n",
       "      <td>809.98</td>\n",
       "      <td>24.797347</td>\n",
       "      <td>269</td>\n",
       "      <td>No</td>\n",
       "      <td>49.574949</td>\n",
       "      <td>41.420153086217326</td>\n",
       "      <td>High_spent_Medium_value_payments</td>\n",
       "      <td>341.48923103222177</td>\n",
       "      <td>Good</td>\n",
       "    </tr>\n",
       "  </tbody>\n",
       "</table>\n",
       "<p>5 rows × 25 columns</p>\n",
       "</div>"
      ],
      "text/plain": [
       "      Month  Age        SSN Occupation  Annual_Income  Monthly_Inhand_Salary  \\\n",
       "0   January   23  821000265  Scientist       19114.12            1824.843333   \n",
       "1  February   23  821000265  Scientist       19114.12           10855.995546   \n",
       "2     March   23  821000265  Scientist       19114.12           10855.995546   \n",
       "3     April   23  821000265  Scientist       19114.12           10855.995546   \n",
       "4       May   23  821000265  Scientist       19114.12            1824.843333   \n",
       "\n",
       "   Num_Bank_Accounts  Num_Credit_Card  Interest_Rate  Num_of_Loan  ...  \\\n",
       "0                  3                4              3            4  ...   \n",
       "1                  3                4              3            4  ...   \n",
       "2                  3                4              3            4  ...   \n",
       "3                  3                4              3            4  ...   \n",
       "4                  3                4              3            4  ...   \n",
       "\n",
       "  Credit_Mix  Outstanding_Debt  Credit_Utilization_Ratio  Credit_History_Age  \\\n",
       "0       Good            809.98                 26.822620                 265   \n",
       "1       Good            809.98                 31.944960                 266   \n",
       "2       Good            809.98                 28.609352                 267   \n",
       "3       Good            809.98                 31.377862                 268   \n",
       "4       Good            809.98                 24.797347                 269   \n",
       "\n",
       "   Payment_of_Min_Amount Total_EMI_per_month  Amount_invested_monthly  \\\n",
       "0                     No           49.574949        80.41529543900253   \n",
       "1                     No           49.574949       118.28022162236736   \n",
       "2                     No           49.574949          81.699521264648   \n",
       "3                     No           49.574949        199.4580743910713   \n",
       "4                     No           49.574949       41.420153086217326   \n",
       "\n",
       "                  Payment_Behaviour     Monthly_Balance Credit_Score  \n",
       "0   High_spent_Small_value_payments  312.49408867943663         Good  \n",
       "1    Low_spent_Large_value_payments  284.62916249607184         Good  \n",
       "2   Low_spent_Medium_value_payments   331.2098628537912         Good  \n",
       "3    Low_spent_Small_value_payments  223.45130972736786         Good  \n",
       "4  High_spent_Medium_value_payments  341.48923103222177         Good  \n",
       "\n",
       "[5 rows x 25 columns]"
      ]
     },
     "execution_count": 249,
     "metadata": {},
     "output_type": "execute_result"
    }
   ],
   "source": [
    "df_credit_history_age.head()"
   ]
  },
  {
   "cell_type": "code",
   "execution_count": 250,
   "metadata": {},
   "outputs": [],
   "source": [
    "df_credit_history_age.to_csv('checkpoints//10_df_credit_history_age.csv',index = False)"
   ]
  },
  {
   "cell_type": "markdown",
   "metadata": {},
   "source": [
    "### PreProcessing Payment_of_Min_Amount"
   ]
  },
  {
   "cell_type": "code",
   "execution_count": 251,
   "metadata": {},
   "outputs": [],
   "source": [
    "df_payment_of_min_amount = pd.read_csv('checkpoints//10_df_credit_history_age.csv')"
   ]
  },
  {
   "cell_type": "code",
   "execution_count": 252,
   "metadata": {},
   "outputs": [
    {
     "name": "stdout",
     "output_type": "stream",
     "text": [
      "Unique Value Count :  3\n",
      "Null Value Count :  0\n"
     ]
    }
   ],
   "source": [
    "print('Unique Value Count : ',df_payment_of_min_amount['Payment_of_Min_Amount'].nunique())\n",
    "print('Null Value Count : ',df_payment_of_min_amount['Payment_of_Min_Amount'].isna().sum())"
   ]
  },
  {
   "cell_type": "markdown",
   "metadata": {},
   "source": [
    "### Checking Unique Values."
   ]
  },
  {
   "cell_type": "code",
   "execution_count": 253,
   "metadata": {},
   "outputs": [
    {
     "data": {
      "text/plain": [
       "Yes    52326\n",
       "No     35667\n",
       "NM     12007\n",
       "Name: Payment_of_Min_Amount, dtype: int64"
      ]
     },
     "execution_count": 253,
     "metadata": {},
     "output_type": "execute_result"
    }
   ],
   "source": [
    "df_payment_of_min_amount['Payment_of_Min_Amount'].value_counts()"
   ]
  },
  {
   "cell_type": "markdown",
   "metadata": {},
   "source": [
    "### Checking Corresponding Payment_of_Min_Values."
   ]
  },
  {
   "cell_type": "code",
   "execution_count": 254,
   "metadata": {},
   "outputs": [],
   "source": [
    "corresponding_payment_of_min_values = {}\n",
    "for ssn in unique_SSN:\n",
    "    corresponding_payment_of_min_values[ssn] = list(df_payment_of_min_amount[df_payment_of_min_amount['SSN'] == ssn]['Payment_of_Min_Amount'].unique())"
   ]
  },
  {
   "cell_type": "code",
   "execution_count": 255,
   "metadata": {},
   "outputs": [
    {
     "data": {
      "text/plain": [
       "{821000265: ['No'],\n",
       " 4075839: ['No', 'NM'],\n",
       " 486853974: ['No'],\n",
       " 72316145: ['No', 'NM'],\n",
       " 615067821: ['Yes', 'NM'],\n",
       " 612708987: ['No', 'NM'],\n",
       " 411510676: ['NM', 'No'],\n",
       " 500926408: ['NM', 'Yes'],\n",
       " 70191622: ['No', 'NM'],\n",
       " 366681681: ['NM', 'No']}"
      ]
     },
     "execution_count": 255,
     "metadata": {},
     "output_type": "execute_result"
    }
   ],
   "source": [
    "dict(itertools.islice(corresponding_payment_of_min_values.items(),10))"
   ]
  },
  {
   "attachments": {},
   "cell_type": "markdown",
   "metadata": {},
   "source": [
    "### Replacing NM with corresponding value."
   ]
  },
  {
   "cell_type": "code",
   "execution_count": 256,
   "metadata": {},
   "outputs": [],
   "source": [
    "for index in range(len(df_payment_of_min_amount)):\n",
    "    if df_payment_of_min_amount['Payment_of_Min_Amount'][index] == 'NM':\n",
    "        df_payment_of_min_amount['Payment_of_Min_Amount'][index] = [val for val in corresponding_payment_of_min_values[df_payment_of_min_amount['SSN'][index]] if val != 'NM' ][0]"
   ]
  },
  {
   "cell_type": "code",
   "execution_count": 257,
   "metadata": {},
   "outputs": [],
   "source": [
    "corresponding_payment_of_min_values = {}\n",
    "for ssn in unique_SSN:\n",
    "    corresponding_payment_of_min_values[ssn] = list(df_payment_of_min_amount[df_payment_of_min_amount['SSN'] == ssn]['Payment_of_Min_Amount'].unique())"
   ]
  },
  {
   "cell_type": "code",
   "execution_count": 258,
   "metadata": {},
   "outputs": [
    {
     "data": {
      "text/plain": [
       "{821000265: ['No'],\n",
       " 4075839: ['No'],\n",
       " 486853974: ['No'],\n",
       " 72316145: ['No'],\n",
       " 615067821: ['Yes'],\n",
       " 612708987: ['No'],\n",
       " 411510676: ['No'],\n",
       " 500926408: ['Yes'],\n",
       " 70191622: ['No'],\n",
       " 366681681: ['No']}"
      ]
     },
     "execution_count": 258,
     "metadata": {},
     "output_type": "execute_result"
    }
   ],
   "source": [
    "dict(itertools.islice(corresponding_payment_of_min_values.items(),10))"
   ]
  },
  {
   "cell_type": "code",
   "execution_count": 259,
   "metadata": {},
   "outputs": [
    {
     "data": {
      "text/plain": [
       "Yes    59432\n",
       "No     40568\n",
       "Name: Payment_of_Min_Amount, dtype: int64"
      ]
     },
     "execution_count": 259,
     "metadata": {},
     "output_type": "execute_result"
    }
   ],
   "source": [
    "df_payment_of_min_amount['Payment_of_Min_Amount'].value_counts()"
   ]
  },
  {
   "attachments": {},
   "cell_type": "markdown",
   "metadata": {},
   "source": [
    "## PreProcessing Total_EMI_per_month"
   ]
  },
  {
   "cell_type": "code",
   "execution_count": 260,
   "metadata": {},
   "outputs": [],
   "source": [
    "df_total_emi_per_month = df_payment_of_min_amount.copy()"
   ]
  },
  {
   "cell_type": "code",
   "execution_count": 261,
   "metadata": {},
   "outputs": [
    {
     "name": "stdout",
     "output_type": "stream",
     "text": [
      "Unique Value Count :  14950\n",
      "Null Value Count :  0\n"
     ]
    }
   ],
   "source": [
    "print('Unique Value Count : ',df_total_emi_per_month['Total_EMI_per_month'].nunique())\n",
    "print('Null Value Count : ',df_total_emi_per_month['Total_EMI_per_month'].isna().sum())"
   ]
  },
  {
   "cell_type": "markdown",
   "metadata": {},
   "source": [
    "### Checking Unique_Total_EMI_per_Month_Values."
   ]
  },
  {
   "cell_type": "code",
   "execution_count": 262,
   "metadata": {},
   "outputs": [],
   "source": [
    "corresponding_unique_total_emi_per_month_values = {}\n",
    "for ssn in unique_SSN:\n",
    "    corresponding_unique_total_emi_per_month_values[ssn] = list(df_total_emi_per_month[df_total_emi_per_month['SSN'] == ssn]['Total_EMI_per_month'].unique())"
   ]
  },
  {
   "cell_type": "code",
   "execution_count": 263,
   "metadata": {},
   "outputs": [
    {
     "data": {
      "text/plain": [
       "{821000265: [49.57494921489417],\n",
       " 4075839: [18.816214573128885],\n",
       " 486853974: [246.9923194537421],\n",
       " 72316145: [16.415451659824875],\n",
       " 615067821: [0.0],\n",
       " 612708987: [15015.0, 0.0, 15515.0],\n",
       " 411510676: [137.6446054014217, 911.2201793459374, 23834.0, 32662.0],\n",
       " 500926408: [70.47833267207261],\n",
       " 70191622: [226.8927919215432],\n",
       " 366681681: [46.61612907334207, 16415.0]}"
      ]
     },
     "execution_count": 263,
     "metadata": {},
     "output_type": "execute_result"
    }
   ],
   "source": [
    "dict(itertools.islice(corresponding_unique_total_emi_per_month_values.items(),10))"
   ]
  },
  {
   "cell_type": "code",
   "execution_count": 264,
   "metadata": {},
   "outputs": [
    {
     "name": "stdout",
     "output_type": "stream",
     "text": [
      "underscore_total_emi_per_month Count :  0 || Unique underscore_total_emi_per_month count : 0  || Example :  []\n"
     ]
    }
   ],
   "source": [
    "underscore_total_emi_per_month = 0\n",
    "underscore_total_emi_per_month_list = []\n",
    "\n",
    "for index in range(len(df_total_emi_per_month)):\n",
    "    try:\n",
    "        if '_' in  df_total_emi_per_month['Total_EMI_per_month'][index]:\n",
    "            underscore_total_emi_per_month += 1\n",
    "            underscore_total_emi_per_month_list.append(df_total_emi_per_month['Total_EMI_per_month'][index])\n",
    "    except:\n",
    "        pass\n",
    "print(\"underscore_total_emi_per_month Count : \",underscore_total_emi_per_month,\"|| Unique underscore_total_emi_per_month count :\",len(set(underscore_total_emi_per_month_list)), \" || Example : \",underscore_total_emi_per_month_list[0:5])"
   ]
  },
  {
   "attachments": {},
   "cell_type": "markdown",
   "metadata": {},
   "source": [
    "##### Seems there are no inconsistent total_emi_per_month."
   ]
  },
  {
   "attachments": {},
   "cell_type": "markdown",
   "metadata": {},
   "source": [
    "## PreProcessing Amount_invested_monthly"
   ]
  },
  {
   "cell_type": "code",
   "execution_count": 265,
   "metadata": {},
   "outputs": [],
   "source": [
    "df_amount_invested_monthly = df_total_emi_per_month.copy()"
   ]
  },
  {
   "cell_type": "code",
   "execution_count": 266,
   "metadata": {},
   "outputs": [
    {
     "name": "stdout",
     "output_type": "stream",
     "text": [
      "Unique Value Count :  91049\n",
      "Null Value Count :  4479\n"
     ]
    }
   ],
   "source": [
    "print('Unique Value Count : ',df_amount_invested_monthly['Amount_invested_monthly'].nunique())\n",
    "print('Null Value Count : ',df_amount_invested_monthly['Amount_invested_monthly'].isna().sum())"
   ]
  },
  {
   "cell_type": "markdown",
   "metadata": {},
   "source": [
    "### Checking for Noisy Data."
   ]
  },
  {
   "cell_type": "code",
   "execution_count": 267,
   "metadata": {},
   "outputs": [
    {
     "name": "stdout",
     "output_type": "stream",
     "text": [
      "underscore_amount_invested_monthly Count :  4305 || Unique underscore_amount_invested_monthly count : 1  || Example :  ['__10000__', '__10000__', '__10000__', '__10000__', '__10000__']\n"
     ]
    }
   ],
   "source": [
    "underscore_amount_invested_monthly = 0\n",
    "underscore_amount_invested_monthly_list = []\n",
    "\n",
    "for index in range(len(df_amount_invested_monthly)):\n",
    "    try:\n",
    "        if '_' in  df_amount_invested_monthly['Amount_invested_monthly'][index]:\n",
    "            underscore_amount_invested_monthly += 1\n",
    "            underscore_amount_invested_monthly_list.append(df_amount_invested_monthly['Amount_invested_monthly'][index])\n",
    "    except:\n",
    "        pass\n",
    "print(\"underscore_amount_invested_monthly Count : \",underscore_amount_invested_monthly,\"|| Unique underscore_amount_invested_monthly count :\",len(set(underscore_amount_invested_monthly_list)), \" || Example : \",underscore_amount_invested_monthly_list[0:5])"
   ]
  },
  {
   "cell_type": "code",
   "execution_count": 268,
   "metadata": {},
   "outputs": [
    {
     "data": {
      "text/plain": [
       "{821000265: ['80.41529543900253',\n",
       "  '118.28022162236736',\n",
       "  '81.699521264648',\n",
       "  '199.4580743910713',\n",
       "  '41.420153086217326',\n",
       "  '62.430172331195294',\n",
       "  '178.3440674122349',\n",
       "  '24.785216509052056'],\n",
       " 4075839: ['104.291825168246',\n",
       "  '40.39123782853101',\n",
       "  '58.51597569589465',\n",
       "  '99.30622796053305',\n",
       "  '130.11542024292334',\n",
       "  '43.477190144355745',\n",
       "  '70.10177420755677',\n",
       "  '218.90434353388733'],\n",
       " 486853974: ['168.413702679309',\n",
       "  '232.86038375993544',\n",
       "  '__10000__',\n",
       "  '825.2162699393922',\n",
       "  '430.9475278803298',\n",
       "  '257.80809942568976',\n",
       "  '263.17416316163934']}"
      ]
     },
     "execution_count": 268,
     "metadata": {},
     "output_type": "execute_result"
    }
   ],
   "source": [
    "corresponding_unique_amount_invested_monthly_values = {}\n",
    "for ssn in unique_SSN:\n",
    "    corresponding_unique_amount_invested_monthly_values[ssn] = list(df_amount_invested_monthly[df_amount_invested_monthly['SSN'] == ssn]['Amount_invested_monthly'].unique())\n",
    "dict(itertools.islice(corresponding_unique_amount_invested_monthly_values.items(),3))"
   ]
  },
  {
   "cell_type": "markdown",
   "metadata": {},
   "source": [
    "### Removing UnderScore Values."
   ]
  },
  {
   "cell_type": "code",
   "execution_count": 269,
   "metadata": {},
   "outputs": [],
   "source": [
    "for index in range(len(df_amount_invested_monthly)):\n",
    "    try:\n",
    "        if '_' in df_amount_invested_monthly['Amount_invested_monthly'][index]:\n",
    "            df_amount_invested_monthly['Amount_invested_monthly'][index] = df_amount_invested_monthly['Amount_invested_monthly'][index].replace('_','')\n",
    "    except:\n",
    "        pass"
   ]
  },
  {
   "cell_type": "code",
   "execution_count": 270,
   "metadata": {},
   "outputs": [],
   "source": [
    "df_amount_invested_monthly['Amount_invested_monthly'] = df_amount_invested_monthly['Amount_invested_monthly'].astype(float)"
   ]
  },
  {
   "cell_type": "code",
   "execution_count": 271,
   "metadata": {},
   "outputs": [],
   "source": [
    "corresponding_unique_amount_invested_monthly_values = {}\n",
    "for ssn in unique_SSN:\n",
    "    corresponding_unique_amount_invested_monthly_values[ssn] = list(df_amount_invested_monthly[df_amount_invested_monthly['SSN'] == ssn]['Amount_invested_monthly'].unique())"
   ]
  },
  {
   "cell_type": "code",
   "execution_count": 272,
   "metadata": {},
   "outputs": [
    {
     "data": {
      "text/plain": [
       "{821000265: [80.41529543900253,\n",
       "  118.28022162236736,\n",
       "  81.699521264648,\n",
       "  199.4580743910713,\n",
       "  41.420153086217326,\n",
       "  62.430172331195294,\n",
       "  178.3440674122349,\n",
       "  24.785216509052056],\n",
       " 4075839: [104.291825168246,\n",
       "  40.39123782853101,\n",
       "  58.51597569589465,\n",
       "  99.30622796053305,\n",
       "  130.11542024292334,\n",
       "  43.477190144355745,\n",
       "  70.10177420755677,\n",
       "  218.90434353388733],\n",
       " 486853974: [168.413702679309,\n",
       "  232.86038375993544,\n",
       "  10000.0,\n",
       "  825.2162699393922,\n",
       "  430.9475278803298,\n",
       "  257.80809942568976,\n",
       "  263.17416316163934]}"
      ]
     },
     "execution_count": 272,
     "metadata": {},
     "output_type": "execute_result"
    }
   ],
   "source": [
    "dict(itertools.islice(corresponding_unique_amount_invested_monthly_values.items(),3))"
   ]
  },
  {
   "cell_type": "markdown",
   "metadata": {},
   "source": [
    "##### Data seems random. So replacing with median wouldnot be appropiate."
   ]
  },
  {
   "cell_type": "code",
   "execution_count": 273,
   "metadata": {},
   "outputs": [
    {
     "data": {
      "text/plain": [
       "4479"
      ]
     },
     "execution_count": 273,
     "metadata": {},
     "output_type": "execute_result"
    }
   ],
   "source": [
    "df_amount_invested_monthly['Amount_invested_monthly'].isna().sum()"
   ]
  },
  {
   "attachments": {},
   "cell_type": "markdown",
   "metadata": {},
   "source": [
    "## PreProcessing Payment_Behaviour"
   ]
  },
  {
   "cell_type": "code",
   "execution_count": 283,
   "metadata": {},
   "outputs": [],
   "source": [
    "df_payment_behaviour = df_amount_invested_monthly.copy()"
   ]
  },
  {
   "cell_type": "code",
   "execution_count": 284,
   "metadata": {},
   "outputs": [
    {
     "name": "stdout",
     "output_type": "stream",
     "text": [
      "Unique Value Count :  7\n",
      "Null Value Count :  0\n"
     ]
    }
   ],
   "source": [
    "print('Unique Value Count : ',df_payment_behaviour['Payment_Behaviour'].nunique())\n",
    "print('Null Value Count : ',df_payment_behaviour['Payment_Behaviour'].isna().sum())"
   ]
  },
  {
   "cell_type": "code",
   "execution_count": 285,
   "metadata": {},
   "outputs": [
    {
     "data": {
      "text/plain": [
       "Low_spent_Small_value_payments      25513\n",
       "High_spent_Medium_value_payments    17540\n",
       "Low_spent_Medium_value_payments     13861\n",
       "High_spent_Large_value_payments     13721\n",
       "High_spent_Small_value_payments     11340\n",
       "Low_spent_Large_value_payments      10425\n",
       "!@9#%8                               7600\n",
       "Name: Payment_Behaviour, dtype: int64"
      ]
     },
     "execution_count": 285,
     "metadata": {},
     "output_type": "execute_result"
    }
   ],
   "source": [
    "df_payment_behaviour['Payment_Behaviour'].value_counts()"
   ]
  },
  {
   "cell_type": "markdown",
   "metadata": {},
   "source": [
    "### Checking Corresponding Unique_Payment_Behaviour_values."
   ]
  },
  {
   "cell_type": "code",
   "execution_count": 286,
   "metadata": {},
   "outputs": [],
   "source": [
    "corresponding_unique_payment_behaviour_values = {}\n",
    "for ssn in unique_SSN:\n",
    "    corresponding_unique_payment_behaviour_values[ssn] = list(df_payment_behaviour[df_payment_behaviour['SSN'] == ssn]['Payment_Behaviour'].unique())"
   ]
  },
  {
   "cell_type": "code",
   "execution_count": 287,
   "metadata": {},
   "outputs": [
    {
     "data": {
      "text/plain": [
       "{821000265: ['High_spent_Small_value_payments',\n",
       "  'Low_spent_Large_value_payments',\n",
       "  'Low_spent_Medium_value_payments',\n",
       "  'Low_spent_Small_value_payments',\n",
       "  'High_spent_Medium_value_payments',\n",
       "  '!@9#%8'],\n",
       " 4075839: ['Low_spent_Small_value_payments',\n",
       "  'High_spent_Large_value_payments',\n",
       "  'Low_spent_Medium_value_payments',\n",
       "  'High_spent_Medium_value_payments'],\n",
       " 486853974: ['!@9#%8',\n",
       "  'High_spent_Small_value_payments',\n",
       "  'Low_spent_Medium_value_payments',\n",
       "  'Low_spent_Large_value_payments',\n",
       "  'High_spent_Medium_value_payments'],\n",
       " 72316145: ['Low_spent_Large_value_payments',\n",
       "  'Low_spent_Small_value_payments',\n",
       "  'High_spent_Medium_value_payments',\n",
       "  'High_spent_Small_value_payments'],\n",
       " 615067821: ['!@9#%8',\n",
       "  'High_spent_Medium_value_payments',\n",
       "  'Low_spent_Medium_value_payments',\n",
       "  'High_spent_Small_value_payments',\n",
       "  'Low_spent_Small_value_payments']}"
      ]
     },
     "execution_count": 287,
     "metadata": {},
     "output_type": "execute_result"
    }
   ],
   "source": [
    "dict(itertools.islice(corresponding_unique_payment_behaviour_values.items(),5))"
   ]
  },
  {
   "attachments": {},
   "cell_type": "markdown",
   "metadata": {},
   "source": [
    "##### Couldnot find how to replace the noisy values. So will probably drop them later."
   ]
  },
  {
   "cell_type": "markdown",
   "metadata": {},
   "source": [
    "### Mapping."
   ]
  },
  {
   "cell_type": "code",
   "execution_count": 288,
   "metadata": {},
   "outputs": [],
   "source": [
    "def map_payment_behaviour(txt):\n",
    "    if txt == '!@9#%8':\n",
    "        return 'NotSpecified'\n",
    "    else:\n",
    "        return txt"
   ]
  },
  {
   "cell_type": "code",
   "execution_count": 289,
   "metadata": {},
   "outputs": [],
   "source": [
    "df_payment_behaviour['Payment_Behaviour'] = df_payment_behaviour['Payment_Behaviour'].apply(map_payment_behaviour)"
   ]
  },
  {
   "cell_type": "code",
   "execution_count": 291,
   "metadata": {},
   "outputs": [
    {
     "data": {
      "text/plain": [
       "Low_spent_Small_value_payments      25513\n",
       "High_spent_Medium_value_payments    17540\n",
       "Low_spent_Medium_value_payments     13861\n",
       "High_spent_Large_value_payments     13721\n",
       "High_spent_Small_value_payments     11340\n",
       "Low_spent_Large_value_payments      10425\n",
       "NotSpecified                         7600\n",
       "Name: Payment_Behaviour, dtype: int64"
      ]
     },
     "execution_count": 291,
     "metadata": {},
     "output_type": "execute_result"
    }
   ],
   "source": [
    "df_payment_behaviour['Payment_Behaviour'].value_counts()"
   ]
  },
  {
   "cell_type": "markdown",
   "metadata": {},
   "source": [
    "### PreProcessing Monthly_Balance"
   ]
  },
  {
   "cell_type": "code",
   "execution_count": 292,
   "metadata": {},
   "outputs": [],
   "source": [
    "df_monthly_balance = df_payment_behaviour.copy()"
   ]
  },
  {
   "cell_type": "code",
   "execution_count": 293,
   "metadata": {},
   "outputs": [
    {
     "name": "stdout",
     "output_type": "stream",
     "text": [
      "Unique Value Count : 98792\n",
      "Null Value Count : 1200\n"
     ]
    }
   ],
   "source": [
    "print('Unique Value Count :',df_monthly_balance['Monthly_Balance'].nunique())\n",
    "print('Null Value Count :',df_monthly_balance['Monthly_Balance'].isna().sum())"
   ]
  },
  {
   "cell_type": "markdown",
   "metadata": {},
   "source": [
    "### Checking Noisy Data."
   ]
  },
  {
   "cell_type": "code",
   "execution_count": 294,
   "metadata": {},
   "outputs": [],
   "source": [
    "df_monthly_balance['Monthly_Balance'].fillna('nan', inplace = True)"
   ]
  },
  {
   "cell_type": "code",
   "execution_count": 295,
   "metadata": {},
   "outputs": [
    {
     "name": "stdout",
     "output_type": "stream",
     "text": [
      "underscore_monthly_balance_limit Count :  9 || Unique underscore_monthly_balance_limit count : 1  || Example :  ['__-333333333333333333333333333__', '__-333333333333333333333333333__', '__-333333333333333333333333333__', '__-333333333333333333333333333__', '__-333333333333333333333333333__']\n"
     ]
    }
   ],
   "source": [
    "underscore_monthly_balance_limit = 0\n",
    "underscore_monthly_balance_limit_list = []\n",
    "\n",
    "for index in range(len(df_monthly_balance)):\n",
    "    try:\n",
    "        if '_' in  df_monthly_balance['Monthly_Balance'][index]:\n",
    "            underscore_monthly_balance_limit += 1\n",
    "            underscore_monthly_balance_limit_list.append(df_monthly_balance['Monthly_Balance'][index])\n",
    "    except:\n",
    "        pass        \n",
    "print(\"underscore_monthly_balance_limit Count : \",underscore_monthly_balance_limit,\"|| Unique underscore_monthly_balance_limit count :\",len(set(underscore_monthly_balance_limit_list)), \" || Example : \",underscore_monthly_balance_limit_list[0:5])"
   ]
  },
  {
   "cell_type": "markdown",
   "metadata": {},
   "source": [
    "### Handling Noisy Data."
   ]
  },
  {
   "cell_type": "code",
   "execution_count": 296,
   "metadata": {},
   "outputs": [],
   "source": [
    "for index in range(len(df_monthly_balance)):\n",
    "    try:\n",
    "        if '_' in df_monthly_balance['Monthly_Balance'][index]:\n",
    "            df_monthly_balance['Monthly_Balance'][index] = 'nan'\n",
    "    except:\n",
    "        pass"
   ]
  },
  {
   "cell_type": "markdown",
   "metadata": {},
   "source": [
    "### Checking Corresponding Unique_Monthly_Balance_Values."
   ]
  },
  {
   "cell_type": "code",
   "execution_count": 297,
   "metadata": {},
   "outputs": [],
   "source": [
    "corresponding_unique_monthly_balance_values = {}\n",
    "for ssn in unique_SSN:\n",
    "    corresponding_unique_monthly_balance_values[ssn] = list(df_monthly_balance[df_monthly_balance['SSN'] == ssn]['Monthly_Balance'].unique())"
   ]
  },
  {
   "cell_type": "code",
   "execution_count": 298,
   "metadata": {},
   "outputs": [
    {
     "data": {
      "text/plain": [
       "{821000265: ['312.49408867943663',\n",
       "  '284.62916249607184',\n",
       "  '331.2098628537912',\n",
       "  '223.45130972736786',\n",
       "  '341.48923103222177',\n",
       "  '340.4792117872438',\n",
       "  '244.5653167062043',\n",
       "  '358.12416760938714'],\n",
       " 4075839: ['470.69062692529184',\n",
       "  '484.5912142650067',\n",
       "  '466.46647639764313',\n",
       "  '465.6762241330048',\n",
       "  '444.8670318506144',\n",
       "  '481.505261949182',\n",
       "  '464.8806778859809',\n",
       "  '356.07810855965045'],\n",
       " 486853974: ['1043.3159778669492',\n",
       "  '998.8692967863226',\n",
       "  '715.741367403555',\n",
       "  '426.5134106068658',\n",
       "  '810.7821526659284',\n",
       "  '963.9215811205684',\n",
       "  '968.5555173846187',\n",
       "  '895.494583180492']}"
      ]
     },
     "execution_count": 298,
     "metadata": {},
     "output_type": "execute_result"
    }
   ],
   "source": [
    "dict(itertools.islice(corresponding_unique_monthly_balance_values.items(),3))"
   ]
  },
  {
   "attachments": {},
   "cell_type": "markdown",
   "metadata": {},
   "source": [
    "#### Filling \"nan\" values."
   ]
  },
  {
   "cell_type": "code",
   "execution_count": 299,
   "metadata": {},
   "outputs": [
    {
     "name": "stdout",
     "output_type": "stream",
     "text": [
      "Original Values\n"
     ]
    },
    {
     "data": {
      "text/plain": [
       "[295.95384132335937,\n",
       " 327.78667784262745,\n",
       " 27.301874884033168,\n",
       " 324.0195577438599,\n",
       " 356.4099009976813,\n",
       " nan,\n",
       " 316.9280131621217,\n",
       " 362.5233313219053]"
      ]
     },
     "execution_count": 299,
     "metadata": {},
     "output_type": "execute_result"
    },
    {
     "name": "stdout",
     "output_type": "stream",
     "text": [
      "------------------------\n",
      "Processed Values\n"
     ]
    },
    {
     "data": {
      "text/plain": [
       "[295.95384132335937,\n",
       " 327.78667784262745,\n",
       " 27.301874884033168,\n",
       " 324.0195577438599,\n",
       " 356.4099009976813,\n",
       " 316.9280131621217,\n",
       " 362.5233313219053]"
      ]
     },
     "execution_count": 299,
     "metadata": {},
     "output_type": "execute_result"
    },
    {
     "name": "stdout",
     "output_type": "stream",
     "text": [
      "------------------------\n",
      "Median\n"
     ]
    },
    {
     "data": {
      "text/plain": [
       "324.0195577438599"
      ]
     },
     "execution_count": 299,
     "metadata": {},
     "output_type": "execute_result"
    }
   ],
   "source": [
    "print('Original Values')\n",
    "[float(val) for val in corresponding_unique_monthly_balance_values[189095267] ]\n",
    "print('------------------------')\n",
    "print('Processed Values')\n",
    "[float(val) for val in corresponding_unique_monthly_balance_values[189095267] if val != 'nan' ]\n",
    "print('------------------------')\n",
    "print('Median')\n",
    "statistics.median([float(val) for val in corresponding_unique_monthly_balance_values[189095267] if val != 'nan' ])"
   ]
  },
  {
   "cell_type": "code",
   "execution_count": 300,
   "metadata": {},
   "outputs": [],
   "source": [
    "for index in range(len(df_monthly_balance)):\n",
    "    if df_monthly_balance['Monthly_Balance'][index] == 'nan':\n",
    "        median = statistics.median([float(val) for val in corresponding_unique_monthly_balance_values[df_monthly_balance['SSN'][index]] if val != 'nan' ])\n",
    "        df_monthly_balance['Monthly_Balance'][index] = median"
   ]
  },
  {
   "cell_type": "code",
   "execution_count": 301,
   "metadata": {},
   "outputs": [],
   "source": [
    "df_monthly_balance['Monthly_Balance'] = df_monthly_balance['Monthly_Balance'].astype(float)"
   ]
  },
  {
   "cell_type": "code",
   "execution_count": 302,
   "metadata": {},
   "outputs": [
    {
     "name": "stdout",
     "output_type": "stream",
     "text": [
      "Null Value Count : 0\n"
     ]
    }
   ],
   "source": [
    "print('Null Value Count :',df_monthly_balance['Monthly_Balance'].isna().sum())"
   ]
  },
  {
   "attachments": {},
   "cell_type": "markdown",
   "metadata": {},
   "source": [
    "## PreProcessing Credit_Score"
   ]
  },
  {
   "cell_type": "code",
   "execution_count": 303,
   "metadata": {},
   "outputs": [],
   "source": [
    "df_credit_score = df_monthly_balance.copy()"
   ]
  },
  {
   "cell_type": "code",
   "execution_count": 304,
   "metadata": {},
   "outputs": [
    {
     "data": {
      "text/plain": [
       "Standard    53174\n",
       "Poor        28998\n",
       "Good        17828\n",
       "Name: Credit_Score, dtype: int64"
      ]
     },
     "execution_count": 304,
     "metadata": {},
     "output_type": "execute_result"
    },
    {
     "name": "stdout",
     "output_type": "stream",
     "text": [
      "--------------------\n",
      "Number of NAN values\n"
     ]
    },
    {
     "data": {
      "text/plain": [
       "0"
      ]
     },
     "execution_count": 304,
     "metadata": {},
     "output_type": "execute_result"
    }
   ],
   "source": [
    "df_credit_score['Credit_Score'].value_counts()\n",
    "print('--------------------')\n",
    "print('Number of NAN values')\n",
    "df_credit_score['Credit_Score'].isna().sum()"
   ]
  },
  {
   "cell_type": "markdown",
   "metadata": {},
   "source": [
    "### Saving Data file"
   ]
  },
  {
   "cell_type": "code",
   "execution_count": 305,
   "metadata": {},
   "outputs": [],
   "source": [
    "df_final = df_credit_score.copy()"
   ]
  },
  {
   "cell_type": "code",
   "execution_count": 306,
   "metadata": {},
   "outputs": [],
   "source": [
    "df_final.to_csv('checkpoints//11_df_final.csv',index = False)"
   ]
  },
  {
   "cell_type": "code",
   "execution_count": 307,
   "metadata": {},
   "outputs": [
    {
     "name": "stdout",
     "output_type": "stream",
     "text": [
      "<class 'pandas.core.frame.DataFrame'>\n",
      "RangeIndex: 100000 entries, 0 to 99999\n",
      "Data columns (total 25 columns):\n",
      " #   Column                    Non-Null Count   Dtype  \n",
      "---  ------                    --------------   -----  \n",
      " 0   Month                     100000 non-null  object \n",
      " 1   Age                       100000 non-null  int64  \n",
      " 2   SSN                       100000 non-null  int64  \n",
      " 3   Occupation                100000 non-null  object \n",
      " 4   Annual_Income             100000 non-null  float64\n",
      " 5   Monthly_Inhand_Salary     100000 non-null  float64\n",
      " 6   Num_Bank_Accounts         100000 non-null  int64  \n",
      " 7   Num_Credit_Card           100000 non-null  int64  \n",
      " 8   Interest_Rate             100000 non-null  int64  \n",
      " 9   Num_of_Loan               100000 non-null  int64  \n",
      " 10  Type_of_Loan              100000 non-null  object \n",
      " 11  Delay_from_due_date       100000 non-null  int64  \n",
      " 12  Num_of_Delayed_Payment    100000 non-null  float64\n",
      " 13  Changed_Credit_Limit      100000 non-null  float64\n",
      " 14  Num_Credit_Inquiries      100000 non-null  float64\n",
      " 15  Credit_Mix                100000 non-null  object \n",
      " 16  Outstanding_Debt          100000 non-null  float64\n",
      " 17  Credit_Utilization_Ratio  100000 non-null  float64\n",
      " 18  Credit_History_Age        100000 non-null  int64  \n",
      " 19  Payment_of_Min_Amount     100000 non-null  object \n",
      " 20  Total_EMI_per_month       100000 non-null  float64\n",
      " 21  Amount_invested_monthly   95521 non-null   float64\n",
      " 22  Payment_Behaviour         100000 non-null  object \n",
      " 23  Monthly_Balance           100000 non-null  float64\n",
      " 24  Credit_Score              100000 non-null  object \n",
      "dtypes: float64(10), int64(8), object(7)\n",
      "memory usage: 19.1+ MB\n"
     ]
    }
   ],
   "source": [
    "df_final.info()"
   ]
  },
  {
   "cell_type": "code",
   "execution_count": 308,
   "metadata": {},
   "outputs": [
    {
     "data": {
      "text/plain": [
       "Month                          0\n",
       "Age                            0\n",
       "SSN                            0\n",
       "Occupation                     0\n",
       "Annual_Income                  0\n",
       "Monthly_Inhand_Salary          0\n",
       "Num_Bank_Accounts              0\n",
       "Num_Credit_Card                0\n",
       "Interest_Rate                  0\n",
       "Num_of_Loan                    0\n",
       "Type_of_Loan                   0\n",
       "Delay_from_due_date            0\n",
       "Num_of_Delayed_Payment         0\n",
       "Changed_Credit_Limit           0\n",
       "Num_Credit_Inquiries           0\n",
       "Credit_Mix                     0\n",
       "Outstanding_Debt               0\n",
       "Credit_Utilization_Ratio       0\n",
       "Credit_History_Age             0\n",
       "Payment_of_Min_Amount          0\n",
       "Total_EMI_per_month            0\n",
       "Amount_invested_monthly     4479\n",
       "Payment_Behaviour              0\n",
       "Monthly_Balance                0\n",
       "Credit_Score                   0\n",
       "dtype: int64"
      ]
     },
     "execution_count": 308,
     "metadata": {},
     "output_type": "execute_result"
    }
   ],
   "source": [
    "df_final.isna().sum()"
   ]
  },
  {
   "cell_type": "code",
   "execution_count": 309,
   "metadata": {},
   "outputs": [
    {
     "data": {
      "text/html": [
       "<div>\n",
       "<style scoped>\n",
       "    .dataframe tbody tr th:only-of-type {\n",
       "        vertical-align: middle;\n",
       "    }\n",
       "\n",
       "    .dataframe tbody tr th {\n",
       "        vertical-align: top;\n",
       "    }\n",
       "\n",
       "    .dataframe thead th {\n",
       "        text-align: right;\n",
       "    }\n",
       "</style>\n",
       "<table border=\"1\" class=\"dataframe\">\n",
       "  <thead>\n",
       "    <tr style=\"text-align: right;\">\n",
       "      <th></th>\n",
       "      <th>Month</th>\n",
       "      <th>Age</th>\n",
       "      <th>SSN</th>\n",
       "      <th>Occupation</th>\n",
       "      <th>Annual_Income</th>\n",
       "      <th>Monthly_Inhand_Salary</th>\n",
       "      <th>Num_Bank_Accounts</th>\n",
       "      <th>Num_Credit_Card</th>\n",
       "      <th>Interest_Rate</th>\n",
       "      <th>Num_of_Loan</th>\n",
       "      <th>...</th>\n",
       "      <th>Credit_Mix</th>\n",
       "      <th>Outstanding_Debt</th>\n",
       "      <th>Credit_Utilization_Ratio</th>\n",
       "      <th>Credit_History_Age</th>\n",
       "      <th>Payment_of_Min_Amount</th>\n",
       "      <th>Total_EMI_per_month</th>\n",
       "      <th>Amount_invested_monthly</th>\n",
       "      <th>Payment_Behaviour</th>\n",
       "      <th>Monthly_Balance</th>\n",
       "      <th>Credit_Score</th>\n",
       "    </tr>\n",
       "  </thead>\n",
       "  <tbody>\n",
       "    <tr>\n",
       "      <th>0</th>\n",
       "      <td>January</td>\n",
       "      <td>23</td>\n",
       "      <td>821000265</td>\n",
       "      <td>Scientist</td>\n",
       "      <td>19114.12</td>\n",
       "      <td>1824.843333</td>\n",
       "      <td>3</td>\n",
       "      <td>4</td>\n",
       "      <td>3</td>\n",
       "      <td>4</td>\n",
       "      <td>...</td>\n",
       "      <td>Good</td>\n",
       "      <td>809.98</td>\n",
       "      <td>26.822620</td>\n",
       "      <td>265</td>\n",
       "      <td>No</td>\n",
       "      <td>49.574949</td>\n",
       "      <td>80.415295</td>\n",
       "      <td>High_spent_Small_value_payments</td>\n",
       "      <td>312.494089</td>\n",
       "      <td>Good</td>\n",
       "    </tr>\n",
       "    <tr>\n",
       "      <th>1</th>\n",
       "      <td>February</td>\n",
       "      <td>23</td>\n",
       "      <td>821000265</td>\n",
       "      <td>Scientist</td>\n",
       "      <td>19114.12</td>\n",
       "      <td>10855.995546</td>\n",
       "      <td>3</td>\n",
       "      <td>4</td>\n",
       "      <td>3</td>\n",
       "      <td>4</td>\n",
       "      <td>...</td>\n",
       "      <td>Good</td>\n",
       "      <td>809.98</td>\n",
       "      <td>31.944960</td>\n",
       "      <td>266</td>\n",
       "      <td>No</td>\n",
       "      <td>49.574949</td>\n",
       "      <td>118.280222</td>\n",
       "      <td>Low_spent_Large_value_payments</td>\n",
       "      <td>284.629162</td>\n",
       "      <td>Good</td>\n",
       "    </tr>\n",
       "    <tr>\n",
       "      <th>2</th>\n",
       "      <td>March</td>\n",
       "      <td>23</td>\n",
       "      <td>821000265</td>\n",
       "      <td>Scientist</td>\n",
       "      <td>19114.12</td>\n",
       "      <td>10855.995546</td>\n",
       "      <td>3</td>\n",
       "      <td>4</td>\n",
       "      <td>3</td>\n",
       "      <td>4</td>\n",
       "      <td>...</td>\n",
       "      <td>Good</td>\n",
       "      <td>809.98</td>\n",
       "      <td>28.609352</td>\n",
       "      <td>267</td>\n",
       "      <td>No</td>\n",
       "      <td>49.574949</td>\n",
       "      <td>81.699521</td>\n",
       "      <td>Low_spent_Medium_value_payments</td>\n",
       "      <td>331.209863</td>\n",
       "      <td>Good</td>\n",
       "    </tr>\n",
       "    <tr>\n",
       "      <th>3</th>\n",
       "      <td>April</td>\n",
       "      <td>23</td>\n",
       "      <td>821000265</td>\n",
       "      <td>Scientist</td>\n",
       "      <td>19114.12</td>\n",
       "      <td>10855.995546</td>\n",
       "      <td>3</td>\n",
       "      <td>4</td>\n",
       "      <td>3</td>\n",
       "      <td>4</td>\n",
       "      <td>...</td>\n",
       "      <td>Good</td>\n",
       "      <td>809.98</td>\n",
       "      <td>31.377862</td>\n",
       "      <td>268</td>\n",
       "      <td>No</td>\n",
       "      <td>49.574949</td>\n",
       "      <td>199.458074</td>\n",
       "      <td>Low_spent_Small_value_payments</td>\n",
       "      <td>223.451310</td>\n",
       "      <td>Good</td>\n",
       "    </tr>\n",
       "    <tr>\n",
       "      <th>4</th>\n",
       "      <td>May</td>\n",
       "      <td>23</td>\n",
       "      <td>821000265</td>\n",
       "      <td>Scientist</td>\n",
       "      <td>19114.12</td>\n",
       "      <td>1824.843333</td>\n",
       "      <td>3</td>\n",
       "      <td>4</td>\n",
       "      <td>3</td>\n",
       "      <td>4</td>\n",
       "      <td>...</td>\n",
       "      <td>Good</td>\n",
       "      <td>809.98</td>\n",
       "      <td>24.797347</td>\n",
       "      <td>269</td>\n",
       "      <td>No</td>\n",
       "      <td>49.574949</td>\n",
       "      <td>41.420153</td>\n",
       "      <td>High_spent_Medium_value_payments</td>\n",
       "      <td>341.489231</td>\n",
       "      <td>Good</td>\n",
       "    </tr>\n",
       "  </tbody>\n",
       "</table>\n",
       "<p>5 rows × 25 columns</p>\n",
       "</div>"
      ],
      "text/plain": [
       "      Month  Age        SSN Occupation  Annual_Income  Monthly_Inhand_Salary  \\\n",
       "0   January   23  821000265  Scientist       19114.12            1824.843333   \n",
       "1  February   23  821000265  Scientist       19114.12           10855.995546   \n",
       "2     March   23  821000265  Scientist       19114.12           10855.995546   \n",
       "3     April   23  821000265  Scientist       19114.12           10855.995546   \n",
       "4       May   23  821000265  Scientist       19114.12            1824.843333   \n",
       "\n",
       "   Num_Bank_Accounts  Num_Credit_Card  Interest_Rate  Num_of_Loan  ...  \\\n",
       "0                  3                4              3            4  ...   \n",
       "1                  3                4              3            4  ...   \n",
       "2                  3                4              3            4  ...   \n",
       "3                  3                4              3            4  ...   \n",
       "4                  3                4              3            4  ...   \n",
       "\n",
       "  Credit_Mix  Outstanding_Debt  Credit_Utilization_Ratio  Credit_History_Age  \\\n",
       "0       Good            809.98                 26.822620                 265   \n",
       "1       Good            809.98                 31.944960                 266   \n",
       "2       Good            809.98                 28.609352                 267   \n",
       "3       Good            809.98                 31.377862                 268   \n",
       "4       Good            809.98                 24.797347                 269   \n",
       "\n",
       "   Payment_of_Min_Amount Total_EMI_per_month  Amount_invested_monthly  \\\n",
       "0                     No           49.574949                80.415295   \n",
       "1                     No           49.574949               118.280222   \n",
       "2                     No           49.574949                81.699521   \n",
       "3                     No           49.574949               199.458074   \n",
       "4                     No           49.574949                41.420153   \n",
       "\n",
       "                  Payment_Behaviour  Monthly_Balance Credit_Score  \n",
       "0   High_spent_Small_value_payments       312.494089         Good  \n",
       "1    Low_spent_Large_value_payments       284.629162         Good  \n",
       "2   Low_spent_Medium_value_payments       331.209863         Good  \n",
       "3    Low_spent_Small_value_payments       223.451310         Good  \n",
       "4  High_spent_Medium_value_payments       341.489231         Good  \n",
       "\n",
       "[5 rows x 25 columns]"
      ]
     },
     "execution_count": 309,
     "metadata": {},
     "output_type": "execute_result"
    }
   ],
   "source": [
    "df_final.head()"
   ]
  },
  {
   "cell_type": "code",
   "execution_count": null,
   "metadata": {},
   "outputs": [],
   "source": []
  }
 ],
 "metadata": {
  "kernelspec": {
   "display_name": "base",
   "language": "python",
   "name": "python3"
  },
  "language_info": {
   "codemirror_mode": {
    "name": "ipython",
    "version": 3
   },
   "file_extension": ".py",
   "mimetype": "text/x-python",
   "name": "python",
   "nbconvert_exporter": "python",
   "pygments_lexer": "ipython3",
   "version": "3.9.12"
  },
  "orig_nbformat": 4
 },
 "nbformat": 4,
 "nbformat_minor": 2
}
