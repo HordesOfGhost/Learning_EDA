{
 "cells": [
  {
   "cell_type": "code",
   "execution_count": 1,
   "metadata": {},
   "outputs": [],
   "source": [
    "import pandas as pd\n",
    "import numpy as np\n",
    "\n",
    "import warnings\n",
    "warnings.filterwarnings('ignore')\n",
    "import itertools\n",
    "\n",
    "from detailed_details import detailed_details\n",
    "\n",
    "from IPython.core.interactiveshell import InteractiveShell\n",
    "InteractiveShell.ast_node_interactivity = \"all\""
   ]
  },
  {
   "cell_type": "code",
   "execution_count": 2,
   "metadata": {},
   "outputs": [],
   "source": [
    "unique_SSN = []\n",
    "\n",
    "# open file and read the content in a list\n",
    "with open(r'list_files//unique_SSN.txt', 'r') as fp:\n",
    "    for line in fp:\n",
    "        # remove linebreak from a current name\n",
    "        # linebreak is the last character of each line\n",
    "        x = line[:-1]\n",
    "\n",
    "        # add current item to the list\n",
    "        unique_SSN.append(int(x))"
   ]
  },
  {
   "cell_type": "code",
   "execution_count": 17,
   "metadata": {},
   "outputs": [],
   "source": [
    "df = pd.read_csv('credit_train.csv')"
   ]
  },
  {
   "cell_type": "code",
   "execution_count": 18,
   "metadata": {},
   "outputs": [
    {
     "data": {
      "text/plain": [
       "Index(['ID', 'Customer_ID', 'Month', 'Name', 'Age', 'SSN', 'Occupation',\n",
       "       'Annual_Income', 'Monthly_Inhand_Salary', 'Num_Bank_Accounts',\n",
       "       'Num_Credit_Card', 'Interest_Rate', 'Num_of_Loan', 'Type_of_Loan',\n",
       "       'Delay_from_due_date', 'Num_of_Delayed_Payment', 'Changed_Credit_Limit',\n",
       "       'Num_Credit_Inquiries', 'Credit_Mix', 'Outstanding_Debt',\n",
       "       'Credit_Utilization_Ratio', 'Credit_History_Age',\n",
       "       'Payment_of_Min_Amount', 'Total_EMI_per_month',\n",
       "       'Amount_invested_monthly', 'Payment_Behaviour', 'Monthly_Balance',\n",
       "       'Credit_Score'],\n",
       "      dtype='object')"
      ]
     },
     "execution_count": 18,
     "metadata": {},
     "output_type": "execute_result"
    }
   ],
   "source": [
    "df.columns"
   ]
  },
  {
   "cell_type": "markdown",
   "metadata": {},
   "source": [
    "# Preprocessing"
   ]
  },
  {
   "cell_type": "code",
   "execution_count": 19,
   "metadata": {},
   "outputs": [
    {
     "data": {
      "text/html": [
       "<div>\n",
       "<style scoped>\n",
       "    .dataframe tbody tr th:only-of-type {\n",
       "        vertical-align: middle;\n",
       "    }\n",
       "\n",
       "    .dataframe tbody tr th {\n",
       "        vertical-align: top;\n",
       "    }\n",
       "\n",
       "    .dataframe thead th {\n",
       "        text-align: right;\n",
       "    }\n",
       "</style>\n",
       "<table border=\"1\" class=\"dataframe\">\n",
       "  <thead>\n",
       "    <tr style=\"text-align: right;\">\n",
       "      <th></th>\n",
       "      <th>ID</th>\n",
       "      <th>Customer_ID</th>\n",
       "      <th>Month</th>\n",
       "      <th>Name</th>\n",
       "      <th>Age</th>\n",
       "      <th>SSN</th>\n",
       "      <th>Occupation</th>\n",
       "      <th>Annual_Income</th>\n",
       "      <th>Monthly_Inhand_Salary</th>\n",
       "      <th>Num_Bank_Accounts</th>\n",
       "      <th>...</th>\n",
       "      <th>Credit_Mix</th>\n",
       "      <th>Outstanding_Debt</th>\n",
       "      <th>Credit_Utilization_Ratio</th>\n",
       "      <th>Credit_History_Age</th>\n",
       "      <th>Payment_of_Min_Amount</th>\n",
       "      <th>Total_EMI_per_month</th>\n",
       "      <th>Amount_invested_monthly</th>\n",
       "      <th>Payment_Behaviour</th>\n",
       "      <th>Monthly_Balance</th>\n",
       "      <th>Credit_Score</th>\n",
       "    </tr>\n",
       "  </thead>\n",
       "  <tbody>\n",
       "    <tr>\n",
       "      <th>0</th>\n",
       "      <td>0x1602</td>\n",
       "      <td>CUS_0xd40</td>\n",
       "      <td>January</td>\n",
       "      <td>Aaron Maashoh</td>\n",
       "      <td>23</td>\n",
       "      <td>821-00-0265</td>\n",
       "      <td>Scientist</td>\n",
       "      <td>19114.12</td>\n",
       "      <td>1824.843333</td>\n",
       "      <td>3</td>\n",
       "      <td>...</td>\n",
       "      <td>_</td>\n",
       "      <td>809.98</td>\n",
       "      <td>26.822620</td>\n",
       "      <td>22 Years and 1 Months</td>\n",
       "      <td>No</td>\n",
       "      <td>49.574949</td>\n",
       "      <td>80.41529543900253</td>\n",
       "      <td>High_spent_Small_value_payments</td>\n",
       "      <td>312.49408867943663</td>\n",
       "      <td>Good</td>\n",
       "    </tr>\n",
       "    <tr>\n",
       "      <th>1</th>\n",
       "      <td>0x1603</td>\n",
       "      <td>CUS_0xd40</td>\n",
       "      <td>February</td>\n",
       "      <td>Aaron Maashoh</td>\n",
       "      <td>23</td>\n",
       "      <td>821-00-0265</td>\n",
       "      <td>Scientist</td>\n",
       "      <td>19114.12</td>\n",
       "      <td>NaN</td>\n",
       "      <td>3</td>\n",
       "      <td>...</td>\n",
       "      <td>Good</td>\n",
       "      <td>809.98</td>\n",
       "      <td>31.944960</td>\n",
       "      <td>NaN</td>\n",
       "      <td>No</td>\n",
       "      <td>49.574949</td>\n",
       "      <td>118.28022162236736</td>\n",
       "      <td>Low_spent_Large_value_payments</td>\n",
       "      <td>284.62916249607184</td>\n",
       "      <td>Good</td>\n",
       "    </tr>\n",
       "    <tr>\n",
       "      <th>2</th>\n",
       "      <td>0x1604</td>\n",
       "      <td>CUS_0xd40</td>\n",
       "      <td>March</td>\n",
       "      <td>Aaron Maashoh</td>\n",
       "      <td>-500</td>\n",
       "      <td>821-00-0265</td>\n",
       "      <td>Scientist</td>\n",
       "      <td>19114.12</td>\n",
       "      <td>NaN</td>\n",
       "      <td>3</td>\n",
       "      <td>...</td>\n",
       "      <td>Good</td>\n",
       "      <td>809.98</td>\n",
       "      <td>28.609352</td>\n",
       "      <td>22 Years and 3 Months</td>\n",
       "      <td>No</td>\n",
       "      <td>49.574949</td>\n",
       "      <td>81.699521264648</td>\n",
       "      <td>Low_spent_Medium_value_payments</td>\n",
       "      <td>331.2098628537912</td>\n",
       "      <td>Good</td>\n",
       "    </tr>\n",
       "    <tr>\n",
       "      <th>3</th>\n",
       "      <td>0x1605</td>\n",
       "      <td>CUS_0xd40</td>\n",
       "      <td>April</td>\n",
       "      <td>Aaron Maashoh</td>\n",
       "      <td>23</td>\n",
       "      <td>821-00-0265</td>\n",
       "      <td>Scientist</td>\n",
       "      <td>19114.12</td>\n",
       "      <td>NaN</td>\n",
       "      <td>3</td>\n",
       "      <td>...</td>\n",
       "      <td>Good</td>\n",
       "      <td>809.98</td>\n",
       "      <td>31.377862</td>\n",
       "      <td>22 Years and 4 Months</td>\n",
       "      <td>No</td>\n",
       "      <td>49.574949</td>\n",
       "      <td>199.4580743910713</td>\n",
       "      <td>Low_spent_Small_value_payments</td>\n",
       "      <td>223.45130972736786</td>\n",
       "      <td>Good</td>\n",
       "    </tr>\n",
       "    <tr>\n",
       "      <th>4</th>\n",
       "      <td>0x1606</td>\n",
       "      <td>CUS_0xd40</td>\n",
       "      <td>May</td>\n",
       "      <td>Aaron Maashoh</td>\n",
       "      <td>23</td>\n",
       "      <td>821-00-0265</td>\n",
       "      <td>Scientist</td>\n",
       "      <td>19114.12</td>\n",
       "      <td>1824.843333</td>\n",
       "      <td>3</td>\n",
       "      <td>...</td>\n",
       "      <td>Good</td>\n",
       "      <td>809.98</td>\n",
       "      <td>24.797347</td>\n",
       "      <td>22 Years and 5 Months</td>\n",
       "      <td>No</td>\n",
       "      <td>49.574949</td>\n",
       "      <td>41.420153086217326</td>\n",
       "      <td>High_spent_Medium_value_payments</td>\n",
       "      <td>341.48923103222177</td>\n",
       "      <td>Good</td>\n",
       "    </tr>\n",
       "  </tbody>\n",
       "</table>\n",
       "<p>5 rows × 28 columns</p>\n",
       "</div>"
      ],
      "text/plain": [
       "       ID Customer_ID     Month           Name   Age          SSN Occupation  \\\n",
       "0  0x1602   CUS_0xd40   January  Aaron Maashoh    23  821-00-0265  Scientist   \n",
       "1  0x1603   CUS_0xd40  February  Aaron Maashoh    23  821-00-0265  Scientist   \n",
       "2  0x1604   CUS_0xd40     March  Aaron Maashoh  -500  821-00-0265  Scientist   \n",
       "3  0x1605   CUS_0xd40     April  Aaron Maashoh    23  821-00-0265  Scientist   \n",
       "4  0x1606   CUS_0xd40       May  Aaron Maashoh    23  821-00-0265  Scientist   \n",
       "\n",
       "  Annual_Income  Monthly_Inhand_Salary  Num_Bank_Accounts  ...  Credit_Mix  \\\n",
       "0      19114.12            1824.843333                  3  ...           _   \n",
       "1      19114.12                    NaN                  3  ...        Good   \n",
       "2      19114.12                    NaN                  3  ...        Good   \n",
       "3      19114.12                    NaN                  3  ...        Good   \n",
       "4      19114.12            1824.843333                  3  ...        Good   \n",
       "\n",
       "   Outstanding_Debt Credit_Utilization_Ratio     Credit_History_Age  \\\n",
       "0            809.98                26.822620  22 Years and 1 Months   \n",
       "1            809.98                31.944960                    NaN   \n",
       "2            809.98                28.609352  22 Years and 3 Months   \n",
       "3            809.98                31.377862  22 Years and 4 Months   \n",
       "4            809.98                24.797347  22 Years and 5 Months   \n",
       "\n",
       "   Payment_of_Min_Amount Total_EMI_per_month Amount_invested_monthly  \\\n",
       "0                     No           49.574949       80.41529543900253   \n",
       "1                     No           49.574949      118.28022162236736   \n",
       "2                     No           49.574949         81.699521264648   \n",
       "3                     No           49.574949       199.4580743910713   \n",
       "4                     No           49.574949      41.420153086217326   \n",
       "\n",
       "                  Payment_Behaviour     Monthly_Balance Credit_Score  \n",
       "0   High_spent_Small_value_payments  312.49408867943663         Good  \n",
       "1    Low_spent_Large_value_payments  284.62916249607184         Good  \n",
       "2   Low_spent_Medium_value_payments   331.2098628537912         Good  \n",
       "3    Low_spent_Small_value_payments  223.45130972736786         Good  \n",
       "4  High_spent_Medium_value_payments  341.48923103222177         Good  \n",
       "\n",
       "[5 rows x 28 columns]"
      ]
     },
     "execution_count": 19,
     "metadata": {},
     "output_type": "execute_result"
    }
   ],
   "source": [
    "df.head()"
   ]
  },
  {
   "attachments": {},
   "cell_type": "markdown",
   "metadata": {},
   "source": [
    "### PreProcessing ID and Customer_ID"
   ]
  },
  {
   "cell_type": "code",
   "execution_count": 20,
   "metadata": {},
   "outputs": [],
   "source": [
    "df_id = df.copy()"
   ]
  },
  {
   "cell_type": "code",
   "execution_count": 21,
   "metadata": {},
   "outputs": [
    {
     "data": {
      "text/plain": [
       "100000"
      ]
     },
     "execution_count": 21,
     "metadata": {},
     "output_type": "execute_result"
    }
   ],
   "source": [
    "df_id['ID'].nunique()"
   ]
  },
  {
   "cell_type": "markdown",
   "metadata": {},
   "source": [
    "##### As ID is unique for all values. We can drop them."
   ]
  },
  {
   "cell_type": "code",
   "execution_count": 22,
   "metadata": {},
   "outputs": [],
   "source": [
    "df_id.drop(columns = 'ID', axis = 1, inplace = True)"
   ]
  },
  {
   "cell_type": "code",
   "execution_count": 23,
   "metadata": {},
   "outputs": [
    {
     "data": {
      "text/html": [
       "<div>\n",
       "<style scoped>\n",
       "    .dataframe tbody tr th:only-of-type {\n",
       "        vertical-align: middle;\n",
       "    }\n",
       "\n",
       "    .dataframe tbody tr th {\n",
       "        vertical-align: top;\n",
       "    }\n",
       "\n",
       "    .dataframe thead th {\n",
       "        text-align: right;\n",
       "    }\n",
       "</style>\n",
       "<table border=\"1\" class=\"dataframe\">\n",
       "  <thead>\n",
       "    <tr style=\"text-align: right;\">\n",
       "      <th></th>\n",
       "      <th>Customer_ID</th>\n",
       "      <th>Month</th>\n",
       "      <th>Name</th>\n",
       "      <th>Age</th>\n",
       "      <th>SSN</th>\n",
       "      <th>Occupation</th>\n",
       "      <th>Annual_Income</th>\n",
       "      <th>Monthly_Inhand_Salary</th>\n",
       "      <th>Num_Bank_Accounts</th>\n",
       "      <th>Num_Credit_Card</th>\n",
       "      <th>...</th>\n",
       "      <th>Credit_Mix</th>\n",
       "      <th>Outstanding_Debt</th>\n",
       "      <th>Credit_Utilization_Ratio</th>\n",
       "      <th>Credit_History_Age</th>\n",
       "      <th>Payment_of_Min_Amount</th>\n",
       "      <th>Total_EMI_per_month</th>\n",
       "      <th>Amount_invested_monthly</th>\n",
       "      <th>Payment_Behaviour</th>\n",
       "      <th>Monthly_Balance</th>\n",
       "      <th>Credit_Score</th>\n",
       "    </tr>\n",
       "  </thead>\n",
       "  <tbody>\n",
       "    <tr>\n",
       "      <th>0</th>\n",
       "      <td>CUS_0xd40</td>\n",
       "      <td>January</td>\n",
       "      <td>Aaron Maashoh</td>\n",
       "      <td>23</td>\n",
       "      <td>821-00-0265</td>\n",
       "      <td>Scientist</td>\n",
       "      <td>19114.12</td>\n",
       "      <td>1824.843333</td>\n",
       "      <td>3</td>\n",
       "      <td>4</td>\n",
       "      <td>...</td>\n",
       "      <td>_</td>\n",
       "      <td>809.98</td>\n",
       "      <td>26.822620</td>\n",
       "      <td>22 Years and 1 Months</td>\n",
       "      <td>No</td>\n",
       "      <td>49.574949</td>\n",
       "      <td>80.41529543900253</td>\n",
       "      <td>High_spent_Small_value_payments</td>\n",
       "      <td>312.49408867943663</td>\n",
       "      <td>Good</td>\n",
       "    </tr>\n",
       "    <tr>\n",
       "      <th>1</th>\n",
       "      <td>CUS_0xd40</td>\n",
       "      <td>February</td>\n",
       "      <td>Aaron Maashoh</td>\n",
       "      <td>23</td>\n",
       "      <td>821-00-0265</td>\n",
       "      <td>Scientist</td>\n",
       "      <td>19114.12</td>\n",
       "      <td>NaN</td>\n",
       "      <td>3</td>\n",
       "      <td>4</td>\n",
       "      <td>...</td>\n",
       "      <td>Good</td>\n",
       "      <td>809.98</td>\n",
       "      <td>31.944960</td>\n",
       "      <td>NaN</td>\n",
       "      <td>No</td>\n",
       "      <td>49.574949</td>\n",
       "      <td>118.28022162236736</td>\n",
       "      <td>Low_spent_Large_value_payments</td>\n",
       "      <td>284.62916249607184</td>\n",
       "      <td>Good</td>\n",
       "    </tr>\n",
       "    <tr>\n",
       "      <th>2</th>\n",
       "      <td>CUS_0xd40</td>\n",
       "      <td>March</td>\n",
       "      <td>Aaron Maashoh</td>\n",
       "      <td>-500</td>\n",
       "      <td>821-00-0265</td>\n",
       "      <td>Scientist</td>\n",
       "      <td>19114.12</td>\n",
       "      <td>NaN</td>\n",
       "      <td>3</td>\n",
       "      <td>4</td>\n",
       "      <td>...</td>\n",
       "      <td>Good</td>\n",
       "      <td>809.98</td>\n",
       "      <td>28.609352</td>\n",
       "      <td>22 Years and 3 Months</td>\n",
       "      <td>No</td>\n",
       "      <td>49.574949</td>\n",
       "      <td>81.699521264648</td>\n",
       "      <td>Low_spent_Medium_value_payments</td>\n",
       "      <td>331.2098628537912</td>\n",
       "      <td>Good</td>\n",
       "    </tr>\n",
       "    <tr>\n",
       "      <th>3</th>\n",
       "      <td>CUS_0xd40</td>\n",
       "      <td>April</td>\n",
       "      <td>Aaron Maashoh</td>\n",
       "      <td>23</td>\n",
       "      <td>821-00-0265</td>\n",
       "      <td>Scientist</td>\n",
       "      <td>19114.12</td>\n",
       "      <td>NaN</td>\n",
       "      <td>3</td>\n",
       "      <td>4</td>\n",
       "      <td>...</td>\n",
       "      <td>Good</td>\n",
       "      <td>809.98</td>\n",
       "      <td>31.377862</td>\n",
       "      <td>22 Years and 4 Months</td>\n",
       "      <td>No</td>\n",
       "      <td>49.574949</td>\n",
       "      <td>199.4580743910713</td>\n",
       "      <td>Low_spent_Small_value_payments</td>\n",
       "      <td>223.45130972736786</td>\n",
       "      <td>Good</td>\n",
       "    </tr>\n",
       "    <tr>\n",
       "      <th>4</th>\n",
       "      <td>CUS_0xd40</td>\n",
       "      <td>May</td>\n",
       "      <td>Aaron Maashoh</td>\n",
       "      <td>23</td>\n",
       "      <td>821-00-0265</td>\n",
       "      <td>Scientist</td>\n",
       "      <td>19114.12</td>\n",
       "      <td>1824.843333</td>\n",
       "      <td>3</td>\n",
       "      <td>4</td>\n",
       "      <td>...</td>\n",
       "      <td>Good</td>\n",
       "      <td>809.98</td>\n",
       "      <td>24.797347</td>\n",
       "      <td>22 Years and 5 Months</td>\n",
       "      <td>No</td>\n",
       "      <td>49.574949</td>\n",
       "      <td>41.420153086217326</td>\n",
       "      <td>High_spent_Medium_value_payments</td>\n",
       "      <td>341.48923103222177</td>\n",
       "      <td>Good</td>\n",
       "    </tr>\n",
       "  </tbody>\n",
       "</table>\n",
       "<p>5 rows × 27 columns</p>\n",
       "</div>"
      ],
      "text/plain": [
       "  Customer_ID     Month           Name   Age          SSN Occupation  \\\n",
       "0   CUS_0xd40   January  Aaron Maashoh    23  821-00-0265  Scientist   \n",
       "1   CUS_0xd40  February  Aaron Maashoh    23  821-00-0265  Scientist   \n",
       "2   CUS_0xd40     March  Aaron Maashoh  -500  821-00-0265  Scientist   \n",
       "3   CUS_0xd40     April  Aaron Maashoh    23  821-00-0265  Scientist   \n",
       "4   CUS_0xd40       May  Aaron Maashoh    23  821-00-0265  Scientist   \n",
       "\n",
       "  Annual_Income  Monthly_Inhand_Salary  Num_Bank_Accounts  Num_Credit_Card  \\\n",
       "0      19114.12            1824.843333                  3                4   \n",
       "1      19114.12                    NaN                  3                4   \n",
       "2      19114.12                    NaN                  3                4   \n",
       "3      19114.12                    NaN                  3                4   \n",
       "4      19114.12            1824.843333                  3                4   \n",
       "\n",
       "   ...  Credit_Mix Outstanding_Debt Credit_Utilization_Ratio  \\\n",
       "0  ...           _           809.98                26.822620   \n",
       "1  ...        Good           809.98                31.944960   \n",
       "2  ...        Good           809.98                28.609352   \n",
       "3  ...        Good           809.98                31.377862   \n",
       "4  ...        Good           809.98                24.797347   \n",
       "\n",
       "      Credit_History_Age Payment_of_Min_Amount Total_EMI_per_month  \\\n",
       "0  22 Years and 1 Months                    No           49.574949   \n",
       "1                    NaN                    No           49.574949   \n",
       "2  22 Years and 3 Months                    No           49.574949   \n",
       "3  22 Years and 4 Months                    No           49.574949   \n",
       "4  22 Years and 5 Months                    No           49.574949   \n",
       "\n",
       "   Amount_invested_monthly                 Payment_Behaviour  \\\n",
       "0        80.41529543900253   High_spent_Small_value_payments   \n",
       "1       118.28022162236736    Low_spent_Large_value_payments   \n",
       "2          81.699521264648   Low_spent_Medium_value_payments   \n",
       "3        199.4580743910713    Low_spent_Small_value_payments   \n",
       "4       41.420153086217326  High_spent_Medium_value_payments   \n",
       "\n",
       "      Monthly_Balance  Credit_Score  \n",
       "0  312.49408867943663          Good  \n",
       "1  284.62916249607184          Good  \n",
       "2   331.2098628537912          Good  \n",
       "3  223.45130972736786          Good  \n",
       "4  341.48923103222177          Good  \n",
       "\n",
       "[5 rows x 27 columns]"
      ]
     },
     "execution_count": 23,
     "metadata": {},
     "output_type": "execute_result"
    }
   ],
   "source": [
    "df_id.head()"
   ]
  },
  {
   "attachments": {},
   "cell_type": "markdown",
   "metadata": {},
   "source": [
    "Customer_ID, Name, SSN all seems to be same"
   ]
  },
  {
   "cell_type": "code",
   "execution_count": 24,
   "metadata": {},
   "outputs": [
    {
     "data": {
      "text/plain": [
       "12500"
      ]
     },
     "execution_count": 24,
     "metadata": {},
     "output_type": "execute_result"
    },
    {
     "data": {
      "text/plain": [
       "12501"
      ]
     },
     "execution_count": 24,
     "metadata": {},
     "output_type": "execute_result"
    }
   ],
   "source": [
    "df_id['Customer_ID'].nunique()\n",
    "df_id[\"SSN\"].nunique()"
   ]
  },
  {
   "attachments": {},
   "cell_type": "markdown",
   "metadata": {},
   "source": [
    "Check How many unique SSN each customer_ID has"
   ]
  },
  {
   "cell_type": "code",
   "execution_count": 25,
   "metadata": {},
   "outputs": [
    {
     "data": {
      "text/plain": [
       "Customer_ID  SSN        \n",
       "CUS_0x1000   913-74-1218    [913-74-1218]\n",
       "CUS_0x1009   #F%$D@*&8        [#F%$D@*&8]\n",
       "             063-67-6938    [063-67-6938]\n",
       "CUS_0x100b   #F%$D@*&8        [#F%$D@*&8]\n",
       "             238-62-0395    [238-62-0395]\n",
       "                                ...      \n",
       "CUS_0xff3    726-35-5322    [726-35-5322]\n",
       "CUS_0xff4    655-05-7666    [655-05-7666]\n",
       "CUS_0xff6    541-92-8371    [541-92-8371]\n",
       "CUS_0xffc    226-86-7294    [226-86-7294]\n",
       "CUS_0xffd    832-88-8320    [832-88-8320]\n",
       "Name: SSN, Length: 17115, dtype: object"
      ]
     },
     "execution_count": 25,
     "metadata": {},
     "output_type": "execute_result"
    }
   ],
   "source": [
    "df_id.groupby(['Customer_ID', 'SSN'])['SSN'].unique()"
   ]
  },
  {
   "cell_type": "code",
   "execution_count": 26,
   "metadata": {},
   "outputs": [
    {
     "data": {
      "text/plain": [
       "['821-00-0265', '#F%$D@*&8']"
      ]
     },
     "execution_count": 26,
     "metadata": {},
     "output_type": "execute_result"
    }
   ],
   "source": [
    "unique_values = list(df_id[df_id['Customer_ID'] == 'CUS_0xd40']['SSN'].unique())\n",
    "unique_values"
   ]
  },
  {
   "cell_type": "markdown",
   "metadata": {},
   "source": [
    "Each Customer_ID seems to have a unique SSN except for some noisy data (#F%$D@*&8)"
   ]
  },
  {
   "cell_type": "markdown",
   "metadata": {},
   "source": [
    "### PreProcessing SSN"
   ]
  },
  {
   "cell_type": "code",
   "execution_count": 27,
   "metadata": {},
   "outputs": [],
   "source": [
    "df_ssn = df_id.copy()"
   ]
  },
  {
   "cell_type": "code",
   "execution_count": 28,
   "metadata": {},
   "outputs": [
    {
     "data": {
      "text/plain": [
       "5572"
      ]
     },
     "execution_count": 28,
     "metadata": {},
     "output_type": "execute_result"
    }
   ],
   "source": [
    "(df_ssn[\"SSN\"] == '#F%$D@*&8').sum()"
   ]
  },
  {
   "cell_type": "code",
   "execution_count": 29,
   "metadata": {},
   "outputs": [],
   "source": [
    "corresponding_unique_ssn_values = {}"
   ]
  },
  {
   "cell_type": "code",
   "execution_count": 30,
   "metadata": {},
   "outputs": [],
   "source": [
    "unique_customer_id = list(df_ssn['Customer_ID'].unique())"
   ]
  },
  {
   "cell_type": "code",
   "execution_count": 31,
   "metadata": {},
   "outputs": [
    {
     "data": {
      "text/plain": [
       "['821-00-0265', '#F%$D@*&8']"
      ]
     },
     "execution_count": 31,
     "metadata": {},
     "output_type": "execute_result"
    }
   ],
   "source": [
    "list(df_ssn[df_ssn['Customer_ID'] == 'CUS_0xd40']['SSN'].unique())"
   ]
  },
  {
   "cell_type": "markdown",
   "metadata": {},
   "source": [
    "Replace SSN according to corresponding Customer_ID"
   ]
  },
  {
   "cell_type": "code",
   "execution_count": 32,
   "metadata": {},
   "outputs": [],
   "source": [
    "for id in unique_customer_id:\n",
    "    corresponding_unique_ssn_values[id] = list(df_ssn[df_ssn['Customer_ID'] == id]['SSN'].unique())"
   ]
  },
  {
   "cell_type": "code",
   "execution_count": 33,
   "metadata": {},
   "outputs": [
    {
     "data": {
      "text/plain": [
       "{'CUS_0xd40': ['821-00-0265', '#F%$D@*&8'],\n",
       " 'CUS_0x21b1': ['004-07-5839'],\n",
       " 'CUS_0x2dbc': ['486-85-3974'],\n",
       " 'CUS_0xb891': ['072-31-6145', '#F%$D@*&8'],\n",
       " 'CUS_0x1cdb': ['615-06-7821']}"
      ]
     },
     "execution_count": 33,
     "metadata": {},
     "output_type": "execute_result"
    }
   ],
   "source": [
    "dict(itertools.islice(corresponding_unique_ssn_values.items(), 5))"
   ]
  },
  {
   "cell_type": "code",
   "execution_count": 34,
   "metadata": {},
   "outputs": [
    {
     "data": {
      "text/plain": [
       "5572"
      ]
     },
     "execution_count": 34,
     "metadata": {},
     "output_type": "execute_result"
    },
    {
     "data": {
      "text/plain": [
       "5572"
      ]
     },
     "execution_count": 34,
     "metadata": {},
     "output_type": "execute_result"
    }
   ],
   "source": [
    "(df_ssn['SSN'] == '#F%$D@*&8').sum()\n",
    "\n",
    "count = 0\n",
    "for i in range(len(df_ssn)):\n",
    "    if(df_ssn['SSN'][i].startswith('#')):\n",
    "        count += 1 \n",
    "count"
   ]
  },
  {
   "cell_type": "code",
   "execution_count": 35,
   "metadata": {},
   "outputs": [
    {
     "data": {
      "text/plain": [
       "['821-00-0265']"
      ]
     },
     "execution_count": 35,
     "metadata": {},
     "output_type": "execute_result"
    },
    {
     "data": {
      "text/plain": [
       "['821-00-0265']"
      ]
     },
     "execution_count": 35,
     "metadata": {},
     "output_type": "execute_result"
    }
   ],
   "source": [
    "[val for val in corresponding_unique_ssn_values[df_ssn['Customer_ID'][0]] if not val.startswith('#')]\n",
    "[val for val in corresponding_unique_ssn_values['CUS_0xd40'] if not val.startswith('#')]"
   ]
  },
  {
   "attachments": {},
   "cell_type": "markdown",
   "metadata": {},
   "source": [
    "We can thus deduce that all noisy data starts with \"#\""
   ]
  },
  {
   "attachments": {},
   "cell_type": "markdown",
   "metadata": {},
   "source": [
    "Replacing values of noisy data"
   ]
  },
  {
   "cell_type": "code",
   "execution_count": 36,
   "metadata": {},
   "outputs": [],
   "source": [
    "for index in range(len(df_ssn)):\n",
    "    if df_ssn['SSN'][index].startswith('#'):\n",
    "        df_ssn['SSN'][index] = [val for val in corresponding_unique_ssn_values[df_ssn['Customer_ID'][index]] if not val.startswith('#')][0]"
   ]
  },
  {
   "cell_type": "code",
   "execution_count": null,
   "metadata": {},
   "outputs": [
    {
     "data": {
      "text/html": [
       "<div>\n",
       "<style scoped>\n",
       "    .dataframe tbody tr th:only-of-type {\n",
       "        vertical-align: middle;\n",
       "    }\n",
       "\n",
       "    .dataframe tbody tr th {\n",
       "        vertical-align: top;\n",
       "    }\n",
       "\n",
       "    .dataframe thead th {\n",
       "        text-align: right;\n",
       "    }\n",
       "</style>\n",
       "<table border=\"1\" class=\"dataframe\">\n",
       "  <thead>\n",
       "    <tr style=\"text-align: right;\">\n",
       "      <th></th>\n",
       "      <th>Customer_ID</th>\n",
       "      <th>Month</th>\n",
       "      <th>Name</th>\n",
       "      <th>Age</th>\n",
       "      <th>SSN</th>\n",
       "      <th>Occupation</th>\n",
       "      <th>Annual_Income</th>\n",
       "      <th>Monthly_Inhand_Salary</th>\n",
       "      <th>Num_Bank_Accounts</th>\n",
       "      <th>Num_Credit_Card</th>\n",
       "      <th>...</th>\n",
       "      <th>Credit_Mix</th>\n",
       "      <th>Outstanding_Debt</th>\n",
       "      <th>Credit_Utilization_Ratio</th>\n",
       "      <th>Credit_History_Age</th>\n",
       "      <th>Payment_of_Min_Amount</th>\n",
       "      <th>Total_EMI_per_month</th>\n",
       "      <th>Amount_invested_monthly</th>\n",
       "      <th>Payment_Behaviour</th>\n",
       "      <th>Monthly_Balance</th>\n",
       "      <th>Credit_Score</th>\n",
       "    </tr>\n",
       "  </thead>\n",
       "  <tbody>\n",
       "    <tr>\n",
       "      <th>0</th>\n",
       "      <td>CUS_0xd40</td>\n",
       "      <td>January</td>\n",
       "      <td>Aaron Maashoh</td>\n",
       "      <td>23</td>\n",
       "      <td>821-00-0265</td>\n",
       "      <td>Scientist</td>\n",
       "      <td>19114.12</td>\n",
       "      <td>1824.843333</td>\n",
       "      <td>3</td>\n",
       "      <td>4</td>\n",
       "      <td>...</td>\n",
       "      <td>_</td>\n",
       "      <td>809.98</td>\n",
       "      <td>26.822620</td>\n",
       "      <td>22 Years and 1 Months</td>\n",
       "      <td>No</td>\n",
       "      <td>49.574949</td>\n",
       "      <td>80.41529543900253</td>\n",
       "      <td>High_spent_Small_value_payments</td>\n",
       "      <td>312.49408867943663</td>\n",
       "      <td>Good</td>\n",
       "    </tr>\n",
       "    <tr>\n",
       "      <th>1</th>\n",
       "      <td>CUS_0xd40</td>\n",
       "      <td>February</td>\n",
       "      <td>Aaron Maashoh</td>\n",
       "      <td>23</td>\n",
       "      <td>821-00-0265</td>\n",
       "      <td>Scientist</td>\n",
       "      <td>19114.12</td>\n",
       "      <td>NaN</td>\n",
       "      <td>3</td>\n",
       "      <td>4</td>\n",
       "      <td>...</td>\n",
       "      <td>Good</td>\n",
       "      <td>809.98</td>\n",
       "      <td>31.944960</td>\n",
       "      <td>NaN</td>\n",
       "      <td>No</td>\n",
       "      <td>49.574949</td>\n",
       "      <td>118.28022162236736</td>\n",
       "      <td>Low_spent_Large_value_payments</td>\n",
       "      <td>284.62916249607184</td>\n",
       "      <td>Good</td>\n",
       "    </tr>\n",
       "    <tr>\n",
       "      <th>2</th>\n",
       "      <td>CUS_0xd40</td>\n",
       "      <td>March</td>\n",
       "      <td>Aaron Maashoh</td>\n",
       "      <td>-500</td>\n",
       "      <td>821-00-0265</td>\n",
       "      <td>Scientist</td>\n",
       "      <td>19114.12</td>\n",
       "      <td>NaN</td>\n",
       "      <td>3</td>\n",
       "      <td>4</td>\n",
       "      <td>...</td>\n",
       "      <td>Good</td>\n",
       "      <td>809.98</td>\n",
       "      <td>28.609352</td>\n",
       "      <td>22 Years and 3 Months</td>\n",
       "      <td>No</td>\n",
       "      <td>49.574949</td>\n",
       "      <td>81.699521264648</td>\n",
       "      <td>Low_spent_Medium_value_payments</td>\n",
       "      <td>331.2098628537912</td>\n",
       "      <td>Good</td>\n",
       "    </tr>\n",
       "    <tr>\n",
       "      <th>3</th>\n",
       "      <td>CUS_0xd40</td>\n",
       "      <td>April</td>\n",
       "      <td>Aaron Maashoh</td>\n",
       "      <td>23</td>\n",
       "      <td>821-00-0265</td>\n",
       "      <td>Scientist</td>\n",
       "      <td>19114.12</td>\n",
       "      <td>NaN</td>\n",
       "      <td>3</td>\n",
       "      <td>4</td>\n",
       "      <td>...</td>\n",
       "      <td>Good</td>\n",
       "      <td>809.98</td>\n",
       "      <td>31.377862</td>\n",
       "      <td>22 Years and 4 Months</td>\n",
       "      <td>No</td>\n",
       "      <td>49.574949</td>\n",
       "      <td>199.4580743910713</td>\n",
       "      <td>Low_spent_Small_value_payments</td>\n",
       "      <td>223.45130972736786</td>\n",
       "      <td>Good</td>\n",
       "    </tr>\n",
       "    <tr>\n",
       "      <th>4</th>\n",
       "      <td>CUS_0xd40</td>\n",
       "      <td>May</td>\n",
       "      <td>Aaron Maashoh</td>\n",
       "      <td>23</td>\n",
       "      <td>821-00-0265</td>\n",
       "      <td>Scientist</td>\n",
       "      <td>19114.12</td>\n",
       "      <td>1824.843333</td>\n",
       "      <td>3</td>\n",
       "      <td>4</td>\n",
       "      <td>...</td>\n",
       "      <td>Good</td>\n",
       "      <td>809.98</td>\n",
       "      <td>24.797347</td>\n",
       "      <td>22 Years and 5 Months</td>\n",
       "      <td>No</td>\n",
       "      <td>49.574949</td>\n",
       "      <td>41.420153086217326</td>\n",
       "      <td>High_spent_Medium_value_payments</td>\n",
       "      <td>341.48923103222177</td>\n",
       "      <td>Good</td>\n",
       "    </tr>\n",
       "  </tbody>\n",
       "</table>\n",
       "<p>5 rows × 27 columns</p>\n",
       "</div>"
      ],
      "text/plain": [
       "  Customer_ID     Month           Name   Age          SSN Occupation  \\\n",
       "0   CUS_0xd40   January  Aaron Maashoh    23  821-00-0265  Scientist   \n",
       "1   CUS_0xd40  February  Aaron Maashoh    23  821-00-0265  Scientist   \n",
       "2   CUS_0xd40     March  Aaron Maashoh  -500  821-00-0265  Scientist   \n",
       "3   CUS_0xd40     April  Aaron Maashoh    23  821-00-0265  Scientist   \n",
       "4   CUS_0xd40       May  Aaron Maashoh    23  821-00-0265  Scientist   \n",
       "\n",
       "  Annual_Income  Monthly_Inhand_Salary  Num_Bank_Accounts  Num_Credit_Card  \\\n",
       "0      19114.12            1824.843333                  3                4   \n",
       "1      19114.12                    NaN                  3                4   \n",
       "2      19114.12                    NaN                  3                4   \n",
       "3      19114.12                    NaN                  3                4   \n",
       "4      19114.12            1824.843333                  3                4   \n",
       "\n",
       "   ...  Credit_Mix Outstanding_Debt Credit_Utilization_Ratio  \\\n",
       "0  ...           _           809.98                26.822620   \n",
       "1  ...        Good           809.98                31.944960   \n",
       "2  ...        Good           809.98                28.609352   \n",
       "3  ...        Good           809.98                31.377862   \n",
       "4  ...        Good           809.98                24.797347   \n",
       "\n",
       "      Credit_History_Age Payment_of_Min_Amount Total_EMI_per_month  \\\n",
       "0  22 Years and 1 Months                    No           49.574949   \n",
       "1                    NaN                    No           49.574949   \n",
       "2  22 Years and 3 Months                    No           49.574949   \n",
       "3  22 Years and 4 Months                    No           49.574949   \n",
       "4  22 Years and 5 Months                    No           49.574949   \n",
       "\n",
       "   Amount_invested_monthly                 Payment_Behaviour  \\\n",
       "0        80.41529543900253   High_spent_Small_value_payments   \n",
       "1       118.28022162236736    Low_spent_Large_value_payments   \n",
       "2          81.699521264648   Low_spent_Medium_value_payments   \n",
       "3        199.4580743910713    Low_spent_Small_value_payments   \n",
       "4       41.420153086217326  High_spent_Medium_value_payments   \n",
       "\n",
       "      Monthly_Balance  Credit_Score  \n",
       "0  312.49408867943663          Good  \n",
       "1  284.62916249607184          Good  \n",
       "2   331.2098628537912          Good  \n",
       "3  223.45130972736786          Good  \n",
       "4  341.48923103222177          Good  \n",
       "\n",
       "[5 rows x 27 columns]"
      ]
     },
     "execution_count": 28,
     "metadata": {},
     "output_type": "execute_result"
    }
   ],
   "source": [
    "df_ssn.head()"
   ]
  },
  {
   "cell_type": "code",
   "execution_count": null,
   "metadata": {},
   "outputs": [
    {
     "data": {
      "text/plain": [
       "{'CUS_0xd40': ['821-00-0265'],\n",
       " 'CUS_0x21b1': ['004-07-5839'],\n",
       " 'CUS_0x2dbc': ['486-85-3974'],\n",
       " 'CUS_0xb891': ['072-31-6145'],\n",
       " 'CUS_0x1cdb': ['615-06-7821']}"
      ]
     },
     "execution_count": 29,
     "metadata": {},
     "output_type": "execute_result"
    }
   ],
   "source": [
    "for id in unique_customer_id:\n",
    "    corresponding_unique_ssn_values[id] = list(df_ssn[df_ssn['Customer_ID'] == id]['SSN'].unique())\n",
    "dict(itertools.islice(corresponding_unique_ssn_values.items(), 5))"
   ]
  },
  {
   "cell_type": "markdown",
   "metadata": {},
   "source": [
    "making SSN more Readable by replacing - with empty value and making it a int value"
   ]
  },
  {
   "cell_type": "code",
   "execution_count": null,
   "metadata": {},
   "outputs": [],
   "source": [
    "for index in range(len(df_ssn)):\n",
    "    df_ssn['SSN'][index] = int (df_ssn['SSN'][index].replace('-',''))\n",
    "    "
   ]
  },
  {
   "cell_type": "code",
   "execution_count": null,
   "metadata": {},
   "outputs": [
    {
     "data": {
      "text/plain": [
       "12500"
      ]
     },
     "execution_count": 47,
     "metadata": {},
     "output_type": "execute_result"
    }
   ],
   "source": [
    "df_ssn['SSN'].nunique()"
   ]
  },
  {
   "attachments": {},
   "cell_type": "markdown",
   "metadata": {},
   "source": [
    "Now dropping column Customer_ID because each row can now be identified by ssn"
   ]
  },
  {
   "cell_type": "code",
   "execution_count": null,
   "metadata": {},
   "outputs": [],
   "source": [
    "df_ssn.drop(columns = ['Customer_ID'],axis = 1, inplace = True)"
   ]
  },
  {
   "cell_type": "code",
   "execution_count": null,
   "metadata": {},
   "outputs": [],
   "source": [
    "df_ssn.to_csv('checkpoints//df_ssn.csv',index = False )"
   ]
  },
  {
   "cell_type": "markdown",
   "metadata": {},
   "source": [
    "### PreProcessing Month"
   ]
  },
  {
   "cell_type": "code",
   "execution_count": 2,
   "metadata": {},
   "outputs": [],
   "source": [
    "df_month = pd.read_csv('checkpoints//df_ssn.csv')"
   ]
  },
  {
   "cell_type": "code",
   "execution_count": 3,
   "metadata": {},
   "outputs": [
    {
     "data": {
      "text/plain": [
       "January     12500\n",
       "February    12500\n",
       "March       12500\n",
       "April       12500\n",
       "May         12500\n",
       "June        12500\n",
       "July        12500\n",
       "August      12500\n",
       "Name: Month, dtype: int64"
      ]
     },
     "execution_count": 3,
     "metadata": {},
     "output_type": "execute_result"
    }
   ],
   "source": [
    "df_month['Month'].value_counts()"
   ]
  },
  {
   "cell_type": "markdown",
   "metadata": {},
   "source": [
    "Leaving months as it is for now"
   ]
  },
  {
   "attachments": {},
   "cell_type": "markdown",
   "metadata": {},
   "source": [
    "### PreProcessing Name"
   ]
  },
  {
   "cell_type": "code",
   "execution_count": 3,
   "metadata": {},
   "outputs": [],
   "source": [
    "df_name = df_month.copy()"
   ]
  },
  {
   "cell_type": "code",
   "execution_count": 4,
   "metadata": {},
   "outputs": [
    {
     "data": {
      "text/plain": [
       "10139"
      ]
     },
     "execution_count": 4,
     "metadata": {},
     "output_type": "execute_result"
    }
   ],
   "source": [
    "df_name['Name'].nunique()"
   ]
  },
  {
   "cell_type": "markdown",
   "metadata": {},
   "source": [
    "name maynot be that relevant so dropping"
   ]
  },
  {
   "cell_type": "code",
   "execution_count": 5,
   "metadata": {},
   "outputs": [],
   "source": [
    "df_name.drop(columns = ['Name'], axis = 1, inplace = True)"
   ]
  },
  {
   "cell_type": "code",
   "execution_count": 6,
   "metadata": {},
   "outputs": [
    {
     "data": {
      "text/html": [
       "<div>\n",
       "<style scoped>\n",
       "    .dataframe tbody tr th:only-of-type {\n",
       "        vertical-align: middle;\n",
       "    }\n",
       "\n",
       "    .dataframe tbody tr th {\n",
       "        vertical-align: top;\n",
       "    }\n",
       "\n",
       "    .dataframe thead th {\n",
       "        text-align: right;\n",
       "    }\n",
       "</style>\n",
       "<table border=\"1\" class=\"dataframe\">\n",
       "  <thead>\n",
       "    <tr style=\"text-align: right;\">\n",
       "      <th></th>\n",
       "      <th>Month</th>\n",
       "      <th>Age</th>\n",
       "      <th>SSN</th>\n",
       "      <th>Occupation</th>\n",
       "      <th>Annual_Income</th>\n",
       "      <th>Monthly_Inhand_Salary</th>\n",
       "      <th>Num_Bank_Accounts</th>\n",
       "      <th>Num_Credit_Card</th>\n",
       "      <th>Interest_Rate</th>\n",
       "      <th>Num_of_Loan</th>\n",
       "      <th>...</th>\n",
       "      <th>Credit_Mix</th>\n",
       "      <th>Outstanding_Debt</th>\n",
       "      <th>Credit_Utilization_Ratio</th>\n",
       "      <th>Credit_History_Age</th>\n",
       "      <th>Payment_of_Min_Amount</th>\n",
       "      <th>Total_EMI_per_month</th>\n",
       "      <th>Amount_invested_monthly</th>\n",
       "      <th>Payment_Behaviour</th>\n",
       "      <th>Monthly_Balance</th>\n",
       "      <th>Credit_Score</th>\n",
       "    </tr>\n",
       "  </thead>\n",
       "  <tbody>\n",
       "    <tr>\n",
       "      <th>0</th>\n",
       "      <td>January</td>\n",
       "      <td>23</td>\n",
       "      <td>821000265</td>\n",
       "      <td>Scientist</td>\n",
       "      <td>19114.12</td>\n",
       "      <td>1824.843333</td>\n",
       "      <td>3</td>\n",
       "      <td>4</td>\n",
       "      <td>3</td>\n",
       "      <td>4</td>\n",
       "      <td>...</td>\n",
       "      <td>_</td>\n",
       "      <td>809.98</td>\n",
       "      <td>26.822620</td>\n",
       "      <td>22 Years and 1 Months</td>\n",
       "      <td>No</td>\n",
       "      <td>49.574949</td>\n",
       "      <td>80.41529543900253</td>\n",
       "      <td>High_spent_Small_value_payments</td>\n",
       "      <td>312.49408867943663</td>\n",
       "      <td>Good</td>\n",
       "    </tr>\n",
       "    <tr>\n",
       "      <th>1</th>\n",
       "      <td>February</td>\n",
       "      <td>23</td>\n",
       "      <td>821000265</td>\n",
       "      <td>Scientist</td>\n",
       "      <td>19114.12</td>\n",
       "      <td>NaN</td>\n",
       "      <td>3</td>\n",
       "      <td>4</td>\n",
       "      <td>3</td>\n",
       "      <td>4</td>\n",
       "      <td>...</td>\n",
       "      <td>Good</td>\n",
       "      <td>809.98</td>\n",
       "      <td>31.944960</td>\n",
       "      <td>NaN</td>\n",
       "      <td>No</td>\n",
       "      <td>49.574949</td>\n",
       "      <td>118.28022162236736</td>\n",
       "      <td>Low_spent_Large_value_payments</td>\n",
       "      <td>284.62916249607184</td>\n",
       "      <td>Good</td>\n",
       "    </tr>\n",
       "    <tr>\n",
       "      <th>2</th>\n",
       "      <td>March</td>\n",
       "      <td>-500</td>\n",
       "      <td>821000265</td>\n",
       "      <td>Scientist</td>\n",
       "      <td>19114.12</td>\n",
       "      <td>NaN</td>\n",
       "      <td>3</td>\n",
       "      <td>4</td>\n",
       "      <td>3</td>\n",
       "      <td>4</td>\n",
       "      <td>...</td>\n",
       "      <td>Good</td>\n",
       "      <td>809.98</td>\n",
       "      <td>28.609352</td>\n",
       "      <td>22 Years and 3 Months</td>\n",
       "      <td>No</td>\n",
       "      <td>49.574949</td>\n",
       "      <td>81.699521264648</td>\n",
       "      <td>Low_spent_Medium_value_payments</td>\n",
       "      <td>331.2098628537912</td>\n",
       "      <td>Good</td>\n",
       "    </tr>\n",
       "    <tr>\n",
       "      <th>3</th>\n",
       "      <td>April</td>\n",
       "      <td>23</td>\n",
       "      <td>821000265</td>\n",
       "      <td>Scientist</td>\n",
       "      <td>19114.12</td>\n",
       "      <td>NaN</td>\n",
       "      <td>3</td>\n",
       "      <td>4</td>\n",
       "      <td>3</td>\n",
       "      <td>4</td>\n",
       "      <td>...</td>\n",
       "      <td>Good</td>\n",
       "      <td>809.98</td>\n",
       "      <td>31.377862</td>\n",
       "      <td>22 Years and 4 Months</td>\n",
       "      <td>No</td>\n",
       "      <td>49.574949</td>\n",
       "      <td>199.4580743910713</td>\n",
       "      <td>Low_spent_Small_value_payments</td>\n",
       "      <td>223.45130972736786</td>\n",
       "      <td>Good</td>\n",
       "    </tr>\n",
       "    <tr>\n",
       "      <th>4</th>\n",
       "      <td>May</td>\n",
       "      <td>23</td>\n",
       "      <td>821000265</td>\n",
       "      <td>Scientist</td>\n",
       "      <td>19114.12</td>\n",
       "      <td>1824.843333</td>\n",
       "      <td>3</td>\n",
       "      <td>4</td>\n",
       "      <td>3</td>\n",
       "      <td>4</td>\n",
       "      <td>...</td>\n",
       "      <td>Good</td>\n",
       "      <td>809.98</td>\n",
       "      <td>24.797347</td>\n",
       "      <td>22 Years and 5 Months</td>\n",
       "      <td>No</td>\n",
       "      <td>49.574949</td>\n",
       "      <td>41.420153086217326</td>\n",
       "      <td>High_spent_Medium_value_payments</td>\n",
       "      <td>341.48923103222177</td>\n",
       "      <td>Good</td>\n",
       "    </tr>\n",
       "  </tbody>\n",
       "</table>\n",
       "<p>5 rows × 25 columns</p>\n",
       "</div>"
      ],
      "text/plain": [
       "      Month   Age        SSN Occupation Annual_Income  Monthly_Inhand_Salary  \\\n",
       "0   January    23  821000265  Scientist      19114.12            1824.843333   \n",
       "1  February    23  821000265  Scientist      19114.12                    NaN   \n",
       "2     March  -500  821000265  Scientist      19114.12                    NaN   \n",
       "3     April    23  821000265  Scientist      19114.12                    NaN   \n",
       "4       May    23  821000265  Scientist      19114.12            1824.843333   \n",
       "\n",
       "   Num_Bank_Accounts  Num_Credit_Card  Interest_Rate Num_of_Loan  ...  \\\n",
       "0                  3                4              3           4  ...   \n",
       "1                  3                4              3           4  ...   \n",
       "2                  3                4              3           4  ...   \n",
       "3                  3                4              3           4  ...   \n",
       "4                  3                4              3           4  ...   \n",
       "\n",
       "  Credit_Mix  Outstanding_Debt Credit_Utilization_Ratio  \\\n",
       "0          _            809.98                26.822620   \n",
       "1       Good            809.98                31.944960   \n",
       "2       Good            809.98                28.609352   \n",
       "3       Good            809.98                31.377862   \n",
       "4       Good            809.98                24.797347   \n",
       "\n",
       "      Credit_History_Age  Payment_of_Min_Amount Total_EMI_per_month  \\\n",
       "0  22 Years and 1 Months                     No           49.574949   \n",
       "1                    NaN                     No           49.574949   \n",
       "2  22 Years and 3 Months                     No           49.574949   \n",
       "3  22 Years and 4 Months                     No           49.574949   \n",
       "4  22 Years and 5 Months                     No           49.574949   \n",
       "\n",
       "  Amount_invested_monthly                 Payment_Behaviour  \\\n",
       "0       80.41529543900253   High_spent_Small_value_payments   \n",
       "1      118.28022162236736    Low_spent_Large_value_payments   \n",
       "2         81.699521264648   Low_spent_Medium_value_payments   \n",
       "3       199.4580743910713    Low_spent_Small_value_payments   \n",
       "4      41.420153086217326  High_spent_Medium_value_payments   \n",
       "\n",
       "      Monthly_Balance Credit_Score  \n",
       "0  312.49408867943663         Good  \n",
       "1  284.62916249607184         Good  \n",
       "2   331.2098628537912         Good  \n",
       "3  223.45130972736786         Good  \n",
       "4  341.48923103222177         Good  \n",
       "\n",
       "[5 rows x 25 columns]"
      ]
     },
     "execution_count": 6,
     "metadata": {},
     "output_type": "execute_result"
    }
   ],
   "source": [
    "df_name.head()"
   ]
  },
  {
   "cell_type": "markdown",
   "metadata": {},
   "source": [
    "### PreProcessing Age"
   ]
  },
  {
   "cell_type": "code",
   "execution_count": 8,
   "metadata": {},
   "outputs": [],
   "source": [
    "df_age = df_name.copy()"
   ]
  },
  {
   "cell_type": "code",
   "execution_count": 9,
   "metadata": {},
   "outputs": [
    {
     "data": {
      "text/plain": [
       "0"
      ]
     },
     "execution_count": 9,
     "metadata": {},
     "output_type": "execute_result"
    }
   ],
   "source": [
    "df_age['Age'].isna().sum()"
   ]
  },
  {
   "attachments": {},
   "cell_type": "markdown",
   "metadata": {},
   "source": [
    "Count possible noisy data in Age (age upper limit = 120 and lower limit is 0)"
   ]
  },
  {
   "cell_type": "code",
   "execution_count": 10,
   "metadata": {},
   "outputs": [
    {
     "name": "stdout",
     "output_type": "stream",
     "text": [
      "Underscore_age Count :  4939 || Unique Underscore_age count : 127  || Example :  ['28_', '34_', '30_', '24_', '33_']\n",
      "Noisy_age Count :  1799 || Unique Noisy_age count : 1608  || Example :  ['7580', '181', '995', '5079', '6409']\n"
     ]
    }
   ],
   "source": [
    "underscore_age = 0\n",
    "underscore_age_list = []\n",
    "noisy_age = 0\n",
    "noisy_age_list = []\n",
    "for index in range(len(df_age)):\n",
    "    if '_' in  df_age['Age'][index]:\n",
    "        underscore_age += 1\n",
    "        underscore_age_list.append(df_age['Age'][index])\n",
    "    try:\n",
    "        if int(df_age['Age'][index]) > 120 or int(df_age['Age'][index] <= 0):\n",
    "            noisy_age +=1\n",
    "            noisy_age_list.append(df_age['Age'][index])\n",
    "            \n",
    "    except:\n",
    "        pass\n",
    "print(\"Underscore_age Count : \",underscore_age,\"|| Unique Underscore_age count :\",len(set(underscore_age_list)), \" || Example : \",underscore_age_list[0:5])\n",
    "print(\"Noisy_age Count : \",noisy_age,\"|| Unique Noisy_age count :\",len(set(noisy_age_list)),\" || Example : \",noisy_age_list[0:5])\n",
    "\n"
   ]
  },
  {
   "cell_type": "code",
   "execution_count": 11,
   "metadata": {},
   "outputs": [
    {
     "data": {
      "text/plain": [
       "1788"
      ]
     },
     "execution_count": 11,
     "metadata": {},
     "output_type": "execute_result"
    }
   ],
   "source": [
    "df_age['Age'].nunique()"
   ]
  },
  {
   "attachments": {},
   "cell_type": "markdown",
   "metadata": {},
   "source": [
    "Probable Unique age values <br>\n",
    "1788 - 127 - 1608 =53"
   ]
  },
  {
   "attachments": {},
   "cell_type": "markdown",
   "metadata": {},
   "source": [
    "Ommiting the underscore ages"
   ]
  },
  {
   "cell_type": "code",
   "execution_count": 12,
   "metadata": {},
   "outputs": [],
   "source": [
    "for index in range(len(df_age)):\n",
    "    if '_' in df_age['Age'][index]:\n",
    "        df_age['Age'][index] = df_age['Age'][index].replace('_','')"
   ]
  },
  {
   "cell_type": "markdown",
   "metadata": {},
   "source": [
    "Ommiting noisy ages"
   ]
  },
  {
   "cell_type": "code",
   "execution_count": 9,
   "metadata": {},
   "outputs": [],
   "source": [
    "corresponding_unique_age_values= {}\n",
    "unique_SSN = list(df_age['SSN'].unique())"
   ]
  },
  {
   "cell_type": "code",
   "execution_count": null,
   "metadata": {},
   "outputs": [],
   "source": [
    "df_age['Age'] = df_age['Age'].astype(int)"
   ]
  },
  {
   "cell_type": "code",
   "execution_count": null,
   "metadata": {},
   "outputs": [],
   "source": [
    "for ssn in unique_SSN:\n",
    "    corresponding_unique_age_values[ssn] = list(df_age[df_age['SSN'] == ssn]['Age'].unique())"
   ]
  },
  {
   "cell_type": "code",
   "execution_count": null,
   "metadata": {},
   "outputs": [
    {
     "data": {
      "text/plain": [
       "{821000265: [23, -500],\n",
       " 4075839: [28],\n",
       " 486853974: [34],\n",
       " 72316145: [54, 55],\n",
       " 615067821: [21],\n",
       " 612708987: [31],\n",
       " 411510676: [33, 34],\n",
       " 500926408: [7580, 30],\n",
       " 70191622: [23, 24],\n",
       " 366681681: [44, 45]}"
      ]
     },
     "execution_count": 251,
     "metadata": {},
     "output_type": "execute_result"
    }
   ],
   "source": [
    "dict(itertools.islice(corresponding_unique_age_values.items(),10))"
   ]
  },
  {
   "cell_type": "markdown",
   "metadata": {},
   "source": [
    "For now allowing multiple valid ages but replacing the noisy data"
   ]
  },
  {
   "cell_type": "code",
   "execution_count": null,
   "metadata": {},
   "outputs": [
    {
     "data": {
      "text/plain": [
       "25"
      ]
     },
     "execution_count": 252,
     "metadata": {},
     "output_type": "execute_result"
    }
   ],
   "source": [
    "[val for val in corresponding_unique_age_values[df_age['SSN'][455]] if ((int(val) >= 0) and (int(val) <= 120)) ][0]"
   ]
  },
  {
   "cell_type": "code",
   "execution_count": null,
   "metadata": {},
   "outputs": [],
   "source": [
    "for index in range(len(df_age)):\n",
    "    if df_age['Age'][index] > 120 or df_age['Age'][index] <= 0:\n",
    "        df_age['Age'][index] = [val for val in corresponding_unique_age_values[df_age['SSN'][index]] if ((val > 0) and (val <= 120)) ][0]"
   ]
  },
  {
   "attachments": {},
   "cell_type": "markdown",
   "metadata": {},
   "source": [
    "Lets Check"
   ]
  },
  {
   "cell_type": "code",
   "execution_count": null,
   "metadata": {},
   "outputs": [
    {
     "name": "stdout",
     "output_type": "stream",
     "text": [
      "Noisy_age Count :  0 || Unique Noisy_age count : 0  || Example :  []\n"
     ]
    }
   ],
   "source": [
    "noisy_age = 0\n",
    "noisy_age_list = []\n",
    "for index in range(len(df_age)):\n",
    "    if df_age['Age'][index] > 120 or df_age['Age'][index] <= 0:\n",
    "        noisy_age +=1\n",
    "        noisy_age_list.append(df_age['Age'][index])\n",
    "print(\"Noisy_age Count : \",noisy_age,\"|| Unique Noisy_age count :\",len(set(noisy_age_list)),\" || Example : \",noisy_age_list[0:5])"
   ]
  },
  {
   "cell_type": "code",
   "execution_count": null,
   "metadata": {},
   "outputs": [
    {
     "data": {
      "text/plain": [
       "38     3076\n",
       "28     3057\n",
       "31     3043\n",
       "26     3035\n",
       "32     2968\n",
       "36     2955\n",
       "25     2952\n",
       "35     2937\n",
       "39     2932\n",
       "27     2929\n",
       "34     2922\n",
       "44     2895\n",
       "22     2876\n",
       "19     2874\n",
       "41     2863\n",
       "20     2834\n",
       "37     2824\n",
       "29     2819\n",
       "43     2814\n",
       "21     2801\n",
       "30     2799\n",
       "24     2786\n",
       "23     2725\n",
       "45     2711\n",
       "40     2687\n",
       "42     2648\n",
       "33     2624\n",
       "18     2446\n",
       "46     1663\n",
       "15     1611\n",
       "17     1551\n",
       "16     1502\n",
       "48     1427\n",
       "49     1413\n",
       "55     1396\n",
       "53     1391\n",
       "52     1391\n",
       "54     1343\n",
       "51     1319\n",
       "50     1314\n",
       "47     1250\n",
       "14     1223\n",
       "56      363\n",
       "95        3\n",
       "112       1\n",
       "118       1\n",
       "99        1\n",
       "100       1\n",
       "102       1\n",
       "111       1\n",
       "109       1\n",
       "115       1\n",
       "Name: Age, dtype: int64"
      ]
     },
     "execution_count": 290,
     "metadata": {},
     "output_type": "execute_result"
    }
   ],
   "source": [
    "df_age['Age'].value_counts()"
   ]
  },
  {
   "cell_type": "code",
   "execution_count": null,
   "metadata": {},
   "outputs": [],
   "source": [
    "df_age.to_csv('checkpoints//df_age.csv',index = False)"
   ]
  },
  {
   "attachments": {},
   "cell_type": "markdown",
   "metadata": {},
   "source": [
    "### PreProcessing Occupation"
   ]
  },
  {
   "cell_type": "code",
   "execution_count": null,
   "metadata": {},
   "outputs": [],
   "source": [
    "df_occupation = pd.read_csv('checkpoints//df_age.csv')"
   ]
  },
  {
   "cell_type": "code",
   "execution_count": null,
   "metadata": {},
   "outputs": [
    {
     "data": {
      "text/html": [
       "<div>\n",
       "<style scoped>\n",
       "    .dataframe tbody tr th:only-of-type {\n",
       "        vertical-align: middle;\n",
       "    }\n",
       "\n",
       "    .dataframe tbody tr th {\n",
       "        vertical-align: top;\n",
       "    }\n",
       "\n",
       "    .dataframe thead th {\n",
       "        text-align: right;\n",
       "    }\n",
       "</style>\n",
       "<table border=\"1\" class=\"dataframe\">\n",
       "  <thead>\n",
       "    <tr style=\"text-align: right;\">\n",
       "      <th></th>\n",
       "      <th>Month</th>\n",
       "      <th>Age</th>\n",
       "      <th>SSN</th>\n",
       "      <th>Occupation</th>\n",
       "      <th>Annual_Income</th>\n",
       "      <th>Monthly_Inhand_Salary</th>\n",
       "      <th>Num_Bank_Accounts</th>\n",
       "      <th>Num_Credit_Card</th>\n",
       "      <th>Interest_Rate</th>\n",
       "      <th>Num_of_Loan</th>\n",
       "      <th>...</th>\n",
       "      <th>Credit_Mix</th>\n",
       "      <th>Outstanding_Debt</th>\n",
       "      <th>Credit_Utilization_Ratio</th>\n",
       "      <th>Credit_History_Age</th>\n",
       "      <th>Payment_of_Min_Amount</th>\n",
       "      <th>Total_EMI_per_month</th>\n",
       "      <th>Amount_invested_monthly</th>\n",
       "      <th>Payment_Behaviour</th>\n",
       "      <th>Monthly_Balance</th>\n",
       "      <th>Credit_Score</th>\n",
       "    </tr>\n",
       "  </thead>\n",
       "  <tbody>\n",
       "    <tr>\n",
       "      <th>0</th>\n",
       "      <td>January</td>\n",
       "      <td>23</td>\n",
       "      <td>821000265</td>\n",
       "      <td>Scientist</td>\n",
       "      <td>19114.12</td>\n",
       "      <td>1824.843333</td>\n",
       "      <td>3</td>\n",
       "      <td>4</td>\n",
       "      <td>3</td>\n",
       "      <td>4</td>\n",
       "      <td>...</td>\n",
       "      <td>_</td>\n",
       "      <td>809.98</td>\n",
       "      <td>26.822620</td>\n",
       "      <td>22 Years and 1 Months</td>\n",
       "      <td>No</td>\n",
       "      <td>49.574949</td>\n",
       "      <td>80.41529543900253</td>\n",
       "      <td>High_spent_Small_value_payments</td>\n",
       "      <td>312.49408867943663</td>\n",
       "      <td>Good</td>\n",
       "    </tr>\n",
       "    <tr>\n",
       "      <th>1</th>\n",
       "      <td>February</td>\n",
       "      <td>23</td>\n",
       "      <td>821000265</td>\n",
       "      <td>Scientist</td>\n",
       "      <td>19114.12</td>\n",
       "      <td>NaN</td>\n",
       "      <td>3</td>\n",
       "      <td>4</td>\n",
       "      <td>3</td>\n",
       "      <td>4</td>\n",
       "      <td>...</td>\n",
       "      <td>Good</td>\n",
       "      <td>809.98</td>\n",
       "      <td>31.944960</td>\n",
       "      <td>NaN</td>\n",
       "      <td>No</td>\n",
       "      <td>49.574949</td>\n",
       "      <td>118.28022162236736</td>\n",
       "      <td>Low_spent_Large_value_payments</td>\n",
       "      <td>284.62916249607184</td>\n",
       "      <td>Good</td>\n",
       "    </tr>\n",
       "    <tr>\n",
       "      <th>2</th>\n",
       "      <td>March</td>\n",
       "      <td>23</td>\n",
       "      <td>821000265</td>\n",
       "      <td>Scientist</td>\n",
       "      <td>19114.12</td>\n",
       "      <td>NaN</td>\n",
       "      <td>3</td>\n",
       "      <td>4</td>\n",
       "      <td>3</td>\n",
       "      <td>4</td>\n",
       "      <td>...</td>\n",
       "      <td>Good</td>\n",
       "      <td>809.98</td>\n",
       "      <td>28.609352</td>\n",
       "      <td>22 Years and 3 Months</td>\n",
       "      <td>No</td>\n",
       "      <td>49.574949</td>\n",
       "      <td>81.699521264648</td>\n",
       "      <td>Low_spent_Medium_value_payments</td>\n",
       "      <td>331.2098628537912</td>\n",
       "      <td>Good</td>\n",
       "    </tr>\n",
       "    <tr>\n",
       "      <th>3</th>\n",
       "      <td>April</td>\n",
       "      <td>23</td>\n",
       "      <td>821000265</td>\n",
       "      <td>Scientist</td>\n",
       "      <td>19114.12</td>\n",
       "      <td>NaN</td>\n",
       "      <td>3</td>\n",
       "      <td>4</td>\n",
       "      <td>3</td>\n",
       "      <td>4</td>\n",
       "      <td>...</td>\n",
       "      <td>Good</td>\n",
       "      <td>809.98</td>\n",
       "      <td>31.377862</td>\n",
       "      <td>22 Years and 4 Months</td>\n",
       "      <td>No</td>\n",
       "      <td>49.574949</td>\n",
       "      <td>199.4580743910713</td>\n",
       "      <td>Low_spent_Small_value_payments</td>\n",
       "      <td>223.45130972736786</td>\n",
       "      <td>Good</td>\n",
       "    </tr>\n",
       "    <tr>\n",
       "      <th>4</th>\n",
       "      <td>May</td>\n",
       "      <td>23</td>\n",
       "      <td>821000265</td>\n",
       "      <td>Scientist</td>\n",
       "      <td>19114.12</td>\n",
       "      <td>1824.843333</td>\n",
       "      <td>3</td>\n",
       "      <td>4</td>\n",
       "      <td>3</td>\n",
       "      <td>4</td>\n",
       "      <td>...</td>\n",
       "      <td>Good</td>\n",
       "      <td>809.98</td>\n",
       "      <td>24.797347</td>\n",
       "      <td>22 Years and 5 Months</td>\n",
       "      <td>No</td>\n",
       "      <td>49.574949</td>\n",
       "      <td>41.420153086217326</td>\n",
       "      <td>High_spent_Medium_value_payments</td>\n",
       "      <td>341.48923103222177</td>\n",
       "      <td>Good</td>\n",
       "    </tr>\n",
       "  </tbody>\n",
       "</table>\n",
       "<p>5 rows × 25 columns</p>\n",
       "</div>"
      ],
      "text/plain": [
       "      Month  Age        SSN Occupation Annual_Income  Monthly_Inhand_Salary  \\\n",
       "0   January   23  821000265  Scientist      19114.12            1824.843333   \n",
       "1  February   23  821000265  Scientist      19114.12                    NaN   \n",
       "2     March   23  821000265  Scientist      19114.12                    NaN   \n",
       "3     April   23  821000265  Scientist      19114.12                    NaN   \n",
       "4       May   23  821000265  Scientist      19114.12            1824.843333   \n",
       "\n",
       "   Num_Bank_Accounts  Num_Credit_Card  Interest_Rate Num_of_Loan  ...  \\\n",
       "0                  3                4              3           4  ...   \n",
       "1                  3                4              3           4  ...   \n",
       "2                  3                4              3           4  ...   \n",
       "3                  3                4              3           4  ...   \n",
       "4                  3                4              3           4  ...   \n",
       "\n",
       "  Credit_Mix  Outstanding_Debt Credit_Utilization_Ratio  \\\n",
       "0          _            809.98                26.822620   \n",
       "1       Good            809.98                31.944960   \n",
       "2       Good            809.98                28.609352   \n",
       "3       Good            809.98                31.377862   \n",
       "4       Good            809.98                24.797347   \n",
       "\n",
       "      Credit_History_Age  Payment_of_Min_Amount Total_EMI_per_month  \\\n",
       "0  22 Years and 1 Months                     No           49.574949   \n",
       "1                    NaN                     No           49.574949   \n",
       "2  22 Years and 3 Months                     No           49.574949   \n",
       "3  22 Years and 4 Months                     No           49.574949   \n",
       "4  22 Years and 5 Months                     No           49.574949   \n",
       "\n",
       "  Amount_invested_monthly                 Payment_Behaviour  \\\n",
       "0       80.41529543900253   High_spent_Small_value_payments   \n",
       "1      118.28022162236736    Low_spent_Large_value_payments   \n",
       "2         81.699521264648   Low_spent_Medium_value_payments   \n",
       "3       199.4580743910713    Low_spent_Small_value_payments   \n",
       "4      41.420153086217326  High_spent_Medium_value_payments   \n",
       "\n",
       "      Monthly_Balance Credit_Score  \n",
       "0  312.49408867943663         Good  \n",
       "1  284.62916249607184         Good  \n",
       "2   331.2098628537912         Good  \n",
       "3  223.45130972736786         Good  \n",
       "4  341.48923103222177         Good  \n",
       "\n",
       "[5 rows x 25 columns]"
      ]
     },
     "execution_count": 280,
     "metadata": {},
     "output_type": "execute_result"
    }
   ],
   "source": [
    "df_occupation.head()"
   ]
  },
  {
   "cell_type": "code",
   "execution_count": null,
   "metadata": {},
   "outputs": [
    {
     "data": {
      "text/plain": [
       "16"
      ]
     },
     "execution_count": 281,
     "metadata": {},
     "output_type": "execute_result"
    }
   ],
   "source": [
    "df_occupation[\"Occupation\"].nunique()"
   ]
  },
  {
   "cell_type": "code",
   "execution_count": null,
   "metadata": {},
   "outputs": [
    {
     "data": {
      "text/plain": [
       "_______          7062\n",
       "Lawyer           6575\n",
       "Architect        6355\n",
       "Engineer         6350\n",
       "Scientist        6299\n",
       "Mechanic         6291\n",
       "Accountant       6271\n",
       "Developer        6235\n",
       "Media_Manager    6232\n",
       "Teacher          6215\n",
       "Entrepreneur     6174\n",
       "Doctor           6087\n",
       "Journalist       6085\n",
       "Manager          5973\n",
       "Musician         5911\n",
       "Writer           5885\n",
       "Name: Occupation, dtype: int64"
      ]
     },
     "execution_count": 282,
     "metadata": {},
     "output_type": "execute_result"
    }
   ],
   "source": [
    "df_occupation[\"Occupation\"].value_counts()"
   ]
  },
  {
   "attachments": {},
   "cell_type": "markdown",
   "metadata": {},
   "source": [
    "_______ seems to be noisy datas"
   ]
  },
  {
   "cell_type": "code",
   "execution_count": null,
   "metadata": {},
   "outputs": [],
   "source": [
    "corresponding_unique_occupation_values = {}"
   ]
  },
  {
   "cell_type": "code",
   "execution_count": null,
   "metadata": {},
   "outputs": [],
   "source": [
    "for ssn in unique_SSN:\n",
    "    corresponding_unique_occupation_values[ssn] = list(df_occupation[df_occupation['SSN'] == ssn]['Occupation'].unique())"
   ]
  },
  {
   "cell_type": "code",
   "execution_count": null,
   "metadata": {},
   "outputs": [
    {
     "data": {
      "text/plain": [
       "{821000265: ['Scientist'],\n",
       " 4075839: ['_______', 'Teacher'],\n",
       " 486853974: ['_______', 'Engineer'],\n",
       " 72316145: ['Entrepreneur', '_______'],\n",
       " 615067821: ['Developer'],\n",
       " 612708987: ['Lawyer', '_______'],\n",
       " 411510676: ['Lawyer'],\n",
       " 500926408: ['Media_Manager', '_______'],\n",
       " 70191622: ['Doctor'],\n",
       " 366681681: ['Journalist']}"
      ]
     },
     "execution_count": 285,
     "metadata": {},
     "output_type": "execute_result"
    }
   ],
   "source": [
    "dict(itertools.islice(corresponding_unique_occupation_values.items(),10))"
   ]
  },
  {
   "cell_type": "code",
   "execution_count": null,
   "metadata": {},
   "outputs": [
    {
     "data": {
      "text/plain": [
       "'Scientist'"
      ]
     },
     "execution_count": 286,
     "metadata": {},
     "output_type": "execute_result"
    }
   ],
   "source": [
    "[val for val in corresponding_unique_occupation_values[df_occupation['SSN'][1]] if not val.startswith('_') ][0]"
   ]
  },
  {
   "cell_type": "code",
   "execution_count": null,
   "metadata": {},
   "outputs": [],
   "source": [
    "for index in range(len(df_occupation)):\n",
    "    if df_occupation['Occupation'][index].startswith('_'):\n",
    "        df_occupation['Occupation'][index] = [val for val in corresponding_unique_occupation_values[df_occupation['SSN'][index]] if not val.startswith('_') ][0]"
   ]
  },
  {
   "cell_type": "code",
   "execution_count": null,
   "metadata": {},
   "outputs": [
    {
     "data": {
      "text/plain": [
       "Lawyer           7096\n",
       "Engineer         6864\n",
       "Architect        6824\n",
       "Mechanic         6776\n",
       "Scientist        6744\n",
       "Accountant       6744\n",
       "Developer        6720\n",
       "Media_Manager    6720\n",
       "Teacher          6672\n",
       "Entrepreneur     6648\n",
       "Doctor           6568\n",
       "Journalist       6536\n",
       "Manager          6432\n",
       "Musician         6352\n",
       "Writer           6304\n",
       "Name: Occupation, dtype: int64"
      ]
     },
     "execution_count": 288,
     "metadata": {},
     "output_type": "execute_result"
    }
   ],
   "source": [
    "df_occupation[\"Occupation\"].value_counts()"
   ]
  },
  {
   "cell_type": "code",
   "execution_count": null,
   "metadata": {},
   "outputs": [
    {
     "data": {
      "text/plain": [
       "{821000265: ['Scientist'],\n",
       " 4075839: ['Teacher'],\n",
       " 486853974: ['Engineer'],\n",
       " 72316145: ['Entrepreneur'],\n",
       " 615067821: ['Developer'],\n",
       " 612708987: ['Lawyer'],\n",
       " 411510676: ['Lawyer'],\n",
       " 500926408: ['Media_Manager'],\n",
       " 70191622: ['Doctor'],\n",
       " 366681681: ['Journalist']}"
      ]
     },
     "execution_count": 289,
     "metadata": {},
     "output_type": "execute_result"
    }
   ],
   "source": [
    "for ssn in unique_SSN:\n",
    "    corresponding_unique_occupation_values[ssn] = list(df_occupation[df_occupation['SSN'] == ssn]['Occupation'].unique())\n",
    "dict(itertools.islice(corresponding_unique_occupation_values.items(),10))"
   ]
  },
  {
   "cell_type": "markdown",
   "metadata": {},
   "source": [
    "### PreProcessing Annual Income"
   ]
  },
  {
   "cell_type": "code",
   "execution_count": null,
   "metadata": {},
   "outputs": [],
   "source": [
    "df_annual_income = df_occupation.copy()"
   ]
  },
  {
   "cell_type": "code",
   "execution_count": null,
   "metadata": {},
   "outputs": [
    {
     "data": {
      "text/plain": [
       "18940"
      ]
     },
     "execution_count": 301,
     "metadata": {},
     "output_type": "execute_result"
    }
   ],
   "source": [
    "df_annual_income[\"Annual_Income\"].nunique()"
   ]
  },
  {
   "cell_type": "code",
   "execution_count": null,
   "metadata": {},
   "outputs": [
    {
     "name": "stdout",
     "output_type": "stream",
     "text": [
      "Underscore_annual_income Count :  6980 || Unique Underscore_annual_income count : 5503  || Example :  ['34847.84_', '30689.89_', '35547.71_', '34081.38_', '114838.41_']\n"
     ]
    }
   ],
   "source": [
    "underscore_annual_income = 0\n",
    "underscore_annual_income_list = []\n",
    "for index in range(len(df_annual_income)):\n",
    "    if '_' in  df_annual_income['Annual_Income'][index]:\n",
    "        underscore_annual_income += 1\n",
    "        underscore_annual_income_list.append(df_annual_income['Annual_Income'][index])\n",
    "print(\"Underscore_annual_income Count : \",underscore_annual_income,\"|| Unique Underscore_annual_income count :\",len(set(underscore_annual_income_list)), \" || Example : \",underscore_annual_income_list[0:5])"
   ]
  },
  {
   "cell_type": "markdown",
   "metadata": {},
   "source": [
    "Ommitting the underscore annual income"
   ]
  },
  {
   "cell_type": "code",
   "execution_count": null,
   "metadata": {},
   "outputs": [],
   "source": [
    "for index in range(len(df_annual_income)):\n",
    "    if '_' in df_annual_income['Annual_Income'][index]:\n",
    "        df_annual_income['Annual_Income'][index] = df_annual_income['Annual_Income'][index].replace('_','')"
   ]
  },
  {
   "cell_type": "code",
   "execution_count": null,
   "metadata": {},
   "outputs": [
    {
     "name": "stdout",
     "output_type": "stream",
     "text": [
      "Underscore_annual_income Count :  0 || Unique Underscore_annual_income count : 0  || Example :  []\n"
     ]
    }
   ],
   "source": [
    "underscore_annual_income = 0\n",
    "underscore_annual_income_list = []\n",
    "for index in range(len(df_annual_income)):\n",
    "    if '_' in  df_annual_income['Annual_Income'][index]:\n",
    "        underscore_annual_income += 1\n",
    "        underscore_annual_income_list.append(df_annual_income['Annual_Income'][index])\n",
    "print(\"Underscore_annual_income Count : \",underscore_annual_income,\"|| Unique Underscore_annual_income count :\",len(set(underscore_annual_income_list)), \" || Example : \",underscore_annual_income_list[0:5])"
   ]
  },
  {
   "cell_type": "code",
   "execution_count": null,
   "metadata": {},
   "outputs": [],
   "source": [
    "df_annual_income['Annual_Income'] = df_annual_income['Annual_Income'].astype(float)"
   ]
  },
  {
   "cell_type": "code",
   "execution_count": null,
   "metadata": {},
   "outputs": [],
   "source": [
    "df_annual_income.to_csv('checkpoints//df_annual_income.csv',index = False)"
   ]
  },
  {
   "cell_type": "markdown",
   "metadata": {},
   "source": [
    "### PreProcessing Monthly_Inhand_Salary"
   ]
  },
  {
   "cell_type": "code",
   "execution_count": 10,
   "metadata": {},
   "outputs": [],
   "source": [
    "df_monthly_inhand_salary = pd.read_csv('checkpoints//df_annual_income.csv')"
   ]
  },
  {
   "cell_type": "code",
   "execution_count": 11,
   "metadata": {},
   "outputs": [
    {
     "data": {
      "text/plain": [
       "13235"
      ]
     },
     "execution_count": 11,
     "metadata": {},
     "output_type": "execute_result"
    }
   ],
   "source": [
    "df_monthly_inhand_salary['Monthly_Inhand_Salary'].nunique()"
   ]
  },
  {
   "cell_type": "code",
   "execution_count": 12,
   "metadata": {},
   "outputs": [
    {
     "data": {
      "text/plain": [
       "15002"
      ]
     },
     "execution_count": 12,
     "metadata": {},
     "output_type": "execute_result"
    }
   ],
   "source": [
    "df_monthly_inhand_salary['Monthly_Inhand_Salary'].isna().sum()"
   ]
  },
  {
   "cell_type": "markdown",
   "metadata": {},
   "source": [
    "Checking if each customer have same monthly inhand salary"
   ]
  },
  {
   "cell_type": "code",
   "execution_count": 13,
   "metadata": {},
   "outputs": [],
   "source": [
    "corresponding_unique_inhand_salary_values = {}"
   ]
  },
  {
   "cell_type": "code",
   "execution_count": 14,
   "metadata": {},
   "outputs": [],
   "source": [
    "for ssn in unique_SSN:\n",
    "    corresponding_unique_inhand_salary_values[ssn] = list(df_monthly_inhand_salary[df_monthly_inhand_salary['SSN'] == ssn]['Monthly_Inhand_Salary'].unique())"
   ]
  },
  {
   "cell_type": "code",
   "execution_count": 15,
   "metadata": {},
   "outputs": [
    {
     "data": {
      "text/plain": [
       "{821000265: [1824.8433333333328, nan],\n",
       " 4075839: [3037.986666666666, nan],\n",
       " 486853974: [12187.22, nan],\n",
       " 72316145: [2612.4908333333333],\n",
       " 615067821: [2853.3091666666664, nan],\n",
       " 612708987: [nan, 5988.705000000001],\n",
       " 411510676: [11242.783333333333, 10469.207759388815, nan],\n",
       " 500926408: [nan, 2611.115],\n",
       " 70191622: [9843.8675, nan],\n",
       " 366681681: [2825.233333333333, nan]}"
      ]
     },
     "execution_count": 15,
     "metadata": {},
     "output_type": "execute_result"
    }
   ],
   "source": [
    "dict(itertools.islice(corresponding_unique_inhand_salary_values.items(),10))"
   ]
  },
  {
   "cell_type": "code",
   "execution_count": 26,
   "metadata": {},
   "outputs": [
    {
     "data": {
      "text/plain": [
       "1824.8433333333328"
      ]
     },
     "execution_count": 26,
     "metadata": {},
     "output_type": "execute_result"
    }
   ],
   "source": [
    "[val for val in corresponding_unique_inhand_salary_values[df_monthly_inhand_salary['SSN'][0]] if not np.isnan(val) ][0]"
   ]
  },
  {
   "cell_type": "code",
   "execution_count": 29,
   "metadata": {},
   "outputs": [],
   "source": [
    "for index in range(len(df_monthly_inhand_salary)):\n",
    "    if np.isnan(df_monthly_inhand_salary['Monthly_Inhand_Salary'][index]):\n",
    "        df_monthly_inhand_salary['Monthly_Inhand_Salary'][index] = [val for val in corresponding_unique_inhand_salary_values[df_monthly_inhand_salary['SSN'][index]] if not np.isnan(val) ][0]"
   ]
  },
  {
   "cell_type": "code",
   "execution_count": 30,
   "metadata": {},
   "outputs": [
    {
     "data": {
      "text/plain": [
       "{821000265: [1824.8433333333328],\n",
       " 4075839: [3037.986666666666],\n",
       " 486853974: [12187.22],\n",
       " 72316145: [2612.4908333333333],\n",
       " 615067821: [2853.3091666666664],\n",
       " 612708987: [5988.705000000001],\n",
       " 411510676: [11242.783333333333, 10469.207759388815],\n",
       " 500926408: [2611.115],\n",
       " 70191622: [9843.8675],\n",
       " 366681681: [2825.233333333333]}"
      ]
     },
     "execution_count": 30,
     "metadata": {},
     "output_type": "execute_result"
    }
   ],
   "source": [
    "for ssn in unique_SSN:\n",
    "    corresponding_unique_inhand_salary_values[ssn] = list(df_monthly_inhand_salary[df_monthly_inhand_salary['SSN'] == ssn]['Monthly_Inhand_Salary'].unique())\n",
    "dict(itertools.islice(corresponding_unique_inhand_salary_values.items(),10))"
   ]
  },
  {
   "cell_type": "code",
   "execution_count": 36,
   "metadata": {},
   "outputs": [],
   "source": [
    "df_monthly_inhand_salary.to_csv('checkpoints//df_monthly_inhand_salary.csv',index = False)"
   ]
  },
  {
   "cell_type": "code",
   "execution_count": 97,
   "metadata": {},
   "outputs": [
    {
     "data": {
      "text/plain": [
       "0"
      ]
     },
     "execution_count": 97,
     "metadata": {},
     "output_type": "execute_result"
    }
   ],
   "source": [
    "df_monthly_inhand_salary['Monthly_Inhand_Salary'].isna().sum()"
   ]
  },
  {
   "cell_type": "markdown",
   "metadata": {},
   "source": [
    "### PreProcessing Num_Bank_Accounts"
   ]
  },
  {
   "cell_type": "code",
   "execution_count": 109,
   "metadata": {},
   "outputs": [],
   "source": [
    "df_num_bank_accounts = pd.read_csv('checkpoints//df_monthly_inhand_salary.csv')"
   ]
  },
  {
   "cell_type": "code",
   "execution_count": 110,
   "metadata": {},
   "outputs": [
    {
     "data": {
      "text/plain": [
       "943"
      ]
     },
     "execution_count": 110,
     "metadata": {},
     "output_type": "execute_result"
    }
   ],
   "source": [
    "df_num_bank_accounts['Num_Bank_Accounts'].nunique()"
   ]
  },
  {
   "cell_type": "code",
   "execution_count": 111,
   "metadata": {},
   "outputs": [],
   "source": [
    "corresponding_unique_bank_accounts_values = {}"
   ]
  },
  {
   "cell_type": "code",
   "execution_count": 116,
   "metadata": {},
   "outputs": [
    {
     "name": "stdout",
     "output_type": "stream",
     "text": [
      "bank_account Count :  1280 || Unique bank_account count : 909  || Example :  [1414, 1231, 67, 572, 1488]\n"
     ]
    }
   ],
   "source": [
    "bank_account = 0\n",
    "bank_account_list = []\n",
    "for index in range(len(df_num_bank_accounts)):\n",
    "    if (df_num_bank_accounts['Num_Bank_Accounts'][index]) > 50:\n",
    "        bank_account +=1\n",
    "        bank_account_list.append(df_num_bank_accounts['Num_Bank_Accounts'][index])\n",
    "print(\"bank_account Count : \",bank_account,\"|| Unique bank_account count :\",len(set(bank_account_list)),\" || Example : \",bank_account_list[0:5])"
   ]
  },
  {
   "cell_type": "code",
   "execution_count": 119,
   "metadata": {},
   "outputs": [
    {
     "data": {
      "text/plain": [
       "{87226137: [3],\n",
       " 62293192: [2],\n",
       " 727409990: [4],\n",
       " 16732103: [6],\n",
       " 198089791: [7],\n",
       " 518012262: [9],\n",
       " 465939571: [5],\n",
       " 860361556: [3],\n",
       " 407069232: [3],\n",
       " 550948995: [6]}"
      ]
     },
     "execution_count": 119,
     "metadata": {},
     "output_type": "execute_result"
    }
   ],
   "source": [
    "for ssn in unique_SSN:\n",
    "    corresponding_unique_bank_accounts_values[ssn] = list(df_num_bank_accounts[df_num_bank_accounts['SSN'] == ssn]['Num_Bank_Accounts'].unique())\n",
    "dict(itertools.islice(corresponding_unique_bank_accounts_values.items(),90,100))"
   ]
  },
  {
   "cell_type": "markdown",
   "metadata": {},
   "source": [
    "replacing number of banks greater than 50"
   ]
  },
  {
   "cell_type": "code",
   "execution_count": 120,
   "metadata": {},
   "outputs": [
    {
     "data": {
      "text/plain": [
       "7"
      ]
     },
     "execution_count": 120,
     "metadata": {},
     "output_type": "execute_result"
    }
   ],
   "source": [
    "[val for val in corresponding_unique_bank_accounts_values[198089791] if val <50 ][0]"
   ]
  },
  {
   "cell_type": "code",
   "execution_count": 118,
   "metadata": {},
   "outputs": [],
   "source": [
    "for index in range(len(df_num_bank_accounts)):\n",
    "    if df_num_bank_accounts['Num_Bank_Accounts'][index] > 50:\n",
    "        df_num_bank_accounts['Num_Bank_Accounts'][index] = [val for val in corresponding_unique_bank_accounts_values[df_num_bank_accounts['SSN'][index]] if val <= 50 ][0]"
   ]
  },
  {
   "cell_type": "code",
   "execution_count": 121,
   "metadata": {},
   "outputs": [
    {
     "data": {
      "text/plain": [
       "{87226137: [3],\n",
       " 62293192: [2],\n",
       " 727409990: [4],\n",
       " 16732103: [6],\n",
       " 198089791: [7],\n",
       " 518012262: [9],\n",
       " 465939571: [5],\n",
       " 860361556: [3],\n",
       " 407069232: [3],\n",
       " 550948995: [6]}"
      ]
     },
     "execution_count": 121,
     "metadata": {},
     "output_type": "execute_result"
    }
   ],
   "source": [
    "for ssn in unique_SSN:\n",
    "    corresponding_unique_bank_accounts_values[ssn] = list(df_num_bank_accounts[df_num_bank_accounts['SSN'] == ssn]['Num_Bank_Accounts'].unique())\n",
    "dict(itertools.islice(corresponding_unique_bank_accounts_values.items(),90,100))"
   ]
  },
  {
   "cell_type": "code",
   "execution_count": 122,
   "metadata": {},
   "outputs": [
    {
     "name": "stdout",
     "output_type": "stream",
     "text": [
      "bank_account Count :  0 || Unique bank_account count : 0  || Example :  []\n"
     ]
    }
   ],
   "source": [
    "bank_account = 0\n",
    "bank_account_list = []\n",
    "for index in range(len(df_num_bank_accounts)):\n",
    "    if (df_num_bank_accounts['Num_Bank_Accounts'][index]) > 50:\n",
    "        bank_account +=1\n",
    "        bank_account_list.append(df_num_bank_accounts['Num_Bank_Accounts'][index])\n",
    "print(\"bank_account Count : \",bank_account,\"|| Unique bank_account count :\",len(set(bank_account_list)),\" || Example : \",bank_account_list[0:5])"
   ]
  },
  {
   "cell_type": "markdown",
   "metadata": {},
   "source": [
    "### PreProcessing Num_Credit_Card"
   ]
  },
  {
   "cell_type": "code",
   "execution_count": 124,
   "metadata": {},
   "outputs": [],
   "source": [
    "df_num_credit_card = df_num_bank_accounts.copy()"
   ]
  },
  {
   "cell_type": "code",
   "execution_count": 125,
   "metadata": {},
   "outputs": [
    {
     "data": {
      "text/plain": [
       "1179"
      ]
     },
     "execution_count": 125,
     "metadata": {},
     "output_type": "execute_result"
    }
   ],
   "source": [
    "df_num_credit_card['Num_Credit_Card'].nunique()"
   ]
  },
  {
   "cell_type": "code",
   "execution_count": 128,
   "metadata": {},
   "outputs": [
    {
     "name": "stdout",
     "output_type": "stream",
     "text": [
      "num_credit_cardCount :  2214 || Unique num_credit_cardcount : 1139  || Example :  [1385, 1288, 1029, 488, 1381]\n"
     ]
    }
   ],
   "source": [
    "num_credit_card= 0\n",
    "num_credit_card_list = []\n",
    "for index in range(len(df_num_credit_card)):\n",
    "    if (df_num_credit_card['Num_Credit_Card'][index]) > 50:\n",
    "        num_credit_card += 1\n",
    "        num_credit_card_list.append(df_num_credit_card['Num_Credit_Card'][index])\n",
    "print(\"num_credit_cardCount : \",num_credit_card,\"|| Unique num_credit_cardcount :\",len(set(num_credit_card_list)),\" || Example : \",num_credit_card_list[0:5])"
   ]
  },
  {
   "cell_type": "code",
   "execution_count": 129,
   "metadata": {},
   "outputs": [
    {
     "data": {
      "text/plain": [
       "{821000265: [4],\n",
       " 4075839: [4, 1385],\n",
       " 486853974: [5],\n",
       " 72316145: [5],\n",
       " 615067821: [5],\n",
       " 612708987: [1288, 5],\n",
       " 411510676: [1],\n",
       " 500926408: [7],\n",
       " 70191622: [5],\n",
       " 366681681: [5, 6]}"
      ]
     },
     "execution_count": 129,
     "metadata": {},
     "output_type": "execute_result"
    }
   ],
   "source": [
    "corresponding_unique_num_credit_card_values = {}\n",
    "for ssn in unique_SSN:\n",
    "    corresponding_unique_num_credit_card_values[ssn] = list(df_num_credit_card[df_num_credit_card['SSN'] == ssn]['Num_Credit_Card'].unique())\n",
    "dict(itertools.islice(corresponding_unique_num_credit_card_values.items(),10))"
   ]
  },
  {
   "cell_type": "code",
   "execution_count": 130,
   "metadata": {},
   "outputs": [],
   "source": [
    "for index in range(len(df_num_credit_card)):\n",
    "    if df_num_credit_card['Num_Credit_Card'][index] > 50:\n",
    "        df_num_credit_card['Num_Credit_Card'][index] = [val for val in corresponding_unique_num_credit_card_values[df_num_credit_card['SSN'][index]] if val <= 50 ][0]"
   ]
  },
  {
   "cell_type": "code",
   "execution_count": 131,
   "metadata": {},
   "outputs": [
    {
     "data": {
      "text/plain": [
       "{821000265: [4],\n",
       " 4075839: [4],\n",
       " 486853974: [5],\n",
       " 72316145: [5],\n",
       " 615067821: [5],\n",
       " 612708987: [5],\n",
       " 411510676: [1],\n",
       " 500926408: [7],\n",
       " 70191622: [5],\n",
       " 366681681: [5, 6]}"
      ]
     },
     "execution_count": 131,
     "metadata": {},
     "output_type": "execute_result"
    }
   ],
   "source": [
    "for ssn in unique_SSN:\n",
    "    corresponding_unique_num_credit_card_values[ssn] = list(df_num_credit_card[df_num_credit_card['SSN'] == ssn]['Num_Credit_Card'].unique())\n",
    "dict(itertools.islice(corresponding_unique_num_credit_card_values.items(),10))"
   ]
  },
  {
   "cell_type": "code",
   "execution_count": 132,
   "metadata": {},
   "outputs": [
    {
     "name": "stdout",
     "output_type": "stream",
     "text": [
      "num_credit_cardCount :  0 || Unique num_credit_cardcount : 0  || Example :  []\n"
     ]
    }
   ],
   "source": [
    "num_credit_card= 0\n",
    "num_credit_card_list = []\n",
    "for index in range(len(df_num_credit_card)):\n",
    "    if (df_num_credit_card['Num_Credit_Card'][index]) > 50:\n",
    "        num_credit_card += 1\n",
    "        num_credit_card_list.append(df_num_credit_card['Num_Credit_Card'][index])\n",
    "print(\"num_credit_cardCount : \",num_credit_card,\"|| Unique num_credit_cardcount :\",len(set(num_credit_card_list)),\" || Example : \",num_credit_card_list[0:5])"
   ]
  },
  {
   "cell_type": "code",
   "execution_count": 133,
   "metadata": {},
   "outputs": [],
   "source": [
    "df_num_credit_card.to_csv('checkpoints//df_num_credit_card.csv',index = False)"
   ]
  },
  {
   "cell_type": "markdown",
   "metadata": {},
   "source": [
    "### PreProcessing Interest_Rate"
   ]
  },
  {
   "cell_type": "code",
   "execution_count": 3,
   "metadata": {},
   "outputs": [],
   "source": [
    "df_interest_rate = pd.read_csv('checkpoints//df_num_credit_card.csv')"
   ]
  },
  {
   "cell_type": "code",
   "execution_count": 4,
   "metadata": {},
   "outputs": [
    {
     "data": {
      "text/plain": [
       "1750"
      ]
     },
     "execution_count": 4,
     "metadata": {},
     "output_type": "execute_result"
    }
   ],
   "source": [
    "df_interest_rate[\"Interest_Rate\"].nunique()"
   ]
  },
  {
   "cell_type": "code",
   "execution_count": 5,
   "metadata": {},
   "outputs": [],
   "source": [
    "corresponding_unique_interest_rate_values = {}\n",
    "for ssn in unique_SSN:\n",
    "    corresponding_unique_interest_rate_values[ssn] = list(df_interest_rate[df_interest_rate['SSN'] == ssn]['Interest_Rate'].unique())"
   ]
  },
  {
   "cell_type": "code",
   "execution_count": 6,
   "metadata": {},
   "outputs": [
    {
     "data": {
      "text/plain": [
       "{821000265: [3],\n",
       " 4075839: [6],\n",
       " 486853974: [8],\n",
       " 72316145: [4],\n",
       " 615067821: [5],\n",
       " 612708987: [8, 5318],\n",
       " 411510676: [8],\n",
       " 500926408: [15],\n",
       " 70191622: [7],\n",
       " 366681681: [12]}"
      ]
     },
     "execution_count": 6,
     "metadata": {},
     "output_type": "execute_result"
    }
   ],
   "source": [
    "dict(itertools.islice(corresponding_unique_interest_rate_values.items(),10))"
   ]
  },
  {
   "cell_type": "code",
   "execution_count": 7,
   "metadata": {},
   "outputs": [
    {
     "name": "stdout",
     "output_type": "stream",
     "text": [
      "Interest_rate Count :  2012 || Unique interest_rate count : 1697  || Example :  [5318, 433, 5240, 4975, 668]\n"
     ]
    }
   ],
   "source": [
    "interest_rate = 0\n",
    "interest_rate_list = []\n",
    "for index in range(len(df_interest_rate)):\n",
    "    if (df_interest_rate['Interest_Rate'][index]) > 100:\n",
    "        interest_rate +=1\n",
    "        interest_rate_list.append(df_interest_rate['Interest_Rate'][index])\n",
    "print(\"Interest_rate Count : \",interest_rate,\"|| Unique interest_rate count :\",len(set(interest_rate_list)),\" || Example : \",interest_rate_list[0:5])"
   ]
  },
  {
   "cell_type": "code",
   "execution_count": 8,
   "metadata": {},
   "outputs": [],
   "source": [
    "for index in range(len(df_interest_rate)):\n",
    "    if df_interest_rate['Interest_Rate'][index] > 100:\n",
    "        df_interest_rate['Interest_Rate'][index] = [val for val in corresponding_unique_interest_rate_values[df_interest_rate['SSN'][index]] if val <= 100 ][0]"
   ]
  },
  {
   "cell_type": "code",
   "execution_count": 9,
   "metadata": {},
   "outputs": [],
   "source": [
    "corresponding_unique_interest_rate_values = {}\n",
    "for ssn in unique_SSN:\n",
    "    corresponding_unique_interest_rate_values[ssn] = list(df_interest_rate[df_interest_rate['SSN'] == ssn]['Interest_Rate'].unique())"
   ]
  },
  {
   "cell_type": "code",
   "execution_count": 10,
   "metadata": {},
   "outputs": [
    {
     "data": {
      "text/plain": [
       "{821000265: [3],\n",
       " 4075839: [6],\n",
       " 486853974: [8],\n",
       " 72316145: [4],\n",
       " 615067821: [5],\n",
       " 612708987: [8],\n",
       " 411510676: [8],\n",
       " 500926408: [15],\n",
       " 70191622: [7],\n",
       " 366681681: [12]}"
      ]
     },
     "execution_count": 10,
     "metadata": {},
     "output_type": "execute_result"
    }
   ],
   "source": [
    "dict(itertools.islice(corresponding_unique_interest_rate_values.items(),10))"
   ]
  },
  {
   "cell_type": "code",
   "execution_count": 12,
   "metadata": {},
   "outputs": [
    {
     "name": "stdout",
     "output_type": "stream",
     "text": [
      "Interest_rate Count :  0 || Unique interest_rate count : 0  || Example :  []\n"
     ]
    }
   ],
   "source": [
    "interest_rate = 0\n",
    "interest_rate_list = []\n",
    "for index in range(len(df_interest_rate)):\n",
    "    if (df_interest_rate['Interest_Rate'][index]) > 100:\n",
    "        interest_rate +=1\n",
    "        interest_rate_list.append(df_interest_rate['Interest_Rate'][index])\n",
    "print(\"Interest_rate Count : \",interest_rate,\"|| Unique interest_rate count :\",len(set(interest_rate_list)),\" || Example : \",interest_rate_list[0:5])"
   ]
  },
  {
   "cell_type": "markdown",
   "metadata": {},
   "source": [
    "### PreProcessing Num_of_Loan"
   ]
  },
  {
   "cell_type": "code",
   "execution_count": 31,
   "metadata": {},
   "outputs": [],
   "source": [
    "df_num_of_loan = df_interest_rate.copy()"
   ]
  },
  {
   "cell_type": "code",
   "execution_count": 32,
   "metadata": {},
   "outputs": [
    {
     "data": {
      "text/plain": [
       "434"
      ]
     },
     "execution_count": 32,
     "metadata": {},
     "output_type": "execute_result"
    }
   ],
   "source": [
    "df_num_of_loan['Num_of_Loan'].nunique()"
   ]
  },
  {
   "cell_type": "code",
   "execution_count": 33,
   "metadata": {},
   "outputs": [
    {
     "name": "stdout",
     "output_type": "stream",
     "text": [
      "underscore_num_of_loan Count :  4785 || Unique underscore_num_of_loan count : 35  || Example :  ['0_', '3_', '3_', '2_', '5_']\n",
      "noisy_num_of_loan Count :  430 || Unique noisy_num_of_loan count : 376  || Example :  ['967', '1464', '622', '352', '472']\n"
     ]
    }
   ],
   "source": [
    "underscore_num_of_loan = 0\n",
    "underscore_num_of_loan_list = []\n",
    "noisy_num_of_loan = 0\n",
    "noisy_num_of_loan_list = []\n",
    "for index in range(len(df_num_of_loan)):\n",
    "    if '_' in  df_num_of_loan['Num_of_Loan'][index]:\n",
    "        underscore_num_of_loan += 1\n",
    "        underscore_num_of_loan_list.append(df_num_of_loan['Num_of_Loan'][index])\n",
    "    try:\n",
    "        if int(df_num_of_loan['Num_of_Loan'][index]) > 50 or int(df_num_of_loan['Num_of_Loan'][index] < 0):\n",
    "            noisy_num_of_loan +=1\n",
    "            noisy_num_of_loan_list.append(df_num_of_loan['Num_of_Loan'][index])\n",
    "            \n",
    "    except:\n",
    "        pass\n",
    "print(\"underscore_num_of_loan Count : \",underscore_num_of_loan,\"|| Unique underscore_num_of_loan count :\",len(set(underscore_num_of_loan_list)), \" || Example : \",underscore_num_of_loan_list[0:5])\n",
    "print(\"noisy_num_of_loan Count : \",noisy_num_of_loan,\"|| Unique noisy_num_of_loan count :\",len(set(noisy_num_of_loan_list)),\" || Example : \",noisy_num_of_loan_list[0:5])\n",
    "\n"
   ]
  },
  {
   "cell_type": "markdown",
   "metadata": {},
   "source": [
    "Ommiting underscores"
   ]
  },
  {
   "cell_type": "code",
   "execution_count": 34,
   "metadata": {},
   "outputs": [],
   "source": [
    "for index in range(len(df_num_of_loan)):\n",
    "    if '_' in df_num_of_loan['Num_of_Loan'][index]:\n",
    "        df_num_of_loan['Num_of_Loan'][index] = df_num_of_loan['Num_of_Loan'][index].replace('_','')"
   ]
  },
  {
   "cell_type": "markdown",
   "metadata": {},
   "source": [
    "Ommiting noisy datas"
   ]
  },
  {
   "cell_type": "code",
   "execution_count": 35,
   "metadata": {},
   "outputs": [],
   "source": [
    "df_num_of_loan['Num_of_Loan'] = df_num_of_loan['Num_of_Loan'].astype(int)"
   ]
  },
  {
   "cell_type": "code",
   "execution_count": 36,
   "metadata": {},
   "outputs": [],
   "source": [
    "corresponding_unique_num_of_loan_values= {}\n",
    "for ssn in unique_SSN:\n",
    "    corresponding_unique_num_of_loan_values[ssn] = list(df_num_of_loan[df_num_of_loan['SSN'] == ssn]['Num_of_Loan'].unique())"
   ]
  },
  {
   "cell_type": "code",
   "execution_count": 37,
   "metadata": {},
   "outputs": [
    {
     "data": {
      "text/plain": [
       "{821000265: [4],\n",
       " 4075839: [1],\n",
       " 486853974: [3, 967],\n",
       " 72316145: [1, -100],\n",
       " 615067821: [0, -100],\n",
       " 612708987: [0],\n",
       " 411510676: [2, -100],\n",
       " 500926408: [3, -100],\n",
       " 70191622: [-100, 3],\n",
       " 366681681: [2, -100]}"
      ]
     },
     "execution_count": 37,
     "metadata": {},
     "output_type": "execute_result"
    }
   ],
   "source": [
    "dict(itertools.islice(corresponding_unique_num_of_loan_values.items(),10))"
   ]
  },
  {
   "cell_type": "code",
   "execution_count": 38,
   "metadata": {},
   "outputs": [],
   "source": [
    "for index in range(len(df_num_of_loan)):\n",
    "    if df_num_of_loan['Num_of_Loan'][index] > 50 or df_num_of_loan['Num_of_Loan'][index] < 0:\n",
    "        df_num_of_loan['Num_of_Loan'][index] = [val for val in corresponding_unique_num_of_loan_values[df_num_of_loan['SSN'][index]] if ((val >= 0) and (val <= 50)) ][0]"
   ]
  },
  {
   "cell_type": "code",
   "execution_count": 39,
   "metadata": {},
   "outputs": [],
   "source": [
    "corresponding_unique_num_of_loan_values= {}\n",
    "for ssn in unique_SSN:\n",
    "    corresponding_unique_num_of_loan_values[ssn] = list(df_num_of_loan[df_num_of_loan['SSN'] == ssn]['Num_of_Loan'].unique())"
   ]
  },
  {
   "cell_type": "code",
   "execution_count": 40,
   "metadata": {},
   "outputs": [
    {
     "data": {
      "text/plain": [
       "{821000265: [4],\n",
       " 4075839: [1],\n",
       " 486853974: [3],\n",
       " 72316145: [1],\n",
       " 615067821: [0],\n",
       " 612708987: [0],\n",
       " 411510676: [2],\n",
       " 500926408: [3],\n",
       " 70191622: [3],\n",
       " 366681681: [2]}"
      ]
     },
     "execution_count": 40,
     "metadata": {},
     "output_type": "execute_result"
    }
   ],
   "source": [
    "dict(itertools.islice(corresponding_unique_num_of_loan_values.items(),10))"
   ]
  },
  {
   "cell_type": "code",
   "execution_count": 42,
   "metadata": {},
   "outputs": [],
   "source": [
    "df_num_of_loan.to_csv('checkpoints//df_num_of_loan.csv',index = False)"
   ]
  },
  {
   "cell_type": "markdown",
   "metadata": {},
   "source": [
    "### PreProcessing Type_of_Loan"
   ]
  },
  {
   "cell_type": "code",
   "execution_count": 3,
   "metadata": {},
   "outputs": [],
   "source": [
    "df_type_of_loan = pd.read_csv('checkpoints//df_num_of_loan.csv')"
   ]
  },
  {
   "cell_type": "code",
   "execution_count": 44,
   "metadata": {},
   "outputs": [
    {
     "data": {
      "text/plain": [
       "6260"
      ]
     },
     "execution_count": 44,
     "metadata": {},
     "output_type": "execute_result"
    }
   ],
   "source": [
    "df_type_of_loan['Type_of_Loan'].nunique()"
   ]
  },
  {
   "cell_type": "code",
   "execution_count": 52,
   "metadata": {},
   "outputs": [],
   "source": [
    "types_of_loan = set()"
   ]
  },
  {
   "cell_type": "code",
   "execution_count": 54,
   "metadata": {},
   "outputs": [
    {
     "data": {
      "text/plain": [
       "'Credit-Builder Loan'"
      ]
     },
     "execution_count": 54,
     "metadata": {},
     "output_type": "execute_result"
    }
   ],
   "source": [
    "df_type_of_loan['Type_of_Loan'][10]"
   ]
  },
  {
   "cell_type": "code",
   "execution_count": 74,
   "metadata": {},
   "outputs": [
    {
     "data": {
      "text/plain": [
       "['Credit-Builder Loan']"
      ]
     },
     "execution_count": 74,
     "metadata": {},
     "output_type": "execute_result"
    },
    {
     "data": {
      "text/plain": [
       "'Personal'"
      ]
     },
     "execution_count": 74,
     "metadata": {},
     "output_type": "execute_result"
    }
   ],
   "source": [
    "df_type_of_loan['Type_of_Loan'][10].split(',')\n",
    "df_type_of_loan['Type_of_Loan'][0].split(',')[2].split(' Loan')[0].replace(' ','').replace('and','')"
   ]
  },
  {
   "cell_type": "code",
   "execution_count": 85,
   "metadata": {},
   "outputs": [],
   "source": [
    "corresponding_unique_type_of_loan_values = {}\n",
    "for ssn in unique_SSN:\n",
    "    corresponding_unique_type_of_loan_values[ssn] = list(df_type_of_loan[df_type_of_loan['SSN'] == ssn]['Type_of_Loan'].unique())"
   ]
  },
  {
   "cell_type": "code",
   "execution_count": 86,
   "metadata": {},
   "outputs": [
    {
     "data": {
      "text/plain": [
       "{821000265: ['Auto Loan, Credit-Builder Loan, Personal Loan, and Home Equity Loan'],\n",
       " 4075839: ['Credit-Builder Loan'],\n",
       " 486853974: ['Auto Loan, Auto Loan, and Not Specified'],\n",
       " 72316145: ['Not Specified'],\n",
       " 615067821: [nan],\n",
       " 612708987: [nan],\n",
       " 411510676: ['Credit-Builder Loan, and Mortgage Loan'],\n",
       " 500926408: ['Not Specified, Auto Loan, and Student Loan'],\n",
       " 70191622: ['Personal Loan, Debt Consolidation Loan, and Auto Loan'],\n",
       " 366681681: ['Not Specified, and Payday Loan']}"
      ]
     },
     "execution_count": 86,
     "metadata": {},
     "output_type": "execute_result"
    }
   ],
   "source": [
    "dict(itertools.islice(corresponding_unique_type_of_loan_values.items(),10))"
   ]
  },
  {
   "attachments": {},
   "cell_type": "markdown",
   "metadata": {},
   "source": [
    "replacing nan with 'Not Specified'"
   ]
  },
  {
   "cell_type": "code",
   "execution_count": 87,
   "metadata": {},
   "outputs": [],
   "source": [
    "df_type_of_loan['Type_of_Loan'].fillna('Not Specified',inplace = True)"
   ]
  },
  {
   "cell_type": "code",
   "execution_count": 88,
   "metadata": {},
   "outputs": [],
   "source": [
    "corresponding_unique_type_of_loan_values = {}\n",
    "for ssn in unique_SSN:\n",
    "    corresponding_unique_type_of_loan_values[ssn] = list(df_type_of_loan[df_type_of_loan['SSN'] == ssn]['Type_of_Loan'].unique())"
   ]
  },
  {
   "cell_type": "code",
   "execution_count": 101,
   "metadata": {},
   "outputs": [
    {
     "data": {
      "text/plain": [
       "{821000265: ['Auto Loan, Credit-Builder Loan, Personal Loan, and Home Equity Loan'],\n",
       " 4075839: ['Credit-Builder Loan'],\n",
       " 486853974: ['Auto Loan, Auto Loan, and Not Specified'],\n",
       " 72316145: ['Not Specified'],\n",
       " 615067821: ['Not Specified'],\n",
       " 612708987: ['Not Specified'],\n",
       " 411510676: ['Credit-Builder Loan, and Mortgage Loan'],\n",
       " 500926408: ['Not Specified, Auto Loan, and Student Loan'],\n",
       " 70191622: ['Personal Loan, Debt Consolidation Loan, and Auto Loan'],\n",
       " 366681681: ['Not Specified, and Payday Loan'],\n",
       " 221308554: ['Credit-Builder Loan, Personal Loan, and Auto Loan'],\n",
       " 342902649: ['Payday Loan, and Payday Loan'],\n",
       " 414532918: ['Not Specified, Student Loan, and Personal Loan'],\n",
       " 328336328: ['Personal Loan, Payday Loan, Student Loan, Auto Loan, Home Equity Loan, Student Loan, and Payday Loan'],\n",
       " 655057666: ['Not Specified, Student Loan, Student Loan, Credit-Builder Loan, and Auto Loan'],\n",
       " 965462491: ['Payday Loan, and Home Equity Loan'],\n",
       " 891559364: ['Not Specified'],\n",
       " 928914452: ['Credit-Builder Loan, Not Specified, Mortgage Loan, Payday Loan, Credit-Builder Loan, and Personal Loan'],\n",
       " 84253745: ['Not Specified'],\n",
       " 68834394: ['Mortgage Loan, Debt Consolidation Loan, Payday Loan, Auto Loan, and Not Specified']}"
      ]
     },
     "execution_count": 101,
     "metadata": {},
     "output_type": "execute_result"
    }
   ],
   "source": [
    "dict(itertools.islice(corresponding_unique_type_of_loan_values.items(),20))"
   ]
  },
  {
   "cell_type": "code",
   "execution_count": 81,
   "metadata": {},
   "outputs": [
    {
     "data": {
      "text/plain": [
       "['Auto Loan',\n",
       " ' Credit-Builder Loan',\n",
       " ' Personal Loan',\n",
       " ' and Home Equity Loan']"
      ]
     },
     "execution_count": 81,
     "metadata": {},
     "output_type": "execute_result"
    }
   ],
   "source": [
    "corresponding_unique_type_of_loan_values[821000265][0].split(',')"
   ]
  },
  {
   "cell_type": "code",
   "execution_count": 90,
   "metadata": {},
   "outputs": [],
   "source": [
    "for values in corresponding_unique_type_of_loan_values.values():\n",
    "    for i in range(len(values)):\n",
    "        types_of_loan.add(values[0].split(',')[i].split(' Loan')[0].replace(' ','').replace('and',''))"
   ]
  },
  {
   "cell_type": "code",
   "execution_count": 99,
   "metadata": {},
   "outputs": [
    {
     "data": {
      "text/plain": [
       "{'Auto',\n",
       " 'Credit-Builder',\n",
       " 'DebtConsolidation',\n",
       " 'HomeEquity',\n",
       " 'Mortgage',\n",
       " 'NotSpecified',\n",
       " 'Payday',\n",
       " 'Personal',\n",
       " 'Student'}"
      ]
     },
     "execution_count": 99,
     "metadata": {},
     "output_type": "execute_result"
    }
   ],
   "source": [
    "types_of_loan"
   ]
  },
  {
   "cell_type": "code",
   "execution_count": 141,
   "metadata": {},
   "outputs": [
    {
     "data": {
      "text/plain": [
       "['Auto',\n",
       " 'Credit-Builder',\n",
       " 'DebtConsolidation',\n",
       " 'HomeEquity',\n",
       " 'Mortgage',\n",
       " 'NotSpecified',\n",
       " 'Payday',\n",
       " 'Personal',\n",
       " 'Student']"
      ]
     },
     "execution_count": 141,
     "metadata": {},
     "output_type": "execute_result"
    }
   ],
   "source": [
    "processed_types_of_loan_list = sorted(list(types_of_loan))\n",
    "processed_types_of_loan_list"
   ]
  },
  {
   "cell_type": "code",
   "execution_count": 143,
   "metadata": {},
   "outputs": [
    {
     "data": {
      "text/plain": [
       "['Auto Loan',\n",
       " 'Credit-Builder Loan',\n",
       " 'Debt Consolidation Loan',\n",
       " 'Home Equity Loan',\n",
       " 'Mortgage Loan',\n",
       " 'Not Specified',\n",
       " 'Payday Loan',\n",
       " 'Personal Loan',\n",
       " 'Student Loan']"
      ]
     },
     "execution_count": 143,
     "metadata": {},
     "output_type": "execute_result"
    }
   ],
   "source": [
    "dataframe_type_of_loan_list = sorted(['Credit-Builder Loan',\n",
    "                               'Not Specified',\n",
    "                               'Debt Consolidation Loan',\n",
    "                               'Auto Loan',\n",
    "                               'Student Loan',\n",
    "                               'Home Equity Loan', \n",
    "                               'Mortgage Loan',\n",
    "                               'Personal Loan',\n",
    "                               'Payday Loan'])\n",
    "dataframe_type_of_loan_list"
   ]
  },
  {
   "cell_type": "code",
   "execution_count": 144,
   "metadata": {},
   "outputs": [],
   "source": [
    "def map_type_of_loan(txt):\n",
    "    txt = str(txt)\n",
    "    for i in range(len(processed_types_of_loan_list)):\n",
    "        txt = txt.replace(dataframe_type_of_loan_list[i],processed_types_of_loan_list[i])\n",
    "    return txt"
   ]
  },
  {
   "cell_type": "code",
   "execution_count": 145,
   "metadata": {},
   "outputs": [
    {
     "data": {
      "text/plain": [
       "'Credit-Builder,NotSpecified,DebtConsolidation,Auto,Student,HomeEquity,Mortgage,Personal'"
      ]
     },
     "execution_count": 145,
     "metadata": {},
     "output_type": "execute_result"
    }
   ],
   "source": [
    "txt = 'Credit-Builder Loan,Not Specified,Debt Consolidation Loan,Auto Loan,Student Loan,Home Equity Loan,Mortgage Loan,Personal Loan'\n",
    "map_type_of_loan(txt)"
   ]
  },
  {
   "cell_type": "code",
   "execution_count": 139,
   "metadata": {},
   "outputs": [],
   "source": [
    "df_type_of_loan['Type_of_Loan'] = df_type_of_loan['Type_of_Loan'].apply(map_type_of_loan)"
   ]
  },
  {
   "cell_type": "code",
   "execution_count": 140,
   "metadata": {},
   "outputs": [
    {
     "data": {
      "text/plain": [
       "0    Auto, Credit-Builder, Personal, and HomeEquity\n",
       "1    Auto, Credit-Builder, Personal, and HomeEquity\n",
       "2    Auto, Credit-Builder, Personal, and HomeEquity\n",
       "3    Auto, Credit-Builder, Personal, and HomeEquity\n",
       "4    Auto, Credit-Builder, Personal, and HomeEquity\n",
       "Name: Type_of_Loan, dtype: object"
      ]
     },
     "execution_count": 140,
     "metadata": {},
     "output_type": "execute_result"
    }
   ],
   "source": [
    "df_type_of_loan['Type_of_Loan'].head()"
   ]
  },
  {
   "cell_type": "code",
   "execution_count": 173,
   "metadata": {},
   "outputs": [],
   "source": [
    "index = 0\n",
    "for type_of_loan in processed_types_of_loan_list:\n",
    "    df_type_of_loan.insert(loc = 11 + index, column = type_of_loan , value = 0)\n",
    "    index += 1"
   ]
  },
  {
   "cell_type": "code",
   "execution_count": 174,
   "metadata": {},
   "outputs": [],
   "source": [
    "df_type_of_loan.drop(columns = 'NotSpecified',inplace = True)"
   ]
  },
  {
   "cell_type": "code",
   "execution_count": 175,
   "metadata": {},
   "outputs": [
    {
     "data": {
      "text/plain": [
       "Index(['Month', 'Age', 'SSN', 'Occupation', 'Annual_Income',\n",
       "       'Monthly_Inhand_Salary', 'Num_Bank_Accounts', 'Num_Credit_Card',\n",
       "       'Interest_Rate', 'Num_of_Loan', 'Type_of_Loan', 'Auto',\n",
       "       'Credit-Builder', 'DebtConsolidation', 'HomeEquity', 'Mortgage',\n",
       "       'Payday', 'Personal', 'Student', 'Delay_from_due_date',\n",
       "       'Num_of_Delayed_Payment', 'Changed_Credit_Limit',\n",
       "       'Num_Credit_Inquiries', 'Credit_Mix', 'Outstanding_Debt',\n",
       "       'Credit_Utilization_Ratio', 'Credit_History_Age',\n",
       "       'Payment_of_Min_Amount', 'Total_EMI_per_month',\n",
       "       'Amount_invested_monthly', 'Payment_Behaviour', 'Monthly_Balance',\n",
       "       'Credit_Score'],\n",
       "      dtype='object')"
      ]
     },
     "execution_count": 175,
     "metadata": {},
     "output_type": "execute_result"
    }
   ],
   "source": [
    "df_type_of_loan.columns"
   ]
  },
  {
   "cell_type": "code",
   "execution_count": 176,
   "metadata": {},
   "outputs": [],
   "source": [
    "for type_of_loan in processed_types_of_loan_list:    \n",
    "    df_type_of_loan[type_of_loan] = df_type_of_loan['Type_of_Loan'].apply(lambda x:1 if type_of_loan in x else 0)"
   ]
  },
  {
   "cell_type": "code",
   "execution_count": 178,
   "metadata": {},
   "outputs": [],
   "source": [
    "df_type_of_loan.to_csv('checkpoints//df_type_of_loan.csv',index = False)"
   ]
  },
  {
   "cell_type": "markdown",
   "metadata": {},
   "source": [
    "### PreProcessing Delay_from_due_date"
   ]
  },
  {
   "cell_type": "code",
   "execution_count": 4,
   "metadata": {},
   "outputs": [],
   "source": [
    "df_delay_from_due_date = pd.read_csv('checkpoints//df_type_of_loan.csv')"
   ]
  },
  {
   "cell_type": "code",
   "execution_count": 5,
   "metadata": {},
   "outputs": [
    {
     "data": {
      "text/plain": [
       "0"
      ]
     },
     "execution_count": 5,
     "metadata": {},
     "output_type": "execute_result"
    }
   ],
   "source": [
    "df_delay_from_due_date['Delay_from_due_date'].isna().sum()"
   ]
  },
  {
   "cell_type": "code",
   "execution_count": 6,
   "metadata": {},
   "outputs": [
    {
     "data": {
      "text/plain": [
       "0    3\n",
       "1   -1\n",
       "2    3\n",
       "3    5\n",
       "4    6\n",
       "Name: Delay_from_due_date, dtype: int64"
      ]
     },
     "execution_count": 6,
     "metadata": {},
     "output_type": "execute_result"
    }
   ],
   "source": [
    "df_delay_from_due_date['Delay_from_due_date'].head()"
   ]
  },
  {
   "cell_type": "code",
   "execution_count": 47,
   "metadata": {},
   "outputs": [
    {
     "data": {
      "text/plain": [
       "73"
      ]
     },
     "execution_count": 47,
     "metadata": {},
     "output_type": "execute_result"
    }
   ],
   "source": [
    "df_delay_from_due_date[\"Delay_from_due_date\"].nunique()"
   ]
  },
  {
   "cell_type": "code",
   "execution_count": 7,
   "metadata": {},
   "outputs": [],
   "source": [
    "corresponding_delay_from_due_date_values = {}"
   ]
  },
  {
   "cell_type": "code",
   "execution_count": 8,
   "metadata": {},
   "outputs": [],
   "source": [
    "for ssn in unique_SSN:\n",
    "    corresponding_delay_from_due_date_values[ssn] = list(df_delay_from_due_date[df_delay_from_due_date['SSN'] == ssn]['Delay_from_due_date'].unique())"
   ]
  },
  {
   "cell_type": "code",
   "execution_count": 9,
   "metadata": {},
   "outputs": [
    {
     "data": {
      "text/plain": [
       "{821000265: [3, -1, 5, 6, 8],\n",
       " 4075839: [3, 7],\n",
       " 486853974: [5, 13, 8, 10],\n",
       " 72316145: [0, 5, 3, 7, 4],\n",
       " 615067821: [5, 9, 1, 10],\n",
       " 612708987: [12, 8, 11, 7],\n",
       " 411510676: [0, -1],\n",
       " 500926408: [30, 31, 34, 27],\n",
       " 70191622: [13, 14, 11],\n",
       " 366681681: [4, 2, -2, 1, -1]}"
      ]
     },
     "execution_count": 9,
     "metadata": {},
     "output_type": "execute_result"
    }
   ],
   "source": [
    "dict(itertools.islice(corresponding_delay_from_due_date_values.items(),10))"
   ]
  },
  {
   "attachments": {},
   "cell_type": "markdown",
   "metadata": {},
   "source": [
    "Seems random so not replacing probably dropping later."
   ]
  },
  {
   "cell_type": "markdown",
   "metadata": {},
   "source": [
    "### PreProcessing Num_of_Delayed_Payment"
   ]
  },
  {
   "cell_type": "code",
   "execution_count": 10,
   "metadata": {},
   "outputs": [],
   "source": [
    "df_num_of_delayed_payment = df_delay_from_due_date.copy()"
   ]
  },
  {
   "cell_type": "code",
   "execution_count": 11,
   "metadata": {},
   "outputs": [
    {
     "data": {
      "text/plain": [
       "749"
      ]
     },
     "execution_count": 11,
     "metadata": {},
     "output_type": "execute_result"
    }
   ],
   "source": [
    "df_num_of_delayed_payment[\"Num_of_Delayed_Payment\"].nunique()"
   ]
  },
  {
   "cell_type": "code",
   "execution_count": 12,
   "metadata": {},
   "outputs": [
    {
     "data": {
      "text/plain": [
       "7002"
      ]
     },
     "execution_count": 12,
     "metadata": {},
     "output_type": "execute_result"
    }
   ],
   "source": [
    "df_num_of_delayed_payment[\"Num_of_Delayed_Payment\"].isna().sum()"
   ]
  },
  {
   "cell_type": "code",
   "execution_count": 14,
   "metadata": {},
   "outputs": [],
   "source": [
    "corresponding_unique_delayed_payment_values = {}"
   ]
  },
  {
   "cell_type": "code",
   "execution_count": 15,
   "metadata": {},
   "outputs": [],
   "source": [
    "for ssn in unique_SSN:\n",
    "    corresponding_unique_delayed_payment_values[ssn] = list(df_num_of_delayed_payment[df_num_of_delayed_payment['SSN'] == ssn]['Num_of_Delayed_Payment'].unique())"
   ]
  },
  {
   "cell_type": "code",
   "execution_count": 18,
   "metadata": {},
   "outputs": [
    {
     "data": {
      "text/plain": [
       "{821000265: ['7', nan, '4', '8_', '6'],\n",
       " 4075839: ['4', '1', '-1', '3_', '0'],\n",
       " 486853974: ['8', '6', '7', '5'],\n",
       " 72316145: ['6', '3', '9', nan],\n",
       " 615067821: [nan, '12', '15', '17'],\n",
       " 612708987: ['10', '7', '4'],\n",
       " 411510676: ['3', '2', '4', '3_', '2_'],\n",
       " 500926408: ['11', '14'],\n",
       " 70191622: ['11', '8', '14', nan],\n",
       " 366681681: ['0', '2']}"
      ]
     },
     "execution_count": 18,
     "metadata": {},
     "output_type": "execute_result"
    }
   ],
   "source": [
    "dict(itertools.islice(corresponding_unique_delayed_payment_values.items(),10))"
   ]
  },
  {
   "cell_type": "markdown",
   "metadata": {},
   "source": [
    "Making values int"
   ]
  },
  {
   "cell_type": "code",
   "execution_count": 21,
   "metadata": {},
   "outputs": [
    {
     "name": "stdout",
     "output_type": "stream",
     "text": [
      "underscore_unique_delayed_payment Count :  2744 || Unique underscore_unique_delayed_payment count : 51  || Example :  ['8_', '3_', '3_', '2_', '13_']\n",
      "Noisy_unique_delayed_payment Count :  702 || Unique Noisy_unique_delayed_payment count : 651  || Example :  ['3318', '3083', '1338', '3104', '1106']\n"
     ]
    }
   ],
   "source": [
    "underscore_unique_delayed_payment = 0\n",
    "underscore_unique_delayed_payment_list = []\n",
    "noisy_unique_delayed_payment = 0\n",
    "noisy_unique_delayed_payment_list = []\n",
    "for index in range(len(df_num_of_delayed_payment)):\n",
    "    try:\n",
    "        if '_' in  df_num_of_delayed_payment['Num_of_Delayed_Payment'][index]:\n",
    "            underscore_unique_delayed_payment += 1\n",
    "            underscore_unique_delayed_payment_list.append(df_num_of_delayed_payment['Num_of_Delayed_Payment'][index])\n",
    "    except:\n",
    "        pass\n",
    "    try:\n",
    "        if int(df_num_of_delayed_payment['Num_of_Delayed_Payment'][index]) > 120 or int(df_num_of_delayed_payment['Num_of_Delayed_Payment'][index] < 0):\n",
    "            noisy_unique_delayed_payment +=1\n",
    "            noisy_unique_delayed_payment_list.append(df_num_of_delayed_payment['Num_of_Delayed_Payment'][index])\n",
    "            \n",
    "    except:\n",
    "        pass\n",
    "print(\"underscore_unique_delayed_payment Count : \",underscore_unique_delayed_payment,\"|| Unique underscore_unique_delayed_payment count :\",len(set(underscore_unique_delayed_payment_list)), \" || Example : \",underscore_unique_delayed_payment_list[0:5])\n",
    "print(\"Noisy_unique_delayed_payment Count : \",noisy_unique_delayed_payment,\"|| Unique Noisy_unique_delayed_payment count :\",len(set(noisy_unique_delayed_payment_list)),\" || Example : \",noisy_unique_delayed_payment_list[0:5])\n",
    "\n"
   ]
  },
  {
   "attachments": {},
   "cell_type": "markdown",
   "metadata": {},
   "source": [
    "Noisy data maybe dropped later. For now replacing underscore value"
   ]
  },
  {
   "cell_type": "code",
   "execution_count": 22,
   "metadata": {},
   "outputs": [],
   "source": [
    "for index in range(len(df_num_of_delayed_payment)):\n",
    "    try:\n",
    "        if '_' in df_num_of_delayed_payment['Num_of_Delayed_Payment'][index]:\n",
    "            df_num_of_delayed_payment['Num_of_Delayed_Payment'][index] = df_num_of_delayed_payment['Num_of_Delayed_Payment'][index].replace('_','')\n",
    "    except:\n",
    "        pass"
   ]
  },
  {
   "cell_type": "code",
   "execution_count": 25,
   "metadata": {},
   "outputs": [],
   "source": [
    "df_num_of_delayed_payment['Num_of_Delayed_Payment'] = df_num_of_delayed_payment['Num_of_Delayed_Payment'].astype(float)\n"
   ]
  },
  {
   "cell_type": "code",
   "execution_count": 26,
   "metadata": {},
   "outputs": [
    {
     "name": "stdout",
     "output_type": "stream",
     "text": [
      "underscore_unique_delayed_payment Count :  0 || Unique underscore_unique_delayed_payment count : 0  || Example :  []\n",
      "Noisy_unique_delayed_payment Count :  1365 || Unique Noisy_unique_delayed_payment count : 667  || Example :  [-1.0, 3318.0, 3083.0, 1338.0, 3104.0]\n"
     ]
    }
   ],
   "source": [
    "underscore_unique_delayed_payment = 0\n",
    "underscore_unique_delayed_payment_list = []\n",
    "noisy_unique_delayed_payment = 0\n",
    "noisy_unique_delayed_payment_list = []\n",
    "for index in range(len(df_num_of_delayed_payment)):\n",
    "    try:\n",
    "        if '_' in  df_num_of_delayed_payment['Num_of_Delayed_Payment'][index]:\n",
    "            underscore_unique_delayed_payment += 1\n",
    "            underscore_unique_delayed_payment_list.append(df_num_of_delayed_payment['Num_of_Delayed_Payment'][index])\n",
    "    except:\n",
    "        pass\n",
    "    try:\n",
    "        if int(df_num_of_delayed_payment['Num_of_Delayed_Payment'][index]) > 120 or int(df_num_of_delayed_payment['Num_of_Delayed_Payment'][index] < 0):\n",
    "            noisy_unique_delayed_payment +=1\n",
    "            noisy_unique_delayed_payment_list.append(df_num_of_delayed_payment['Num_of_Delayed_Payment'][index])\n",
    "            \n",
    "    except:\n",
    "        pass\n",
    "print(\"underscore_unique_delayed_payment Count : \",underscore_unique_delayed_payment,\"|| Unique underscore_unique_delayed_payment count :\",len(set(underscore_unique_delayed_payment_list)), \" || Example : \",underscore_unique_delayed_payment_list[0:5])\n",
    "print(\"Noisy_unique_delayed_payment Count : \",noisy_unique_delayed_payment,\"|| Unique Noisy_unique_delayed_payment count :\",len(set(noisy_unique_delayed_payment_list)),\" || Example : \",noisy_unique_delayed_payment_list[0:5])\n",
    "\n"
   ]
  },
  {
   "cell_type": "markdown",
   "metadata": {},
   "source": [
    "it seems after removing underscore some datas became noisy"
   ]
  },
  {
   "cell_type": "markdown",
   "metadata": {},
   "source": [
    "### PreProcessing Changed_Credit_Limit"
   ]
  },
  {
   "cell_type": "code",
   "execution_count": 49,
   "metadata": {},
   "outputs": [],
   "source": [
    "df_changed_credit_limit = df_num_of_delayed_payment.copy()"
   ]
  },
  {
   "cell_type": "code",
   "execution_count": 50,
   "metadata": {},
   "outputs": [
    {
     "data": {
      "text/plain": [
       "4384"
      ]
     },
     "execution_count": 50,
     "metadata": {},
     "output_type": "execute_result"
    }
   ],
   "source": [
    "df_changed_credit_limit['Changed_Credit_Limit'].nunique()"
   ]
  },
  {
   "cell_type": "code",
   "execution_count": 51,
   "metadata": {},
   "outputs": [
    {
     "data": {
      "text/plain": [
       "0"
      ]
     },
     "execution_count": 51,
     "metadata": {},
     "output_type": "execute_result"
    }
   ],
   "source": [
    "df_changed_credit_limit['Changed_Credit_Limit'].isna().sum()"
   ]
  },
  {
   "cell_type": "code",
   "execution_count": 52,
   "metadata": {},
   "outputs": [],
   "source": [
    "corresponding_unique_changed_credit_limit_values = {}"
   ]
  },
  {
   "cell_type": "code",
   "execution_count": 53,
   "metadata": {},
   "outputs": [],
   "source": [
    "for ssn in unique_SSN:\n",
    "    corresponding_unique_changed_credit_limit_values[ssn] = list(df_changed_credit_limit[df_changed_credit_limit['SSN'] == ssn]['Changed_Credit_Limit'].unique())"
   ]
  },
  {
   "cell_type": "code",
   "execution_count": 54,
   "metadata": {},
   "outputs": [
    {
     "data": {
      "text/plain": [
       "{821000265: ['11.27', '_', '6.27', '9.27'],\n",
       " 4075839: ['5.42', '7.42', '6.42'],\n",
       " 486853974: ['7.1', '11.1', '9.1'],\n",
       " 72316145: ['1.99', '-2.01', '-1.01', '-3.01'],\n",
       " 615067821: ['2.58'],\n",
       " 612708987: ['10.14', '9.14'],\n",
       " 411510676: ['9.34', '15.34', '8.34', '11.34'],\n",
       " 500926408: ['17.13', '21.13', '18.13'],\n",
       " 70191622: ['8.24', '_', '11.24'],\n",
       " 366681681: ['5.76', '-1.2400000000000002', '1.7599999999999998']}"
      ]
     },
     "execution_count": 54,
     "metadata": {},
     "output_type": "execute_result"
    }
   ],
   "source": [
    "dict(itertools.islice(corresponding_unique_changed_credit_limit_values.items(),10))"
   ]
  },
  {
   "cell_type": "code",
   "execution_count": 55,
   "metadata": {},
   "outputs": [
    {
     "name": "stdout",
     "output_type": "stream",
     "text": [
      "underscore_changed_credit_limit Count :  2091 || Unique underscore_changed_credit_limit count : 1  || Example :  ['_', '_', '_', '_', '_']\n",
      "noisy_changed_credit_limit Count :  0 || Unique noisy_changed_credit_limit count : 0  || Example :  []\n"
     ]
    }
   ],
   "source": [
    "underscore_changed_credit_limit = 0\n",
    "underscore_changed_credit_limit_list = []\n",
    "noisy_changed_credit_limit = 0\n",
    "noisy_changed_credit_limit_list = []\n",
    "for index in range(len(df_changed_credit_limit)):\n",
    "    if '_' in  df_changed_credit_limit['Changed_Credit_Limit'][index]:\n",
    "        underscore_changed_credit_limit += 1\n",
    "        underscore_changed_credit_limit_list.append(df_changed_credit_limit['Changed_Credit_Limit'][index])\n",
    "    try:\n",
    "        if int(df_changed_credit_limit['Changed_Credit_Limit'][index]) > 120 or int(df_changed_credit_limit['Changed_Credit_Limit'][index] <= 0):\n",
    "            noisy_changed_credit_limit +=1\n",
    "            noisy_changed_credit_limit_list.append(df_changed_credit_limit['Changed_Credit_Limit'][index])\n",
    "            \n",
    "    except:\n",
    "        pass\n",
    "print(\"underscore_changed_credit_limit Count : \",underscore_changed_credit_limit,\"|| Unique underscore_changed_credit_limit count :\",len(set(underscore_changed_credit_limit_list)), \" || Example : \",underscore_changed_credit_limit_list[0:5])\n",
    "print(\"noisy_changed_credit_limit Count : \",noisy_changed_credit_limit,\"|| Unique noisy_changed_credit_limit count :\",len(set(noisy_changed_credit_limit_list)),\" || Example : \",noisy_changed_credit_limit_list[0:5])\n",
    "\n"
   ]
  },
  {
   "cell_type": "code",
   "execution_count": 56,
   "metadata": {},
   "outputs": [],
   "source": [
    "for index in range(len(df_changed_credit_limit)):\n",
    "    if '_' in df_changed_credit_limit['Changed_Credit_Limit'][index]:\n",
    "        df_changed_credit_limit['Changed_Credit_Limit'][index] = df_changed_credit_limit['Changed_Credit_Limit'][index].replace('_','nan')"
   ]
  },
  {
   "cell_type": "code",
   "execution_count": 57,
   "metadata": {},
   "outputs": [],
   "source": [
    "df_changed_credit_limit['Changed_Credit_Limit'] = df_changed_credit_limit['Changed_Credit_Limit'].astype(float)\n"
   ]
  },
  {
   "cell_type": "code",
   "execution_count": 59,
   "metadata": {},
   "outputs": [
    {
     "name": "stdout",
     "output_type": "stream",
     "text": [
      "underscore_changed_credit_limit Count :  0 || Unique underscore_changed_credit_limit count : 0  || Example :  []\n",
      "noisy_changed_credit_limit Count :  1590 || Unique noisy_changed_credit_limit count : 661  || Example :  [-2.01, -1.01, -3.01, -1.2400000000000002, -4.14]\n"
     ]
    }
   ],
   "source": [
    "underscore_changed_credit_limit = 0\n",
    "underscore_changed_credit_limit_list = []\n",
    "noisy_changed_credit_limit = 0\n",
    "noisy_changed_credit_limit_list = []\n",
    "for index in range(len(df_changed_credit_limit)):\n",
    "    if float(df_changed_credit_limit['Changed_Credit_Limit'][index]) > 120 or int(df_changed_credit_limit['Changed_Credit_Limit'][index] <= 0):\n",
    "        noisy_changed_credit_limit +=1\n",
    "        noisy_changed_credit_limit_list.append(df_changed_credit_limit['Changed_Credit_Limit'][index])\n",
    "\n",
    "print(\"underscore_changed_credit_limit Count : \",underscore_changed_credit_limit,\"|| Unique underscore_changed_credit_limit count :\",len(set(underscore_changed_credit_limit_list)), \" || Example : \",underscore_changed_credit_limit_list[0:5])\n",
    "print(\"noisy_changed_credit_limit Count : \",noisy_changed_credit_limit,\"|| Unique noisy_changed_credit_limit count :\",len(set(noisy_changed_credit_limit_list)),\" || Example : \",noisy_changed_credit_limit_list[0:5])\n",
    "\n"
   ]
  },
  {
   "cell_type": "markdown",
   "metadata": {},
   "source": [
    "Also seems random so leaving as it is for now"
   ]
  },
  {
   "cell_type": "markdown",
   "metadata": {},
   "source": [
    "### PreProcessing Num_Credit_Inquiries"
   ]
  },
  {
   "cell_type": "code",
   "execution_count": 60,
   "metadata": {},
   "outputs": [],
   "source": [
    "df_num_credit_inquires = df_changed_credit_limit.copy()"
   ]
  },
  {
   "cell_type": "code",
   "execution_count": 61,
   "metadata": {},
   "outputs": [
    {
     "data": {
      "text/plain": [
       "1223"
      ]
     },
     "execution_count": 61,
     "metadata": {},
     "output_type": "execute_result"
    }
   ],
   "source": [
    "df_num_credit_inquires['Num_Credit_Inquiries'].nunique()"
   ]
  },
  {
   "cell_type": "code",
   "execution_count": 62,
   "metadata": {},
   "outputs": [
    {
     "data": {
      "text/plain": [
       "1965"
      ]
     },
     "execution_count": 62,
     "metadata": {},
     "output_type": "execute_result"
    }
   ],
   "source": [
    "df_num_credit_inquires['Num_Credit_Inquiries'].isna().sum()"
   ]
  },
  {
   "cell_type": "code",
   "execution_count": 63,
   "metadata": {},
   "outputs": [],
   "source": [
    "corresponding_unique_num_credit_inquires_values = {}"
   ]
  },
  {
   "cell_type": "code",
   "execution_count": 64,
   "metadata": {},
   "outputs": [],
   "source": [
    "for ssn in unique_SSN:\n",
    "    corresponding_unique_num_credit_inquires_values[ssn] = list(df_num_credit_inquires[df_num_credit_inquires['SSN'] == ssn]['Num_Credit_Inquiries'].unique())"
   ]
  },
  {
   "cell_type": "code",
   "execution_count": 65,
   "metadata": {},
   "outputs": [
    {
     "data": {
      "text/plain": [
       "{821000265: [4.0],\n",
       " 4075839: [2.0],\n",
       " 486853974: [3.0, nan],\n",
       " 72316145: [4.0],\n",
       " 615067821: [4.0],\n",
       " 612708987: [2.0, nan],\n",
       " 411510676: [2.0, 4.0],\n",
       " 500926408: [5.0, 9.0],\n",
       " 70191622: [3.0, 8.0],\n",
       " 366681681: [2.0, 5.0]}"
      ]
     },
     "execution_count": 65,
     "metadata": {},
     "output_type": "execute_result"
    }
   ],
   "source": [
    "dict(itertools.islice(corresponding_unique_num_credit_inquires_values.items(),10))"
   ]
  },
  {
   "cell_type": "code",
   "execution_count": 67,
   "metadata": {},
   "outputs": [
    {
     "name": "stdout",
     "output_type": "stream",
     "text": [
      "underscore_num_credit_inquires Count :  0 || Unique underscore_num_credit_inquires count : 0  || Example :  []\n",
      "noisy_num_credit_inquires Count :  8562 || Unique noisy_num_credit_inquires count : 1164  || Example :  [0.0, 0.0, 0.0, 1050.0, 0.0]\n"
     ]
    }
   ],
   "source": [
    "underscore_num_credit_inquires = 0\n",
    "underscore_num_credit_inquires_list = []\n",
    "noisy_num_credit_inquires = 0\n",
    "noisy_num_credit_inquires_list = []\n",
    "for index in range(len(df_num_credit_inquires)):\n",
    "    try:\n",
    "        if '_' in  df_num_credit_inquires['Num_Credit_Inquiries'][index]:\n",
    "            underscore_num_credit_inquires += 1\n",
    "            underscore_num_credit_inquires_list.append(df_num_credit_inquires['Num_Credit_Inquiries'][index])\n",
    "    except:\n",
    "        pass\n",
    "    try:\n",
    "        if int(df_num_credit_inquires['Num_Credit_Inquiries'][index]) > 120 or int(df_num_credit_inquires['Num_Credit_Inquiries'][index] <= 0):\n",
    "            noisy_num_credit_inquires +=1\n",
    "            noisy_num_credit_inquires_list.append(df_num_credit_inquires['Num_Credit_Inquiries'][index])\n",
    "            \n",
    "    except:\n",
    "        pass\n",
    "print(\"underscore_num_credit_inquires Count : \",underscore_num_credit_inquires,\"|| Unique underscore_num_credit_inquires count :\",len(set(underscore_num_credit_inquires_list)), \" || Example : \",underscore_num_credit_inquires_list[0:5])\n",
    "print(\"noisy_num_credit_inquires Count : \",noisy_num_credit_inquires,\"|| Unique noisy_num_credit_inquires count :\",len(set(noisy_num_credit_inquires_list)),\" || Example : \",noisy_num_credit_inquires_list[0:5])\n",
    "\n"
   ]
  },
  {
   "cell_type": "code",
   "execution_count": 70,
   "metadata": {},
   "outputs": [],
   "source": [
    "df_num_credit_inquires.to_csv('checkpoints//df_credit_inquires.csv',index = False)"
   ]
  },
  {
   "attachments": {},
   "cell_type": "markdown",
   "metadata": {},
   "source": [
    "leaving it for now"
   ]
  },
  {
   "cell_type": "markdown",
   "metadata": {},
   "source": [
    "### PreProcessing Credit_Mix"
   ]
  },
  {
   "cell_type": "code",
   "execution_count": 80,
   "metadata": {},
   "outputs": [],
   "source": [
    "df_credit_mix = pd.read_csv('checkpoints//df_credit_inquires.csv')"
   ]
  },
  {
   "cell_type": "code",
   "execution_count": 81,
   "metadata": {},
   "outputs": [
    {
     "data": {
      "text/plain": [
       "4"
      ]
     },
     "execution_count": 81,
     "metadata": {},
     "output_type": "execute_result"
    }
   ],
   "source": [
    "df_credit_mix['Credit_Mix'].nunique()"
   ]
  },
  {
   "cell_type": "code",
   "execution_count": 82,
   "metadata": {},
   "outputs": [
    {
     "data": {
      "text/plain": [
       "Standard    36479\n",
       "Good        24337\n",
       "_           20195\n",
       "Bad         18989\n",
       "Name: Credit_Mix, dtype: int64"
      ]
     },
     "execution_count": 82,
     "metadata": {},
     "output_type": "execute_result"
    }
   ],
   "source": [
    "df_credit_mix['Credit_Mix'].value_counts()"
   ]
  },
  {
   "cell_type": "code",
   "execution_count": 83,
   "metadata": {},
   "outputs": [],
   "source": [
    "corresponding_unique_credit_mix_values = {}"
   ]
  },
  {
   "cell_type": "code",
   "execution_count": 84,
   "metadata": {},
   "outputs": [],
   "source": [
    "for ssn in unique_SSN:\n",
    "    corresponding_unique_credit_mix_values[ssn] = list(df_credit_mix[df_credit_mix['SSN'] == ssn]['Credit_Mix'].unique())"
   ]
  },
  {
   "cell_type": "code",
   "execution_count": 85,
   "metadata": {},
   "outputs": [
    {
     "data": {
      "text/plain": [
       "{821000265: ['_', 'Good'],\n",
       " 4075839: ['Good', '_'],\n",
       " 486853974: ['Good', '_'],\n",
       " 72316145: ['Good', '_'],\n",
       " 615067821: ['Standard', '_'],\n",
       " 612708987: ['Good', '_'],\n",
       " 411510676: ['Good'],\n",
       " 500926408: ['Standard', '_'],\n",
       " 70191622: ['Good', '_'],\n",
       " 366681681: ['Good', '_']}"
      ]
     },
     "execution_count": 85,
     "metadata": {},
     "output_type": "execute_result"
    }
   ],
   "source": [
    "dict(itertools.islice(corresponding_unique_credit_mix_values.items(),10))"
   ]
  },
  {
   "cell_type": "code",
   "execution_count": 88,
   "metadata": {},
   "outputs": [],
   "source": [
    "for index in range(len(df_credit_mix)):\n",
    "    if '_' in df_credit_mix['Credit_Mix'][index]:\n",
    "        df_credit_mix['Credit_Mix'][index] = [val for val in corresponding_unique_credit_mix_values[df_credit_mix['SSN'][index]] if not '_' in val][0]"
   ]
  },
  {
   "cell_type": "code",
   "execution_count": 89,
   "metadata": {},
   "outputs": [],
   "source": [
    "corresponding_unique_credit_mix_values = {}"
   ]
  },
  {
   "cell_type": "code",
   "execution_count": 90,
   "metadata": {},
   "outputs": [],
   "source": [
    "for ssn in unique_SSN:\n",
    "    corresponding_unique_credit_mix_values[ssn] = list(df_credit_mix[df_credit_mix['SSN'] == ssn]['Credit_Mix'].unique())"
   ]
  },
  {
   "cell_type": "code",
   "execution_count": 91,
   "metadata": {},
   "outputs": [
    {
     "data": {
      "text/plain": [
       "{821000265: ['Good'],\n",
       " 4075839: ['Good'],\n",
       " 486853974: ['Good'],\n",
       " 72316145: ['Good'],\n",
       " 615067821: ['Standard'],\n",
       " 612708987: ['Good'],\n",
       " 411510676: ['Good'],\n",
       " 500926408: ['Standard'],\n",
       " 70191622: ['Good'],\n",
       " 366681681: ['Good']}"
      ]
     },
     "execution_count": 91,
     "metadata": {},
     "output_type": "execute_result"
    }
   ],
   "source": [
    "dict(itertools.islice(corresponding_unique_credit_mix_values.items(),10))"
   ]
  },
  {
   "cell_type": "code",
   "execution_count": 92,
   "metadata": {},
   "outputs": [
    {
     "data": {
      "text/plain": [
       "Standard    45848\n",
       "Good        30384\n",
       "Bad         23768\n",
       "Name: Credit_Mix, dtype: int64"
      ]
     },
     "execution_count": 92,
     "metadata": {},
     "output_type": "execute_result"
    }
   ],
   "source": [
    "df_credit_mix['Credit_Mix'].value_counts()"
   ]
  },
  {
   "cell_type": "markdown",
   "metadata": {},
   "source": [
    "### PreProcessing Outstanding_Debt"
   ]
  },
  {
   "cell_type": "code",
   "execution_count": 93,
   "metadata": {},
   "outputs": [],
   "source": [
    "df_outstanding_debt = df_credit_mix.copy()"
   ]
  },
  {
   "cell_type": "code",
   "execution_count": 100,
   "metadata": {},
   "outputs": [
    {
     "data": {
      "text/plain": [
       "13178"
      ]
     },
     "execution_count": 100,
     "metadata": {},
     "output_type": "execute_result"
    }
   ],
   "source": [
    "df_outstanding_debt['Outstanding_Debt'].nunique()"
   ]
  },
  {
   "cell_type": "code",
   "execution_count": 94,
   "metadata": {},
   "outputs": [],
   "source": [
    "corresponding_unique_outstanding_debt_values = {}"
   ]
  },
  {
   "cell_type": "code",
   "execution_count": 95,
   "metadata": {},
   "outputs": [],
   "source": [
    "for ssn in unique_SSN:\n",
    "    corresponding_unique_outstanding_debt_values[ssn] = list(df_outstanding_debt[df_outstanding_debt['SSN'] == ssn]['Outstanding_Debt'].unique())"
   ]
  },
  {
   "cell_type": "code",
   "execution_count": 99,
   "metadata": {},
   "outputs": [
    {
     "data": {
      "text/plain": [
       "{821000265: ['809.98'],\n",
       " 4075839: ['605.03'],\n",
       " 486853974: ['1303.01'],\n",
       " 72316145: ['632.46'],\n",
       " 615067821: ['943.86'],\n",
       " 612708987: ['548.2'],\n",
       " 411510676: ['352.16'],\n",
       " 500926408: ['1704.18'],\n",
       " 70191622: ['1377.74'],\n",
       " 366681681: ['421.43'],\n",
       " 221308554: ['1328.93', '1328.93_'],\n",
       " 342902649: ['950.36'],\n",
       " 414532918: ['179.22'],\n",
       " 328336328: ['2602.69'],\n",
       " 655057666: ['758.44']}"
      ]
     },
     "execution_count": 99,
     "metadata": {},
     "output_type": "execute_result"
    }
   ],
   "source": [
    "dict(itertools.islice(corresponding_unique_outstanding_debt_values.items(),15))"
   ]
  },
  {
   "cell_type": "markdown",
   "metadata": {},
   "source": [
    "Replacing the underscore value"
   ]
  },
  {
   "cell_type": "code",
   "execution_count": 102,
   "metadata": {},
   "outputs": [
    {
     "name": "stdout",
     "output_type": "stream",
     "text": [
      "underscore_outstanding_debt Count :  1009 || Unique underscore_outstanding_debt count : 975  || Example :  ['1328.93_', '1283.37_', '2797.17_', '3818.57_', '343.84_']\n"
     ]
    }
   ],
   "source": [
    "underscore_outstanding_debt = 0\n",
    "underscore_outstanding_debt_list = []\n",
    "for index in range(len(df_outstanding_debt)):\n",
    "    if '_' in  df_outstanding_debt['Outstanding_Debt'][index]:\n",
    "        underscore_outstanding_debt += 1\n",
    "        underscore_outstanding_debt_list.append(df_outstanding_debt['Outstanding_Debt'][index])\n",
    "print(\"underscore_outstanding_debt Count : \",underscore_outstanding_debt,\"|| Unique underscore_outstanding_debt count :\",len(set(underscore_outstanding_debt_list)), \" || Example : \",underscore_outstanding_debt_list[0:5])"
   ]
  },
  {
   "cell_type": "code",
   "execution_count": 104,
   "metadata": {},
   "outputs": [],
   "source": [
    "for index in range(len(df_outstanding_debt)):\n",
    "    if '_' in df_outstanding_debt['Outstanding_Debt'][index]:\n",
    "        df_outstanding_debt['Outstanding_Debt'][index] = [val for val in corresponding_unique_outstanding_debt_values[df_outstanding_debt['SSN'][index]] if not '_' in val][0]"
   ]
  },
  {
   "cell_type": "code",
   "execution_count": 105,
   "metadata": {},
   "outputs": [],
   "source": [
    "df_outstanding_debt['Outstanding_Debt'] = df_outstanding_debt['Outstanding_Debt'].astype(float)"
   ]
  },
  {
   "cell_type": "code",
   "execution_count": 107,
   "metadata": {},
   "outputs": [],
   "source": [
    "corresponding_unique_outstanding_debt_values = {}\n",
    "for ssn in unique_SSN:\n",
    "    corresponding_unique_outstanding_debt_values[ssn] = list(df_outstanding_debt[df_outstanding_debt['SSN'] == ssn]['Outstanding_Debt'].unique())"
   ]
  },
  {
   "cell_type": "code",
   "execution_count": 110,
   "metadata": {},
   "outputs": [
    {
     "data": {
      "text/plain": [
       "{821000265: [809.98],\n",
       " 4075839: [605.03],\n",
       " 486853974: [1303.01],\n",
       " 72316145: [632.46],\n",
       " 615067821: [943.86],\n",
       " 612708987: [548.2],\n",
       " 411510676: [352.16],\n",
       " 500926408: [1704.18],\n",
       " 70191622: [1377.74],\n",
       " 366681681: [421.43]}"
      ]
     },
     "execution_count": 110,
     "metadata": {},
     "output_type": "execute_result"
    }
   ],
   "source": [
    "dict(itertools.islice(corresponding_unique_outstanding_debt_values.items(),10))"
   ]
  },
  {
   "cell_type": "markdown",
   "metadata": {},
   "source": [
    "all customer seems to have same outstanding debt"
   ]
  },
  {
   "cell_type": "markdown",
   "metadata": {},
   "source": [
    "### PreProcessing Credit_Utilization_Ratio"
   ]
  },
  {
   "cell_type": "code",
   "execution_count": 175,
   "metadata": {},
   "outputs": [],
   "source": [
    "df_credit_utilization_ratio = df_outstanding_debt.copy()"
   ]
  },
  {
   "cell_type": "code",
   "execution_count": 176,
   "metadata": {},
   "outputs": [
    {
     "data": {
      "text/plain": [
       "0"
      ]
     },
     "execution_count": 176,
     "metadata": {},
     "output_type": "execute_result"
    }
   ],
   "source": [
    "df_credit_utilization_ratio[\"Credit_Utilization_Ratio\"].isna().sum()"
   ]
  },
  {
   "cell_type": "code",
   "execution_count": 177,
   "metadata": {},
   "outputs": [],
   "source": [
    "corresponding_unique_credit_utilization_ratio_values = {}\n",
    "for ssn in unique_SSN:\n",
    "    corresponding_unique_credit_utilization_ratio_values[ssn] = list(df_credit_utilization_ratio[df_credit_utilization_ratio['SSN'] == ssn]['Credit_Utilization_Ratio'].unique())"
   ]
  },
  {
   "cell_type": "code",
   "execution_count": 178,
   "metadata": {},
   "outputs": [
    {
     "data": {
      "text/plain": [
       "{821000265: [26.822619623699016,\n",
       "  31.94496005538421,\n",
       "  28.60935202206993,\n",
       "  31.37786186958236,\n",
       "  24.797346908844982,\n",
       "  27.26225871052017,\n",
       "  22.53759303178384,\n",
       "  23.93379480196552],\n",
       " 4075839: [24.46403063758457,\n",
       "  38.550848433956325,\n",
       "  33.22495078663659,\n",
       "  39.18265565546884,\n",
       "  34.97789474709241,\n",
       "  33.38101020065065,\n",
       "  31.131701611553307,\n",
       "  32.933856293622235],\n",
       " 486853974: [28.616734823006844,\n",
       "  41.70257342393906,\n",
       "  26.51981539154649,\n",
       "  39.50164810812735,\n",
       "  31.37614957421204,\n",
       "  39.78399345802119,\n",
       "  38.068623627698585,\n",
       "  38.37475294778511]}"
      ]
     },
     "execution_count": 178,
     "metadata": {},
     "output_type": "execute_result"
    }
   ],
   "source": [
    "dict(itertools.islice(corresponding_unique_credit_utilization_ratio_values.items(),3))"
   ]
  },
  {
   "cell_type": "markdown",
   "metadata": {},
   "source": [
    "Each customer has different credit_utilization_ratio"
   ]
  },
  {
   "cell_type": "markdown",
   "metadata": {},
   "source": [
    "### PreProcessing Credit_History_Age"
   ]
  },
  {
   "cell_type": "code",
   "execution_count": 233,
   "metadata": {},
   "outputs": [],
   "source": [
    "df_credit_history_age = df_credit_utilization_ratio.copy()"
   ]
  },
  {
   "cell_type": "code",
   "execution_count": 234,
   "metadata": {},
   "outputs": [
    {
     "data": {
      "text/plain": [
       "404"
      ]
     },
     "execution_count": 234,
     "metadata": {},
     "output_type": "execute_result"
    }
   ],
   "source": [
    "df_credit_history_age['Credit_History_Age'].nunique()"
   ]
  },
  {
   "cell_type": "code",
   "execution_count": 235,
   "metadata": {},
   "outputs": [
    {
     "data": {
      "text/plain": [
       "9030"
      ]
     },
     "execution_count": 235,
     "metadata": {},
     "output_type": "execute_result"
    }
   ],
   "source": [
    "df_credit_history_age['Credit_History_Age'].isna().sum()"
   ]
  },
  {
   "cell_type": "code",
   "execution_count": 236,
   "metadata": {},
   "outputs": [
    {
     "data": {
      "text/html": [
       "<div>\n",
       "<style scoped>\n",
       "    .dataframe tbody tr th:only-of-type {\n",
       "        vertical-align: middle;\n",
       "    }\n",
       "\n",
       "    .dataframe tbody tr th {\n",
       "        vertical-align: top;\n",
       "    }\n",
       "\n",
       "    .dataframe thead th {\n",
       "        text-align: right;\n",
       "    }\n",
       "</style>\n",
       "<table border=\"1\" class=\"dataframe\">\n",
       "  <thead>\n",
       "    <tr style=\"text-align: right;\">\n",
       "      <th></th>\n",
       "      <th>Month</th>\n",
       "      <th>Age</th>\n",
       "      <th>SSN</th>\n",
       "      <th>Occupation</th>\n",
       "      <th>Annual_Income</th>\n",
       "      <th>Monthly_Inhand_Salary</th>\n",
       "      <th>Num_Bank_Accounts</th>\n",
       "      <th>Num_Credit_Card</th>\n",
       "      <th>Interest_Rate</th>\n",
       "      <th>Num_of_Loan</th>\n",
       "      <th>...</th>\n",
       "      <th>Outstanding_Debt</th>\n",
       "      <th>Credit_Utilization_Ratio</th>\n",
       "      <th>Credit_History_Age</th>\n",
       "      <th>Payment_of_Min_Amount</th>\n",
       "      <th>Total_EMI_per_month</th>\n",
       "      <th>Amount_invested_monthly</th>\n",
       "      <th>Payment_Behaviour</th>\n",
       "      <th>Monthly_Balance</th>\n",
       "      <th>Credit_Score</th>\n",
       "      <th>NotSpecified</th>\n",
       "    </tr>\n",
       "  </thead>\n",
       "  <tbody>\n",
       "    <tr>\n",
       "      <th>0</th>\n",
       "      <td>January</td>\n",
       "      <td>23</td>\n",
       "      <td>821000265</td>\n",
       "      <td>Scientist</td>\n",
       "      <td>19114.12</td>\n",
       "      <td>1824.843333</td>\n",
       "      <td>3</td>\n",
       "      <td>4</td>\n",
       "      <td>3</td>\n",
       "      <td>4</td>\n",
       "      <td>...</td>\n",
       "      <td>809.98</td>\n",
       "      <td>26.822620</td>\n",
       "      <td>22 Years and 1 Months</td>\n",
       "      <td>No</td>\n",
       "      <td>49.574949</td>\n",
       "      <td>80.41529543900253</td>\n",
       "      <td>High_spent_Small_value_payments</td>\n",
       "      <td>312.49408867943663</td>\n",
       "      <td>Good</td>\n",
       "      <td>0</td>\n",
       "    </tr>\n",
       "    <tr>\n",
       "      <th>1</th>\n",
       "      <td>February</td>\n",
       "      <td>23</td>\n",
       "      <td>821000265</td>\n",
       "      <td>Scientist</td>\n",
       "      <td>19114.12</td>\n",
       "      <td>1824.843333</td>\n",
       "      <td>3</td>\n",
       "      <td>4</td>\n",
       "      <td>3</td>\n",
       "      <td>4</td>\n",
       "      <td>...</td>\n",
       "      <td>809.98</td>\n",
       "      <td>31.944960</td>\n",
       "      <td>NaN</td>\n",
       "      <td>No</td>\n",
       "      <td>49.574949</td>\n",
       "      <td>118.28022162236736</td>\n",
       "      <td>Low_spent_Large_value_payments</td>\n",
       "      <td>284.62916249607184</td>\n",
       "      <td>Good</td>\n",
       "      <td>0</td>\n",
       "    </tr>\n",
       "    <tr>\n",
       "      <th>2</th>\n",
       "      <td>March</td>\n",
       "      <td>23</td>\n",
       "      <td>821000265</td>\n",
       "      <td>Scientist</td>\n",
       "      <td>19114.12</td>\n",
       "      <td>1824.843333</td>\n",
       "      <td>3</td>\n",
       "      <td>4</td>\n",
       "      <td>3</td>\n",
       "      <td>4</td>\n",
       "      <td>...</td>\n",
       "      <td>809.98</td>\n",
       "      <td>28.609352</td>\n",
       "      <td>22 Years and 3 Months</td>\n",
       "      <td>No</td>\n",
       "      <td>49.574949</td>\n",
       "      <td>81.699521264648</td>\n",
       "      <td>Low_spent_Medium_value_payments</td>\n",
       "      <td>331.2098628537912</td>\n",
       "      <td>Good</td>\n",
       "      <td>0</td>\n",
       "    </tr>\n",
       "    <tr>\n",
       "      <th>3</th>\n",
       "      <td>April</td>\n",
       "      <td>23</td>\n",
       "      <td>821000265</td>\n",
       "      <td>Scientist</td>\n",
       "      <td>19114.12</td>\n",
       "      <td>1824.843333</td>\n",
       "      <td>3</td>\n",
       "      <td>4</td>\n",
       "      <td>3</td>\n",
       "      <td>4</td>\n",
       "      <td>...</td>\n",
       "      <td>809.98</td>\n",
       "      <td>31.377862</td>\n",
       "      <td>22 Years and 4 Months</td>\n",
       "      <td>No</td>\n",
       "      <td>49.574949</td>\n",
       "      <td>199.4580743910713</td>\n",
       "      <td>Low_spent_Small_value_payments</td>\n",
       "      <td>223.45130972736786</td>\n",
       "      <td>Good</td>\n",
       "      <td>0</td>\n",
       "    </tr>\n",
       "    <tr>\n",
       "      <th>4</th>\n",
       "      <td>May</td>\n",
       "      <td>23</td>\n",
       "      <td>821000265</td>\n",
       "      <td>Scientist</td>\n",
       "      <td>19114.12</td>\n",
       "      <td>1824.843333</td>\n",
       "      <td>3</td>\n",
       "      <td>4</td>\n",
       "      <td>3</td>\n",
       "      <td>4</td>\n",
       "      <td>...</td>\n",
       "      <td>809.98</td>\n",
       "      <td>24.797347</td>\n",
       "      <td>22 Years and 5 Months</td>\n",
       "      <td>No</td>\n",
       "      <td>49.574949</td>\n",
       "      <td>41.420153086217326</td>\n",
       "      <td>High_spent_Medium_value_payments</td>\n",
       "      <td>341.48923103222177</td>\n",
       "      <td>Good</td>\n",
       "      <td>0</td>\n",
       "    </tr>\n",
       "    <tr>\n",
       "      <th>5</th>\n",
       "      <td>June</td>\n",
       "      <td>23</td>\n",
       "      <td>821000265</td>\n",
       "      <td>Scientist</td>\n",
       "      <td>19114.12</td>\n",
       "      <td>1824.843333</td>\n",
       "      <td>3</td>\n",
       "      <td>4</td>\n",
       "      <td>3</td>\n",
       "      <td>4</td>\n",
       "      <td>...</td>\n",
       "      <td>809.98</td>\n",
       "      <td>27.262259</td>\n",
       "      <td>22 Years and 6 Months</td>\n",
       "      <td>No</td>\n",
       "      <td>49.574949</td>\n",
       "      <td>62.430172331195294</td>\n",
       "      <td>!@9#%8</td>\n",
       "      <td>340.4792117872438</td>\n",
       "      <td>Good</td>\n",
       "      <td>0</td>\n",
       "    </tr>\n",
       "    <tr>\n",
       "      <th>6</th>\n",
       "      <td>July</td>\n",
       "      <td>23</td>\n",
       "      <td>821000265</td>\n",
       "      <td>Scientist</td>\n",
       "      <td>19114.12</td>\n",
       "      <td>1824.843333</td>\n",
       "      <td>3</td>\n",
       "      <td>4</td>\n",
       "      <td>3</td>\n",
       "      <td>4</td>\n",
       "      <td>...</td>\n",
       "      <td>809.98</td>\n",
       "      <td>22.537593</td>\n",
       "      <td>22 Years and 7 Months</td>\n",
       "      <td>No</td>\n",
       "      <td>49.574949</td>\n",
       "      <td>178.3440674122349</td>\n",
       "      <td>Low_spent_Small_value_payments</td>\n",
       "      <td>244.5653167062043</td>\n",
       "      <td>Good</td>\n",
       "      <td>0</td>\n",
       "    </tr>\n",
       "    <tr>\n",
       "      <th>7</th>\n",
       "      <td>August</td>\n",
       "      <td>23</td>\n",
       "      <td>821000265</td>\n",
       "      <td>Scientist</td>\n",
       "      <td>19114.12</td>\n",
       "      <td>1824.843333</td>\n",
       "      <td>3</td>\n",
       "      <td>4</td>\n",
       "      <td>3</td>\n",
       "      <td>4</td>\n",
       "      <td>...</td>\n",
       "      <td>809.98</td>\n",
       "      <td>23.933795</td>\n",
       "      <td>NaN</td>\n",
       "      <td>No</td>\n",
       "      <td>49.574949</td>\n",
       "      <td>24.785216509052056</td>\n",
       "      <td>High_spent_Medium_value_payments</td>\n",
       "      <td>358.12416760938714</td>\n",
       "      <td>Standard</td>\n",
       "      <td>0</td>\n",
       "    </tr>\n",
       "    <tr>\n",
       "      <th>8</th>\n",
       "      <td>January</td>\n",
       "      <td>28</td>\n",
       "      <td>4075839</td>\n",
       "      <td>Teacher</td>\n",
       "      <td>34847.84</td>\n",
       "      <td>3037.986667</td>\n",
       "      <td>2</td>\n",
       "      <td>4</td>\n",
       "      <td>6</td>\n",
       "      <td>1</td>\n",
       "      <td>...</td>\n",
       "      <td>605.03</td>\n",
       "      <td>24.464031</td>\n",
       "      <td>26 Years and 7 Months</td>\n",
       "      <td>No</td>\n",
       "      <td>18.816215</td>\n",
       "      <td>104.291825168246</td>\n",
       "      <td>Low_spent_Small_value_payments</td>\n",
       "      <td>470.69062692529184</td>\n",
       "      <td>Standard</td>\n",
       "      <td>0</td>\n",
       "    </tr>\n",
       "    <tr>\n",
       "      <th>9</th>\n",
       "      <td>February</td>\n",
       "      <td>28</td>\n",
       "      <td>4075839</td>\n",
       "      <td>Teacher</td>\n",
       "      <td>34847.84</td>\n",
       "      <td>3037.986667</td>\n",
       "      <td>2</td>\n",
       "      <td>4</td>\n",
       "      <td>6</td>\n",
       "      <td>1</td>\n",
       "      <td>...</td>\n",
       "      <td>605.03</td>\n",
       "      <td>38.550848</td>\n",
       "      <td>26 Years and 8 Months</td>\n",
       "      <td>No</td>\n",
       "      <td>18.816215</td>\n",
       "      <td>40.39123782853101</td>\n",
       "      <td>High_spent_Large_value_payments</td>\n",
       "      <td>484.5912142650067</td>\n",
       "      <td>Good</td>\n",
       "      <td>0</td>\n",
       "    </tr>\n",
       "  </tbody>\n",
       "</table>\n",
       "<p>10 rows × 34 columns</p>\n",
       "</div>"
      ],
      "text/plain": [
       "      Month  Age        SSN Occupation  Annual_Income  Monthly_Inhand_Salary  \\\n",
       "0   January   23  821000265  Scientist       19114.12            1824.843333   \n",
       "1  February   23  821000265  Scientist       19114.12            1824.843333   \n",
       "2     March   23  821000265  Scientist       19114.12            1824.843333   \n",
       "3     April   23  821000265  Scientist       19114.12            1824.843333   \n",
       "4       May   23  821000265  Scientist       19114.12            1824.843333   \n",
       "5      June   23  821000265  Scientist       19114.12            1824.843333   \n",
       "6      July   23  821000265  Scientist       19114.12            1824.843333   \n",
       "7    August   23  821000265  Scientist       19114.12            1824.843333   \n",
       "8   January   28    4075839    Teacher       34847.84            3037.986667   \n",
       "9  February   28    4075839    Teacher       34847.84            3037.986667   \n",
       "\n",
       "   Num_Bank_Accounts  Num_Credit_Card  Interest_Rate  Num_of_Loan  ...  \\\n",
       "0                  3                4              3            4  ...   \n",
       "1                  3                4              3            4  ...   \n",
       "2                  3                4              3            4  ...   \n",
       "3                  3                4              3            4  ...   \n",
       "4                  3                4              3            4  ...   \n",
       "5                  3                4              3            4  ...   \n",
       "6                  3                4              3            4  ...   \n",
       "7                  3                4              3            4  ...   \n",
       "8                  2                4              6            1  ...   \n",
       "9                  2                4              6            1  ...   \n",
       "\n",
       "  Outstanding_Debt  Credit_Utilization_Ratio     Credit_History_Age  \\\n",
       "0           809.98                 26.822620  22 Years and 1 Months   \n",
       "1           809.98                 31.944960                    NaN   \n",
       "2           809.98                 28.609352  22 Years and 3 Months   \n",
       "3           809.98                 31.377862  22 Years and 4 Months   \n",
       "4           809.98                 24.797347  22 Years and 5 Months   \n",
       "5           809.98                 27.262259  22 Years and 6 Months   \n",
       "6           809.98                 22.537593  22 Years and 7 Months   \n",
       "7           809.98                 23.933795                    NaN   \n",
       "8           605.03                 24.464031  26 Years and 7 Months   \n",
       "9           605.03                 38.550848  26 Years and 8 Months   \n",
       "\n",
       "   Payment_of_Min_Amount  Total_EMI_per_month  Amount_invested_monthly  \\\n",
       "0                     No            49.574949        80.41529543900253   \n",
       "1                     No            49.574949       118.28022162236736   \n",
       "2                     No            49.574949          81.699521264648   \n",
       "3                     No            49.574949        199.4580743910713   \n",
       "4                     No            49.574949       41.420153086217326   \n",
       "5                     No            49.574949       62.430172331195294   \n",
       "6                     No            49.574949        178.3440674122349   \n",
       "7                     No            49.574949       24.785216509052056   \n",
       "8                     No            18.816215         104.291825168246   \n",
       "9                     No            18.816215        40.39123782853101   \n",
       "\n",
       "                  Payment_Behaviour     Monthly_Balance  Credit_Score  \\\n",
       "0   High_spent_Small_value_payments  312.49408867943663          Good   \n",
       "1    Low_spent_Large_value_payments  284.62916249607184          Good   \n",
       "2   Low_spent_Medium_value_payments   331.2098628537912          Good   \n",
       "3    Low_spent_Small_value_payments  223.45130972736786          Good   \n",
       "4  High_spent_Medium_value_payments  341.48923103222177          Good   \n",
       "5                            !@9#%8   340.4792117872438          Good   \n",
       "6    Low_spent_Small_value_payments   244.5653167062043          Good   \n",
       "7  High_spent_Medium_value_payments  358.12416760938714      Standard   \n",
       "8    Low_spent_Small_value_payments  470.69062692529184      Standard   \n",
       "9   High_spent_Large_value_payments   484.5912142650067          Good   \n",
       "\n",
       "   NotSpecified  \n",
       "0             0  \n",
       "1             0  \n",
       "2             0  \n",
       "3             0  \n",
       "4             0  \n",
       "5             0  \n",
       "6             0  \n",
       "7             0  \n",
       "8             0  \n",
       "9             0  \n",
       "\n",
       "[10 rows x 34 columns]"
      ]
     },
     "execution_count": 236,
     "metadata": {},
     "output_type": "execute_result"
    }
   ],
   "source": [
    "df_credit_history_age[0:10]"
   ]
  },
  {
   "cell_type": "markdown",
   "metadata": {},
   "source": [
    "Each row seems to be increased by 1 month"
   ]
  },
  {
   "cell_type": "code",
   "execution_count": 237,
   "metadata": {},
   "outputs": [],
   "source": [
    "def format_year(txt):\n",
    "    return txt.replace(' ','_')"
   ]
  },
  {
   "cell_type": "code",
   "execution_count": 238,
   "metadata": {},
   "outputs": [],
   "source": [
    "df_credit_history_age['Credit_History_Age'].fillna('nan',inplace = True)"
   ]
  },
  {
   "cell_type": "code",
   "execution_count": 239,
   "metadata": {},
   "outputs": [],
   "source": [
    "df_credit_history_age['Credit_History_Age'] = df_credit_history_age['Credit_History_Age'].apply(format_year) "
   ]
  },
  {
   "cell_type": "code",
   "execution_count": 240,
   "metadata": {},
   "outputs": [
    {
     "data": {
      "text/html": [
       "<div>\n",
       "<style scoped>\n",
       "    .dataframe tbody tr th:only-of-type {\n",
       "        vertical-align: middle;\n",
       "    }\n",
       "\n",
       "    .dataframe tbody tr th {\n",
       "        vertical-align: top;\n",
       "    }\n",
       "\n",
       "    .dataframe thead th {\n",
       "        text-align: right;\n",
       "    }\n",
       "</style>\n",
       "<table border=\"1\" class=\"dataframe\">\n",
       "  <thead>\n",
       "    <tr style=\"text-align: right;\">\n",
       "      <th></th>\n",
       "      <th>Month</th>\n",
       "      <th>Age</th>\n",
       "      <th>SSN</th>\n",
       "      <th>Occupation</th>\n",
       "      <th>Annual_Income</th>\n",
       "      <th>Monthly_Inhand_Salary</th>\n",
       "      <th>Num_Bank_Accounts</th>\n",
       "      <th>Num_Credit_Card</th>\n",
       "      <th>Interest_Rate</th>\n",
       "      <th>Num_of_Loan</th>\n",
       "      <th>...</th>\n",
       "      <th>Outstanding_Debt</th>\n",
       "      <th>Credit_Utilization_Ratio</th>\n",
       "      <th>Credit_History_Age</th>\n",
       "      <th>Payment_of_Min_Amount</th>\n",
       "      <th>Total_EMI_per_month</th>\n",
       "      <th>Amount_invested_monthly</th>\n",
       "      <th>Payment_Behaviour</th>\n",
       "      <th>Monthly_Balance</th>\n",
       "      <th>Credit_Score</th>\n",
       "      <th>NotSpecified</th>\n",
       "    </tr>\n",
       "  </thead>\n",
       "  <tbody>\n",
       "    <tr>\n",
       "      <th>0</th>\n",
       "      <td>January</td>\n",
       "      <td>23</td>\n",
       "      <td>821000265</td>\n",
       "      <td>Scientist</td>\n",
       "      <td>19114.12</td>\n",
       "      <td>1824.843333</td>\n",
       "      <td>3</td>\n",
       "      <td>4</td>\n",
       "      <td>3</td>\n",
       "      <td>4</td>\n",
       "      <td>...</td>\n",
       "      <td>809.98</td>\n",
       "      <td>26.822620</td>\n",
       "      <td>22_Years_and_1_Months</td>\n",
       "      <td>No</td>\n",
       "      <td>49.574949</td>\n",
       "      <td>80.41529543900253</td>\n",
       "      <td>High_spent_Small_value_payments</td>\n",
       "      <td>312.49408867943663</td>\n",
       "      <td>Good</td>\n",
       "      <td>0</td>\n",
       "    </tr>\n",
       "    <tr>\n",
       "      <th>1</th>\n",
       "      <td>February</td>\n",
       "      <td>23</td>\n",
       "      <td>821000265</td>\n",
       "      <td>Scientist</td>\n",
       "      <td>19114.12</td>\n",
       "      <td>1824.843333</td>\n",
       "      <td>3</td>\n",
       "      <td>4</td>\n",
       "      <td>3</td>\n",
       "      <td>4</td>\n",
       "      <td>...</td>\n",
       "      <td>809.98</td>\n",
       "      <td>31.944960</td>\n",
       "      <td>nan</td>\n",
       "      <td>No</td>\n",
       "      <td>49.574949</td>\n",
       "      <td>118.28022162236736</td>\n",
       "      <td>Low_spent_Large_value_payments</td>\n",
       "      <td>284.62916249607184</td>\n",
       "      <td>Good</td>\n",
       "      <td>0</td>\n",
       "    </tr>\n",
       "    <tr>\n",
       "      <th>2</th>\n",
       "      <td>March</td>\n",
       "      <td>23</td>\n",
       "      <td>821000265</td>\n",
       "      <td>Scientist</td>\n",
       "      <td>19114.12</td>\n",
       "      <td>1824.843333</td>\n",
       "      <td>3</td>\n",
       "      <td>4</td>\n",
       "      <td>3</td>\n",
       "      <td>4</td>\n",
       "      <td>...</td>\n",
       "      <td>809.98</td>\n",
       "      <td>28.609352</td>\n",
       "      <td>22_Years_and_3_Months</td>\n",
       "      <td>No</td>\n",
       "      <td>49.574949</td>\n",
       "      <td>81.699521264648</td>\n",
       "      <td>Low_spent_Medium_value_payments</td>\n",
       "      <td>331.2098628537912</td>\n",
       "      <td>Good</td>\n",
       "      <td>0</td>\n",
       "    </tr>\n",
       "    <tr>\n",
       "      <th>3</th>\n",
       "      <td>April</td>\n",
       "      <td>23</td>\n",
       "      <td>821000265</td>\n",
       "      <td>Scientist</td>\n",
       "      <td>19114.12</td>\n",
       "      <td>1824.843333</td>\n",
       "      <td>3</td>\n",
       "      <td>4</td>\n",
       "      <td>3</td>\n",
       "      <td>4</td>\n",
       "      <td>...</td>\n",
       "      <td>809.98</td>\n",
       "      <td>31.377862</td>\n",
       "      <td>22_Years_and_4_Months</td>\n",
       "      <td>No</td>\n",
       "      <td>49.574949</td>\n",
       "      <td>199.4580743910713</td>\n",
       "      <td>Low_spent_Small_value_payments</td>\n",
       "      <td>223.45130972736786</td>\n",
       "      <td>Good</td>\n",
       "      <td>0</td>\n",
       "    </tr>\n",
       "    <tr>\n",
       "      <th>4</th>\n",
       "      <td>May</td>\n",
       "      <td>23</td>\n",
       "      <td>821000265</td>\n",
       "      <td>Scientist</td>\n",
       "      <td>19114.12</td>\n",
       "      <td>1824.843333</td>\n",
       "      <td>3</td>\n",
       "      <td>4</td>\n",
       "      <td>3</td>\n",
       "      <td>4</td>\n",
       "      <td>...</td>\n",
       "      <td>809.98</td>\n",
       "      <td>24.797347</td>\n",
       "      <td>22_Years_and_5_Months</td>\n",
       "      <td>No</td>\n",
       "      <td>49.574949</td>\n",
       "      <td>41.420153086217326</td>\n",
       "      <td>High_spent_Medium_value_payments</td>\n",
       "      <td>341.48923103222177</td>\n",
       "      <td>Good</td>\n",
       "      <td>0</td>\n",
       "    </tr>\n",
       "  </tbody>\n",
       "</table>\n",
       "<p>5 rows × 34 columns</p>\n",
       "</div>"
      ],
      "text/plain": [
       "      Month  Age        SSN Occupation  Annual_Income  Monthly_Inhand_Salary  \\\n",
       "0   January   23  821000265  Scientist       19114.12            1824.843333   \n",
       "1  February   23  821000265  Scientist       19114.12            1824.843333   \n",
       "2     March   23  821000265  Scientist       19114.12            1824.843333   \n",
       "3     April   23  821000265  Scientist       19114.12            1824.843333   \n",
       "4       May   23  821000265  Scientist       19114.12            1824.843333   \n",
       "\n",
       "   Num_Bank_Accounts  Num_Credit_Card  Interest_Rate  Num_of_Loan  ...  \\\n",
       "0                  3                4              3            4  ...   \n",
       "1                  3                4              3            4  ...   \n",
       "2                  3                4              3            4  ...   \n",
       "3                  3                4              3            4  ...   \n",
       "4                  3                4              3            4  ...   \n",
       "\n",
       "  Outstanding_Debt  Credit_Utilization_Ratio     Credit_History_Age  \\\n",
       "0           809.98                 26.822620  22_Years_and_1_Months   \n",
       "1           809.98                 31.944960                    nan   \n",
       "2           809.98                 28.609352  22_Years_and_3_Months   \n",
       "3           809.98                 31.377862  22_Years_and_4_Months   \n",
       "4           809.98                 24.797347  22_Years_and_5_Months   \n",
       "\n",
       "   Payment_of_Min_Amount  Total_EMI_per_month  Amount_invested_monthly  \\\n",
       "0                     No            49.574949        80.41529543900253   \n",
       "1                     No            49.574949       118.28022162236736   \n",
       "2                     No            49.574949          81.699521264648   \n",
       "3                     No            49.574949        199.4580743910713   \n",
       "4                     No            49.574949       41.420153086217326   \n",
       "\n",
       "                  Payment_Behaviour     Monthly_Balance  Credit_Score  \\\n",
       "0   High_spent_Small_value_payments  312.49408867943663          Good   \n",
       "1    Low_spent_Large_value_payments  284.62916249607184          Good   \n",
       "2   Low_spent_Medium_value_payments   331.2098628537912          Good   \n",
       "3    Low_spent_Small_value_payments  223.45130972736786          Good   \n",
       "4  High_spent_Medium_value_payments  341.48923103222177          Good   \n",
       "\n",
       "   NotSpecified  \n",
       "0             0  \n",
       "1             0  \n",
       "2             0  \n",
       "3             0  \n",
       "4             0  \n",
       "\n",
       "[5 rows x 34 columns]"
      ]
     },
     "execution_count": 240,
     "metadata": {},
     "output_type": "execute_result"
    }
   ],
   "source": [
    "df_credit_history_age.head()"
   ]
  },
  {
   "cell_type": "code",
   "execution_count": 241,
   "metadata": {},
   "outputs": [
    {
     "data": {
      "text/plain": [
       "22"
      ]
     },
     "execution_count": 241,
     "metadata": {},
     "output_type": "execute_result"
    },
    {
     "data": {
      "text/plain": [
       "1"
      ]
     },
     "execution_count": 241,
     "metadata": {},
     "output_type": "execute_result"
    }
   ],
   "source": [
    "check = '22_Years_and_1_Months'\n",
    "int(check.split('_Years')[0])\n",
    "int(check.split('and_')[1].split('_Months')[0])"
   ]
  },
  {
   "cell_type": "code",
   "execution_count": 242,
   "metadata": {},
   "outputs": [],
   "source": [
    "for index in range(1,len(df_credit_history_age)):\n",
    "    if df_credit_history_age['Credit_History_Age'][index] == 'nan':\n",
    "        if df_credit_history_age['SSN'][index] == df_credit_history_age['SSN'][index - 1] and df_credit_history_age['Credit_History_Age'][index - 1] != 'nan':\n",
    "            previous_year = int(df_credit_history_age['Credit_History_Age'][index - 1].split('_Years')[0])\n",
    "            previous_month = int(df_credit_history_age['Credit_History_Age'][index - 1].split('and_')[1].split('_Months')[0])\n",
    "            \n",
    "            if previous_month == 11:\n",
    "                df_credit_history_age['Credit_History_Age'][index] = f'{previous_year + 1}_Years_and_0_Months'\n",
    "            else:\n",
    "                df_credit_history_age['Credit_History_Age'][index] = f'{previous_year}_Years_and_{previous_month + 1}_Months'\n",
    "        \n",
    "        \n",
    "        elif df_credit_history_age['SSN'][index] == df_credit_history_age['SSN'][index + 1] and df_credit_history_age['Credit_History_Age'][index + 1] != 'nan':\n",
    "            upcoming_year = int(df_credit_history_age['Credit_History_Age'][index + 1].split('_Years')[0])\n",
    "            upcoming_month = int(df_credit_history_age['Credit_History_Age'][index + 1].split('and_')[1].split('_Months')[0])\n",
    "            \n",
    "            if upcoming_month == 0:\n",
    "                df_credit_history_age['Credit_History_Age'][index] = f'{upcoming_year - 1}_Years_and_11_Months'\n",
    "            else:\n",
    "                df_credit_history_age['Credit_History_Age'][index] = f'{upcoming_year}_Years_and_{upcoming_month - 1}_Months'\n",
    "        \n",
    "        elif df_credit_history_age['SSN'][index] == df_credit_history_age['SSN'][index + 2] and df_credit_history_age['Credit_History_Age'][index + 2] != 'nan':\n",
    "            upcoming_year = int(df_credit_history_age['Credit_History_Age'][index + 2].split('_Years')[0])\n",
    "            upcoming_month = int(df_credit_history_age['Credit_History_Age'][index + 2].split('and_')[1].split('_Months')[0])\n",
    "            \n",
    "            if upcoming_month == 1:\n",
    "                df_credit_history_age['Credit_History_Age'][index] = f'{upcoming_year - 1}_Years_and_11_Months'\n",
    "            else:\n",
    "                df_credit_history_age['Credit_History_Age'][index] = f'{upcoming_year}_Years_and_{upcoming_month - 2}_Months'\n",
    "        \n",
    "        elif df_credit_history_age['SSN'][index] == df_credit_history_age['SSN'][index - 1] and df_credit_history_age['Credit_History_Age'][index - 1] != 'nan':\n",
    "            previous_year = int(df_credit_history_age['Credit_History_Age'][index - 2].split('_Years')[0])\n",
    "            previous_month = int(df_credit_history_age['Credit_History_Age'][index - 2].split('and_')[1].split('_Months')[0])\n",
    "            \n",
    "            if previous_month == 10:\n",
    "                df_credit_history_age['Credit_History_Age'][index] = f'{previous_year + 1}_Years_and_0_Months'\n",
    "            else:\n",
    "                df_credit_history_age['Credit_History_Age'][index] = f'{previous_year}_Years_and_{previous_month + 2}_Months'\n",
    "        "
   ]
  },
  {
   "cell_type": "code",
   "execution_count": 243,
   "metadata": {},
   "outputs": [
    {
     "data": {
      "text/html": [
       "<div>\n",
       "<style scoped>\n",
       "    .dataframe tbody tr th:only-of-type {\n",
       "        vertical-align: middle;\n",
       "    }\n",
       "\n",
       "    .dataframe tbody tr th {\n",
       "        vertical-align: top;\n",
       "    }\n",
       "\n",
       "    .dataframe thead th {\n",
       "        text-align: right;\n",
       "    }\n",
       "</style>\n",
       "<table border=\"1\" class=\"dataframe\">\n",
       "  <thead>\n",
       "    <tr style=\"text-align: right;\">\n",
       "      <th></th>\n",
       "      <th>Month</th>\n",
       "      <th>Age</th>\n",
       "      <th>SSN</th>\n",
       "      <th>Occupation</th>\n",
       "      <th>Annual_Income</th>\n",
       "      <th>Monthly_Inhand_Salary</th>\n",
       "      <th>Num_Bank_Accounts</th>\n",
       "      <th>Num_Credit_Card</th>\n",
       "      <th>Interest_Rate</th>\n",
       "      <th>Num_of_Loan</th>\n",
       "      <th>...</th>\n",
       "      <th>Outstanding_Debt</th>\n",
       "      <th>Credit_Utilization_Ratio</th>\n",
       "      <th>Credit_History_Age</th>\n",
       "      <th>Payment_of_Min_Amount</th>\n",
       "      <th>Total_EMI_per_month</th>\n",
       "      <th>Amount_invested_monthly</th>\n",
       "      <th>Payment_Behaviour</th>\n",
       "      <th>Monthly_Balance</th>\n",
       "      <th>Credit_Score</th>\n",
       "      <th>NotSpecified</th>\n",
       "    </tr>\n",
       "  </thead>\n",
       "  <tbody>\n",
       "    <tr>\n",
       "      <th>0</th>\n",
       "      <td>January</td>\n",
       "      <td>23</td>\n",
       "      <td>821000265</td>\n",
       "      <td>Scientist</td>\n",
       "      <td>19114.12</td>\n",
       "      <td>1824.843333</td>\n",
       "      <td>3</td>\n",
       "      <td>4</td>\n",
       "      <td>3</td>\n",
       "      <td>4</td>\n",
       "      <td>...</td>\n",
       "      <td>809.98</td>\n",
       "      <td>26.822620</td>\n",
       "      <td>22_Years_and_1_Months</td>\n",
       "      <td>No</td>\n",
       "      <td>49.574949</td>\n",
       "      <td>80.41529543900253</td>\n",
       "      <td>High_spent_Small_value_payments</td>\n",
       "      <td>312.49408867943663</td>\n",
       "      <td>Good</td>\n",
       "      <td>0</td>\n",
       "    </tr>\n",
       "    <tr>\n",
       "      <th>1</th>\n",
       "      <td>February</td>\n",
       "      <td>23</td>\n",
       "      <td>821000265</td>\n",
       "      <td>Scientist</td>\n",
       "      <td>19114.12</td>\n",
       "      <td>1824.843333</td>\n",
       "      <td>3</td>\n",
       "      <td>4</td>\n",
       "      <td>3</td>\n",
       "      <td>4</td>\n",
       "      <td>...</td>\n",
       "      <td>809.98</td>\n",
       "      <td>31.944960</td>\n",
       "      <td>22_Years_and_2_Months</td>\n",
       "      <td>No</td>\n",
       "      <td>49.574949</td>\n",
       "      <td>118.28022162236736</td>\n",
       "      <td>Low_spent_Large_value_payments</td>\n",
       "      <td>284.62916249607184</td>\n",
       "      <td>Good</td>\n",
       "      <td>0</td>\n",
       "    </tr>\n",
       "    <tr>\n",
       "      <th>2</th>\n",
       "      <td>March</td>\n",
       "      <td>23</td>\n",
       "      <td>821000265</td>\n",
       "      <td>Scientist</td>\n",
       "      <td>19114.12</td>\n",
       "      <td>1824.843333</td>\n",
       "      <td>3</td>\n",
       "      <td>4</td>\n",
       "      <td>3</td>\n",
       "      <td>4</td>\n",
       "      <td>...</td>\n",
       "      <td>809.98</td>\n",
       "      <td>28.609352</td>\n",
       "      <td>22_Years_and_3_Months</td>\n",
       "      <td>No</td>\n",
       "      <td>49.574949</td>\n",
       "      <td>81.699521264648</td>\n",
       "      <td>Low_spent_Medium_value_payments</td>\n",
       "      <td>331.2098628537912</td>\n",
       "      <td>Good</td>\n",
       "      <td>0</td>\n",
       "    </tr>\n",
       "    <tr>\n",
       "      <th>3</th>\n",
       "      <td>April</td>\n",
       "      <td>23</td>\n",
       "      <td>821000265</td>\n",
       "      <td>Scientist</td>\n",
       "      <td>19114.12</td>\n",
       "      <td>1824.843333</td>\n",
       "      <td>3</td>\n",
       "      <td>4</td>\n",
       "      <td>3</td>\n",
       "      <td>4</td>\n",
       "      <td>...</td>\n",
       "      <td>809.98</td>\n",
       "      <td>31.377862</td>\n",
       "      <td>22_Years_and_4_Months</td>\n",
       "      <td>No</td>\n",
       "      <td>49.574949</td>\n",
       "      <td>199.4580743910713</td>\n",
       "      <td>Low_spent_Small_value_payments</td>\n",
       "      <td>223.45130972736786</td>\n",
       "      <td>Good</td>\n",
       "      <td>0</td>\n",
       "    </tr>\n",
       "    <tr>\n",
       "      <th>4</th>\n",
       "      <td>May</td>\n",
       "      <td>23</td>\n",
       "      <td>821000265</td>\n",
       "      <td>Scientist</td>\n",
       "      <td>19114.12</td>\n",
       "      <td>1824.843333</td>\n",
       "      <td>3</td>\n",
       "      <td>4</td>\n",
       "      <td>3</td>\n",
       "      <td>4</td>\n",
       "      <td>...</td>\n",
       "      <td>809.98</td>\n",
       "      <td>24.797347</td>\n",
       "      <td>22_Years_and_5_Months</td>\n",
       "      <td>No</td>\n",
       "      <td>49.574949</td>\n",
       "      <td>41.420153086217326</td>\n",
       "      <td>High_spent_Medium_value_payments</td>\n",
       "      <td>341.48923103222177</td>\n",
       "      <td>Good</td>\n",
       "      <td>0</td>\n",
       "    </tr>\n",
       "    <tr>\n",
       "      <th>5</th>\n",
       "      <td>June</td>\n",
       "      <td>23</td>\n",
       "      <td>821000265</td>\n",
       "      <td>Scientist</td>\n",
       "      <td>19114.12</td>\n",
       "      <td>1824.843333</td>\n",
       "      <td>3</td>\n",
       "      <td>4</td>\n",
       "      <td>3</td>\n",
       "      <td>4</td>\n",
       "      <td>...</td>\n",
       "      <td>809.98</td>\n",
       "      <td>27.262259</td>\n",
       "      <td>22_Years_and_6_Months</td>\n",
       "      <td>No</td>\n",
       "      <td>49.574949</td>\n",
       "      <td>62.430172331195294</td>\n",
       "      <td>!@9#%8</td>\n",
       "      <td>340.4792117872438</td>\n",
       "      <td>Good</td>\n",
       "      <td>0</td>\n",
       "    </tr>\n",
       "    <tr>\n",
       "      <th>6</th>\n",
       "      <td>July</td>\n",
       "      <td>23</td>\n",
       "      <td>821000265</td>\n",
       "      <td>Scientist</td>\n",
       "      <td>19114.12</td>\n",
       "      <td>1824.843333</td>\n",
       "      <td>3</td>\n",
       "      <td>4</td>\n",
       "      <td>3</td>\n",
       "      <td>4</td>\n",
       "      <td>...</td>\n",
       "      <td>809.98</td>\n",
       "      <td>22.537593</td>\n",
       "      <td>22_Years_and_7_Months</td>\n",
       "      <td>No</td>\n",
       "      <td>49.574949</td>\n",
       "      <td>178.3440674122349</td>\n",
       "      <td>Low_spent_Small_value_payments</td>\n",
       "      <td>244.5653167062043</td>\n",
       "      <td>Good</td>\n",
       "      <td>0</td>\n",
       "    </tr>\n",
       "    <tr>\n",
       "      <th>7</th>\n",
       "      <td>August</td>\n",
       "      <td>23</td>\n",
       "      <td>821000265</td>\n",
       "      <td>Scientist</td>\n",
       "      <td>19114.12</td>\n",
       "      <td>1824.843333</td>\n",
       "      <td>3</td>\n",
       "      <td>4</td>\n",
       "      <td>3</td>\n",
       "      <td>4</td>\n",
       "      <td>...</td>\n",
       "      <td>809.98</td>\n",
       "      <td>23.933795</td>\n",
       "      <td>22_Years_and_8_Months</td>\n",
       "      <td>No</td>\n",
       "      <td>49.574949</td>\n",
       "      <td>24.785216509052056</td>\n",
       "      <td>High_spent_Medium_value_payments</td>\n",
       "      <td>358.12416760938714</td>\n",
       "      <td>Standard</td>\n",
       "      <td>0</td>\n",
       "    </tr>\n",
       "    <tr>\n",
       "      <th>8</th>\n",
       "      <td>January</td>\n",
       "      <td>28</td>\n",
       "      <td>4075839</td>\n",
       "      <td>Teacher</td>\n",
       "      <td>34847.84</td>\n",
       "      <td>3037.986667</td>\n",
       "      <td>2</td>\n",
       "      <td>4</td>\n",
       "      <td>6</td>\n",
       "      <td>1</td>\n",
       "      <td>...</td>\n",
       "      <td>605.03</td>\n",
       "      <td>24.464031</td>\n",
       "      <td>26_Years_and_7_Months</td>\n",
       "      <td>No</td>\n",
       "      <td>18.816215</td>\n",
       "      <td>104.291825168246</td>\n",
       "      <td>Low_spent_Small_value_payments</td>\n",
       "      <td>470.69062692529184</td>\n",
       "      <td>Standard</td>\n",
       "      <td>0</td>\n",
       "    </tr>\n",
       "    <tr>\n",
       "      <th>9</th>\n",
       "      <td>February</td>\n",
       "      <td>28</td>\n",
       "      <td>4075839</td>\n",
       "      <td>Teacher</td>\n",
       "      <td>34847.84</td>\n",
       "      <td>3037.986667</td>\n",
       "      <td>2</td>\n",
       "      <td>4</td>\n",
       "      <td>6</td>\n",
       "      <td>1</td>\n",
       "      <td>...</td>\n",
       "      <td>605.03</td>\n",
       "      <td>38.550848</td>\n",
       "      <td>26_Years_and_8_Months</td>\n",
       "      <td>No</td>\n",
       "      <td>18.816215</td>\n",
       "      <td>40.39123782853101</td>\n",
       "      <td>High_spent_Large_value_payments</td>\n",
       "      <td>484.5912142650067</td>\n",
       "      <td>Good</td>\n",
       "      <td>0</td>\n",
       "    </tr>\n",
       "  </tbody>\n",
       "</table>\n",
       "<p>10 rows × 34 columns</p>\n",
       "</div>"
      ],
      "text/plain": [
       "      Month  Age        SSN Occupation  Annual_Income  Monthly_Inhand_Salary  \\\n",
       "0   January   23  821000265  Scientist       19114.12            1824.843333   \n",
       "1  February   23  821000265  Scientist       19114.12            1824.843333   \n",
       "2     March   23  821000265  Scientist       19114.12            1824.843333   \n",
       "3     April   23  821000265  Scientist       19114.12            1824.843333   \n",
       "4       May   23  821000265  Scientist       19114.12            1824.843333   \n",
       "5      June   23  821000265  Scientist       19114.12            1824.843333   \n",
       "6      July   23  821000265  Scientist       19114.12            1824.843333   \n",
       "7    August   23  821000265  Scientist       19114.12            1824.843333   \n",
       "8   January   28    4075839    Teacher       34847.84            3037.986667   \n",
       "9  February   28    4075839    Teacher       34847.84            3037.986667   \n",
       "\n",
       "   Num_Bank_Accounts  Num_Credit_Card  Interest_Rate  Num_of_Loan  ...  \\\n",
       "0                  3                4              3            4  ...   \n",
       "1                  3                4              3            4  ...   \n",
       "2                  3                4              3            4  ...   \n",
       "3                  3                4              3            4  ...   \n",
       "4                  3                4              3            4  ...   \n",
       "5                  3                4              3            4  ...   \n",
       "6                  3                4              3            4  ...   \n",
       "7                  3                4              3            4  ...   \n",
       "8                  2                4              6            1  ...   \n",
       "9                  2                4              6            1  ...   \n",
       "\n",
       "  Outstanding_Debt  Credit_Utilization_Ratio     Credit_History_Age  \\\n",
       "0           809.98                 26.822620  22_Years_and_1_Months   \n",
       "1           809.98                 31.944960  22_Years_and_2_Months   \n",
       "2           809.98                 28.609352  22_Years_and_3_Months   \n",
       "3           809.98                 31.377862  22_Years_and_4_Months   \n",
       "4           809.98                 24.797347  22_Years_and_5_Months   \n",
       "5           809.98                 27.262259  22_Years_and_6_Months   \n",
       "6           809.98                 22.537593  22_Years_and_7_Months   \n",
       "7           809.98                 23.933795  22_Years_and_8_Months   \n",
       "8           605.03                 24.464031  26_Years_and_7_Months   \n",
       "9           605.03                 38.550848  26_Years_and_8_Months   \n",
       "\n",
       "   Payment_of_Min_Amount  Total_EMI_per_month  Amount_invested_monthly  \\\n",
       "0                     No            49.574949        80.41529543900253   \n",
       "1                     No            49.574949       118.28022162236736   \n",
       "2                     No            49.574949          81.699521264648   \n",
       "3                     No            49.574949        199.4580743910713   \n",
       "4                     No            49.574949       41.420153086217326   \n",
       "5                     No            49.574949       62.430172331195294   \n",
       "6                     No            49.574949        178.3440674122349   \n",
       "7                     No            49.574949       24.785216509052056   \n",
       "8                     No            18.816215         104.291825168246   \n",
       "9                     No            18.816215        40.39123782853101   \n",
       "\n",
       "                  Payment_Behaviour     Monthly_Balance  Credit_Score  \\\n",
       "0   High_spent_Small_value_payments  312.49408867943663          Good   \n",
       "1    Low_spent_Large_value_payments  284.62916249607184          Good   \n",
       "2   Low_spent_Medium_value_payments   331.2098628537912          Good   \n",
       "3    Low_spent_Small_value_payments  223.45130972736786          Good   \n",
       "4  High_spent_Medium_value_payments  341.48923103222177          Good   \n",
       "5                            !@9#%8   340.4792117872438          Good   \n",
       "6    Low_spent_Small_value_payments   244.5653167062043          Good   \n",
       "7  High_spent_Medium_value_payments  358.12416760938714      Standard   \n",
       "8    Low_spent_Small_value_payments  470.69062692529184      Standard   \n",
       "9   High_spent_Large_value_payments   484.5912142650067          Good   \n",
       "\n",
       "   NotSpecified  \n",
       "0             0  \n",
       "1             0  \n",
       "2             0  \n",
       "3             0  \n",
       "4             0  \n",
       "5             0  \n",
       "6             0  \n",
       "7             0  \n",
       "8             0  \n",
       "9             0  \n",
       "\n",
       "[10 rows x 34 columns]"
      ]
     },
     "execution_count": 243,
     "metadata": {},
     "output_type": "execute_result"
    }
   ],
   "source": [
    "df_credit_history_age[0:10]"
   ]
  },
  {
   "cell_type": "code",
   "execution_count": 244,
   "metadata": {},
   "outputs": [],
   "source": [
    "df_credit_history_age.to_csv('checkpoints//df_credit_history_age.csv',index = False)"
   ]
  },
  {
   "cell_type": "markdown",
   "metadata": {},
   "source": [
    "### PreProcessing Payment_of_Min_Amount"
   ]
  },
  {
   "cell_type": "code",
   "execution_count": 245,
   "metadata": {},
   "outputs": [],
   "source": [
    "df_payment_of_min_amount = pd.read_csv('checkpoints//df_credit_history_age.csv')"
   ]
  },
  {
   "cell_type": "code",
   "execution_count": 246,
   "metadata": {},
   "outputs": [
    {
     "data": {
      "text/plain": [
       "3"
      ]
     },
     "execution_count": 246,
     "metadata": {},
     "output_type": "execute_result"
    }
   ],
   "source": [
    "df_payment_of_min_amount['Payment_of_Min_Amount'].nunique()"
   ]
  },
  {
   "cell_type": "code",
   "execution_count": 247,
   "metadata": {},
   "outputs": [
    {
     "data": {
      "text/plain": [
       "Yes    52326\n",
       "No     35667\n",
       "NM     12007\n",
       "Name: Payment_of_Min_Amount, dtype: int64"
      ]
     },
     "execution_count": 247,
     "metadata": {},
     "output_type": "execute_result"
    }
   ],
   "source": [
    "df_payment_of_min_amount['Payment_of_Min_Amount'].value_counts()"
   ]
  },
  {
   "cell_type": "code",
   "execution_count": 248,
   "metadata": {},
   "outputs": [],
   "source": [
    "corresponding_payment_of_min_values = {}\n",
    "for ssn in unique_SSN:\n",
    "    corresponding_payment_of_min_values[ssn] = list(df_payment_of_min_amount[df_payment_of_min_amount['SSN'] == ssn]['Payment_of_Min_Amount'].unique())"
   ]
  },
  {
   "cell_type": "code",
   "execution_count": 249,
   "metadata": {},
   "outputs": [
    {
     "data": {
      "text/plain": [
       "{821000265: ['No'],\n",
       " 4075839: ['No', 'NM'],\n",
       " 486853974: ['No'],\n",
       " 72316145: ['No', 'NM'],\n",
       " 615067821: ['Yes', 'NM'],\n",
       " 612708987: ['No', 'NM'],\n",
       " 411510676: ['NM', 'No'],\n",
       " 500926408: ['NM', 'Yes'],\n",
       " 70191622: ['No', 'NM'],\n",
       " 366681681: ['NM', 'No']}"
      ]
     },
     "execution_count": 249,
     "metadata": {},
     "output_type": "execute_result"
    }
   ],
   "source": [
    "dict(itertools.islice(corresponding_payment_of_min_values.items(),10))"
   ]
  },
  {
   "cell_type": "markdown",
   "metadata": {},
   "source": [
    "Replacing NM with corresponding value"
   ]
  },
  {
   "cell_type": "code",
   "execution_count": 250,
   "metadata": {},
   "outputs": [],
   "source": [
    "for index in range(len(df_payment_of_min_amount)):\n",
    "    if df_payment_of_min_amount['Payment_of_Min_Amount'][index] == 'NM':\n",
    "        df_payment_of_min_amount['Payment_of_Min_Amount'][index] = [val for val in corresponding_payment_of_min_values[df_payment_of_min_amount['SSN'][index]] if val != 'NM' ][0]"
   ]
  },
  {
   "cell_type": "code",
   "execution_count": 251,
   "metadata": {},
   "outputs": [],
   "source": [
    "corresponding_payment_of_min_values = {}\n",
    "for ssn in unique_SSN:\n",
    "    corresponding_payment_of_min_values[ssn] = list(df_payment_of_min_amount[df_payment_of_min_amount['SSN'] == ssn]['Payment_of_Min_Amount'].unique())"
   ]
  },
  {
   "cell_type": "code",
   "execution_count": 252,
   "metadata": {},
   "outputs": [
    {
     "data": {
      "text/plain": [
       "{821000265: ['No'],\n",
       " 4075839: ['No'],\n",
       " 486853974: ['No'],\n",
       " 72316145: ['No'],\n",
       " 615067821: ['Yes'],\n",
       " 612708987: ['No'],\n",
       " 411510676: ['No'],\n",
       " 500926408: ['Yes'],\n",
       " 70191622: ['No'],\n",
       " 366681681: ['No']}"
      ]
     },
     "execution_count": 252,
     "metadata": {},
     "output_type": "execute_result"
    }
   ],
   "source": [
    "dict(itertools.islice(corresponding_payment_of_min_values.items(),10))"
   ]
  },
  {
   "cell_type": "code",
   "execution_count": 253,
   "metadata": {},
   "outputs": [
    {
     "data": {
      "text/plain": [
       "Yes    59432\n",
       "No     40568\n",
       "Name: Payment_of_Min_Amount, dtype: int64"
      ]
     },
     "execution_count": 253,
     "metadata": {},
     "output_type": "execute_result"
    }
   ],
   "source": [
    "df_payment_of_min_amount['Payment_of_Min_Amount'].value_counts()"
   ]
  },
  {
   "cell_type": "markdown",
   "metadata": {},
   "source": [
    "### PreProcessing Total_EMI_per_month"
   ]
  },
  {
   "cell_type": "code",
   "execution_count": 254,
   "metadata": {},
   "outputs": [],
   "source": [
    "df_total_emi_per_month = df_payment_of_min_amount.copy()"
   ]
  },
  {
   "cell_type": "code",
   "execution_count": 255,
   "metadata": {},
   "outputs": [
    {
     "data": {
      "text/plain": [
       "14950"
      ]
     },
     "execution_count": 255,
     "metadata": {},
     "output_type": "execute_result"
    }
   ],
   "source": [
    "df_total_emi_per_month['Total_EMI_per_month'].nunique()"
   ]
  },
  {
   "cell_type": "code",
   "execution_count": 256,
   "metadata": {},
   "outputs": [
    {
     "data": {
      "text/plain": [
       "0"
      ]
     },
     "execution_count": 256,
     "metadata": {},
     "output_type": "execute_result"
    }
   ],
   "source": [
    "df_total_emi_per_month['Total_EMI_per_month'].isna().sum()"
   ]
  },
  {
   "cell_type": "markdown",
   "metadata": {},
   "source": [
    "### PreProcessing Amount_invested_monthly"
   ]
  },
  {
   "cell_type": "code",
   "execution_count": 66,
   "metadata": {},
   "outputs": [],
   "source": [
    "df_amount_invested_monthly = df_total_emi_per_month.copy()"
   ]
  },
  {
   "cell_type": "code",
   "execution_count": 67,
   "metadata": {},
   "outputs": [
    {
     "data": {
      "text/plain": [
       "91049"
      ]
     },
     "execution_count": 67,
     "metadata": {},
     "output_type": "execute_result"
    }
   ],
   "source": [
    "df_amount_invested_monthly[\"Amount_invested_monthly\"].nunique()"
   ]
  },
  {
   "cell_type": "markdown",
   "metadata": {},
   "source": [
    "### PreProcessing Payment_Behaviour"
   ]
  },
  {
   "cell_type": "code",
   "execution_count": 69,
   "metadata": {},
   "outputs": [],
   "source": [
    "df_payment_behaviour = df_amount_invested_monthly.copy()"
   ]
  },
  {
   "cell_type": "code",
   "execution_count": 70,
   "metadata": {},
   "outputs": [
    {
     "data": {
      "text/plain": [
       "7"
      ]
     },
     "execution_count": 70,
     "metadata": {},
     "output_type": "execute_result"
    }
   ],
   "source": [
    "df_payment_behaviour[\"Payment_Behaviour\"].nunique()"
   ]
  },
  {
   "cell_type": "markdown",
   "metadata": {},
   "source": [
    "### PreProcessing Monthly_Balance"
   ]
  },
  {
   "cell_type": "code",
   "execution_count": 71,
   "metadata": {},
   "outputs": [],
   "source": [
    "df_monthly_balance = df_payment_behaviour.copy()"
   ]
  },
  {
   "cell_type": "code",
   "execution_count": 72,
   "metadata": {},
   "outputs": [
    {
     "data": {
      "text/plain": [
       "7"
      ]
     },
     "execution_count": 72,
     "metadata": {},
     "output_type": "execute_result"
    }
   ],
   "source": [
    "df_payment_behaviour[\"Payment_Behaviour\"].nunique()"
   ]
  },
  {
   "cell_type": "markdown",
   "metadata": {},
   "source": [
    "### PreProcessing Credit_Score"
   ]
  },
  {
   "cell_type": "code",
   "execution_count": 73,
   "metadata": {},
   "outputs": [],
   "source": [
    "df_credit_score = df_payment_behaviour.copy()"
   ]
  },
  {
   "cell_type": "code",
   "execution_count": 74,
   "metadata": {},
   "outputs": [
    {
     "data": {
      "text/plain": [
       "3"
      ]
     },
     "execution_count": 74,
     "metadata": {},
     "output_type": "execute_result"
    }
   ],
   "source": [
    "df_credit_score[\"Credit_Score\"].nunique()"
   ]
  },
  {
   "cell_type": "code",
   "execution_count": null,
   "metadata": {},
   "outputs": [],
   "source": []
  }
 ],
 "metadata": {
  "kernelspec": {
   "display_name": "base",
   "language": "python",
   "name": "python3"
  },
  "language_info": {
   "codemirror_mode": {
    "name": "ipython",
    "version": 3
   },
   "file_extension": ".py",
   "mimetype": "text/x-python",
   "name": "python",
   "nbconvert_exporter": "python",
   "pygments_lexer": "ipython3",
   "version": "3.9.12"
  },
  "orig_nbformat": 4
 },
 "nbformat": 4,
 "nbformat_minor": 2
}
